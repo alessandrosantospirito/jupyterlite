{
 "cells": [
  {
   "cell_type": "markdown",
   "metadata": {},
   "source": [
    "## Debugging"
   ]
  },
  {
   "cell_type": "code",
   "execution_count": null,
   "metadata": {},
   "outputs": [],
   "source": [
    "def save_params_anonymous(func):\n",
    "    def wrapper(*args, **kwargs):\n",
    "        prefix = \"_\"\n",
    "        globals().update({prefix + k: v for k, v in zip(func.__code__.co_varnames, args)})\n",
    "        return func(*args, **kwargs)\n",
    "    return wrapper\n",
    "\n",
    "def save_params(func):\n",
    "    def wrapper(*args, **kwargs):\n",
    "        globals().update({k: v for k, v in zip(func.__code__.co_varnames, args)})\n",
    "        return func(*args, **kwargs)\n",
    "    return wrapper\n",
    "\n",
    "@save_params_anonymous\n",
    "def sum(a, b):\n",
    "    return a + b\n",
    "\n",
    "sum(1, 2)\n",
    "\n",
    "print(f\"a: {_a}, b: {_b}\")"
   ]
  },
  {
   "cell_type": "markdown",
   "metadata": {},
   "source": [
    "## Observation to MP4 (web-format)"
   ]
  },
  {
   "cell_type": "code",
   "execution_count": null,
   "metadata": {},
   "outputs": [],
   "source": []
  },
  {
   "cell_type": "markdown",
   "metadata": {},
   "source": [
    "## Render observation to Notebook\n",
    "- packages not availble"
   ]
  },
  {
   "cell_type": "code",
   "execution_count": null,
   "metadata": {},
   "outputs": [],
   "source": [
    "import ipywidgets as widgets\n",
    "import gym_super_mario_bros"
   ]
  },
  {
   "cell_type": "code",
   "execution_count": null,
   "metadata": {},
   "outputs": [],
   "source": [
    "def render_game_to_cell(obs):\n",
    "    screen_data = obs\n",
    "    frame = cv2.cvtColor(screen_data, cv2.COLOR_RGB2BGR)\n",
    "    _, jpeg = cv2.imencode('.jpeg', frame)\n",
    "    image_widget.value = jpeg.tobytes()\n",
    "\n",
    "image_widget = widgets.Image(format='jpeg')\n",
    "display.display(image_widget)\n",
    "\n",
    "done = True\n",
    "\n",
    "for step in range(1000):\n",
    "    if done:\n",
    "        env.reset()\n",
    "    state, reward, done, info = env.step(env.action_space.sample())\n",
    "    render_game_to_cell(state)"
   ]
  },
  {
   "cell_type": "code",
   "execution_count": null,
   "metadata": {},
   "outputs": [],
   "source": [
    "# Setup game\n",
    "env = gym_super_mario_bros.make('SuperMarioBros-v0')\n",
    "env = JoypadSpace(env, SIMPLE_MOVEMENT)\n",
    "\n",
    "done = True\n",
    "\n",
    "for step in range(1000):\n",
    "    if done:\n",
    "        env.reset()\n",
    "    state, reward, done, info = env.step(env.action_space.sample())\n",
    "    render_game_to_cell(state)"
   ]
  }
 ],
 "metadata": {
  "language_info": {
   "name": "python"
  }
 },
 "nbformat": 4,
 "nbformat_minor": 2
}
