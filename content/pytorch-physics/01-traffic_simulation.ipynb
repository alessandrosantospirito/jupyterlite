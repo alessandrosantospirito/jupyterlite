{
 "cells": [
  {
   "cell_type": "markdown",
   "id": "10eb5911-1a4b-4fec-83b3-732e8e29f80f",
   "metadata": {},
   "source": [
    "### Imports and Utility-Functions"
   ]
  },
  {
   "cell_type": "code",
   "execution_count": null,
   "id": "b5fd6e85-893b-473a-bce9-ee133bafd154",
   "metadata": {},
   "outputs": [],
   "source": [
    "import numpy as np\n",
    "import matplotlib.pyplot as plt\n",
    "from matplotlib.animation import FuncAnimation\n",
    "from numba import cuda\n",
    "\n",
    "%run ./library/traffic_simulation.py\n",
    "%run ../utils/helper.py"
   ]
  },
  {
   "cell_type": "code",
   "execution_count": null,
   "id": "3011faee-a988-4f7f-af81-0740c6247816",
   "metadata": {},
   "outputs": [],
   "source": [
    "def draw_lines_based_on_points_on_plot(points, ax=None, line_color='blue', line_size=0.5):\n",
    "    if ax is None:\n",
    "        fig, ax = plt.subplots(figsize=(10, 6))\n",
    "\n",
    "    ax.plot(points[:, 0], points[:, 1], color=line_color, linewidth=line_size)\n",
    "\n",
    "    return ax\n",
    "\n",
    "def draw_points_on_plot(point_sequence, ax, line_color, point_size=1):\n",
    "    x, y = zip(*point_sequence)\n",
    "    ax.scatter(x, y, color=line_color, s=point_size)\n",
    "    return ax"
   ]
  },
  {
   "cell_type": "code",
   "execution_count": null,
   "id": "dbd5ff98-5ffe-4b8d-ba5f-ddff96a1797d",
   "metadata": {},
   "outputs": [],
   "source": [
    "def visualize_line_change_by_theta(line, theta):\n",
    "    new_endpoint = calculate_rotated_line(line[0], line[1], theta)\n",
    "    new_line = [line[1], new_endpoint]\n",
    "    \n",
    "    plt.plot([line[0][0], line[1][0]], [line[0][1], line[1][1]], 'r-', label='Original Line')\n",
    "\n",
    "    # Plot the new line\n",
    "    plt.plot([new_line[0][0], new_line[1][0]], [new_line[0][1], new_line[1][1]], 'b-', label='New Line')\n",
    "    \n",
    "    # Plotting points for clarity\n",
    "    plt.scatter(*line[0], color='red', zorder=5)\n",
    "    plt.scatter(*line[1], color='red', zorder=5)\n",
    "    plt.scatter(*new_line[0], color='blue', zorder=5)\n",
    "    plt.scatter(*new_line[1], color='blue', zorder=5)\n",
    "    \n",
    "    # Labeling the points\n",
    "    plt.text(line[0][0], line[0][1], 'A', fontsize=12, ha='right')\n",
    "    plt.text(line[1][0], line[1][1], 'B', fontsize=12, ha='right')\n",
    "    plt.text(new_line[1][0], new_line[1][1], \"B'\", fontsize=12, ha='right')\n",
    "    \n",
    "    plt.xlim(-1, 2)\n",
    "    plt.ylim(-1, 2)\n",
    "    plt.xlabel('X-axis')\n",
    "    plt.ylabel('Y-axis')\n",
    "    plt.axhline(0, color='black', linewidth=0.5)\n",
    "    plt.axvline(0, color='black', linewidth=0.5)\n",
    "    plt.grid(True)\n",
    "    plt.legend()\n",
    "    plt.title('Visualizing Line Transformation')\n",
    "    plt.show()\n"
   ]
  },
  {
   "cell_type": "code",
   "execution_count": null,
   "id": "31152365-0da9-451f-b3f8-fd79e51dfe90",
   "metadata": {},
   "outputs": [],
   "source": [
    "# a bit dirty. A good way to redraw\n",
    "def redraw_initial_sketch():\n",
    "    fig, ax = plt.subplots()\n",
    "    ax.set_xlim(-30, 80)\n",
    "    ax.set_ylim(-20, 70)\n",
    "    ax.set_xlabel('X-axis')\n",
    "    ax.set_ylabel('Y-axis')\n",
    "    \n",
    "    angle_count_tuples = [[0, 60], [10, 9], [0, 20], [10, 9], [0, 60], [10, 9], [0, 20], [10, 9]]\n",
    "    rotation_angles = calc_roation_angles_from_tuple(angle_count_tuples)\n",
    "    init_point_sequence = [[0, 5], [1, 5]]\n",
    "    point_sequence_one = generate_point_sequence(init_point_sequence, rotation_angles)\n",
    "    ax = draw_lines_based_on_points_on_plot(point_sequence_one, ax, line_color='blue')\n",
    "    \n",
    "    angle_count_tuples = [[0, 60], [6, 15], [0, 20], [6, 15], [0, 60], [6, 15], [0, 20], [6, 15]]\n",
    "    rotation_angles = calc_roation_angles_from_tuple(angle_count_tuples)\n",
    "    init_point_sequence = [[-0.5, 1], [0.5, 1]]\n",
    "    point_sequence_two = generate_point_sequence(init_point_sequence, rotation_angles)\n",
    "    ax = draw_lines_based_on_points_on_plot(point_sequence_two, ax, line_color='red')\n",
    "\n",
    "    return fig, ax"
   ]
  },
  {
   "cell_type": "markdown",
   "id": "920fea2f-1004-4974-b732-78b595446e67",
   "metadata": {
    "jp-MarkdownHeadingCollapsed": true
   },
   "source": [
    "### Theory"
   ]
  },
  {
   "cell_type": "code",
   "execution_count": null,
   "id": "97e27c19-00f7-4c7a-b816-d756c0caf0b8",
   "metadata": {},
   "outputs": [],
   "source": [
    "html(calculate_rotated_line)"
   ]
  },
  {
   "cell_type": "code",
   "execution_count": null,
   "id": "ce5f8041-36f3-42fd-a5ec-c9423db3eb17",
   "metadata": {},
   "outputs": [],
   "source": [
    "line = [[0, 0], [0.7071, 0.7071]]\n",
    "theta = np.radians(0)\n",
    "visualize_line_change_by_theta(line, theta)"
   ]
  },
  {
   "cell_type": "code",
   "execution_count": null,
   "id": "d4d2d9a6-4cd0-4000-ba90-f68072494cb8",
   "metadata": {},
   "outputs": [],
   "source": [
    "line = [[0, 0], [1, 0]]\n",
    "theta = np.radians(10)\n",
    "visualize_line_change_by_theta(line, theta)"
   ]
  },
  {
   "cell_type": "markdown",
   "id": "6f583917-71ef-41a1-b58b-380e03af7640",
   "metadata": {},
   "source": [
    "### Streets-Building"
   ]
  },
  {
   "cell_type": "code",
   "execution_count": null,
   "id": "9143bc4d-4f1b-46fe-a9af-cf075e8fe20c",
   "metadata": {},
   "outputs": [],
   "source": [
    "def calc_roation_angles_from_tuple(angle_count_tuples):\n",
    "    return np.radians(np.repeat([angle for angle, count in angle_count_tuples], [count for angle, count in angle_count_tuples]))"
   ]
  },
  {
   "cell_type": "code",
   "execution_count": null,
   "id": "e2d2efd6-49c1-450a-9c18-acd24b098f2c",
   "metadata": {},
   "outputs": [],
   "source": [
    "fig, ax = plt.subplots()\n",
    "ax.set_xlim(-30, 80)\n",
    "ax.set_ylim(-20, 70)\n",
    "ax.set_xlabel('X-axis')\n",
    "ax.set_ylabel('Y-axis')\n",
    "\n",
    "angle_count_tuples = [[0, 60], [10, 9], [0, 20], [10, 9], [0, 60], [10, 9], [0, 20], [10, 9]]\n",
    "rotation_angles = calc_roation_angles_from_tuple(angle_count_tuples)\n",
    "init_point_sequence = [[0, 5], [1, 5]]\n",
    "point_sequence_one = generate_point_sequence(init_point_sequence, rotation_angles)\n",
    "ax = draw_lines_based_on_points_on_plot(point_sequence_one, ax, line_color='blue')\n",
    "\n",
    "angle_count_tuples = [[0, 60], [6, 15], [0, 20], [6, 15], [0, 60], [6, 15], [0, 20], [6, 15]]\n",
    "rotation_angles = calc_roation_angles_from_tuple(angle_count_tuples)\n",
    "init_point_sequence = [[-0.5, 1], [0.5, 1]]\n",
    "point_sequence_two = generate_point_sequence(init_point_sequence, rotation_angles)\n",
    "ax = draw_lines_based_on_points_on_plot(point_sequence_two, ax, line_color='red')\n",
    "\n",
    "plt.show()"
   ]
  },
  {
   "cell_type": "markdown",
   "id": "64c25ba5-01cc-4e4f-898c-6be60a09010f",
   "metadata": {},
   "source": [
    "### Car-Simulation"
   ]
  },
  {
   "cell_type": "code",
   "execution_count": null,
   "id": "e609fbde-8e30-4c27-b8da-cb0381043f81",
   "metadata": {},
   "outputs": [],
   "source": [
    "scatter_one = ax.scatter([], [], c='green', s=10)\n",
    "scatter_two = ax.scatter([], [], c='orange', s=10)\n",
    "time_scale = 5\n",
    "\n",
    "def update(i):\n",
    "    global ax, scatter_one, scatter_two, time_scale, point_sequence_one, point_sequence_two\n",
    "    \n",
    "    points_indices_one = np.mod(time_scale * np.array([2*i, i+20, i+50]), point_sequence_one.shape[0])\n",
    "    points_indices_two = np.mod(time_scale * np.array([i+5, i+30, i+50]), point_sequence_two.shape[0])\n",
    "    \n",
    "    points_one = np.array([point_sequence_one[index] for index in points_indices_one])\n",
    "    points_two = np.array([point_sequence_two[index] for index in points_indices_two])\n",
    "    \n",
    "    scatter_one.set_offsets(points_one)\n",
    "    scatter_two.set_offsets(points_two)\n",
    "    \n",
    "    return scatter_one, scatter_two\n",
    "\n",
    "ani = FuncAnimation(fig, update, frames=range(200), repeat=True, blit=True)\n",
    "plt.close(fig)\n",
    "HTML(ani.to_html5_video())"
   ]
  },
  {
   "cell_type": "code",
   "execution_count": null,
   "id": "c9ef319b-3820-45a2-963f-d8b3d81d0750",
   "metadata": {},
   "outputs": [],
   "source": [
    "N = 1000000\n",
    "time_scale = 1\n",
    "indices = np.arange(N)\n",
    "\n",
    "indices_1 = np.mod(time_scale * np.array([2*indices, indices+20, indices+50]), point_sequence_one.shape[0])\n",
    "indices_2 = np.mod(time_scale * np.array([indices+5, indices+30, indices+50]), point_sequence_two.shape[0])\n",
    "\n",
    "points_one = point_sequence_one[indices_1]\n",
    "points_two = point_sequence_two[indices_2]"
   ]
  },
  {
   "cell_type": "markdown",
   "id": "7ab250f2-5fc7-4bfa-88e9-8523eb88ff5e",
   "metadata": {},
   "source": [
    "#### Numpy-Operations"
   ]
  },
  {
   "cell_type": "code",
   "execution_count": null,
   "id": "63b6a61b-053a-4b00-ac40-f306c54580c5",
   "metadata": {},
   "outputs": [],
   "source": [
    "def fill_zero_places(a):\n",
    "    \"\"\"\n",
    "    a = np.array([0, 0, 0, 0,  3,  0,  0,  0,  0,  0, 11, 0, 0, 5, 0, 0, 17])\n",
    "    b = np. array([ 0,  0,  0,  0,  0,  3,  3,  3,  3,  3,  3, 11, 11, 11,  5,  5,  5, 17])\n",
    "    c = array([ 0,  0,  0,  0,  3,  3,  3,  3,  3,  3, 11, 11, 11,  5,  5,  5, 17])\n",
    "    \"\"\"\n",
    "    a = np.append([-1], a)\n",
    "    b = np.roll(a[a.nonzero()].repeat(np.diff(np.append(np.where(a!=0),a.shape[0]))), 0)\n",
    "    b[b<0] = 0\n",
    "    c = b[1:]\n",
    "    return c\n",
    "\n",
    "def shift_values_to_next_available_zero(a):\n",
    "    \"\"\"\n",
    "    a = np.array([0, 2, 0, 0, 0, 0, 0, 6, 0, 0, 0, 0, 0, 4, 0, 0, 0, 0, 0, 6])\n",
    "    b = np.array([0, 0, 1, 0, 0, 0, 0, 0, 1, 0, 0, 0, 0, 0, 1, 0, 0, 0, 0, 0, 1])\n",
    "    c = np.array([0, 0, 2, 0, 0, 0, 0, 0, 8, 0, 0, 0, 0, 0,14, 0, 0, 0, 0, 0, 0])\n",
    "    d = np.array([0, 2, 0, 0, 0, 0, 0, 8, 0, 0, 0, 0, 0,14, 0, 0, 0, 0, 0, 0])\n",
    "    e = np.array([0, 0, 2, 2, 2, 2, 2, 2, 8, 8, 8, 8, 8, 8,14,14,14,14,14,14])\n",
    "    f = np.array([2, 0, 6, 0, 0, 0, 0, 0, 4, 0, 0, 0, 0, 0, 6, 0, 0, 0, 0, 0])\n",
    "    \"\"\"\n",
    "    \"\"\"\n",
    "    a = np.array([2, 2, 0, 0, 4, 0, 0, 6, 0, 0, 0, 0, 0, 4, 0, 0, 0, 0, 0, 6])\n",
    "    f = np.array([2, 2, 4, 0, 0, 6, 0, 0, 4, 0, 0, 0, 0, 0, 6, 0, 0, 0, 0, 0]))\n",
    "    \"\"\"\n",
    "    \n",
    "    b = (a>0).astype(int)\n",
    "    b = np.append([0], b)\n",
    "    c = np.arange(b.shape[0]) * b\n",
    "    c[-1] = -1 # acts as token\n",
    "    c[-1] = 0\n",
    "    d = c[1:]\n",
    "    e = np.roll(fill_zero_places(d), 1)\n",
    "    e[0] = 0\n",
    "    f = np.zeros_like(a)\n",
    "    np.add.at(f, e, a)\n",
    "    f != 0\n",
    "    \n",
    "    return f\n",
    "\n",
    "def find_zero_one_pattern(a):\n",
    "    \"\"\"\n",
    "    a = np.array([0, 1, 0, 1, 1, 1, 0, 1, 0, 0, 0, 0, 0, 1, 0, 0, 0, 0, 0, 1])\n",
    "    b = np.array([1, 0, 1, 0, 0, 0, 1, 0, 1, 0, 0, 0, 0, 0, 1, 0, 0, 0, 0, 0])\n",
    "    \"\"\"\n",
    "    \n",
    "    b = np.where((np.roll(a.astype(int), 1) == 1) & (a.astype(int) == 0), 1, 0)\n",
    "\n",
    "    return b\n",
    "\n",
    "def find_one_zero_pattern(a):\n",
    "    \"\"\"\n",
    "    a = np.array([0, 1, 0, 1, 1, 1, 0, 1, 0, 0, 0, 0, 0, 1, 0, 0, 0, 0, 0, 1])\n",
    "    b = np.array([1, 0, 1, 1, 1, 0, 1, 0, 0, 0, 0, 0, 1, 0, 0, 0, 0, 0, 1, 1])\n",
    "    c = np.array([-1, 1, -1, 0, 0, 1, -1, 1, 0, 0, 0, 0, -1, 1, 0, 0, 0, 0, -1, 0]))\n",
    "    d = np.array([0, 1, 0, 0, 0, 1, 0, 1, 0, 0, 0, 0, 0, 1, 0, 0, 0, 0, 0, 0])\n",
    "    \"\"\"\n",
    "\n",
    "    # rules for a-b (a_i, b_i): (0, 1) -> -1, (0, 0) -> 0, (1, 0) -> 1, (1, 1) -> 0\n",
    "    b = np.roll(a.astype(int), -1)\n",
    "    b[-1] = 1 # to make the field invalid\n",
    "    c = a-b\n",
    "    d = ((c)==1).astype(int)\n",
    "    \n",
    "    return d\n",
    "\n",
    "def fill_zero_values_ascending_rest_with_zero(a):\n",
    "    \"\"\"\n",
    "    a = np.array([0, 2, 0, 0, 0, 0, 0, 6, 0, 0, 0, 0, 0, 4, 0, 0, 0, 0, 0, 6])\n",
    "    b = np.array([0, 1, 0, 0, 0, 0, 0, 1, 0, 0, 0, 0, 0, 1, 0, 0, 0, 0, 0, 1])\n",
    "    c = np.array([1, 0, 1, 2, 3, 4, 5, 0, 1, 2, 3, 4, 5, 0, 1, 2, 3, 4, 5, 0])\n",
    "    \"\"\"\n",
    "    \n",
    "    b = (a>0).astype(int)\n",
    "    c = (np.cumsum(1 - b) * (1-b) - np.maximum.accumulate(b * np.cumsum(1-b))) * ( 1 - b)\n",
    "\n",
    "    return c\n",
    "\n",
    "def find_values_that_must_be_reordered(a):\n",
    "    \"\"\"\n",
    "    Each value of a must be at least as big as the index in the sequence: torch.min(a - torch.arange(0, a.shape[0])) >= 1\n",
    "    a = array([11, 12, 23, 14, 14, 13, 60, 60])\n",
    "    b = array([11, 12, 13, 13, 13, 13, 60, 60])\n",
    "    c = array([0, 0, 1, 1, 1, 0, 1, 0])\n",
    "    d = array([ 0,  0, 23, 14, 14,  0, 60,  0])\n",
    "    e = array([0, 0, 1, 1, 1, 0, 1, 0])\n",
    "    f = array([1, 1, 0, 0, 0, 1, 0, 1])\n",
    "    g = array([0, 0, 3, 2, 1, 0, 1, 0]),\n",
    "    h = array([ 0,  0, 20, 12, 13,  0, 59,  0])\n",
    "    i = array([0, 0, 1, 1, 1, 0, 1, 0])\n",
    "    \"\"\"\n",
    "    \n",
    "    b = np.minimum.accumulate(a[::-1])[::-1]\n",
    "    c = np.append((1 - (b[1:] - b[:-1]) > 0).astype(int), [0]) # places that might need change\n",
    "    d = a * c\n",
    "    e = (d >= b).astype(int) * c\n",
    "    f = (1 - c)\n",
    "    g = fill_zero_values_descending_rest_with_zero(f)\n",
    "    h = d - g\n",
    "    i = (h > b).astype(int) * c | (a >= b).astype(int) * c\n",
    "    \n",
    "    return i\n",
    "\n",
    "def fill_zero_values_descending_rest_with_zero(a):\n",
    "    \"\"\"\n",
    "    a = array([0, 2, 0, 0, 0, 0, 0, 6, 0, 0, 0, 0, 0, 4, 0, 0, 0, 0, 0, 6])\n",
    "    b = array([1, 0, 1, 2, 3, 4, 5, 0, 1, 2, 3, 4, 5, 0, 1, 2, 3, 4, 5, 0])\n",
    "    c = array([1, 0, 1, 1, 1, 1, 1, 0, 1, 1, 1, 1, 1, 0, 1, 1, 1, 1, 1, 0])\n",
    "    d = array([1, 0, 0, 0, 0, 0, 1, 0, 0, 0, 0, 0, 1, 0, 0, 0, 0, 0, 1, 0])\n",
    "    e = array([1, 0, 0, 0, 0, 0, 5, 0, 0, 0, 0, 0, 5, 0, 0, 0, 0, 0, 5, 0])\n",
    "    f = array([1, 5, 0, 0, 0, 0, 0, 5, 0, 0, 0, 0, 0, 5, 0, 0, 0, 0, 0, 0])\n",
    "    g = array([1, 5, 5, 5, 5, 5, 5, 5, 5, 5, 5, 5, 5, 5, 5, 5, 5, 5, 5, 5])\n",
    "    h = array([1, 0, 5, 4, 3, 2, 1, 0, 5, 4, 3, 2, 1, 0, 5, 4, 3, 2, 1, 0])\n",
    "    \"\"\"\n",
    "    \n",
    "    b = fill_zero_values_ascending_rest_with_zero(a)\n",
    "    c = (b>0).astype(int)\n",
    "    d = find_one_zero_pattern(c)\n",
    "    e = d * b\n",
    "    f = shift_values_to_next_available_zero(e)\n",
    "    g = fill_zero_places(f)\n",
    "    h = ((g+1) - b) * c\n",
    "\n",
    "    return h\n",
    "\n",
    "def adjust_cars_no_lane_change(a):\n",
    "    \"\"\"\n",
    "    a: array([10,  3,  4,  5,  7, 17, 15, 11]),\n",
    "    b: array([ 1,  8,  7,  6,  4, -6, -4,  0]),\n",
    "    m: array([1, 0, 0, 0, 0, 1, 1, 0]),\n",
    "    c: array([0, 1, 0, 0, 0, 0, 0, 1]),\n",
    "    d: array([1, 0, 1, 2, 3, 4, 5, 0]),\n",
    "    e: array([ 0,  3,  0,  0,  0,  0,  0, 11]),\n",
    "    f: array([ 3,  3,  3,  3,  3,  3, 11]),\n",
    "    g: array([7, 0, 2, 2, 2, 2, 2, 2]),\n",
    "    h: array([ 3,  0, 11,  0,  0,  0,  0,  0]),\n",
    "    i: array([ 3,  3, 11, 11, 11, 11, 11, 11]),\n",
    "    j: array([ 2,  3, 10,  9,  8,  7,  6, 11]),\n",
    "    k: array([1, 0, 5, 4, 3, 2, 1, 0]),\n",
    "    l: array([ 2,  3,  6,  7,  8,  9, 10, 11]),\n",
    "    n: array([0, 1, 1, 1, 1, 0, 0, 1]),\n",
    "    o: array([1, 0, 0, 0, 0, 2, 1, 0]),\n",
    "    p: array([ 2,  0,  0,  0,  0,  9, 10,  0]),\n",
    "    q: array([ 2,  3,  4,  5,  7,  9, 10, 11])\n",
    "    \"\"\"\n",
    "\n",
    "    b = a[-1] - a\n",
    "    m = find_values_that_must_be_reordered(b).astype(int)\n",
    "    c = np.where((np.roll(m, 1) == 1) & (m == 0), 1, 0)\n",
    "    d = (np.cumsum(1 - c) * (1 - c) - np.maximum.accumulate(c * np.cumsum(1 - c))) * (1 - c)\n",
    "    e = a * c\n",
    "    f = e[e.nonzero()].repeat(np.diff(np.append(np.where(e != 0), e.shape[0])))\n",
    "    g = np.roll(np.maximum.accumulate(np.argsort(e) * c), 1)\n",
    "    h = np.zeros_like(e)\n",
    "    h[g] = e\n",
    "    i = np.maximum.accumulate(h)\n",
    "    j = i - d\n",
    "    k = fill_zero_values_descending_rest_with_zero(c)\n",
    "    l = i - k\n",
    "    n = 1 - m\n",
    "    o = fill_zero_values_descending_rest_with_zero(n) * m\n",
    "    p = (i - o) * m\n",
    "    q = p + n * a\n",
    "\n",
    "    return q"
   ]
  },
  {
   "cell_type": "markdown",
   "id": "3d3c2f00-68cf-4f45-a3b6-85afef1fa2be",
   "metadata": {},
   "source": [
    "#### Add cars to lanes, Respect other cars, Change lane"
   ]
  },
  {
   "cell_type": "code",
   "execution_count": null,
   "id": "670dd344-eb54-4eb2-84c1-e8e50a0f385c",
   "metadata": {},
   "outputs": [],
   "source": [
    "def index_order_for_cars_in_lanes(car_specifications, lanes):\n",
    "    lane_indices = np.array([car_specifications[car_specifications[:, 1] == i, 2].astype(int) for i in lanes])\n",
    "    car_indicies = np.array([car_specifications[car_specifications[:, 1] == i, 0].astype(int) for i in lanes])\n",
    "    return np.take_along_axis(car_indicies, np.argsort(lane_indices), axis=1)"
   ]
  },
  {
   "cell_type": "code",
   "execution_count": null,
   "id": "9fca3e8f-a833-4622-a357-a0fbbea942e5",
   "metadata": {},
   "outputs": [],
   "source": [
    "def update_lane_indicies(car_specifications, lane_num_tracks):\n",
    "    car_specifications[:, 2] = np.mod(car_specifications[:, 3] + car_specifications[:, 2], lane_num_tracks[car_specifications[:, 1].astype(int)])\n",
    "    return car_specifications"
   ]
  },
  {
   "cell_type": "code",
   "execution_count": null,
   "id": "e6924c79-5077-49a3-9bd3-3323414c3189",
   "metadata": {},
   "outputs": [],
   "source": [
    "def update_lane_indicies_with_overtake(car_specifications, lane_num_tracks, lanes):\n",
    "    index_order = index_order_for_cars_in_lanes(car_specifications, lanes)\n",
    "    car_specifications[:, 2] = np.mod(car_specifications[:, 3] + car_specifications[:, 2], lane_num_tracks[car_specifications[:, 1].astype(int)])\n",
    "    updated_index_order = index_order_for_cars_in_lanes(car_specifications, lanes)\n",
    "\n",
    "    \n",
    "    # on collison, do not overtake\n",
    "    \n",
    "    return car_specifications"
   ]
  },
  {
   "cell_type": "code",
   "execution_count": null,
   "id": "d84258a3-ce52-459c-8685-cc1b734f51ea",
   "metadata": {},
   "outputs": [],
   "source": [
    "# car_lane_zero = point_sequence_one\n",
    "# car_lane_one = point_sequence_two\n",
    "\n",
    "# lanes = np.array([0, 1])\n",
    "# lane_num_tracks = np.array([point_sequence_one.shape[0], point_sequence_two.shape[0]])\n",
    "\n",
    "# # car consists of id, driving_lane, point_index, speed and chance of swapping lane if waiting behind other car\n",
    "# car_specifications = np.array([\n",
    "#     [1, 0, 1, 3, 0.01], [2, 0, 20, 10, 0.01], [3, 0, 30, 3, 0.01], [4, 1, 5, 5, 0.01], [5, 1, 10, 7, 0.01], [6, 1, 25, 10, 0.01]\n",
    "# ])"
   ]
  },
  {
   "cell_type": "markdown",
   "id": "d6282811-83f4-438c-b55a-7998bc6a65a3",
   "metadata": {},
   "source": [
    "#### Speed-Up"
   ]
  },
  {
   "cell_type": "code",
   "execution_count": null,
   "id": "2f20d1db-19f0-4fa7-bb94-95fd0a47cde1",
   "metadata": {},
   "outputs": [],
   "source": [
    "lane_num_tracks = np.array([198, 222])\n",
    "cars_position = np.arange(0, 30)\n",
    "cars_speed = np.random.randint(0,10, (30, 1)).flatten()\n",
    "\n",
    "cars_position, cars_speed"
   ]
  },
  {
   "cell_type": "markdown",
   "id": "dff95eed-4469-4e48-8c9a-f2f3fb353a27",
   "metadata": {},
   "source": [
    "#### Driving but no overtake"
   ]
  },
  {
   "cell_type": "code",
   "execution_count": null,
   "id": "076acf9c-0f03-4a56-9c0a-50618e159e75",
   "metadata": {},
   "outputs": [],
   "source": [
    "# bug\n",
    "a = np.array([ 83,  84,  89,  93,  87,  92,  90,  95,  90,  94,  94,  96,  97, 101,  97, 105, 104,  99, 101, 101, 101, 110, 105, 111, 106, 115, 90,  86, 107,  59])\n",
    "adjust_cars_no_lane_change(a)"
   ]
  },
  {
   "cell_type": "code",
   "execution_count": null,
   "id": "0ae710bd-086f-4f66-8dbb-ca41ef2d6a37",
   "metadata": {},
   "outputs": [],
   "source": [
    "cars_position = adjust_cars_no_lane_change(cars_position + cars_speed)\n",
    "cars_position"
   ]
  },
  {
   "cell_type": "code",
   "execution_count": null,
   "id": "fa3ef08d-b983-4619-9b67-4bc823ef9aca",
   "metadata": {},
   "outputs": [],
   "source": [
    "# fig, ax = redraw_initial_sketch()\n",
    "\n",
    "# scatter_one = ax.scatter([], [], c='green', s=10)\n",
    "# scatter_two = ax.scatter([], [], c='orange', s=10)\n",
    "\n",
    "# def update(i):\n",
    "#     global ax, scatter_one, scatter_two, point_sequence_one, point_sequence_two, car_specifications\n",
    "    \n",
    "#     points_one_indicies = car_specifications[car_specifications[:, 1].astype(int) == 0][:, 2].astype(int)\n",
    "#     points_two_indicies = car_specifications[car_specifications[:, 1].astype(int) == 1][:, 2].astype(int)\n",
    "    \n",
    "#     points_one = point_sequence_one[points_one_indicies]\n",
    "#     points_two = point_sequence_two[points_two_indicies]\n",
    "    \n",
    "#     scatter_one.set_offsets(points_one)\n",
    "#     scatter_two.set_offsets(points_two)\n",
    "\n",
    "#     lane_num_tracks = np.array([point_sequence_one.shape[0], point_sequence_two.shape[0]])\n",
    "#     car_specifications = update_lane_indicies(car_specifications, lane_num_tracks)\n",
    "#     # print(points_one)\n",
    "    \n",
    "#     return scatter_one, scatter_two\n",
    "\n",
    "# ani = FuncAnimation(fig, update, frames=range(200), repeat=True, blit=True)\n",
    "# plt.close(fig)\n",
    "# HTML(ani.to_html5_video())"
   ]
  },
  {
   "cell_type": "markdown",
   "id": "dbca18ae-2bba-4924-87aa-b2438ee7712e",
   "metadata": {},
   "source": [
    "### Recording form fixed-car"
   ]
  },
  {
   "cell_type": "code",
   "execution_count": null,
   "id": "092fdcae-d734-4f3e-8fd1-b9a43e6a1200",
   "metadata": {},
   "outputs": [],
   "source": []
  },
  {
   "cell_type": "markdown",
   "id": "d7c9a25d-c1a9-423d-9c42-ddbadf6c8df0",
   "metadata": {},
   "source": [
    "### Recording from"
   ]
  },
  {
   "cell_type": "code",
   "execution_count": null,
   "id": "6b2d334f-aa72-4791-9ab7-30f0ee63b805",
   "metadata": {},
   "outputs": [],
   "source": []
  },
  {
   "cell_type": "markdown",
   "id": "c836365d-4b97-47d5-bb4b-fe70e9e95e6f",
   "metadata": {},
   "source": [
    "### Replay from Recording"
   ]
  },
  {
   "cell_type": "code",
   "execution_count": null,
   "id": "bc3b86a5-9662-4c82-885e-23b00d2982de",
   "metadata": {},
   "outputs": [],
   "source": []
  }
 ],
 "metadata": {
  "kernelspec": {
   "display_name": "Python 3 (ipykernel)",
   "language": "python",
   "name": "python3"
  },
  "language_info": {
   "codemirror_mode": {
    "name": "ipython",
    "version": 3
   },
   "file_extension": ".py",
   "mimetype": "text/x-python",
   "name": "python",
   "nbconvert_exporter": "python",
   "pygments_lexer": "ipython3",
   "version": "3.8.10"
  }
 },
 "nbformat": 4,
 "nbformat_minor": 5
}
