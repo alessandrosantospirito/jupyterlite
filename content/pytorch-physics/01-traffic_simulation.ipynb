{
 "cells": [
  {
   "cell_type": "markdown",
   "id": "10eb5911-1a4b-4fec-83b3-732e8e29f80f",
   "metadata": {},
   "source": [
    "### Imports and Utility-Functions"
   ]
  },
  {
   "cell_type": "code",
   "execution_count": null,
   "id": "b5fd6e85-893b-473a-bce9-ee133bafd154",
   "metadata": {},
   "outputs": [],
   "source": [
    "import numpy as np\n",
    "import matplotlib.pyplot as plt\n",
    "from matplotlib.animation import FuncAnimation\n",
    "\n",
    "%run ./library/traffic_simulation.py\n",
    "%run ../utils/helper.py\n",
    "%run /workspaces/jupyterlite/content/pytroch/arrays_and_matricies.py\n",
    "%run /workspaces/jupyterlite/content/pytorch-physics/pytorch-traffic-simulation.py"
   ]
  },
  {
   "cell_type": "code",
   "execution_count": null,
   "id": "3011faee-a988-4f7f-af81-0740c6247816",
   "metadata": {},
   "outputs": [],
   "source": [
    "def draw_lines_based_on_points_on_plot(points, ax=None, line_color='blue', line_size=0.5):\n",
    "    if ax is None:\n",
    "        fig, ax = plt.subplots(figsize=(10, 6))\n",
    "\n",
    "    ax.plot(points[:, 0], points[:, 1], color=line_color, linewidth=line_size)\n",
    "\n",
    "    return ax\n",
    "\n",
    "def draw_points_on_plot(point_sequence, ax, line_color, point_size=1):\n",
    "    x, y = zip(*point_sequence)\n",
    "    ax.scatter(x, y, color=line_color, s=point_size)\n",
    "    return ax"
   ]
  },
  {
   "cell_type": "code",
   "execution_count": null,
   "id": "dbd5ff98-5ffe-4b8d-ba5f-ddff96a1797d",
   "metadata": {},
   "outputs": [],
   "source": [
    "def visualize_line_change_by_theta(line, theta):\n",
    "    new_endpoint = calculate_rotated_line(line[0], line[1], theta)\n",
    "    new_line = [line[1], new_endpoint]\n",
    "    \n",
    "    plt.plot([line[0][0], line[1][0]], [line[0][1], line[1][1]], 'r-', label='Original Line')\n",
    "\n",
    "    # Plot the new line\n",
    "    plt.plot([new_line[0][0], new_line[1][0]], [new_line[0][1], new_line[1][1]], 'b-', label='New Line')\n",
    "    \n",
    "    # Plotting points for clarity\n",
    "    plt.scatter(*line[0], color='red', zorder=5)\n",
    "    plt.scatter(*line[1], color='red', zorder=5)\n",
    "    plt.scatter(*new_line[0], color='blue', zorder=5)\n",
    "    plt.scatter(*new_line[1], color='blue', zorder=5)\n",
    "    \n",
    "    # Labeling the points\n",
    "    plt.text(line[0][0], line[0][1], 'A', fontsize=12, ha='right')\n",
    "    plt.text(line[1][0], line[1][1], 'B', fontsize=12, ha='right')\n",
    "    plt.text(new_line[1][0], new_line[1][1], \"B'\", fontsize=12, ha='right')\n",
    "    \n",
    "    plt.xlim(-1, 2)\n",
    "    plt.ylim(-1, 2)\n",
    "    plt.xlabel('X-axis')\n",
    "    plt.ylabel('Y-axis')\n",
    "    plt.axhline(0, color='black', linewidth=0.5)\n",
    "    plt.axvline(0, color='black', linewidth=0.5)\n",
    "    plt.grid(True)\n",
    "    plt.legend()\n",
    "    plt.title('Visualizing Line Transformation')\n",
    "    plt.show()\n"
   ]
  },
  {
   "cell_type": "code",
   "execution_count": null,
   "id": "31152365-0da9-451f-b3f8-fd79e51dfe90",
   "metadata": {},
   "outputs": [],
   "source": [
    "# a bit dirty. A good way to redraw\n",
    "def redraw_initial_sketch():\n",
    "    fig, ax = plt.subplots()\n",
    "    ax.set_xlim(-30, 80)\n",
    "    ax.set_ylim(-20, 70)\n",
    "    ax.set_xlabel('X-axis')\n",
    "    ax.set_ylabel('Y-axis')\n",
    "    \n",
    "    angle_count_tuples = [[0, 60], [10, 9], [0, 20], [10, 9], [0, 60], [10, 9], [0, 20], [10, 9]]\n",
    "    rotation_angles = calc_roation_angles_from_tuple(angle_count_tuples)\n",
    "    init_point_sequence = [[0, 5], [1, 5]]\n",
    "    point_sequence_one = generate_point_sequence(init_point_sequence, rotation_angles)\n",
    "    ax = draw_lines_based_on_points_on_plot(point_sequence_one, ax, line_color='blue')\n",
    "    \n",
    "    angle_count_tuples = [[0, 60], [6, 15], [0, 20], [6, 15], [0, 60], [6, 15], [0, 20], [6, 15]]\n",
    "    rotation_angles = calc_roation_angles_from_tuple(angle_count_tuples)\n",
    "    init_point_sequence = [[-0.5, 1], [0.5, 1]]\n",
    "    point_sequence_two = generate_point_sequence(init_point_sequence, rotation_angles)\n",
    "    ax = draw_lines_based_on_points_on_plot(point_sequence_two, ax, line_color='red')\n",
    "\n",
    "    return fig, ax"
   ]
  },
  {
   "cell_type": "markdown",
   "id": "920fea2f-1004-4974-b732-78b595446e67",
   "metadata": {
    "jp-MarkdownHeadingCollapsed": true
   },
   "source": [
    "### Theory"
   ]
  },
  {
   "cell_type": "code",
   "execution_count": null,
   "id": "97e27c19-00f7-4c7a-b816-d756c0caf0b8",
   "metadata": {},
   "outputs": [],
   "source": [
    "html(calculate_rotated_line)"
   ]
  },
  {
   "cell_type": "code",
   "execution_count": null,
   "id": "ce5f8041-36f3-42fd-a5ec-c9423db3eb17",
   "metadata": {},
   "outputs": [],
   "source": [
    "line = [[0, 0], [0.7071, 0.7071]]\n",
    "theta = np.radians(0)\n",
    "visualize_line_change_by_theta(line, theta)"
   ]
  },
  {
   "cell_type": "code",
   "execution_count": null,
   "id": "d4d2d9a6-4cd0-4000-ba90-f68072494cb8",
   "metadata": {},
   "outputs": [],
   "source": [
    "line = [[0, 0], [1, 0]]\n",
    "theta = np.radians(10)\n",
    "visualize_line_change_by_theta(line, theta)"
   ]
  },
  {
   "cell_type": "markdown",
   "id": "6f583917-71ef-41a1-b58b-380e03af7640",
   "metadata": {},
   "source": [
    "### Streets-Building"
   ]
  },
  {
   "cell_type": "code",
   "execution_count": null,
   "id": "9143bc4d-4f1b-46fe-a9af-cf075e8fe20c",
   "metadata": {},
   "outputs": [],
   "source": [
    "def calc_roation_angles_from_tuple(angle_count_tuples):\n",
    "    return np.radians(np.repeat([angle for angle, count in angle_count_tuples], [count for angle, count in angle_count_tuples]))"
   ]
  },
  {
   "cell_type": "code",
   "execution_count": null,
   "id": "e2d2efd6-49c1-450a-9c18-acd24b098f2c",
   "metadata": {},
   "outputs": [],
   "source": [
    "fig, ax = plt.subplots()\n",
    "ax.set_xlim(-30, 80)\n",
    "ax.set_ylim(-20, 70)\n",
    "ax.set_xlabel('X-axis')\n",
    "ax.set_ylabel('Y-axis')\n",
    "\n",
    "angle_count_tuples = [[0, 60], [10, 9], [0, 20], [10, 9], [0, 60], [10, 9], [0, 20], [10, 9]]\n",
    "rotation_angles = calc_roation_angles_from_tuple(angle_count_tuples)\n",
    "init_point_sequence = [[0, 5], [1, 5]]\n",
    "point_sequence_one = generate_point_sequence(init_point_sequence, rotation_angles)\n",
    "ax = draw_lines_based_on_points_on_plot(point_sequence_one, ax, line_color='blue')\n",
    "\n",
    "angle_count_tuples = [[0, 60], [6, 15], [0, 20], [6, 15], [0, 60], [6, 15], [0, 20], [6, 15]]\n",
    "rotation_angles = calc_roation_angles_from_tuple(angle_count_tuples)\n",
    "init_point_sequence = [[-0.5, 1], [0.5, 1]]\n",
    "point_sequence_two = generate_point_sequence(init_point_sequence, rotation_angles)\n",
    "ax = draw_lines_based_on_points_on_plot(point_sequence_two, ax, line_color='red')\n",
    "\n",
    "plt.show()"
   ]
  },
  {
   "cell_type": "markdown",
   "id": "64c25ba5-01cc-4e4f-898c-6be60a09010f",
   "metadata": {},
   "source": [
    "### Car-Simulation"
   ]
  },
  {
   "cell_type": "code",
   "execution_count": null,
   "id": "e609fbde-8e30-4c27-b8da-cb0381043f81",
   "metadata": {},
   "outputs": [],
   "source": [
    "scatter_one = ax.scatter([], [], c='green', s=10)\n",
    "scatter_two = ax.scatter([], [], c='orange', s=10)\n",
    "time_scale = 5\n",
    "\n",
    "def update(i):\n",
    "    global ax, scatter_one, scatter_two, time_scale, point_sequence_one, point_sequence_two\n",
    "    \n",
    "    points_indices_one = np.mod(time_scale * np.array([2*i, i+20, i+50]), point_sequence_one.shape[0])\n",
    "    points_indices_two = np.mod(time_scale * np.array([i+5, i+30, i+50]), point_sequence_two.shape[0])\n",
    "    \n",
    "    points_one = np.array([point_sequence_one[index] for index in points_indices_one])\n",
    "    points_two = np.array([point_sequence_two[index] for index in points_indices_two])\n",
    "    \n",
    "    scatter_one.set_offsets(points_one)\n",
    "    scatter_two.set_offsets(points_two)\n",
    "    \n",
    "    return scatter_one, scatter_two\n",
    "\n",
    "ani = FuncAnimation(fig, update, frames=range(200), repeat=True, blit=True)\n",
    "plt.close(fig)\n",
    "HTML(ani.to_html5_video())"
   ]
  },
  {
   "cell_type": "code",
   "execution_count": null,
   "id": "c9ef319b-3820-45a2-963f-d8b3d81d0750",
   "metadata": {},
   "outputs": [],
   "source": [
    "N = 1000000\n",
    "time_scale = 1\n",
    "indices = np.arange(N)\n",
    "\n",
    "indices_1 = np.mod(time_scale * np.array([2*indices, indices+20, indices+50]), point_sequence_one.shape[0])\n",
    "indices_2 = np.mod(time_scale * np.array([indices+5, indices+30, indices+50]), point_sequence_two.shape[0])\n",
    "\n",
    "points_one = point_sequence_one[indices_1]\n",
    "points_two = point_sequence_two[indices_2]"
   ]
  },
  {
   "cell_type": "markdown",
   "id": "d6282811-83f4-438c-b55a-7998bc6a65a3",
   "metadata": {},
   "source": [
    "#### Speed-Up traffic-simulation"
   ]
  },
  {
   "cell_type": "code",
   "execution_count": null,
   "id": "161c776f-63f2-49b0-a86e-0e4ae19a0643",
   "metadata": {},
   "outputs": [],
   "source": [
    "# # lane-id, lane-idx, speed, prob.-lane-change, unique-id\n",
    "# cars = torch.tensor([[0, 1, 4, 0.1, 1], [0, 2, 3, 0.1, 2], [0, 3, 5, 0.1, 3], [1, 4, 3, 0.1, 4], [1, 5, 7, 0.1, 5], [0, 6, 3, 0.1, 6], [1, 10, 1, 0.1, 7], [1, 11, 3, 0.1, 8], [0, 13, 5, 0.1, 9], [0, 14, 3, 0.1, 10]], dtype=torch.float)\n",
    "# cars = sort_matrix_by_nth_and_mth_column(cars)"
   ]
  },
  {
   "cell_type": "code",
   "execution_count": null,
   "id": "cd5e976d-7c61-4c0e-b6e6-4814a35dc934",
   "metadata": {},
   "outputs": [],
   "source": [
    "car_count = 50\n",
    "len_track = point_sequence_one.shape[0]\n",
    "cars_track = torch.randint(0, 2, (car_count,))\n",
    "cars_position = torch.arange(0, len_track)[torch.randint(0, len_track, (car_count,))]\n",
    "cars_speed = torch.randint(1, 10, (car_count,))\n",
    "chance_for_takeover = torch.rand(car_count) / 4\n",
    "cars_id = torch.arange(0, car_count)\n",
    "cars = torch.column_stack([cars_track, cars_position, cars_speed, chance_for_takeover, cars_id])\n",
    "cars = sort_matrix_by_nth_and_mth_column(cars)\n",
    "# cars"
   ]
  },
  {
   "cell_type": "code",
   "execution_count": null,
   "id": "bb510162-1731-40cf-be52-a4a677144a90",
   "metadata": {},
   "outputs": [],
   "source": [
    "x_length = 100\n",
    "fig, ax = plt.subplots()\n",
    "ax.set_xlim(-20, x_length + 20)\n",
    "ax.set_ylim(-10, x_length + 30)\n",
    "ax.set_xlabel('X-axis')\n",
    "ax.set_ylabel('Y-axis')\n",
    "\n",
    "angle_count_tuples = [[0, x_length], [10, 9], [0, x_length], [10, 9], [0, x_length], [10, 9], [0, x_length], [10, 9]]\n",
    "rotation_angles = calc_roation_angles_from_tuple(angle_count_tuples)\n",
    "init_point_sequence = [[0, 5], [1, 5]]\n",
    "point_sequence_one = generate_point_sequence(init_point_sequence, rotation_angles)\n",
    "ax = draw_lines_based_on_points_on_plot(point_sequence_one, ax, line_color='blue')\n",
    "\n",
    "angle_count_tuples = [[0, x_length], [6, 15], [0, x_length], [6, 15], [0, x_length], [6, 15], [0, x_length], [6, 15]]\n",
    "rotation_angles = calc_roation_angles_from_tuple(angle_count_tuples)\n",
    "init_point_sequence = [[-0.5, 1], [0.5, 1]]\n",
    "point_sequence_two = generate_point_sequence(init_point_sequence, rotation_angles)\n",
    "ax = draw_lines_based_on_points_on_plot(point_sequence_two, ax, line_color='red')\n",
    "\n",
    "plt.show()"
   ]
  },
  {
   "cell_type": "code",
   "execution_count": null,
   "id": "5892bcdb-3986-4bdc-a9e3-4542ced0b764",
   "metadata": {},
   "outputs": [],
   "source": [
    "# both tracks must be the same length, otherwise lane-changes would be more complicated (not implemented)\n",
    "track_sizes = torch.tensor([[0., point_sequence_one.shape[0]], [1., point_sequence_one.shape[0]]])\n",
    "iterations = 500\n",
    "\n",
    "points_indices_one_list = []\n",
    "points_indices_two_list = []\n",
    "\n",
    "# visualize updates\n",
    "for _ in range(iterations):\n",
    "    proportional_difference_lanes = point_sequence_two.shape[0] / point_sequence_one.shape[0]\n",
    "\n",
    "    cars = update_cars(cars, track_sizes)\n",
    "    cars_on_lane_one = cars[cars[:, 0] == 0]\n",
    "    cars_on_lane_two = cars[cars[:, 0] == 1]\n",
    "\n",
    "    points_indices_one_list.append(torch.remainder(cars_on_lane_one[:, 1], point_sequence_one.shape[0]))\n",
    "    points_indices_two_list.append(torch.remainder(proportional_difference_lanes * cars_on_lane_two[:, 1], point_sequence_two.shape[0]))"
   ]
  },
  {
   "cell_type": "code",
   "execution_count": null,
   "id": "f7c3f1ce-0725-4773-858f-f75fd0aa2807",
   "metadata": {},
   "outputs": [],
   "source": [
    "scatter_one = ax.scatter([], [], c='green', s=10)\n",
    "scatter_two = ax.scatter([], [], c='orange', s=10)\n",
    "\n",
    "def update(i):\n",
    "    global ax, scatter_one, scatter_two, point_sequence_one, point_sequence_two\n",
    "\n",
    "    if points_indices_one_list[i].shape[0] != 0:\n",
    "        points_indices_one = points_indices_one_list[i]\n",
    "        points_one = np.array([point_sequence_one[int(index)] for index in points_indices_one])\n",
    "        scatter_one.set_offsets(points_one)\n",
    "\n",
    "    if points_indices_two_list[i].shape[0] != 0:\n",
    "        points_indices_two = points_indices_two_list[i]\n",
    "        points_two = np.array([point_sequence_two[int(index)] for index in points_indices_two])\n",
    "        scatter_two.set_offsets(points_two)\n",
    "    \n",
    "    return scatter_one, scatter_two\n",
    "\n",
    "ani = FuncAnimation(fig, update, frames=range(iterations), repeat=True, blit=True)\n",
    "plt.close(fig)\n",
    "HTML(ani.to_html5_video())"
   ]
  },
  {
   "cell_type": "code",
   "execution_count": null,
   "id": "588d3ff8-cb53-4bdb-9e93-824b44d80941",
   "metadata": {},
   "outputs": [],
   "source": []
  }
 ],
 "metadata": {
  "language_info": {
   "name": "python"
  }
 },
 "nbformat": 4,
 "nbformat_minor": 5
}
