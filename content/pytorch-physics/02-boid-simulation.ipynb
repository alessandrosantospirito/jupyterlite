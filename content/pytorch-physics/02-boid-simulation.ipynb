{
 "cells": [
  {
   "cell_type": "code",
   "execution_count": null,
   "id": "e1012517-ed90-4a52-8783-4d83c6828780",
   "metadata": {},
   "outputs": [],
   "source": [
    "import torch\n",
    "import numpy\n",
    "import matplotlib.pyplot as plt\n",
    "from matplotlib.animation import FuncAnimation\n",
    "from IPython.display import HTML\n",
    "from boid import Flock"
   ]
  },
  {
   "cell_type": "code",
   "execution_count": null,
   "id": "a61a0914-50a3-415a-9825-7f61f9ffa0c5",
   "metadata": {},
   "outputs": [],
   "source": [
    "device = torch.device(\"cuda:0\" if torch.cuda.is_available() else \"cpu\")\n",
    "N = 400\n",
    "box_top = 300\n",
    "flock = Flock(D=2, N=N, box_top=box_top, pass_through_edges=True, bouncy_edges=False, device=device)"
   ]
  },
  {
   "cell_type": "code",
   "execution_count": null,
   "id": "4dce96b3-5a87-45bd-8bfa-6f15cd6bb15b",
   "metadata": {},
   "outputs": [],
   "source": [
    "list_of_birds_pos = []\n",
    "list_of_birds_vel = []\n",
    "iterations = 150\n",
    "\n",
    "for _ in range(iterations):\n",
    "    flock.update()\n",
    "    list_of_birds_pos.append(flock.pos)\n",
    "    list_of_birds_vel.append(flock.vel)"
   ]
  },
  {
   "cell_type": "code",
   "execution_count": null,
   "id": "2f36c323-fa2b-4bf0-851e-8699edbe2e4b",
   "metadata": {},
   "outputs": [],
   "source": [
    "list_of_birds_pos = [list_of_birds_pos[i].cpu().numpy() for i in range(len(list_of_birds_pos))]\n",
    "list_of_birds_vel = [list_of_birds_vel[i].cpu().numpy() for i in range(len(list_of_birds_vel))]\n",
    "\n",
    "fig, ax = plt.subplots(figsize=(8, 8))\n",
    "ax.set_xlim(50, box_top - 50)\n",
    "ax.set_ylim(50, box_top - 50)\n",
    "ax.set_xlabel('X-axis')\n",
    "ax.set_ylabel('Y-axis')\n",
    "\n",
    "initial_positions = list_of_birds_pos[0]\n",
    "initial_velocities = list_of_birds_vel[0]\n",
    "\n",
    "scatter = ax.scatter([], [], c='orange', s=10)\n",
    "\n",
    "quiver = ax.quiver(initial_positions[:, 0], initial_positions[:, 1], \n",
    "                   initial_velocities[:, 0], initial_velocities[:, 1], \n",
    "                   angles='xy', scale_units='xy', scale=1, color='blue')\n",
    "\n",
    "def update(frame):\n",
    "    positions = list_of_birds_pos[frame]\n",
    "    velocities = list_of_birds_vel[frame]\n",
    "\n",
    "    scatter.set_offsets(positions)\n",
    "\n",
    "    quiver.set_offsets(positions)\n",
    "    quiver.set_UVC(velocities[:, 0], velocities[:, 1])\n",
    "\n",
    "    return scatter, quiver\n",
    "\n",
    "ani = FuncAnimation(fig, update, frames=len(list_of_birds_pos), interval=50, blit=True)\n",
    "plt.close(fig)\n",
    "HTML(ani.to_html5_video())"
   ]
  },
  {
   "cell_type": "code",
   "execution_count": null,
   "id": "3fdc491a-dd41-4194-ba69-35a0db69ea1d",
   "metadata": {},
   "outputs": [],
   "source": []
  },
  {
   "cell_type": "code",
   "execution_count": null,
   "id": "73d3ca1d-bf42-45e2-8ca0-8ff6ca41beb1",
   "metadata": {},
   "outputs": [],
   "source": [
    "# # Standard animation\n",
    "\n",
    "# fig, ax = plt.subplots()\n",
    "# ax.set_xlim(50, box_top - 50)\n",
    "# ax.set_ylim(50, box_top - 50)\n",
    "# ax.set_xlabel('X-axis')\n",
    "# ax.set_ylabel('Y-axis')\n",
    "\n",
    "# scatter = ax.scatter([], [], c='orange', s=10)\n",
    "\n",
    "# def update(i):\n",
    "#     observation = list_of_birds_pos[i]\n",
    "#     scatter.set_offsets(observation[:])\n",
    "    \n",
    "#     return (scatter, )\n",
    "\n",
    "# ani = FuncAnimation(fig, update, frames=len(list_of_birds_pos), repeat=True, blit=True)\n",
    "# plt.close(fig)\n",
    "# HTML(ani.to_html5_video())"
   ]
  },
  {
   "cell_type": "code",
   "execution_count": null,
   "id": "101246e0-d29d-48b1-9e0f-8bb6cd0aaf79",
   "metadata": {},
   "outputs": [],
   "source": []
  }
 ],
 "metadata": {
  "language_info": {
   "name": "python"
  }
 },
 "nbformat": 4,
 "nbformat_minor": 5
}
