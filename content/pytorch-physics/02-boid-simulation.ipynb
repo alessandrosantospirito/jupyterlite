{
 "cells": [
  {
   "cell_type": "code",
   "execution_count": null,
   "id": "e1012517-ed90-4a52-8783-4d83c6828780",
   "metadata": {},
   "outputs": [],
   "source": [
    "import torch\n",
    "import numpy\n",
    "import matplotlib.pyplot as plt\n",
    "from matplotlib.animation import FuncAnimation\n",
    "from IPython.display import HTML\n",
    "from boid import Flock"
   ]
  },
  {
   "cell_type": "code",
   "execution_count": null,
   "id": "a61a0914-50a3-415a-9825-7f61f9ffa0c5",
   "metadata": {},
   "outputs": [],
   "source": [
    "device = torch.device(\"cuda:0\" if torch.cuda.is_available() else \"cpu\")\n",
    "N = 200\n",
    "box_top = 300\n",
    "flock = Flock(D=2, N=N, box_top=box_top, pass_through_edges=True, bouncy_edges=False, device=device)"
   ]
  },
  {
   "cell_type": "code",
   "execution_count": null,
   "id": "4dce96b3-5a87-45bd-8bfa-6f15cd6bb15b",
   "metadata": {},
   "outputs": [],
   "source": [
    "list_of_birds = []\n",
    "iterations = 500\n",
    "\n",
    "for _ in range(iterations):\n",
    "    flock.update()\n",
    "    list_of_birds.append(flock.pos)"
   ]
  },
  {
   "cell_type": "code",
   "execution_count": null,
   "id": "618db51f-63e6-4b5e-806b-5f40927f1b4e",
   "metadata": {},
   "outputs": [],
   "source": [
    "list_of_birds[0].cpu().numpy()"
   ]
  },
  {
   "cell_type": "code",
   "execution_count": null,
   "id": "73d3ca1d-bf42-45e2-8ca0-8ff6ca41beb1",
   "metadata": {},
   "outputs": [],
   "source": [
    "list_of_birds = [list_of_birds[i].cpu().numpy() for i in range(len(list_of_birds))] # holds all observarions\n",
    "\n",
    "fig, ax = plt.subplots()\n",
    "ax.set_xlim(50, box_top - 50)\n",
    "ax.set_ylim(50, box_top - 50)\n",
    "ax.set_xlabel('X-axis')\n",
    "ax.set_ylabel('Y-axis')\n",
    "\n",
    "scatter_one = ax.scatter([], [], c='green', s=10)\n",
    "scatter_two = ax.scatter([], [], c='orange', s=10)\n",
    "\n",
    "def update(i):\n",
    "    observation = list_of_birds[i]\n",
    "    # Assume first two rows are green and the rest are orange\n",
    "    scatter_one.set_offsets(observation[:2])\n",
    "    scatter_two.set_offsets(observation[2:])\n",
    "    return scatter_one, scatter_two\n",
    "\n",
    "ani = FuncAnimation(fig, update, frames=len(list_of_birds), repeat=True, blit=True)\n",
    "plt.close(fig)\n",
    "HTML(ani.to_html5_video())"
   ]
  },
  {
   "cell_type": "code",
   "execution_count": null,
   "id": "1dcb2e1d-4edb-4b0b-9b96-e652d5811d09",
   "metadata": {},
   "outputs": [],
   "source": []
  }
 ],
 "metadata": {
  "language_info": {
   "name": "python"
  }
 },
 "nbformat": 4,
 "nbformat_minor": 5
}
