{
 "cells": [
  {
   "cell_type": "markdown",
   "id": "10eb5911-1a4b-4fec-83b3-732e8e29f80f",
   "metadata": {
    "jp-MarkdownHeadingCollapsed": true
   },
   "source": [
    "### Imports and Utility-Functions"
   ]
  },
  {
   "cell_type": "code",
   "execution_count": null,
   "id": "b5fd6e85-893b-473a-bce9-ee133bafd154",
   "metadata": {},
   "outputs": [],
   "source": [
    "import numpy as np\n",
    "import matplotlib.pyplot as plt"
   ]
  },
  {
   "cell_type": "code",
   "execution_count": null,
   "id": "60cbea8d-529a-486b-8fd5-9ad889731199",
   "metadata": {},
   "outputs": [],
   "source": [
    "def plot_graph_x_y(x, y, x_range=[0,10], y_range=[0,10]):\n",
    "    plt.plot(x, y)\n",
    "    plt.xlabel('x')\n",
    "    plt.ylabel('y')\n",
    "    \n",
    "    plt.xlim(x_range[0], x_range[1])\n",
    "    plt.ylim(y_range[0], y_range[1])\n",
    "    plt.gca().set_aspect('equal', adjustable='box')\n",
    "    \n",
    "    plt.grid(False)\n",
    "    \n",
    "    return plt"
   ]
  },
  {
   "cell_type": "markdown",
   "id": "7b357ea7-6857-4359-a931-21151789e8e1",
   "metadata": {},
   "source": [
    "### Functions"
   ]
  },
  {
   "cell_type": "code",
   "execution_count": null,
   "id": "cc5674bb-d6ac-4dc4-8976-3fe9bdcd910a",
   "metadata": {},
   "outputs": [],
   "source": [
    "def linear_function(matrix_x, scalar_a=1, scalar_b=0):\n",
    "    return matrix_x * scalar_a + scalar_b"
   ]
  },
  {
   "cell_type": "markdown",
   "id": "7a596c16-499e-4be4-b69a-b8149d2a8d51",
   "metadata": {},
   "source": [
    "#### Linear-Function\n",
    "#### Input\n",
    "\n",
    "The input is a set of d-dimensional points stored in a matrix (`matrix_x`) and the scalar values a, b (`scalar_a`, `scalar_b`)\n",
    "$$\n",
    "\\text{matrix-x}=\n",
    "\\begin{bmatrix}\n",
    " p_{1,1}&\\ldots&p_{1,d}\\\\\n",
    " \\vdots \\\\\n",
    " p_{n,1}&\\ldots&p_{n,d}\n",
    "\\end{bmatrix}\\in\\mathbb{M}^{n\\times d}\n",
    "$$\n",
    "\n",
    "#### Output\n",
    "\n",
    "$$\n",
    "f(x,a) = \\text{matrix-x}*a+b=\\begin{bmatrix}\n",
    "a*p_{1,1}+b&\\ldots&a*p_{1,d}+b\\\\\n",
    " \\vdots \\\\\n",
    "a*p_{n,1}+b&\\ldots&a*p_{n,d}+b\n",
    "\\end{bmatrix}\\in\\mathbb{M}^{n\\times d}\n",
    "$$\n",
    "\n"
   ]
  },
  {
   "cell_type": "code",
   "execution_count": null,
   "id": "5f20b383-2cab-47b2-9c39-c3ef2e5de018",
   "metadata": {},
   "outputs": [],
   "source": [
    "def affine_transformation(matrix_x, scalar_m=1, scalar_a=1, scalar_b=0):\n",
    "    return matrix_x ** scalar_m * scalar_a + scalar_b"
   ]
  },
  {
   "cell_type": "markdown",
   "id": "f7a94394-669e-462b-9281-74f3ab992a39",
   "metadata": {
    "jp-MarkdownHeadingCollapsed": true
   },
   "source": [
    "#### Affine-Transformation\n",
    "\n",
    "#### Input\n",
    "\n",
    "The input is a set of d-dimensional points stored in a matrix and the scalar values m,a,b (`scalar_m`, `scalar_a`, `scalar_b`)\n",
    "$$\n",
    "\\text{matrix-x}=\n",
    "\\begin{bmatrix}\n",
    " p_{1,1}&\\ldots&p_{1,d}\\\\\n",
    " \\vdots \\\\\n",
    " p_{n,1}&\\ldots&p_{n,d}\n",
    "\\end{bmatrix}\\in\\mathbb{M}^{n\\times d}\n",
    "$$\n",
    "\n",
    "#### Output\n",
    "\n",
    "$$\n",
    "f(x,a,b,m) = \\text{matrix-x}^m*a+b=\\begin{bmatrix}\n",
    "a*p_{1,1}^m+b&\\ldots&a*p_{1,d}^m+b\\\\\n",
    " \\vdots \\\\\n",
    "a*p_{n,1}^m+b&\\ldots&a*p_{n,d}^m+b\n",
    "\\end{bmatrix}\\in\\mathbb{M}^{n\\times d}\n",
    "$$\n",
    "\n"
   ]
  },
  {
   "cell_type": "markdown",
   "id": "48b3fa6c-a0a6-4d71-a462-202b20e75284",
   "metadata": {},
   "source": [
    "### Visualizations"
   ]
  },
  {
   "cell_type": "code",
   "execution_count": null,
   "id": "6616fc5a-6ec1-4d6d-b8f5-b6c314736950",
   "metadata": {},
   "outputs": [],
   "source": [
    "x = np.linspace(0, 10, 100)\n",
    "plot_graph_x_y(x, linear_function(x, 0, 2)).show()"
   ]
  },
  {
   "cell_type": "code",
   "execution_count": null,
   "id": "39d77461-8645-45bf-8fb3-d9fd04d07458",
   "metadata": {},
   "outputs": [],
   "source": [
    "x = np.linspace(0, 10, 100)\n",
    "plot_graph_x_y(x, affine_transformation(x, 2, 0.02, 4)).show()"
   ]
  },
  {
   "cell_type": "markdown",
   "id": "f9afd337-caa8-422b-b5bd-3c57ca1c933d",
   "metadata": {},
   "source": [
    "#### Combined-Segments"
   ]
  },
  {
   "cell_type": "code",
   "execution_count": null,
   "id": "6dd6c44d-ee2b-49fa-82d6-ef4bab81425e",
   "metadata": {},
   "outputs": [],
   "source": [
    "x = np.linspace(0, 10, 100)\n",
    "# [m1, a1], [m2, a2], ...\n",
    "parameters_values = [[1,0],[2, 0.02]]\n",
    "percentages = [0.3, 0.7]\n",
    "\n",
    "def create_street_section(parameters_values, percentages, b=1, x=np.linspace(0, 10, 100)):\n",
    "    x_split = np.split(x, (np.cumsum(percentages)[:-1] * len(x)).astype(int))\n",
    "    street_y = np.array([])\n",
    "\n",
    "    for i, [m, a] in enumerate(parameters_values):\n",
    "        if i > 0:\n",
    "            prev_x = x_split[i-1][-1]\n",
    "            b = street_y[-1] - a * (prev_x**m)\n",
    "        x = x_split[i]\n",
    "        street_y = np.append(street_y, affine_transformation(x, m, a, b))\n",
    "\n",
    "    return street_y\n",
    "\n",
    "street_y = create_street_section(parameters_values, percentages, 3, x)\n",
    "plot_graph_x_y(x, street_y, x_range=[0,10], y_range=[0,10]).show()"
   ]
  },
  {
   "cell_type": "markdown",
   "id": "8583d299-9033-441e-9781-3e5e98099a57",
   "metadata": {},
   "source": [
    "### Splines"
   ]
  },
  {
   "cell_type": "code",
   "execution_count": null,
   "id": "ea937760-7707-4011-8d06-1e1e07f4f8c8",
   "metadata": {},
   "outputs": [],
   "source": [
    "import numpy as np\n",
    "import matplotlib.pyplot as plt\n",
    "from scipy.special import comb\n",
    "\n",
    "def bezier_curve(control_points, n_points=100):\n",
    "    \"\"\"\n",
    "    Calculate Bézier Curve coordinates from control points.\n",
    "\n",
    "    Parameters:\n",
    "    - control_points: List of control points, with each point as a tuple (x, y).\n",
    "    - n_points: Number of points to calculate along the curve.\n",
    "\n",
    "    Returns:\n",
    "    - x_vals, y_vals: Coordinates of points on the Bézier curve.\n",
    "    \"\"\"\n",
    "    n = len(control_points) - 1\n",
    "    t = np.linspace(0.0, 1.0, n_points)\n",
    "    curve = np.zeros((n_points, 2))\n",
    "    for i in range(n + 1):\n",
    "        bernstein_polynomial = comb(n, i) * (t ** i) * ((1 - t) ** (n - i))\n",
    "        curve += np.outer(bernstein_polynomial, control_points[i])\n",
    "    return curve[:, 0], curve[:, 1]\n",
    "\n",
    "# Define degree\n",
    "degree = 3  # You can change this value to your desired degree\n",
    "\n",
    "# Define control points\n",
    "control_points = [(0, 0), (2, 6), (4, -6), (10, 0)]  # Adjust these for your degree\n",
    "\n",
    "# Calculate Bézier curve points\n",
    "x_vals, y_vals = bezier_curve(control_points, n_points=100)\n",
    "\n",
    "# Plot the control points and the Bézier curve\n",
    "plt.plot(*zip(*control_points), 'ro--', label='Control Points')\n",
    "plt.plot(x_vals, y_vals, 'b-', label='Bézier Curve')\n",
    "plt.xlabel('x')\n",
    "plt.ylabel('y')\n",
    "plt.title(f'Bézier Curve of Degree {degree}')\n",
    "plt.legend()\n",
    "plt.grid(True)\n",
    "plt.axis('equal')\n",
    "plt.show()"
   ]
  }
 ],
 "metadata": {
  "language_info": {
   "name": "python"
  }
 },
 "nbformat": 4,
 "nbformat_minor": 5
}
