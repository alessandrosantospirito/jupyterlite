{
 "cells": [
  {
   "cell_type": "code",
   "execution_count": 1,
   "id": "c5bde0a0-7919-4c19-9d80-873f7d4de9fe",
   "metadata": {},
   "outputs": [],
   "source": [
    "import numpy as np\n",
    "import matplotlib.pyplot as plt"
   ]
  },
  {
   "cell_type": "markdown",
   "id": "23d57313-1109-4bfa-84cd-a319b6b74b11",
   "metadata": {},
   "source": [
    "### Visualizations"
   ]
  },
  {
   "cell_type": "code",
   "execution_count": null,
   "id": "72b6e28a-eb1d-4aff-b292-010b467a470a",
   "metadata": {},
   "outputs": [],
   "source": []
  },
  {
   "cell_type": "code",
   "execution_count": null,
   "id": "0bb5f64e-f770-43b9-8443-1d90a7264cc3",
   "metadata": {},
   "outputs": [],
   "source": []
  },
  {
   "cell_type": "code",
   "execution_count": null,
   "id": "5938c776-e1a6-4727-8256-8f73121735a7",
   "metadata": {},
   "outputs": [],
   "source": []
  },
  {
   "cell_type": "markdown",
   "id": "b11db6ea-303c-4cd4-8844-f5d6e08da536",
   "metadata": {},
   "source": [
    "#### MAP for Regression"
   ]
  },
  {
   "cell_type": "markdown",
   "id": "cf4f004a-5d38-49b6-bb4d-c5d2c8a58dc1",
   "metadata": {},
   "source": [
    "##### Linear Regression\n",
    "\n",
    "Linear regression has the form $f_w(x)=w^T\\phi(x)$.\n",
    "\n",
    "##### Parameters\n",
    "\n",
    "- Gaussian prior $p(\\theta) = \\mathcal{N}(\\theta|0, \\lambda^{-1} \\mathbf{I})$\n",
    "- data-likelihood: $p(D\\mid \\theta)=\\mathcal{N}(y\\mid w^T\\phi(x),\\sigma^2),\\; \\theta=\\{w\\}$\n",
    "\n",
    "##### MAP objective\n",
    "\n",
    "$$\n",
    "\\mathbf{w}_{MAP} = \\underset{\\mathbf{w}}{\\operatorname{arg\\,max}} \\sum_i \\left( -\\frac{1}{2\\sigma^2} (y_i - \\mathbf{w}^T \\phi(\\mathbf{x}_i))^2 - \\frac{\\lambda}{2} \\mathbf{w}^T \\mathbf{w} + c(\\sigma^2, \\lambda) \\right)\n",
    "$$\n",
    "\n",
    "##### MAP solution\n",
    "\n",
    "$$\n",
    "\\begin{align}\n",
    "\\mathbf{w}_{MAP} &=(\\phi^T\\Phi+\\lambda\\sigma^2 I)^{-1}\\Phi^Ty\n",
    "\\end{align}\n",
    "$$\n"
   ]
  },
  {
   "cell_type": "code",
   "execution_count": null,
   "id": "2951ded2-9d47-4816-b3e9-69a29536c6c0",
   "metadata": {},
   "outputs": [],
   "source": []
  },
  {
   "cell_type": "code",
   "execution_count": null,
   "id": "314d05a0-36b7-4104-a457-50a713a54bd8",
   "metadata": {},
   "outputs": [],
   "source": []
  }
 ],
 "metadata": {
  "kernelspec": {
   "display_name": "Python 3 (ipykernel)",
   "language": "python",
   "name": "python3"
  },
  "language_info": {
   "codemirror_mode": {
    "name": "ipython",
    "version": 3
   },
   "file_extension": ".py",
   "mimetype": "text/x-python",
   "name": "python",
   "nbconvert_exporter": "python",
   "pygments_lexer": "ipython3",
   "version": "3.8.10"
  }
 },
 "nbformat": 4,
 "nbformat_minor": 5
}
