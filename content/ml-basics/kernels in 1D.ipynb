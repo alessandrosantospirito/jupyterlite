{
 "cells": [
  {
   "cell_type": "markdown",
   "id": "b885ceef-cb4c-45c4-8cd5-4021993a49fa",
   "metadata": {},
   "source": [
    "### Imports and Data-Preperation"
   ]
  },
  {
   "cell_type": "code",
   "execution_count": null,
   "id": "d49ccc4d-9d41-4d14-b70a-1b8a9cf5901e",
   "metadata": {},
   "outputs": [],
   "source": [
    "%pip install -q matplotlib\n",
    "%pip install -q numpy"
   ]
  },
  {
   "cell_type": "code",
   "execution_count": null,
   "id": "faaea8eb-8e7b-4e51-9daf-18aae396c6cf",
   "metadata": {},
   "outputs": [],
   "source": [
    "import numpy as np\n",
    "import matplotlib.pyplot as plt"
   ]
  },
  {
   "cell_type": "code",
   "execution_count": null,
   "id": "815da974-f74b-49ab-8401-6414a9aa53f9",
   "metadata": {},
   "outputs": [],
   "source": [
    "# Set random seed to obtain reproducible results\n",
    "np.random.seed(0)\n",
    "\n",
    "# Load training, validation and test datasets\n",
    "x_train = np.load('x_train.npy')\n",
    "y_train = np.load('y_train.npy')\n",
    "\n",
    "x_valid = np.load('x_valid.npy')\n",
    "y_valid = np.load('y_valid.npy')\n",
    "\n",
    "x_test = np.load('x_test.npy')\n",
    "y_test = np.load('y_test.npy')\n",
    "\n",
    "# Plot the data\n",
    "plt.figure(dpi=200, tight_layout=True)\n",
    "plt.plot(x_train, y_train, 'ob', label='training data', zorder=20)\n",
    "plt.plot(x_valid, y_valid, 'or', label='validation data',zorder=10)\n",
    "plt.plot(x_test, y_test, 'ok', label='test data', alpha=0.3, zorder=0)\n",
    "plt.legend()\n",
    "plt.show()"
   ]
  },
  {
   "cell_type": "markdown",
   "id": "1cd04e0d-192f-4ad8-a4b2-044cf2cf08e8",
   "metadata": {},
   "source": [
    "### Visualizations"
   ]
  },
  {
   "cell_type": "code",
   "execution_count": null,
   "id": "c8d220fd-9fee-42ac-ad49-62ffa0b6f7c5",
   "metadata": {},
   "outputs": [],
   "source": [
    "def kernel_vectors_to_plot(x_data, kernel_vectors):\n",
    "    plt.figure(dpi=70, tight_layout=True)\n",
    "    for kernel in kernel_vectors:\n",
    "        plt.plot(x_data, kernel, 'b')\n",
    "\n",
    "    return plt"
   ]
  },
  {
   "cell_type": "code",
   "execution_count": null,
   "id": "bb24d369-9299-4007-86a4-6c716cb2a57a",
   "metadata": {},
   "outputs": [],
   "source": [
    "def kernel_function_in_grid(kernel_func, x_range=[0,10], y_range=[0,10]):\n",
    "    x = np.linspace(x_range[0], x_range[1], 100)\n",
    "    y = np.linspace(y_range[0], y_range[1], 100)\n",
    "    X, Y = np.meshgrid(x, y)\n",
    "    \n",
    "    kernel_values = kernel_func(X, Y)\n",
    "    \n",
    "    plt.figure(figsize=(8, 6))\n",
    "    plt.contourf(X, Y, kernel_values, levels=50, cmap='viridis')\n",
    "    plt.colorbar(label='Kernel Value')\n",
    "    plt.title('Gaussian Kernel Grid Visualization')\n",
    "    plt.xlabel('x')\n",
    "    plt.ylabel('y')\n",
    "    plt.show()"
   ]
  },
  {
   "cell_type": "code",
   "execution_count": null,
   "id": "285b2822-ebcb-4851-8cfc-b54bae6b5403",
   "metadata": {},
   "outputs": [],
   "source": [
    "x_train.shape, x_test.shape"
   ]
  },
  {
   "cell_type": "markdown",
   "id": "8bdcc2c4-6908-4e76-b4be-c73bbc36a0ce",
   "metadata": {},
   "source": [
    "### Kernel Definitions"
   ]
  },
  {
   "cell_type": "markdown",
   "id": "52b6b3d2-22ae-483a-8a33-e5805cd4e2a7",
   "metadata": {},
   "source": [
    "Gaussian Kernel\n",
    "$$\n",
    "k(x_i,x_j)=\\exp(-\\frac{\\|x_i-x_j\\|^2}{2\\sigma^2})\n",
    "$$"
   ]
  },
  {
   "cell_type": "code",
   "execution_count": null,
   "id": "007a52fe-42bc-4025-a49a-538a7d53a933",
   "metadata": {},
   "outputs": [],
   "source": [
    "# def gaussian_kernel(X_t: np.ndarray, X_q: np.ndarray, sigma: float) -> np.ndarray:\n",
    "#     diff = X_t[:, None, :] - X_q[None, :, :]\n",
    "#     diff_norm = np.linalg.norm(diff, axis=2)\n",
    "#     kernel_vectors = np.exp(-(diff_norm)**2 / (2 * sigma**2))\n",
    "\n",
    "#     return kernel_vectors"
   ]
  },
  {
   "cell_type": "code",
   "execution_count": null,
   "id": "58b55223-849e-40c5-b8f3-1c91406cab78",
   "metadata": {},
   "outputs": [],
   "source": [
    "def gaussian_kernel(X_t: np.ndarray, X_q: np.ndarray, sigma: float) -> np.ndarray:\n",
    "    return np.exp(-(X_t - X_q) ** 2) / (2 * sigma**2)"
   ]
  },
  {
   "cell_type": "markdown",
   "id": "8c2648e4-0c09-4524-8dee-72e7d775fcfd",
   "metadata": {},
   "source": [
    "Ornstein-Uhlenbeck Process\n",
    "$$\n",
    "k(x_i,x_j)=\\exp(-\\theta\\|x_i-x_j\\|)\n",
    "$$"
   ]
  },
  {
   "cell_type": "code",
   "execution_count": null,
   "id": "1c26b584-5189-4222-88d2-1d0dd6a800e3",
   "metadata": {},
   "outputs": [],
   "source": [
    "# def ornstein_uhlenbeck(X_t: np.ndarray, X_q: np.ndarray, theta: float) -> np.ndarray:\n",
    "#     diff = X_t[:, None, :] - X_q[None, :, :]\n",
    "#     diff_norm = np.linalg.norm(diff, axis=2)\n",
    "#     kernel_vectors = np.exp(-theta * diff_norm)\n",
    "\n",
    "#     return kernel_vectors"
   ]
  },
  {
   "cell_type": "code",
   "execution_count": null,
   "id": "a9b8706d-4cd5-4897-be53-c22b9f934ad2",
   "metadata": {},
   "outputs": [],
   "source": [
    "def ornstein_uhlenbeck(X_t: np.ndarray, X_q: np.ndarray, theta: float) -> np.ndarray:\n",
    "    return  np.exp(-theta * np.abs(X_t - X_q))"
   ]
  },
  {
   "cell_type": "markdown",
   "id": "00331152-3e68-46a4-8159-4bb69906e5af",
   "metadata": {},
   "source": [
    "Linear Kernel\n",
    "$$\n",
    "k(x_i, x_j) = \\langle x_i, x_j \\rangle\n",
    "$$"
   ]
  },
  {
   "cell_type": "code",
   "execution_count": null,
   "id": "5459a3e5-f1fb-4f58-a6fb-694473280b6b",
   "metadata": {},
   "outputs": [],
   "source": [
    "def linear_kernel(X_t: np.ndarray, X_q: np.ndarray) -> np.ndarray:\n",
    "    # return np.dot(X_t, X_q)\n",
    "    return X_t * X_q"
   ]
  },
  {
   "cell_type": "markdown",
   "id": "abf6b99b-2509-49bf-9c4f-20db3b42f0b8",
   "metadata": {},
   "source": [
    "### Kernel Evaluations"
   ]
  },
  {
   "cell_type": "markdown",
   "id": "8b8b9fc8-b1ae-43cd-abe2-f42e0847e59d",
   "metadata": {},
   "source": [
    "Kernel functions ..."
   ]
  },
  {
   "cell_type": "markdown",
   "id": "7beea215-98be-42bb-8da2-55aedd4c09f3",
   "metadata": {},
   "source": [
    "#### Kernel Functions - Grid Values"
   ]
  },
  {
   "cell_type": "code",
   "execution_count": null,
   "id": "88b5794c-73b9-4e4b-9d76-3345d27fe856",
   "metadata": {},
   "outputs": [],
   "source": [
    "kernel_lambda = lambda X, Y: gaussian_kernel(X, Y, 1)\n",
    "kernel_function_in_grid(kernel_lambda)"
   ]
  },
  {
   "cell_type": "code",
   "execution_count": null,
   "id": "ce589529-63dd-4234-b425-26b7b69b65df",
   "metadata": {},
   "outputs": [],
   "source": [
    "kernel_lambda = lambda X, Y: ornstein_uhlenbeck(X, Y, 0.5)\n",
    "kernel_function_in_grid(kernel_lambda)"
   ]
  },
  {
   "cell_type": "code",
   "execution_count": null,
   "id": "f738901b-cd54-47ee-8f02-54072c80c5db",
   "metadata": {},
   "outputs": [],
   "source": [
    "kernel_lambda = lambda X, Y: linear_kernel(X, Y)\n",
    "kernel_function_in_grid(kernel_lambda)"
   ]
  },
  {
   "cell_type": "markdown",
   "id": "1aff4eeb-0745-4c92-acd1-8d57f3c0d5c1",
   "metadata": {},
   "source": [
    "#### Kernel Functions - Function Approximation"
   ]
  },
  {
   "cell_type": "code",
   "execution_count": null,
   "id": "fc1efd57-154e-468c-b175-5bbe9c28c1b1",
   "metadata": {},
   "outputs": [],
   "source": [
    "lk_vectors = linear_kernel(x_train, np.transpose(x_test))\n",
    "\n",
    "kernel_vectors_to_plot(x_test, lk_vectors).show()"
   ]
  },
  {
   "cell_type": "code",
   "execution_count": null,
   "id": "046c6644-81ec-4abb-ab33-6e067483f322",
   "metadata": {},
   "outputs": [],
   "source": [
    "x_train.shape, x_test.shape"
   ]
  },
  {
   "cell_type": "code",
   "execution_count": null,
   "id": "17298365-04aa-43db-978d-661991725f61",
   "metadata": {},
   "outputs": [],
   "source": [
    "# Gaussian Kernel\n",
    "gk_vectors = gaussian_kernel(x_train, np.transpose(x_test), 0.5)\n",
    "\n",
    "kernel_vectors_to_plot(x_test, gk_vectors).show()"
   ]
  },
  {
   "cell_type": "code",
   "execution_count": null,
   "id": "2494a431-376e-4138-94ad-70b5698f993e",
   "metadata": {},
   "outputs": [],
   "source": [
    "# Gaussian Kernel + Linear Kernel\n",
    "kernel_vectors_to_plot(x_test, lk_vectors + gk_vectors).show()"
   ]
  },
  {
   "cell_type": "code",
   "execution_count": null,
   "id": "a1262836-4be8-4bc9-82b3-2deb12aeeb16",
   "metadata": {},
   "outputs": [],
   "source": [
    "# Ornstein Uhlenbeck Kernel\n",
    "ok_vectors = ornstein_uhlenbeck(x_train, np.transpose(x_test), 0.5)\n",
    "\n",
    "kernel_vectors_to_plot(x_test, ok_vectors).show()"
   ]
  },
  {
   "cell_type": "code",
   "execution_count": null,
   "id": "45b9f48e-6d28-4cf3-9698-e0b4e04f0bc8",
   "metadata": {},
   "outputs": [],
   "source": [
    "# Ornstein Uhlenbeck Kernel + Linear Kernel\n",
    "kernel_vectors_to_plot(x_test, lk_vectors + ok_vectors).show()"
   ]
  }
 ],
 "metadata": {
  "language_info": {
   "name": "python"
  }
 },
 "nbformat": 4,
 "nbformat_minor": 5
}
