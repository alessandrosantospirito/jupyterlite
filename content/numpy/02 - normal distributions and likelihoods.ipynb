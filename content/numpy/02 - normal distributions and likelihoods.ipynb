{
 "cells": [
  {
   "cell_type": "code",
   "execution_count": null,
   "id": "63c84b8f-29c3-49ef-a427-6aca272e9245",
   "metadata": {},
   "outputs": [],
   "source": [
    "%run ./library/normal_distributions_and_likelihoods.py\n",
    "%run ../utils/helper.py"
   ]
  },
  {
   "cell_type": "markdown",
   "id": "521057ed-5c12-45c3-8922-0e9c8a8e453d",
   "metadata": {},
   "source": [
    "#### Calculate Likelihoods for Distributions and Points"
   ]
  },
  {
   "cell_type": "code",
   "execution_count": null,
   "id": "e0ecfd60-e13d-4e61-9da0-a463922cf326",
   "metadata": {},
   "outputs": [],
   "source": [
    "html(calc_likelihoods_for_distributions_and_points)"
   ]
  },
  {
   "cell_type": "code",
   "execution_count": null,
   "id": "c6b7db4b-fa41-416d-914b-bdc7b9697dea",
   "metadata": {},
   "outputs": [],
   "source": [
    "points = np.array([[ 2.67536762,  1.61771433],\n",
    "        [-1.51995242,  8.5575738 ],\n",
    "        [ 5.9708441 ,  2.88736993],\n",
    "        [-0.26015255, -1.21744485],\n",
    "        [-4.24165224,  3.16340135],\n",
    "        [10.58514974, -1.02516812],\n",
    "        [11.83292385, -1.69103837],\n",
    "        [ 2.55579144,  3.80067187],\n",
    "        [ 1.15372272, -2.601238  ],\n",
    "        [ 6.47700649,  8.65276974]])\n",
    "\n",
    "distributions = np.array([\n",
    "    [[3, 4], [1, 0], [0, 1]],\n",
    "    [[2, 0], [1, 0], [0, 1]]\n",
    "])\n",
    "\n",
    "calc_likelihoods_for_distributions_and_points(distributions, points)"
   ]
  },
  {
   "cell_type": "markdown",
   "id": "6f0d2d2d-1ab4-482a-8cf8-120840920f66",
   "metadata": {},
   "source": [
    "#### Calculate the Likelihoods and Point Indicies of the top results"
   ]
  },
  {
   "cell_type": "code",
   "execution_count": null,
   "id": "bd84f52d-5441-4182-9d47-736ecb7a8728",
   "metadata": {},
   "outputs": [],
   "source": [
    "html(calc_top_likelihood_of_points_to_distributions)"
   ]
  },
  {
   "cell_type": "code",
   "execution_count": null,
   "id": "ba4739d7-a886-48e3-a5e7-51fdcf0662ff",
   "metadata": {},
   "outputs": [],
   "source": [
    "points = np.array([[ 2.67536762,  1.61771433],\n",
    "        [-1.51995242,  8.5575738 ],\n",
    "        [ 5.9708441 ,  2.88736993],\n",
    "        [-0.26015255, -1.21744485],\n",
    "        [-4.24165224,  3.16340135],\n",
    "        [10.58514974, -1.02516812],\n",
    "        [11.83292385, -1.69103837],\n",
    "        [ 2.55579144,  3.80067187],\n",
    "        [ 1.15372272, -2.601238  ],\n",
    "        [ 6.47700649,  8.65276974]])\n",
    "\n",
    "distributions = np.array([\n",
    "    [[3, 4], [1, 0], [0, 1]],\n",
    "    [[2, 0], [1, 0], [0, 1]],\n",
    "    [[3, 4], [1, 0], [0, 1]],\n",
    "    [[2, 0], [1, 0], [0, 1]]\n",
    "])\n",
    "\n",
    "calc_top_likelihood_of_points_to_distributions(distributions, points)"
   ]
  },
  {
   "cell_type": "code",
   "execution_count": null,
   "id": "2abb12a0-15c6-4d58-9c6f-fe0c251f10b7",
   "metadata": {},
   "outputs": [],
   "source": []
  }
 ],
 "metadata": {
  "language_info": {
   "name": "python"
  }
 },
 "nbformat": 4,
 "nbformat_minor": 5
}
