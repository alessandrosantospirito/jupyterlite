{
 "cells": [
  {
   "cell_type": "code",
   "execution_count": 1,
   "id": "63c84b8f-29c3-49ef-a427-6aca272e9245",
   "metadata": {},
   "outputs": [],
   "source": [
    "import numpy as np"
   ]
  },
  {
   "cell_type": "code",
   "execution_count": null,
   "id": "36e4d2e1-295f-49b1-bb8a-795eb8792bb2",
   "metadata": {},
   "outputs": [],
   "source": [
    "def calc_point_indices_to_distributions(distributions, points, treshhold_likelihood = 0):\n",
    "    if points.shape[0] == 0:\n",
    "        return np.zeros(distributions.shape[0]) - 1\n",
    "    \n",
    "    if points.shape[0] == 1 and distributions.shape[0] == 1:\n",
    "        likelihood_entries = calc_likelihoods_for_distributions_and_points(distributions, points)\n",
    "    \n",
    "        if likelihood_entries < treshhold_likelihood: return np.array([-1])\n",
    "        return np.array([0])\n",
    "\n",
    "    likelihood_entries, likelihood_indicies_to_filter = calc_likelihood_entries_to_distributions(distributions, points, treshhold_likelihood)\n",
    "\n",
    "    return calc_point_indicies_to_likelihoods(likelihood_entries, likelihood_indicies_to_filter)\n",
    "\n",
    "def calc_point_indicies_to_likelihoods_no_filter(likelihood_entries):\n",
    "    pdb.set_trace()\n",
    "    cost_matrix = -1 * np.log(likelihood_entries)\n",
    "    row_ind, col_ind = linear_sum_assignment(cost_matrix)\n",
    "    \n",
    "    points_to_distributions = np.zeros(likelihood_entries.shape[1], dtype=row_ind.dtype) - 1\n",
    "    points_to_distributions[col_ind] = row_ind\n",
    "\n",
    "    return points_to_distributions\n",
    "\n",
    "def calc_point_indicies_to_likelihoods(likelihood_entries, likelihood_indicies_to_filter):\n",
    "    cost_matrix = -1 * np.log(likelihood_entries)\n",
    "    row_ind, col_ind = linear_sum_assignment(cost_matrix)\n",
    "    \n",
    "    points_to_distributions = np.zeros(likelihood_entries.shape[1], dtype=row_ind.dtype) - 1\n",
    "    \n",
    "    points_to_distributions[col_ind] = row_ind\n",
    "\n",
    "    for point_index, distribution_index in enumerate(col_ind):\n",
    "        if likelihood_indicies_to_filter[point_index, distribution_index]:\n",
    "            points_to_distributions[point_index] = -1\n",
    "    \n",
    "    return points_to_distributions\n",
    "\n",
    "def calc_likelihood_entries_to_distributions(distributions, points, treshhold_likelihood=0):\n",
    "    likelihoods = calc_likelihoods_for_distributions_and_points(distributions, points)\n",
    "    sorted_indices = np.argsort(likelihoods, axis=0)\n",
    "    ranks = np.zeros_like(likelihoods, dtype=int)\n",
    "    n_rows, n_cols = likelihoods.shape\n",
    "    ranks[sorted_indices, np.arange(n_cols)] = np.tile(np.arange(n_rows), (n_cols, 1)).T\n",
    "    \n",
    "    mask_binary = np.array((n_rows - ranks) <= n_cols, dtype=int)\n",
    "    cumsum_array = np.cumsum(mask_binary, axis=0)\n",
    "    \n",
    "    s = min(n_rows, n_cols)\n",
    "    extended_likelihood_entries = np.zeros((s+1, n_cols + 1))\n",
    "    \n",
    "    mask  = np.array((n_rows - ranks) <= n_cols)\n",
    "    \n",
    "    points_to_consider = np.where(np.any(mask, axis=1))[0]\n",
    "    filtered_points = points[points_to_consider]\n",
    "    \n",
    "    likelihood_entries = calc_likelihoods_for_distributions_and_points(distributions, filtered_points)\n",
    "    likelihood_indicies_to_filter = likelihood_entries < treshhold_likelihood\n",
    "    # punish points that should be filtered out\n",
    "    likelihood_entries[likelihood_indicies_to_filter] = 1e-50\n",
    "\n",
    "    return likelihood_entries, likelihood_indicies_to_filter"
   ]
  },
  {
   "cell_type": "code",
   "execution_count": null,
   "id": "ba4739d7-a886-48e3-a5e7-51fdcf0662ff",
   "metadata": {},
   "outputs": [],
   "source": []
  }
 ],
 "metadata": {
  "kernelspec": {
   "display_name": "Python 3 (ipykernel)",
   "language": "python",
   "name": "python3"
  },
  "language_info": {
   "codemirror_mode": {
    "name": "ipython",
    "version": 3
   },
   "file_extension": ".py",
   "mimetype": "text/x-python",
   "name": "python",
   "nbconvert_exporter": "python",
   "pygments_lexer": "ipython3",
   "version": "3.8.10"
  }
 },
 "nbformat": 4,
 "nbformat_minor": 5
}
