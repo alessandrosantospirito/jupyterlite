{
 "cells": [
  {
   "cell_type": "markdown",
   "id": "7b4b8f5b-3a71-46bc-95b7-2d8ce297ab71",
   "metadata": {},
   "source": [
    "### Imports and Visualizations"
   ]
  },
  {
   "cell_type": "code",
   "execution_count": null,
   "id": "0ab5e95c-2e6d-4592-8117-1c1b53fd5d37",
   "metadata": {},
   "outputs": [],
   "source": [
    "import numpy as np\n",
    "import matplotlib.pyplot as plt"
   ]
  },
  {
   "cell_type": "code",
   "execution_count": null,
   "id": "5a924039-73c9-4507-94a2-4d216d58b3e2",
   "metadata": {},
   "outputs": [],
   "source": [
    "def visualize_kernel_in_one_dimension(kernel_func, x_range=[0, 10], y_range=[0, 10]):\n",
    "    x = np.linspace(x_range[0], x_range[1], 100)\n",
    "    y = np.linspace(y_range[0], y_range[1], 100)\n",
    "    X, Y = np.meshgrid(x, y)\n",
    "    kernel_values = kernel_func(X, Y)\n",
    "    \n",
    "    plt.figure(figsize=(8, 6))\n",
    "    plt.contourf(X, Y, kernel_values, levels=50, cmap='viridis')\n",
    "    plt.colorbar(label='Kernel Value')\n",
    "    plt.title('Kernel Grid Visualization')\n",
    "    plt.xlabel('x')\n",
    "    plt.ylabel('y')\n",
    "\n",
    "    return plt"
   ]
  },
  {
   "cell_type": "markdown",
   "id": "030f3a03-246e-4731-9e97-5f62a33f028f",
   "metadata": {},
   "source": [
    "### Kernels"
   ]
  },
  {
   "cell_type": "markdown",
   "id": "9d294484-5187-418e-9479-27f5f9eaea04",
   "metadata": {},
   "source": [
    "#### Linear Kernel"
   ]
  },
  {
   "cell_type": "markdown",
   "id": "ad5d9b48-358b-4668-8668-0d6b8e43eba2",
   "metadata": {},
   "source": [
    "$$\n",
    "k(x,y)=\\langle x,y\\rangle\n",
    "$$"
   ]
  },
  {
   "cell_type": "code",
   "execution_count": null,
   "id": "92f9028f-aab8-4d99-9109-c6c89714a890",
   "metadata": {},
   "outputs": [],
   "source": [
    "def linear_kernel(matrix_x, matrix_y):\n",
    "    # return np.dot(point_x, point_y)\n",
    "    return matrix_x * matrix_y"
   ]
  },
  {
   "cell_type": "markdown",
   "id": "582c4b0d-5c46-454e-93a0-68be561c98f9",
   "metadata": {},
   "source": [
    "#### Polynomial Kernel"
   ]
  },
  {
   "cell_type": "markdown",
   "id": "4eac8884-7c60-4993-839d-fda2ce67847f",
   "metadata": {},
   "source": [
    "$$\n",
    "k(x,y)=\\langle x,y\\rangle^d\n",
    "$$"
   ]
  },
  {
   "cell_type": "code",
   "execution_count": null,
   "id": "7da38da7-546b-4013-8b64-622d131c86b4",
   "metadata": {},
   "outputs": [],
   "source": [
    "def polynomial_kernel(matrix_x, matrix_y, degree=2):\n",
    "    # return np.dot(point_x, point_y) ** point_x.shape[0]\n",
    "    return (matrix_x * matrix_y)**degree"
   ]
  },
  {
   "cell_type": "markdown",
   "id": "4cb5fea2-9635-4347-9e3f-243579c34930",
   "metadata": {},
   "source": [
    "#### Gaussian Kernel"
   ]
  },
  {
   "cell_type": "markdown",
   "id": "9f23dab8-1986-486c-90b1-8358a58ca7f4",
   "metadata": {},
   "source": [
    "$$\n",
    "k(x,y)=\\exp\\left(-\\frac{\\|x-y\\|^2}{2\\sigma^2}\\right)\n",
    "$$"
   ]
  },
  {
   "cell_type": "code",
   "execution_count": null,
   "id": "bd45407b-2035-400c-b9f4-18322b1bb904",
   "metadata": {},
   "outputs": [],
   "source": [
    "def gaussian_kernel(matrix_x, matrix_y, sigma=1):\n",
    "    return np.exp(-(matrix_x - matrix_y) ** 2) / (2 * sigma**2)"
   ]
  },
  {
   "cell_type": "markdown",
   "id": "4a5c8f68-745c-4c22-ad8f-a4c43c598403",
   "metadata": {},
   "source": [
    "### Kernel Visualizations"
   ]
  },
  {
   "cell_type": "code",
   "execution_count": null,
   "id": "3f0bdbbf-802c-4126-8858-2b9bfaba6c4a",
   "metadata": {},
   "outputs": [],
   "source": [
    "kernel_lambda = lambda x, y: polynomial_kernel(x, y, 1)\n",
    "visualize_kernel_in_one_dimension(kernel_lambda).show()\n",
    "# visualize_kernel_in_one_dimension(linear_kernel).show()"
   ]
  },
  {
   "cell_type": "code",
   "execution_count": null,
   "id": "7ce01757-51bb-47ec-9ec2-4cda85a9c632",
   "metadata": {},
   "outputs": [],
   "source": [
    "kernel_lambda = lambda x, y: polynomial_kernel(x, y, 2)\n",
    "visualize_kernel_in_one_dimension(kernel_lambda).show()"
   ]
  },
  {
   "cell_type": "code",
   "execution_count": null,
   "id": "a7a11f20-9836-49a6-8dcb-b7d97499a7b3",
   "metadata": {},
   "outputs": [],
   "source": [
    "kernel_lambda = lambda x, y: gaussian_kernel(x, y, 1)\n",
    "visualize_kernel_in_one_dimension(kernel_lambda).show()"
   ]
  },
  {
   "cell_type": "markdown",
   "id": "0f65cf2b-cd6b-4d2e-94a9-8bfb5d2d42ba",
   "metadata": {},
   "source": [
    "### Functions from Kernels"
   ]
  },
  {
   "cell_type": "code",
   "execution_count": null,
   "id": "8d6fdeff-afd3-4b81-96ae-1ef123a1d882",
   "metadata": {},
   "outputs": [],
   "source": [
    "def kernel_vectors_to_plot(kernel_func, x_range=[0, 10], y_range=[0,10]):\n",
    "    x = np.linspace(x_range[0], x_range[1], 10).reshape(10, 1)\n",
    "    y = np.linspace(y_range[0], y_range[1], 100).reshape(100, 1)\n",
    "\n",
    "    kernel_vectors = kernel_func(x, np.transpose(y))\n",
    "    \n",
    "    plt.figure(dpi=70, tight_layout=True)\n",
    "    for kernel in kernel_vectors:\n",
    "        plt.plot(y, kernel, 'b')\n",
    "\n",
    "    return plt"
   ]
  },
  {
   "cell_type": "code",
   "execution_count": null,
   "id": "b63b29cd-9bc3-4504-a2cb-1816d07fe117",
   "metadata": {},
   "outputs": [],
   "source": [
    "kernel_lambda = lambda x, y: linear_kernel(x, y)\n",
    "kernel_vectors_to_plot(kernel_lambda).show()"
   ]
  },
  {
   "cell_type": "code",
   "execution_count": null,
   "id": "c37b3bd5-5cba-4f6a-a89a-dcef9864bd0c",
   "metadata": {},
   "outputs": [],
   "source": [
    "kernel_lambda = lambda x, y: gaussian_kernel(x, y)\n",
    "kernel_vectors_to_plot(kernel_lambda).show()"
   ]
  },
  {
   "cell_type": "code",
   "execution_count": null,
   "id": "a78bd2d3-b769-4d77-bf61-229040c6e197",
   "metadata": {},
   "outputs": [],
   "source": [
    "kernel_lambda = lambda x, y: gaussian_kernel(x, y, 0.5)\n",
    "kernel_vectors_to_plot(kernel_lambda).show()"
   ]
  },
  {
   "cell_type": "code",
   "execution_count": null,
   "id": "c571656b-8c5b-423c-87c2-2b915001ce32",
   "metadata": {},
   "outputs": [],
   "source": []
  }
 ],
 "metadata": {
  "language_info": {
   "name": "python"
  }
 },
 "nbformat": 4,
 "nbformat_minor": 5
}
