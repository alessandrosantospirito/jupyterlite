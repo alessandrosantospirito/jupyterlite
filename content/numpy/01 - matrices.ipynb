{
 "cells": [
  {
   "cell_type": "code",
   "execution_count": 1,
   "id": "bc05cba8-efda-4b4b-91d2-8a73f8180b65",
   "metadata": {},
   "outputs": [],
   "source": [
    "import numpy as np"
   ]
  },
  {
   "cell_type": "markdown",
   "id": "fd1a1c5d-0de9-4299-bb75-869d3a3f408f",
   "metadata": {},
   "source": [
    "### Matrix Ordering"
   ]
  },
  {
   "cell_type": "code",
   "execution_count": 2,
   "id": "63f5846c-045b-4959-a678-0a4f469f8186",
   "metadata": {},
   "outputs": [
    {
     "data": {
      "text/plain": [
       "(array([[1, 2, 3],\n",
       "        [2, 3, 4],\n",
       "        [1, 2, 5],\n",
       "        [1, 3, 8]]),\n",
       " array([[2, 1, 3],\n",
       "        [4, 3, 2],\n",
       "        [1, 5, 2],\n",
       "        [8, 3, 1]]))"
      ]
     },
     "execution_count": 2,
     "metadata": {},
     "output_type": "execute_result"
    }
   ],
   "source": [
    "# Reordering of matricies\n",
    "input_matrix = np.array([\n",
    "    [2, 1, 3],\n",
    "    [4, 3, 2],\n",
    "    [1, 5, 2],\n",
    "    [8, 3, 1]\n",
    "])\n",
    "\n",
    "# a matrix that allows me to order the matrix\n",
    "matrix_order = np.argsort(input_matrix, axis=1)\n",
    "\n",
    "ordered_matrix = np.array([input_matrix[i][matrix_order[i]] for i in range(input_matrix.shape[0])])\n",
    "input_matrix = np.array([ordered_matrix[i][matrix_order[i]] for i in range(ordered_matrix.shape[0])])\n",
    "\n",
    "ordered_matrix, input_matrix"
   ]
  },
  {
   "cell_type": "code",
   "execution_count": 3,
   "id": "9c339cb9-2bfa-4c97-8a83-c86089aaebea",
   "metadata": {},
   "outputs": [
    {
     "data": {
      "text/plain": [
       "array([[2, 0, 1],\n",
       "       [2, 3, 1],\n",
       "       [2, 3, 0]])"
      ]
     },
     "execution_count": 3,
     "metadata": {},
     "output_type": "execute_result"
    }
   ],
   "source": [
    "# Reordering based on unqiue ids for matricies\n",
    "\n",
    "ids = np.array([\n",
    "    [4, 2, 3],\n",
    "    [4, 5, 3],\n",
    "    [4, 5, 2]\n",
    "])\n",
    "\n",
    "unique_ids = np.unique(ids)\n",
    "# id_ordering = np.array([[2, 0, 1], [2, 3, 1], [2, 3, 0]])\n",
    "id_to_order = {id_val: index for index, id_val in enumerate(unique_ids)}\n",
    "\n",
    "id_ordering = np.vectorize(id_to_order.get)(ids)\n",
    "id_ordering"
   ]
  },
  {
   "cell_type": "markdown",
   "id": "f6b1b360-3bdd-44ff-97ef-7949c36e84aa",
   "metadata": {},
   "source": [
    "### Sort by row"
   ]
  },
  {
   "cell_type": "code",
   "execution_count": 4,
   "id": "a4f869c5-1d6c-4c67-ae74-493c68c805b1",
   "metadata": {},
   "outputs": [
    {
     "data": {
      "text/plain": [
       "array([[ 1.,  0.],\n",
       "       [ 0.,  2.],\n",
       "       [ 1.,  2.],\n",
       "       [ 0.,  3.],\n",
       "       [ 1.,  3.],\n",
       "       [ 0., 11.]])"
      ]
     },
     "execution_count": 4,
     "metadata": {},
     "output_type": "execute_result"
    }
   ],
   "source": [
    "# sort by first column, then second column\n",
    "matrix = np.array([\n",
    "    [1., 2],\n",
    "    [0., 2],\n",
    "    [0., 11],\n",
    "    [0., 3],\n",
    "    [1., 0],\n",
    "    [1., 3]\n",
    "])\n",
    "\n",
    "transposed = matrix.T\n",
    "sorted_indices = np.lexsort(transposed)\n",
    "sorted_array = matrix[sorted_indices]\n",
    "sorted_array"
   ]
  },
  {
   "cell_type": "code",
   "execution_count": 5,
   "id": "90675284-2959-4ce0-a723-20e976ac9b61",
   "metadata": {},
   "outputs": [
    {
     "data": {
      "text/plain": [
       "array([[ 0.,  2.,  1.],\n",
       "       [ 0.,  3.,  4.],\n",
       "       [ 0., 11.,  0.],\n",
       "       [ 1.,  3.,  2.],\n",
       "       [ 1., 11.,  3.],\n",
       "       [ 1., 12.,  5.]])"
      ]
     },
     "execution_count": 5,
     "metadata": {},
     "output_type": "execute_result"
    }
   ],
   "source": [
    "# sort by first column, then second column; third column are the indices to track the change\n",
    "lane_and_update_tuple = np.array([[ 0., 11.,  0.],\n",
    "       [ 0.,  2.,  1.],\n",
    "       [ 1.,  3.,  2.],\n",
    "       [ 1., 11.,  3.],\n",
    "       [ 0.,  3.,  4.],\n",
    "       [ 1., 12.,  5.]])\n",
    "\n",
    "sorted_indices = np.lexsort((lane_and_update_tuple[:, 1], lane_and_update_tuple[:, 0]))\n",
    "sorted_array = lane_and_update_tuple[sorted_indices]\n",
    "sorted_array"
   ]
  },
  {
   "cell_type": "code",
   "execution_count": null,
   "id": "7ade7be8-a3cf-40ec-a166-cb4cf8e0ec41",
   "metadata": {},
   "outputs": [],
   "source": []
  }
 ],
 "metadata": {
  "kernelspec": {
   "display_name": "Python 3 (ipykernel)",
   "language": "python",
   "name": "python3"
  },
  "language_info": {
   "codemirror_mode": {
    "name": "ipython",
    "version": 3
   },
   "file_extension": ".py",
   "mimetype": "text/x-python",
   "name": "python",
   "nbconvert_exporter": "python",
   "pygments_lexer": "ipython3",
   "version": "3.8.10"
  }
 },
 "nbformat": 4,
 "nbformat_minor": 5
}
