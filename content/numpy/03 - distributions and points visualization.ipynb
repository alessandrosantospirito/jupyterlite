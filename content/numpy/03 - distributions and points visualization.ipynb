{
 "cells": [
  {
   "cell_type": "code",
   "execution_count": null,
   "id": "6ec6f443-c902-4e41-ba05-b640a1e1a32f",
   "metadata": {},
   "outputs": [],
   "source": [
    "%run ./library/distributions_and_points_visualizations.py\n",
    "%run ../utils/function_parameters.py"
   ]
  },
  {
   "cell_type": "markdown",
   "id": "b86b66e4-97ac-46a2-a9be-2413dceca8e6",
   "metadata": {},
   "source": [
    "### Application"
   ]
  },
  {
   "cell_type": "markdown",
   "id": "7684917d-203c-4cdd-916f-751f6c90edb6",
   "metadata": {},
   "source": [
    "#### Visualize Points"
   ]
  },
  {
   "cell_type": "code",
   "execution_count": null,
   "id": "2fac081d-75ef-4412-9ca5-3bdee59e9987",
   "metadata": {},
   "outputs": [],
   "source": [
    "mean = [0, 0]\n",
    "cov = [[1, 0], [0, 100]]\n",
    "pts = np.random.multivariate_normal(mean, cov, size=800)\n",
    "\n",
    "visualize_points(pts).show()"
   ]
  },
  {
   "cell_type": "markdown",
   "id": "26fffc0b-9399-4b8c-87a5-568195cfc3f2",
   "metadata": {},
   "source": [
    "#### Visualize Distributions"
   ]
  },
  {
   "cell_type": "code",
   "execution_count": null,
   "id": "1db749ce-6dbb-4bdb-bac1-bcb4df059686",
   "metadata": {},
   "outputs": [],
   "source": [
    "# each row has the values for mutlivariate normal distributions\n",
    "distributions = np.array([\n",
    "    [[3, 0], [1, 0], [0, 1]],\n",
    "    [[2, 0], [1, 0.5], [0.5, 1]],\n",
    "    [[0, 2], [1, -0.2], [-0.2, 1]],\n",
    "    [[2, 1], [1, 0.5], [0.5, 1]],\n",
    "    [[0, 2], [1, -1.2], [-0.2, 1]],\n",
    "    [[-2, -2], [1, 0.3], [0.3, 1]]\n",
    "])\n",
    "\n",
    "plot_confidence_ellipses(distributions)[0].show()"
   ]
  },
  {
   "cell_type": "code",
   "execution_count": null,
   "id": "c38cf1bd-919b-48d5-b23a-e8e7e05b646c",
   "metadata": {},
   "outputs": [],
   "source": [
    "points = np.array([[-5.87064722, -1.3043999 ],\n",
    "        [-4.46720547, -0.82537099],\n",
    "        [ 0.2079403 , -2.52028114],\n",
    "        [-7.47029182, -0.32820168],\n",
    "        [-2.19769777, -5.08291467],\n",
    "        [-0.41545212,  2.20838336],\n",
    "        [ 1.4353041 ,  6.22338689],\n",
    "        [-0.02220151, -5.98261222],\n",
    "        [ 1.28872624,  6.99948287],\n",
    "        [ 5.16801891,  4.13991605]])\n",
    "\n",
    "points_to_distributions = np.array([2, 4, 5, 9, 6, 1])\n",
    "plot_distributions_with_colored_points(distributions, points, points_to_distributions, n_std=1.96)[0].show()"
   ]
  },
  {
   "cell_type": "markdown",
   "id": "9aef05e9-8d9d-42fc-8463-9cd1b155cd30",
   "metadata": {},
   "source": [
    "### Visualize Distributions and Points"
   ]
  },
  {
   "cell_type": "code",
   "execution_count": null,
   "id": "7f1b705d-29fa-4261-9028-c12fcf50d242",
   "metadata": {},
   "outputs": [],
   "source": [
    "points = np.random.uniform(-10, 10, (40, 2))\n",
    "\n",
    "distributions_a = np.array([\n",
    "    [[3, 4], [1, 0], [0, 1]],\n",
    "    [[2, 0], [1, 0], [0, 1]]\n",
    "])\n",
    "\n",
    "distributions_b = np.array([\n",
    "    [[4, 4], [1, 0], [0, 1]],\n",
    "    [[3, 0], [1, 0], [0, 1]]\n",
    "])\n",
    "\n",
    "distributions_c = np.array([\n",
    "    [[4, 0], [1, 0], [0, 1]],\n",
    "    [[5, 4], [1, 0], [0, 1]]\n",
    "])\n",
    "\n",
    "distributions = [distributions_a, distributions_b, distributions_c]\n",
    "\n",
    "weights = [0.7, 0.2, 0.1]\n",
    "\n",
    "ids = [\n",
    "    [0, 1],\n",
    "    [0, 1],\n",
    "    [1, 0]\n",
    "]\n",
    "\n",
    "plt = plot_gmm_distributions(distributions, weights, ids)\n",
    "plt.show()"
   ]
  },
  {
   "cell_type": "markdown",
   "id": "43b1ae65-9e52-41b3-b752-1f3f08c0fac7",
   "metadata": {},
   "source": [
    "### Visualize Distributions and Points with mapping"
   ]
  },
  {
   "cell_type": "code",
   "execution_count": null,
   "id": "07bb4d60-3dc2-4778-929c-bf9303120501",
   "metadata": {},
   "outputs": [],
   "source": [
    "points = np.array([[ 2.67536762,  1.61771433],\n",
    "        [-1.51995242,  8.5575738 ],\n",
    "        [ 5.9708441 ,  2.88736993],\n",
    "        [-0.26015255, -1.21744485],\n",
    "        [-4.24165224,  3.16340135],\n",
    "        [10.58514974, -1.02516812],\n",
    "        [11.83292385, -1.69103837],\n",
    "        [ 2.55579144,  3.80067187],\n",
    "        [ 1.15372272, -2.601238  ],\n",
    "        [ 6.47700649,  8.65276974]])\n",
    "\n",
    "point_id_mapping = np.array([ 1, -1, -1, -1, -1, -1, -1,  0, -1, -1])\n",
    "\n",
    "distributions_a = np.array([\n",
    "    [[3, 4], [1, 0], [0, 1]],\n",
    "    [[2, 0], [1, 0], [0, 1]]\n",
    "])\n",
    "\n",
    "distributions_b = np.array([\n",
    "    [[4, 4], [1, 0], [0, 1]],\n",
    "    [[3, 0], [1, 0], [0, 1]]\n",
    "])\n",
    "\n",
    "distributions_c = np.array([\n",
    "    [[4, 0], [1, 0], [0, 1]],\n",
    "    [[5, 4], [1, 0], [0, 1]]\n",
    "])\n",
    "\n",
    "distributions = [distributions_a, distributions_b, distributions_c]\n",
    "\n",
    "weights = [0.7, 0.2, 0.1]\n",
    "\n",
    "ids = [\n",
    "    [0, 1],\n",
    "    [0, 1],\n",
    "    [1, 0]\n",
    "]\n",
    "\n",
    "plt = plot_gmm_distributions_with_points(distributions, weights, ids, points, point_id_mapping)\n",
    "plt.show()"
   ]
  }
 ],
 "metadata": {
  "language_info": {
   "name": "python"
  }
 },
 "nbformat": 4,
 "nbformat_minor": 5
}
