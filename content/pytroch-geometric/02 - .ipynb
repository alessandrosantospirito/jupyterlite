{
 "cells": [
  {
   "cell_type": "markdown",
   "id": "b8bdeb96-5240-4a83-ae45-8dfd0427c8ef",
   "metadata": {},
   "source": [
    "### Helper and Imports"
   ]
  },
  {
   "cell_type": "code",
   "execution_count": null,
   "id": "4f06879b-94c2-485a-af76-479e1563f809",
   "metadata": {},
   "outputs": [],
   "source": []
  },
  {
   "cell_type": "code",
   "execution_count": null,
   "id": "4080be8c-5360-4ac4-8b40-c0e00df45e72",
   "metadata": {},
   "outputs": [],
   "source": []
  },
  {
   "cell_type": "markdown",
   "id": "c31c38e9-d225-4f5e-a23d-b06f207bf017",
   "metadata": {},
   "source": [
    "### Code"
   ]
  },
  {
   "cell_type": "code",
   "execution_count": null,
   "id": "dadb0366-3319-4b4c-9957-05565cbf8582",
   "metadata": {},
   "outputs": [],
   "source": []
  },
  {
   "cell_type": "code",
   "execution_count": null,
   "id": "60a83a72-f320-4d95-8e21-1357e0780017",
   "metadata": {},
   "outputs": [],
   "source": []
  },
  {
   "cell_type": "code",
   "execution_count": null,
   "id": "e1fb4034-4f6f-4945-89f4-0527055ef269",
   "metadata": {},
   "outputs": [],
   "source": []
  }
 ],
 "metadata": {
  "kernelspec": {
   "display_name": "Python 3 (ipykernel)",
   "language": "python",
   "name": "python3"
  },
  "language_info": {
   "codemirror_mode": {
    "name": "ipython",
    "version": 3
   },
   "file_extension": ".py",
   "mimetype": "text/x-python",
   "name": "python",
   "nbconvert_exporter": "python",
   "pygments_lexer": "ipython3",
   "version": "3.8.10"
  }
 },
 "nbformat": 4,
 "nbformat_minor": 5
}
