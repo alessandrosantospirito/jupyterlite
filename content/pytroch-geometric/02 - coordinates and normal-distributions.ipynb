{
 "cells": [
  {
   "cell_type": "markdown",
   "id": "fbe4a48d-b92d-4398-8702-b72be6c8f7e3",
   "metadata": {},
   "source": [
    "### Imports and HTML-content"
   ]
  },
  {
   "cell_type": "code",
   "execution_count": 1,
   "id": "4e013a98-618b-4936-9dd9-dbca51355186",
   "metadata": {},
   "outputs": [],
   "source": [
    "%run helper.py"
   ]
  },
  {
   "cell_type": "code",
   "execution_count": 2,
   "id": "f3bf5323-ff7a-4905-bda6-15f9f7b16d4f",
   "metadata": {},
   "outputs": [],
   "source": [
    "from IPython.display import display, HTML\n",
    "point_to_dist_angle = \"\"\"\n",
    "\n",
    "\"\"\""
   ]
  },
  {
   "cell_type": "code",
   "execution_count": 3,
   "id": "52fcb20c-672e-4ea1-a387-442a16fa7943",
   "metadata": {},
   "outputs": [],
   "source": [
    "from scipy.stats import multivariate_normal\n",
    "\n",
    "def calc_likelihoods_for_distributions_and_points(matrix_dist, matrix_points):\n",
    "    means = distributions[:, 0]\n",
    "    covariances = distributions[:, 1:]\n",
    "    likelihoods = np.array([multivariate_normal(mean=means[i], cov=covariances[i]).pdf(points) for i in range(len(means))])\n",
    "    \n",
    "    return likelihoods.T "
   ]
  },
  {
   "cell_type": "code",
   "execution_count": 4,
   "id": "75bb3469-3fc7-467a-956f-d3760fd28d90",
   "metadata": {},
   "outputs": [],
   "source": []
  },
  {
   "cell_type": "markdown",
   "id": "d24df746-fbbf-4bf5-b06c-56c19a81201f",
   "metadata": {},
   "source": [
    "### Code"
   ]
  },
  {
   "cell_type": "markdown",
   "id": "df621322-06c3-4565-b0eb-30fa4a010904",
   "metadata": {},
   "source": [
    "### Build Graph"
   ]
  },
  {
   "cell_type": "code",
   "execution_count": 5,
   "id": "e4153ff8-aae4-4dfe-ab70-a35a401bc6f5",
   "metadata": {},
   "outputs": [],
   "source": [
    "@save_params\n",
    "def create_graph_data(csv_file_name, iteration):\n",
    "    classes_dict = {\n",
    "        'goomba': 0,\n",
    "        'mario': 1,\n",
    "        'cloud': 2,\n",
    "        'ground': 3,\n",
    "        'bush': 4,\n",
    "        'box': 5,\n",
    "        'pipe': 6\n",
    "    }\n",
    "    \n",
    "    class_names, boxes = get_classnames_boxes_from_csv(csv_file_name, iteration)\n",
    "    num_nodes = len(boxes)\n",
    "    edge_connections = cartesian_product_for_nodes(range(num_nodes))\n",
    "    node_features = []\n",
    "    matrix = np.empty((0, 2))\n",
    "    normal_dist = [0, 0, 1, 0, 0, 1] # mu1, mu2, sig00, sig01, sig10, sig11\n",
    "    dataset_number = int(csv_file_name.split('/')[-1].split('.')[0])\n",
    "\n",
    "    if num_nodes == 1:\n",
    "        box = boxes[0]\n",
    "        width, height = abs(box['left'] - box['right']), abs(box['top'] - box['bottom'])\n",
    "        # node_feature: (normal-distribution, class-label, x-val, y-val, width, height, dataset_number, iteration, id)\n",
    "        node_features.append((*normal_dist, classes_dict[class_names[0]], box['center_x'], \\\n",
    "                              box['center_y'], width, height, dataset_number, iteration, 0))\n",
    "        \n",
    "        return Data(\n",
    "            x=node_features,\n",
    "            edge_index=torch.tensor([0]),\n",
    "            edge_attr=torch.tensor([0])\n",
    "        )\n",
    "        \n",
    "    for i, box in enumerate(boxes):\n",
    "        new_row = np.array([[box['center_x'], box['center_y']]])\n",
    "        matrix = np.vstack((matrix, new_row))\n",
    "\n",
    "        width, height = abs(box['left'] - box['right']), abs(box['top'] - box['bottom'])\n",
    "        # node_feature: (normal-distribution, class-label, x-val, y-val, width, height, dataset_number, iteration, id)\n",
    "        node_features.append((*normal_dist, classes_dict[class_names[i]], box['center_x'], \\\n",
    "                              box['center_y'], width, height, dataset_number, iteration, i))\n",
    "    \n",
    "    dists, angles = dist_angle_from_matrix(matrix, edge_connections)\n",
    "    \n",
    "    node_features = torch.tensor(node_features, dtype=torch.float)\n",
    "    edge_connections = torch.tensor(edge_connections)\n",
    "    edges_features =  torch.tensor(np.stack((dists, angles), axis=-1))\n",
    "    \n",
    "    data = Data(\n",
    "        x=node_features,\n",
    "        edge_index=edge_connections.t().contiguous(),\n",
    "        edge_attr=edges_features\n",
    "    )\n",
    "\n",
    "    return data"
   ]
  },
  {
   "cell_type": "code",
   "execution_count": 6,
   "id": "2934e962-d3bc-472f-b4a4-a71ebc4ca432",
   "metadata": {},
   "outputs": [
    {
     "name": "stderr",
     "output_type": "stream",
     "text": [
      "/workspaces/jupyterlite/content/pytroch-geometric/helper.py:73: RuntimeWarning: invalid value encountered in divide\n",
      "  return np.linalg.norm(val_edge_pairs, axis=1), np.rad2deg(np.arctan(val_edge_pairs[:, 1] / val_edge_pairs[:, 0]))\n",
      "/workspaces/jupyterlite/content/pytroch-geometric/helper.py:73: RuntimeWarning: divide by zero encountered in divide\n",
      "  return np.linalg.norm(val_edge_pairs, axis=1), np.rad2deg(np.arctan(val_edge_pairs[:, 1] / val_edge_pairs[:, 0]))\n",
      "/usr/local/lib/python3.8/site-packages/torch_geometric/deprecation.py:12: UserWarning: 'data.DataLoader' is deprecated, use 'loader.DataLoader' instead\n",
      "  warnings.warn(out)\n"
     ]
    }
   ],
   "source": [
    "dataset = []\n",
    "for i in range(4):\n",
    "    csv_file_name = f\"/workspaces/jupyterlite/content/pytroch-geometric/mario-tracking-data/{i:04d}.csv\"\n",
    "    df = pd.read_csv(csv_file_name)\n",
    "    num_iterations = int(df.iloc[-1]['iteration']) # we start at index 1, so no need for `+ 1`\n",
    "    \n",
    "    for iteration in range(1, num_iterations):\n",
    "        graph_data = create_graph_data(csv_file_name, iteration)\n",
    "        dataset.append(graph_data)\n",
    "\n",
    "train_dataset = dataset[:int(0.8 * len(dataset))]\n",
    "test_dataset = dataset[int(0.8 * len(dataset)):]\n",
    "\n",
    "train_loader = DataLoader(train_dataset, batch_size=1, shuffle=True)\n",
    "test_loader = DataLoader(test_dataset, batch_size=1)"
   ]
  },
  {
   "cell_type": "code",
   "execution_count": 7,
   "id": "6d2d2b08-8315-4d0e-bd8b-eb8c2c5a8f25",
   "metadata": {},
   "outputs": [
    {
     "data": {
      "text/plain": [
       "3"
      ]
     },
     "execution_count": 7,
     "metadata": {},
     "output_type": "execute_result"
    }
   ],
   "source": [
    "int(csv_file_name.split('/')[-1].split('.')[0])"
   ]
  },
  {
   "cell_type": "markdown",
   "id": "bea6429f-47a6-41f1-b38b-7b6bbb0e0428",
   "metadata": {},
   "source": [
    "#### Message Passing"
   ]
  },
  {
   "cell_type": "code",
   "execution_count": 8,
   "id": "fdce48fe-779c-488e-aa99-209e93d8f8fc",
   "metadata": {},
   "outputs": [],
   "source": [
    "class SimpleGAT(torch.nn.Module):\n",
    "    def __init__(self, in_channels, hidden_channels, out_channels, heads=1):\n",
    "        super().__init__()\n",
    "        self.conv1 = GATConv(in_channels, out_channels, heads=1, add_self_loops=False)\n",
    "\n",
    "    def forward(self, x, edge_index, target_node):\n",
    "        out = self.conv1(x, edge_index)"
   ]
  },
  {
   "cell_type": "markdown",
   "id": "b96696cf-f16c-4c69-aca9-e78d32cf2226",
   "metadata": {},
   "source": [
    "#### Loss"
   ]
  },
  {
   "cell_type": "markdown",
   "id": "a5b181b4-a928-48a1-89e5-136027d6c97e",
   "metadata": {},
   "source": [
    "The Loss will be the SSE of the likelihoods that the points of frame i+1 belong to the distributions that were created from the graph on frame i.\n"
   ]
  },
  {
   "cell_type": "code",
   "execution_count": 9,
   "id": "43c442a1-df47-4998-891b-a60afd83ee35",
   "metadata": {},
   "outputs": [],
   "source": [
    "def classes_points_distributions_ids_from_graph(graph):\n",
    "    graph = graph.x\n",
    "    return graph[:, 6], graph[:, :6], graph[:, 7:9], graph[:, -1]"
   ]
  },
  {
   "cell_type": "code",
   "execution_count": 10,
   "id": "314d57a8-4134-49ce-9a14-2d0aa85d3937",
   "metadata": {},
   "outputs": [],
   "source": [
    "def calculate_optimial_matching_for_distributions_and_points(graph, csv_file_name, iteration, threshhold=0):\n",
    "        classes_dict = {\n",
    "        'goomba': 0,\n",
    "        'mario': 1,\n",
    "        'cloud': 2,\n",
    "        'ground': 3,\n",
    "        'bush': 4,\n",
    "        'box': 5,\n",
    "        'pipe': 6\n",
    "    }\n",
    "    "
   ]
  },
  {
   "cell_type": "code",
   "execution_count": 11,
   "id": "e10e8cde-6e1a-43e2-9027-7057fd52315a",
   "metadata": {},
   "outputs": [],
   "source": [
    "def calculate_sse_for_distributions_and_points():\n",
    "    pass"
   ]
  },
  {
   "cell_type": "code",
   "execution_count": 12,
   "id": "d1272496-63af-4716-8bb3-7dfdd6f17890",
   "metadata": {},
   "outputs": [
    {
     "data": {
      "text/plain": [
       "(array([1, 5]),\n",
       " array([[170.95 ,  89.285],\n",
       "        [151.65 , 254.77 ]]))"
      ]
     },
     "execution_count": 12,
     "metadata": {},
     "output_type": "execute_result"
    }
   ],
   "source": [
    "classes_dict = {\n",
    "    'goomba': 0,\n",
    "    'mario': 1,\n",
    "    'cloud': 2,\n",
    "    'ground': 3,\n",
    "    'bush': 4,\n",
    "    'box': 5,\n",
    "    'pipe': 6\n",
    "}\n",
    "\n",
    "csv_data = get_classnames_boxes_from_csv(csv_file_name, 50)\n",
    "class_ids = np.array([classes_dict[class_name] for class_name in csv_data[0]])\n",
    "boxes_coordinates = np.empty((0, 2))\n",
    "\n",
    "for box_values in csv_data[1]:\n",
    "    box_coordinates =  np.array([box_values['center_x'], box_values['center_y']])\n",
    "    boxes_coordinates = np.vstack((boxes_coordinates, box_coordinates))\n",
    "\n",
    "class_ids, boxes_coordinates"
   ]
  },
  {
   "cell_type": "code",
   "execution_count": 47,
   "id": "bbb6ca06-782a-4c52-a615-69685de770f7",
   "metadata": {},
   "outputs": [],
   "source": [
    "def calc_point_indices_to_distributions(distributions, points, treshhold_likelihood = 0):\n",
    "    if points.shape[0] == 1 and distributions.shape[0] == 1:\n",
    "        likelihood_entries = calc_likelihoods_for_distributions_and_points(distributions, points)\n",
    "    \n",
    "        if likelihood_entries < treshhold_likelihood: return np.array([-1])\n",
    "        return np.array([0])\n",
    "\n",
    "    likelihoods = calc_likelihoods_for_distributions_and_points(distributions, points)\n",
    "    sorted_indices = np.argsort(likelihoods, axis=0)\n",
    "    ranks = np.zeros_like(likelihoods, dtype=int)\n",
    "    n_rows, n_cols = likelihoods.shape\n",
    "    ranks[sorted_indices, np.arange(n_cols)] = np.tile(np.arange(n_rows), (n_cols, 1)).T\n",
    "    \n",
    "    mask_binary = np.array((n_rows - ranks) <= n_cols, dtype=int)\n",
    "    cumsum_array = np.cumsum(mask_binary, axis=0)\n",
    "    \n",
    "    s = min(n_rows, n_cols)\n",
    "    extended_likelihood_entries = np.zeros((s+1, n_cols + 1))\n",
    "    \n",
    "    mask  = np.array((n_rows - ranks) <= n_cols)\n",
    "    \n",
    "    points_to_consider = np.where(np.any(mask, axis=1))[0]\n",
    "    filtered_points = points[points_to_consider]\n",
    "    \n",
    "    likelihood_entries = calc_likelihoods_for_distributions_and_points(distributions, filtered_points)\n",
    "    likelihood_indicies_to_filter = likelihood_entries < treshhold_likelihood\n",
    "    # punish points that should be filtered out\n",
    "    likelihood_entries[likelihood_indicies_to_filter] = 1e-50\n",
    "    \n",
    "    inv_percentage_of_likelihood = np.log(likelihood_entries)/ np.sum(np.log(likelihood_entries), axis=0)\n",
    "    # percentage_of_likelihood = (1 / inv_percentage_of_likelihood) / np.sum( (1 / inv_percentage_of_likelihood), axis=0)\n",
    "    # percentage_of_likelihood = inv_percentage_of_likelihood\n",
    "    \n",
    "    cost_matrix = np.log(inv_percentage_of_likelihood)\n",
    "    row_ind, col_ind = linear_sum_assignment(cost_matrix)\n",
    "    \n",
    "    max_index = max(col_ind) + 1\n",
    "    points_to_distributions = np.zeros(max_index, dtype=row_ind.dtype) - 1\n",
    "    \n",
    "    points_to_distributions[col_ind] = row_ind\n",
    "\n",
    "    # if punished points still come up ahead, set the association to -1\n",
    "    for point_index, distribution_index in enumerate(col_ind):\n",
    "        if likelihood_indicies_to_filter[point_index, distribution_index]:\n",
    "            points_to_distributions[point_index] = -1\n",
    "    \n",
    "    return points_to_distributions"
   ]
  },
  {
   "cell_type": "code",
   "execution_count": 13,
   "id": "3860fcff-2aa6-43cb-a1ed-fd9db5342a2d",
   "metadata": {},
   "outputs": [],
   "source": [
    "graph_a = train_dataset[700]\n",
    "graph_b = train_dataset[701]"
   ]
  },
  {
   "cell_type": "code",
   "execution_count": 14,
   "id": "0426c171-206a-4925-bdd3-13aa2ece5d43",
   "metadata": {},
   "outputs": [
    {
     "data": {
      "text/plain": [
       "(tensor([5., 1.]),\n",
       " tensor([[0., 0., 1., 0., 0., 1.],\n",
       "         [0., 0., 1., 0., 0., 1.]]),\n",
       " tensor([[151.5850, 201.2750],\n",
       "         [176.7600, 119.2650]]),\n",
       " tensor([0., 1.]))"
      ]
     },
     "execution_count": 14,
     "metadata": {},
     "output_type": "execute_result"
    }
   ],
   "source": [
    "node_attributes_a = classes_points_distributions_ids_from_graph(graph_a)\n",
    "node_attributes_b = classes_points_distributions_ids_from_graph(graph_b)\n",
    "node_attributes_a"
   ]
  },
  {
   "cell_type": "code",
   "execution_count": 15,
   "id": "0db5e80a-a93b-4875-bded-06f1cdf97bef",
   "metadata": {},
   "outputs": [],
   "source": [
    "def likelihood_of_distributions_from_center_of_distributions_to_points(distributions, center_distributions, points):\n",
    "    normalized_points = points - center_distribution\n",
    "    return calc_point_indices_to_distributions(distributions, normalized_points)"
   ]
  },
  {
   "cell_type": "code",
   "execution_count": 16,
   "id": "87a6c89d-76ec-44d0-8d64-464743198e2a",
   "metadata": {},
   "outputs": [
    {
     "data": {
      "text/plain": [
       "array([[1, 1],\n",
       "       [4, 1],\n",
       "       [1, 4]])"
      ]
     },
     "execution_count": 16,
     "metadata": {},
     "output_type": "execute_result"
    }
   ],
   "source": [
    "labels = torch.tensor([1, 2, 1, 1, 3])\n",
    "matrix = np.array([\n",
    "    [1, 1],\n",
    "    [2, 3],\n",
    "    [4, 1],\n",
    "    [1, 4],\n",
    "    [5, 3]\n",
    "])\n",
    "\n",
    "matrix[labels == 1]"
   ]
  },
  {
   "cell_type": "code",
   "execution_count": 17,
   "id": "1a295753-f7d1-4f8b-b84a-2347d543313e",
   "metadata": {},
   "outputs": [
    {
     "data": {
      "text/plain": [
       "tensor([1, 2, 3])"
      ]
     },
     "execution_count": 17,
     "metadata": {},
     "output_type": "execute_result"
    }
   ],
   "source": [
    "classes_points_distributions_ids_from_graph(graph_b)[0].unique()\n",
    "labels.unique()"
   ]
  },
  {
   "cell_type": "code",
   "execution_count": 18,
   "id": "752c2181-34fb-4d37-97b6-1b375e951fe4",
   "metadata": {},
   "outputs": [],
   "source": [
    "matching_nodes = torch.empty((0, 2))"
   ]
  },
  {
   "cell_type": "code",
   "execution_count": 19,
   "id": "ab204ea5-5a58-4412-8970-bf69d21e5c74",
   "metadata": {},
   "outputs": [],
   "source": [
    "# for label in node_attributes_a[0].unique():\n",
    "label = 5\n",
    "dist_indicies = (node_attributes_a[0] == label)\n",
    "point_indicies = (node_attributes_b[0] == label)\n",
    "distributions = node_attributes_a[1][dist_indicies]\n",
    "distributions = np.array(distributions.reshape(distributions.shape[0], -1, 2)) # to have the correct format\n",
    "distributions[:, 0, :] += np.array(node_attributes_a[2][point_indicies])\n",
    "points = node_attributes_b[2][point_indicies]\n",
    "\n",
    "if points.shape[0] > 0: calc_point_indices_to_distributions(distributions, points)\n",
    "# else: "
   ]
  },
  {
   "cell_type": "code",
   "execution_count": 20,
   "id": "aacb54ec-19db-480a-af99-1948ad1b8cdc",
   "metadata": {},
   "outputs": [
    {
     "data": {
      "text/plain": [
       "array([1, 0])"
      ]
     },
     "execution_count": 20,
     "metadata": {},
     "output_type": "execute_result"
    }
   ],
   "source": [
    "distributions = np.array([\n",
    "    [[3, 0], [1, 0], [0, 1]],\n",
    "    [[2, 0], [1, 0.5], [0.5, 1]]\n",
    "])\n",
    "\n",
    "points = np.random.uniform(-10, 10, (2, 2))\n",
    "\n",
    "# distributions[:, 0, :] += points\n",
    "# distributions\n",
    "\n",
    "# calc_likelihoods_for_distributions_and_points(distributions, points)\n",
    "calc_point_indices_to_distributions(distributions, points)"
   ]
  },
  {
   "cell_type": "code",
   "execution_count": null,
   "id": "ea16a1e7-7db6-4ab5-a4e9-933cf6c1a39a",
   "metadata": {},
   "outputs": [],
   "source": []
  },
  {
   "cell_type": "code",
   "execution_count": null,
   "id": "6ea6cae1-2ff7-4e5b-a4a8-332be0a81921",
   "metadata": {},
   "outputs": [],
   "source": []
  },
  {
   "cell_type": "code",
   "execution_count": null,
   "id": "b74f8410-3a89-43e2-be0f-e5d1173db11d",
   "metadata": {},
   "outputs": [],
   "source": []
  },
  {
   "cell_type": "code",
   "execution_count": null,
   "id": "f3fec71e-d362-4ac8-bbc2-837795e4ce81",
   "metadata": {},
   "outputs": [],
   "source": []
  },
  {
   "cell_type": "code",
   "execution_count": 21,
   "id": "9b44bf18-eff0-411c-921a-e70eaabb955a",
   "metadata": {},
   "outputs": [],
   "source": [
    "likelihoods = calc_likelihoods_for_distributions_and_points(distributions, points)\n",
    "sorted_indices = np.argsort(likelihoods, axis=0)\n",
    "ranks = np.zeros_like(likelihoods, dtype=int)\n",
    "n_rows, n_cols = likelihoods.shape\n",
    "ranks[sorted_indices, np.arange(n_cols)] = np.tile(np.arange(n_rows), (n_cols, 1)).T\n",
    "\n",
    "mask_binary = np.array((n_rows - ranks) <= n_cols, dtype=int)\n",
    "cumsum_array = np.cumsum(mask_binary, axis=0)\n",
    "\n",
    "s = min(n_rows, n_cols)\n",
    "extended_likelihood_entries = np.zeros((s+1, n_cols + 1))\n",
    "\n",
    "mask  = np.array((n_rows - ranks) <= n_cols)\n",
    "\n",
    "points_to_consider = np.where(np.any(mask, axis=1))[0]\n",
    "filtered_points = points[points_to_consider]\n",
    "\n",
    "likelihood_entries = calc_likelihoods_for_distributions_and_points(distributions, filtered_points)\n",
    "\n",
    "percentage_of_likelihood = np.log(likelihood_entries)/ np.sum(np.log(likelihood_entries), axis=0)\n",
    "\n",
    "cost_matrix = np.log(percentage_of_likelihood)\n",
    "row_ind, col_ind = linear_sum_assignment(cost_matrix)\n",
    "\n",
    "max_index = max(col_ind) + 1\n",
    "points_to_distributions = np.zeros(max_index, dtype=row_ind.dtype) - 1\n",
    "\n",
    "points_to_distributions[col_ind] = row_ind\n"
   ]
  },
  {
   "cell_type": "code",
   "execution_count": 43,
   "id": "3ac95d21-d832-408d-a8f1-5698f0c8da8d",
   "metadata": {},
   "outputs": [],
   "source": [
    "treshhold_likelihood = 0.001\n",
    "likelihood_entries = calc_likelihoods_for_distributions_and_points(distributions, filtered_points)\n",
    "likelihood_entries[likelihood_entries < treshhold_likelihood] = 1e-10\n",
    "likelihood_entries = 1 - likelihood_entries\n",
    "\n",
    "percentage_of_likelihood = np.log(likelihood_entries)/ np.sum(np.log(likelihood_entries), axis=0)"
   ]
  },
  {
   "cell_type": "code",
   "execution_count": 41,
   "id": "7fe01708-a7fb-4d63-8d08-971ca45e029c",
   "metadata": {},
   "outputs": [
    {
     "data": {
      "text/plain": [
       "array([[1.00000000e-10, 1.00000000e-10],\n",
       "       [4.83943970e-02, 4.30353254e-03]])"
      ]
     },
     "execution_count": 41,
     "metadata": {},
     "output_type": "execute_result"
    }
   ],
   "source": [
    "likelihood_entries"
   ]
  },
  {
   "cell_type": "code",
   "execution_count": 44,
   "id": "54982293-36bd-4bb3-ad2f-ea792446615b",
   "metadata": {},
   "outputs": [
    {
     "data": {
      "text/plain": [
       "array([[2.01594172e-09, 2.31866899e-08],\n",
       "       [9.99999998e-01, 9.99999977e-01]])"
      ]
     },
     "execution_count": 44,
     "metadata": {},
     "output_type": "execute_result"
    }
   ],
   "source": [
    "np.log(likelihood_entries)/ np.sum(np.log(likelihood_entries), axis=0)"
   ]
  },
  {
   "cell_type": "code",
   "execution_count": 27,
   "id": "4c455008-09b7-49eb-9aa6-997ffe8a1838",
   "metadata": {},
   "outputs": [],
   "source": [
    "percentage_of_likelihood[percentage_of_likelihood < 0.1] = 0"
   ]
  },
  {
   "cell_type": "code",
   "execution_count": 45,
   "id": "8456c221-29b8-4626-8ee1-5a83e4c3785b",
   "metadata": {},
   "outputs": [
    {
     "data": {
      "text/plain": [
       "array([[2.01594172e-09, 2.31866899e-08],\n",
       "       [9.99999998e-01, 9.99999977e-01]])"
      ]
     },
     "execution_count": 45,
     "metadata": {},
     "output_type": "execute_result"
    }
   ],
   "source": [
    "percentage_of_likelihood"
   ]
  },
  {
   "cell_type": "code",
   "execution_count": null,
   "id": "8a67c12a-6fea-474f-ad7e-540513d87ddc",
   "metadata": {},
   "outputs": [],
   "source": [
    "# classes_dict = {\n",
    "#     'goomba': 0,\n",
    "#     'mario': 1,\n",
    "#     'cloud': 2,\n",
    "#     'ground': 3,\n",
    "#     'bush': 4,\n",
    "#     'box': 5,\n",
    "#     'pipe': 6\n",
    "# }\n",
    "\n",
    "# class_names, boxes = get_classnames_boxes_from_csv(csv_file_name, iteration)\n",
    "# num_nodes = len(boxes)\n",
    "# edge_connections = cartesian_product_for_nodes(range(num_nodes))\n",
    "# node_features = []\n",
    "# matrix = np.empty((0, 2))\n",
    "# normal_dist = [0, 0, 1, 0, 1, 0] # mu1, mu2, sig00, sig01, sig10, sig11\n",
    "\n",
    "# if num_nodes == 1:\n",
    "#     box = boxes[0]\n",
    "#     width, height = abs(box['left'] - box['right']), abs(box['top'] - box['bottom'])\n",
    "#     node_features.append((*normal_dist, classes_dict[class_names[0]], width, height))\n",
    "    \n",
    "# for i, box in enumerate(boxes):\n",
    "#     new_row = np.array([[box['center_x'], box['center_y']]])\n",
    "#     matrix = np.vstack((matrix, new_row))\n",
    "\n",
    "#     width, height = abs(box['left'] - box['right']), abs(box['top'] - box['bottom'])\n",
    "#     node_features.append((*normal_dist, classes_dict[class_names[i]], width, height))\n",
    "\n",
    "# dists, angles = dist_angle_from_matrix(matrix, edge_connections)\n",
    "\n",
    "# node_features = torch.tensor(node_features, dtype=torch.float)\n",
    "# edge_connections = torch.tensor(edge_connections)\n",
    "# edges_features =  torch.tensor(np.stack((dists, angles), axis=-1))"
   ]
  }
 ],
 "metadata": {
  "kernelspec": {
   "display_name": "Python 3 (ipykernel)",
   "language": "python",
   "name": "python3"
  },
  "language_info": {
   "codemirror_mode": {
    "name": "ipython",
    "version": 3
   },
   "file_extension": ".py",
   "mimetype": "text/x-python",
   "name": "python",
   "nbconvert_exporter": "python",
   "pygments_lexer": "ipython3",
   "version": "3.8.10"
  }
 },
 "nbformat": 4,
 "nbformat_minor": 5
}
