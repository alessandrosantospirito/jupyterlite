{
 "cells": [
  {
   "cell_type": "markdown",
   "id": "fbe4a48d-b92d-4398-8702-b72be6c8f7e3",
   "metadata": {},
   "source": [
    "### Imports and HTML-content"
   ]
  },
  {
   "cell_type": "code",
   "execution_count": 1,
   "id": "4e013a98-618b-4936-9dd9-dbca51355186",
   "metadata": {},
   "outputs": [],
   "source": [
    "%run helper.py"
   ]
  },
  {
   "cell_type": "code",
   "execution_count": 2,
   "id": "f3bf5323-ff7a-4905-bda6-15f9f7b16d4f",
   "metadata": {},
   "outputs": [],
   "source": [
    "from IPython.display import display, HTML\n",
    "point_to_dist_angle = \"\"\"\n",
    "\n",
    "\"\"\""
   ]
  },
  {
   "cell_type": "code",
   "execution_count": 3,
   "id": "52fcb20c-672e-4ea1-a387-442a16fa7943",
   "metadata": {},
   "outputs": [],
   "source": [
    "from scipy.stats import multivariate_normal\n",
    "\n",
    "def calc_likelihoods_for_distributions_and_points(matrix_dist, matrix_points):\n",
    "    means = matrix_dist[:, 0]\n",
    "    covariances = matrix_dist[:, 1:]\n",
    "    likelihoods = np.array([multivariate_normal(mean=means[i], cov=covariances[i]).pdf(matrix_points) for i in range(len(means))])\n",
    "    \n",
    "    return likelihoods.T "
   ]
  },
  {
   "cell_type": "markdown",
   "id": "d24df746-fbbf-4bf5-b06c-56c19a81201f",
   "metadata": {},
   "source": [
    "### Code"
   ]
  },
  {
   "cell_type": "markdown",
   "id": "df621322-06c3-4565-b0eb-30fa4a010904",
   "metadata": {},
   "source": [
    "### Build Graph"
   ]
  },
  {
   "cell_type": "code",
   "execution_count": 4,
   "id": "e4153ff8-aae4-4dfe-ab70-a35a401bc6f5",
   "metadata": {},
   "outputs": [],
   "source": [
    "def create_graph_data(csv_file_name, iteration):\n",
    "    classes_dict = {\n",
    "        'goomba': 0,\n",
    "        'mario': 1,\n",
    "        'cloud': 2,\n",
    "        'ground': 3,\n",
    "        'bush': 4,\n",
    "        'box': 5,\n",
    "        'pipe': 6\n",
    "    }\n",
    "    \n",
    "    class_names, boxes = get_classnames_boxes_from_csv(csv_file_name, iteration)\n",
    "    num_nodes = len(boxes)\n",
    "    edge_connections = cartesian_product_for_nodes(range(num_nodes))\n",
    "    node_features = []\n",
    "    matrix = np.empty((0, 2))\n",
    "    normal_dist = [0, 0, 10, 0, 0, 10] # mu1, mu2, sig00, sig01, sig10, sig11\n",
    "    dataset_number = int(csv_file_name.split('/')[-1].split('.')[0])\n",
    "\n",
    "    if num_nodes == 1:\n",
    "        box = boxes[0]\n",
    "        width, height = abs(box['left'] - box['right']), abs(box['top'] - box['bottom'])\n",
    "        # node_feature: (normal-distribution, class-label, x-val, y-val, width, height, dataset_number, iteration, id)\n",
    "        node_features.append((*normal_dist, classes_dict[class_names[0]], box['center_x'], \\\n",
    "                              box['center_y'], width, height, dataset_number, iteration, 0))\n",
    "        \n",
    "        node_features = torch.tensor(node_features, dtype=torch.float)\n",
    "        \n",
    "        return Data(\n",
    "            x=node_features,\n",
    "            edge_index=torch.tensor([0]),\n",
    "            edge_attr=torch.tensor([0])\n",
    "        )\n",
    "        \n",
    "    for i, box in enumerate(boxes):\n",
    "        new_row = np.array([[box['center_x'], box['center_y']]])\n",
    "        matrix = np.vstack((matrix, new_row))\n",
    "\n",
    "        width, height = abs(box['left'] - box['right']), abs(box['top'] - box['bottom'])\n",
    "        # node_feature: (normal-distribution, class-label, x-val, y-val, width, height, dataset_number, iteration, id)\n",
    "        node_features.append((*normal_dist, classes_dict[class_names[i]], box['center_x'], \\\n",
    "                              box['center_y'], width, height, dataset_number, iteration, i))\n",
    "    \n",
    "    dists, angles = dist_angle_from_matrix(matrix, edge_connections)\n",
    "    \n",
    "    node_features = torch.tensor(node_features, dtype=torch.float)\n",
    "    edge_connections = torch.tensor(edge_connections)\n",
    "    edges_features =  torch.tensor(np.stack((dists, angles), axis=-1))\n",
    "    \n",
    "    data = Data(\n",
    "        x=node_features,\n",
    "        edge_index=edge_connections.t().contiguous(),\n",
    "        edge_attr=edges_features\n",
    "    )\n",
    "\n",
    "    return data"
   ]
  },
  {
   "cell_type": "code",
   "execution_count": 5,
   "id": "2934e962-d3bc-472f-b4a4-a71ebc4ca432",
   "metadata": {},
   "outputs": [
    {
     "name": "stderr",
     "output_type": "stream",
     "text": [
      "/workspaces/jupyterlite/content/pytroch-geometric/helper.py:73: RuntimeWarning: invalid value encountered in divide\n",
      "  return np.linalg.norm(val_edge_pairs, axis=1), np.rad2deg(np.arctan(val_edge_pairs[:, 1] / val_edge_pairs[:, 0]))\n",
      "/workspaces/jupyterlite/content/pytroch-geometric/helper.py:73: RuntimeWarning: divide by zero encountered in divide\n",
      "  return np.linalg.norm(val_edge_pairs, axis=1), np.rad2deg(np.arctan(val_edge_pairs[:, 1] / val_edge_pairs[:, 0]))\n",
      "/usr/local/lib/python3.8/site-packages/torch_geometric/deprecation.py:12: UserWarning: 'data.DataLoader' is deprecated, use 'loader.DataLoader' instead\n",
      "  warnings.warn(out)\n"
     ]
    }
   ],
   "source": [
    "dataset = []\n",
    "for i in range(4):\n",
    "    csv_file_name = f\"/workspaces/jupyterlite/content/pytroch-geometric/mario-tracking-data/{i:04d}.csv\"\n",
    "    df = pd.read_csv(csv_file_name)\n",
    "    num_iterations = int(df.iloc[-1]['iteration']) # we start at index 1, so no need for `+ 1`\n",
    "    \n",
    "    for iteration in range(1, num_iterations):\n",
    "        graph_data = create_graph_data(csv_file_name, iteration)\n",
    "        dataset.append(graph_data)\n",
    "\n",
    "train_dataset = dataset[:int(0.8 * len(dataset))]\n",
    "test_dataset = dataset[int(0.8 * len(dataset)):]\n",
    "\n",
    "train_loader = DataLoader(train_dataset, batch_size=1, shuffle=True)\n",
    "test_loader = DataLoader(test_dataset, batch_size=1)"
   ]
  },
  {
   "cell_type": "markdown",
   "id": "bea6429f-47a6-41f1-b38b-7b6bbb0e0428",
   "metadata": {},
   "source": [
    "#### Message Passing"
   ]
  },
  {
   "cell_type": "code",
   "execution_count": 6,
   "id": "fdce48fe-779c-488e-aa99-209e93d8f8fc",
   "metadata": {},
   "outputs": [],
   "source": [
    "class SimpleGAT(torch.nn.Module):\n",
    "    def __init__(self, in_channels, hidden_channels, out_channels, heads=1):\n",
    "        super().__init__()\n",
    "        self.conv1 = GATConv(in_channels, out_channels, heads=1, add_self_loops=False)\n",
    "\n",
    "    def forward(self, x, edge_index, target_node):\n",
    "        out = self.conv1(x, edge_index)"
   ]
  },
  {
   "cell_type": "markdown",
   "id": "b96696cf-f16c-4c69-aca9-e78d32cf2226",
   "metadata": {},
   "source": [
    "#### Loss"
   ]
  },
  {
   "cell_type": "markdown",
   "id": "a5b181b4-a928-48a1-89e5-136027d6c97e",
   "metadata": {},
   "source": [
    "The Loss will be the SSE of the likelihoods that the points of frame i+1 belong to the distributions that were created from the graph on frame i.\n"
   ]
  },
  {
   "cell_type": "code",
   "execution_count": 7,
   "id": "bbb6ca06-782a-4c52-a615-69685de770f7",
   "metadata": {},
   "outputs": [],
   "source": [
    "def calc_point_indices_to_distributions(distributions, points, treshhold_likelihood = 0):\n",
    "    if points.shape[0] == 0:\n",
    "        return np.zeros(distributions.shape[0]) - 1\n",
    "    \n",
    "    if points.shape[0] == 1 and distributions.shape[0] == 1:\n",
    "        likelihood_entries = calc_likelihoods_for_distributions_and_points(distributions, points)\n",
    "    \n",
    "        if likelihood_entries < treshhold_likelihood: return np.array([-1])\n",
    "        return np.array([0])\n",
    "\n",
    "    if points.shape[0] == 1:\n",
    "        likelihood_entries = calc_likelihoods_for_distributions_and_points(distributions, points)\n",
    "        likelihood_indicies_to_filter = likelihood_entries < treshhold_likelihood\n",
    "        likelihood_entries[likelihood_indicies_to_filter] = 0\n",
    "        \n",
    "        if torch.sum(1 - torch.tensor(likelihood_indicies_to_filter, dtype=int)) == 0: # Under threshhold\n",
    "            return np.array([-1])\n",
    "        else:\n",
    "            return np.array([np.argmax(likelihood_entries)])\n",
    "    \n",
    "    likelihoods = calc_likelihoods_for_distributions_and_points(distributions, points)\n",
    "    sorted_indices = np.argsort(likelihoods, axis=0)\n",
    "    ranks = np.zeros_like(likelihoods, dtype=int)\n",
    "    n_rows, n_cols = likelihoods.shape\n",
    "    ranks[sorted_indices, np.arange(n_cols)] = np.tile(np.arange(n_rows), (n_cols, 1)).T\n",
    "    \n",
    "    mask_binary = np.array((n_rows - ranks) <= n_cols, dtype=int)\n",
    "    cumsum_array = np.cumsum(mask_binary, axis=0)\n",
    "    \n",
    "    s = min(n_rows, n_cols)\n",
    "    extended_likelihood_entries = np.zeros((s+1, n_cols + 1))\n",
    "    \n",
    "    mask  = np.array((n_rows - ranks) <= n_cols)\n",
    "    \n",
    "    points_to_consider = np.where(np.any(mask, axis=1))[0]\n",
    "    filtered_points = points[points_to_consider]\n",
    "    \n",
    "    likelihood_entries = calc_likelihoods_for_distributions_and_points(distributions, filtered_points)\n",
    "\n",
    "    if len(filtered_points) != 1:\n",
    "        likelihood_indicies_to_filter = likelihood_entries < treshhold_likelihood\n",
    "        # punish points that should be filtered out\n",
    "        likelihood_entries[likelihood_indicies_to_filter] = 0\n",
    "        likelihood_entries += 1e-50\n",
    "        \n",
    "        inv_percentage_of_likelihood = np.log(likelihood_entries)/ np.sum(np.log(likelihood_entries), axis=0)\n",
    "        # percentage_of_likelihood = (1 / inv_percentage_of_likelihood) / np.sum( (1 / inv_percentage_of_likelihood), axis=0)\n",
    "        # percentage_of_likelihood = inv_percentage_of_likelihood\n",
    "        \n",
    "        cost_matrix = np.log(inv_percentage_of_likelihood)\n",
    "        row_ind, col_ind = linear_sum_assignment(cost_matrix)\n",
    "        \n",
    "        max_index = max(col_ind) + 1\n",
    "        points_to_distributions = np.zeros(max_index, dtype=row_ind.dtype) - 1\n",
    "        \n",
    "        points_to_distributions[col_ind] = row_ind\n",
    "    \n",
    "        # if punished points still come up ahead, set the association to -1\n",
    "        for point_index, distribution_index in enumerate(col_ind):\n",
    "            if likelihood_indicies_to_filter[point_index, distribution_index]:\n",
    "                points_to_distributions[point_index] = -1\n",
    "        return points_to_distributions\n",
    "    \n",
    "    else: # case where we have one distribution, also only one point to consider\n",
    "        if(likelihood_entries[0] < treshhold_likelihood):\n",
    "            return np.array([-1])\n",
    "        else:\n",
    "            return np.array([points_to_consider])"
   ]
  },
  {
   "cell_type": "code",
   "execution_count": 8,
   "id": "43c442a1-df47-4998-891b-a60afd83ee35",
   "metadata": {},
   "outputs": [],
   "source": [
    "def classes_points_distributions_ids_from_graph(graph):\n",
    "    graph = graph.x\n",
    "    return graph[:, 6], graph[:, :6], graph[:, 7:9], graph[:, -1]"
   ]
  },
  {
   "cell_type": "code",
   "execution_count": 9,
   "id": "904ee05d-cbf2-4db3-826d-4cab990a1e8b",
   "metadata": {},
   "outputs": [],
   "source": [
    "def indicies_of_filterted_array_entries(filtered_indicies, relative_indicies):\n",
    "    return np.where(filtered_indicies)[0][relative_indicies]"
   ]
  },
  {
   "cell_type": "code",
   "execution_count": 10,
   "id": "e10e8cde-6e1a-43e2-9027-7057fd52315a",
   "metadata": {},
   "outputs": [],
   "source": [
    "def calculate_sse_for_distributions_and_points(graph_a, graph_b, mappings):\n",
    "    node_attr_a = classes_points_distributions_ids_from_graph(graph_a)\n",
    "    node_attr_b = classes_points_distributions_ids_from_graph(graph_b)\n",
    "    \n",
    "    dist_indicies = mappings[:, 0]\n",
    "    distributions = node_attr_a[1][dist_indicies]\n",
    "    distributions[:, :2] +=  np.array(node_attr_a[2][dist_indicies])[:]\n",
    "    distributions = np.array(distributions.reshape(distributions.shape[0], -1, 2))\n",
    "    \n",
    "    points = node_attr_b[2][mappings[:, 1]]\n",
    "    \n",
    "    likelihoods = torch.tensor(calc_likelihoods_for_distributions_and_points(distributions, points))\n",
    "    if likelihoods.shape[0] == 1: return likelihoods\n",
    "    \n",
    "    return likelihoods[mappings[:, 0], mappings[:, 1]]"
   ]
  },
  {
   "cell_type": "code",
   "execution_count": 11,
   "id": "101935ee-d25e-4de3-8f5c-de8cabc581f0",
   "metadata": {},
   "outputs": [],
   "source": [
    "def find_mapping_of_two_graphs(graph_a, graph_b, treshhold=0):\n",
    "    node_attributes_a = classes_points_distributions_ids_from_graph(graph_a)\n",
    "    node_attributes_b = classes_points_distributions_ids_from_graph(graph_b)\n",
    "\n",
    "    total_mappings = torch.empty((0, 2), dtype=torch.int)\n",
    "\n",
    "    # for label in classes_points_distributions_ids_from_graph(graph_b)[0].unique():\n",
    "    for label in classes_points_distributions_ids_from_graph(graph_a)[0].unique():\n",
    "        dist_filter = (node_attributes_a[0] == label)\n",
    "        dist_indicies = np.copy(dist_filter)\n",
    "        points_filter = (node_attributes_b[0] == label)\n",
    "        point_indicies = np.copy(points_filter)\n",
    "        distributions = node_attributes_a[1][dist_indicies]\n",
    "        distributions = np.array(distributions.reshape(distributions.shape[0], -1, 2))  # to have the correct format\n",
    "        distributions[:, 0, :] += np.array(node_attributes_a[2][dist_indicies])\n",
    "        points = node_attributes_b[2][point_indicies]\n",
    "        num_dist_entries = torch.sum(dist_filter)\n",
    "        \n",
    "        mappings = torch.full((num_dist_entries, 2), -1, dtype=torch.int)\n",
    "        mappings[:, 0] = torch.tensor((node_attributes_a[-1])[dist_filter], dtype=torch.int)\n",
    "        \n",
    "        dist_to_point_mapping = calc_point_indices_to_distributions(distributions, points, treshhold)\n",
    "        \n",
    "        for i, dest_index in enumerate(dist_to_point_mapping):\n",
    "            if dest_index == -1:\n",
    "                continue\n",
    "            relative_point_index = indicies_of_filterted_array_entries(points_filter, i)\n",
    "            mappings[dest_index, 1] = torch.tensor((node_attributes_b[-1])[relative_point_index], dtype=torch.int)\n",
    "        \n",
    "        total_mappings = torch.cat((total_mappings, mappings), dim=0)\n",
    "\n",
    "    return total_mappings"
   ]
  },
  {
   "cell_type": "code",
   "execution_count": 12,
   "id": "6612f0ae-24af-4d90-ab17-62a9601f68b1",
   "metadata": {},
   "outputs": [
    {
     "name": "stderr",
     "output_type": "stream",
     "text": [
      "/tmp/ipykernel_723183/1275716414.py:20: UserWarning: To copy construct from a tensor, it is recommended to use sourceTensor.clone().detach() or sourceTensor.clone().detach().requires_grad_(True), rather than torch.tensor(sourceTensor).\n",
      "  mappings[:, 0] = torch.tensor((node_attributes_a[-1])[dist_filter], dtype=torch.int)\n",
      "/tmp/ipykernel_723183/1275716414.py:28: UserWarning: To copy construct from a tensor, it is recommended to use sourceTensor.clone().detach() or sourceTensor.clone().detach().requires_grad_(True), rather than torch.tensor(sourceTensor).\n",
      "  mappings[dest_index, 1] = torch.tensor((node_attributes_b[-1])[relative_point_index], dtype=torch.int)\n"
     ]
    },
    {
     "data": {
      "text/plain": [
       "tensor([[2, 3],\n",
       "        [4, 4],\n",
       "        [0, 2],\n",
       "        [1, 0],\n",
       "        [3, 1]], dtype=torch.int32)"
      ]
     },
     "execution_count": 12,
     "metadata": {},
     "output_type": "execute_result"
    }
   ],
   "source": [
    "graph_a = train_dataset[729]\n",
    "graph_b = train_dataset[730]\n",
    "mappings = find_mapping_of_two_graphs(graph_a, graph_b)\n",
    "# calculate_sse_for_distributions_and_points(graph_a, graph_b, mappings)\n",
    "mappings"
   ]
  },
  {
   "cell_type": "code",
   "execution_count": 13,
   "id": "e2e2e7bf-4787-4c61-b81b-d8350a847503",
   "metadata": {},
   "outputs": [],
   "source": [
    "# 181,pipe,184.03,176.08,215.29,207.41,191.74,199.66,5\n",
    "# 181,goomba,40.02,192.69,55.04,208.47,200.58,47.53,3\n",
    "# 181,box,54.96,144.2,135.95,158.78,151.49,95.46,1\n",
    "# 181,mario,111.22,171.09,126.66,186.69,178.89,118.94,0\n",
    "# 181,box,88.64,80.0,103.0,94.96,87.48,95.82,2\n",
    "# 181,box,0.17,143.9,7.0,158.91,151.4,3.58,4\n",
    "\n",
    "# 182,box,52.66,144.18,132.96,158.82,151.5,92.81,1\n",
    "# 182,mario,111.83,175.04,126.71,190.72,182.88,119.27,0\n",
    "# 182,goomba,35.98,192.72,51.03,208.52,200.62,43.51,3\n",
    "# 182,pipe,180.88,176.06,211.88,207.4,191.73,196.38,5\n",
    "# 182,box,85.57,79.99,100.01,94.97,87.48,92.79,2\n",
    "# 182,box,0.15,144.0,4.11,159.0,151.5,2.13,4\n",
    "\n",
    "# 183,pipe,177.88,176.09,209.32,207.39,191.74,193.6,5\n",
    "# 183,box,82.59,80.0,97.04,94.97,87.49,89.82,2\n",
    "# 183,goomba,32.99,192.8,48.09,208.56,200.68,40.54,3\n",
    "# 183,box,49.14,144.22,129.9,158.8,151.51,89.52,1\n",
    "# 183,mario,112.29,180.27,126.62,194.99,187.63,119.46,0"
   ]
  },
  {
   "cell_type": "code",
   "execution_count": 14,
   "id": "07ed3376-7500-4f25-9cc4-721c3079a3c6",
   "metadata": {},
   "outputs": [],
   "source": [
    "# graph_a = train_dataset[182]\n",
    "# graph_b = train_dataset[183]\n",
    "# graph_id_tracking(graph_a, graph_b)"
   ]
  },
  {
   "cell_type": "code",
   "execution_count": 15,
   "id": "216af924-4af0-48f5-a729-0334e0f12734",
   "metadata": {},
   "outputs": [],
   "source": [
    "# graph_a.x, graph_b.x"
   ]
  },
  {
   "cell_type": "code",
   "execution_count": null,
   "id": "3cdbef6c-fce6-47b4-b5a8-bac139ed9991",
   "metadata": {},
   "outputs": [],
   "source": []
  },
  {
   "cell_type": "code",
   "execution_count": null,
   "id": "bad4322b-b188-4022-ac74-1b362127e01f",
   "metadata": {},
   "outputs": [],
   "source": []
  },
  {
   "cell_type": "markdown",
   "id": "eb3b6b4e-7a51-43fd-b7fa-eca2928e7567",
   "metadata": {},
   "source": [
    "#### Graph to CSV"
   ]
  },
  {
   "cell_type": "code",
   "execution_count": 16,
   "id": "2104db91-5a61-471f-a555-ab167c90cd97",
   "metadata": {},
   "outputs": [
    {
     "data": {
      "text/plain": [
       "tensor([  5.0000,  87.5000, 248.2150,  15.0000,  15.2100,   2.0000, 132.0000,\n",
       "          0.0000])"
      ]
     },
     "execution_count": 16,
     "metadata": {},
     "output_type": "execute_result"
    }
   ],
   "source": [
    "graph = graph_a.x[0][6:]\n",
    "graph"
   ]
  },
  {
   "cell_type": "code",
   "execution_count": 17,
   "id": "ace9bfc2-acb1-497b-a4ce-3d0f55b2789f",
   "metadata": {},
   "outputs": [],
   "source": [
    "# for each csv file, name the iteration, class, top, left, bottom, right, center_x, center_y"
   ]
  },
  {
   "cell_type": "code",
   "execution_count": 18,
   "id": "57da2d9c-8306-41d5-b410-753328893b65",
   "metadata": {},
   "outputs": [],
   "source": [
    "import csv\n",
    "import os\n",
    "\n",
    "# csv-header: iteration, class, top, left, bottom, right, center_x, center_y, object_id\n",
    "def csv_entry_for_graph(graph, relative_path='./csv_files'):\n",
    "    classes_dict = {\n",
    "        'goomba': 0,\n",
    "        'mario': 1,\n",
    "        'cloud': 2,\n",
    "        'ground': 3,\n",
    "        'bush': 4,\n",
    "        'box': 5,\n",
    "        'pipe': 6\n",
    "    }\n",
    "    \n",
    "    graph = graph.x[0][6:]\n",
    "    iteration = int(graph[6]) + 1 # we want to start the iterations with 1\n",
    "    class_num = int(graph[0])\n",
    "    width = round(float(graph[3]), 2)\n",
    "    height = round(float(graph[4]), 2)\n",
    "    center_x = round(float(graph[1]), 2)\n",
    "    center_y = round(float(graph[2]), 2)\n",
    "    top = round(center_y + (height / 2), 2)\n",
    "    left = round(center_x - (width / 2), 2)\n",
    "    bottom = round(center_y - (height / 2), 2)\n",
    "    right = round(center_x + (width / 2), 2)\n",
    "    object_id = int(graph[7])\n",
    "\n",
    "    file_number = int(graph[5]) # write to csv-file with name {file_number:04d}.csv\"\n",
    "    \n",
    "    csv_entry = [iteration, class_num, top, left, bottom, right, center_x, center_y, object_id]\n",
    "    file_name = os.path.join(relative_path, f\"{file_number:04d}.csv\")\n",
    "    # file_exists = os.path.isfile(file_name)\n",
    "    \n",
    "    if iteration == 1 and os.path.isfile(file_name):\n",
    "        os.remove(file_name)\n",
    "    \n",
    "    with open(file_name, mode='a', newline='') as file:\n",
    "        writer = csv.writer(file)\n",
    "        \n",
    "        if iteration == 1:\n",
    "            writer.writerow(['iteration', 'class', 'top', 'left', 'bottom', 'right', 'center_x', 'center_y', 'object_id'])\n",
    "        \n",
    "        writer.writerow(csv_entry)"
   ]
  },
  {
   "cell_type": "code",
   "execution_count": 19,
   "id": "09c12bf1-8e36-46ab-adde-7cbc19e989f9",
   "metadata": {},
   "outputs": [],
   "source": [
    "import csv\n",
    "import os\n",
    "import sys\n",
    "\n",
    "filter_max_label_number = 1\n",
    "\n",
    "# csv-header: iteration, class, top, left, bottom, right, center_x, center_y, object_id\n",
    "def csv_entry_for_graph(graph, relative_path='./csv_files'):\n",
    "    global filter_max_label_number\n",
    "    \n",
    "    classes_dict = {\n",
    "        0: 'goomba',\n",
    "        1: 'mario',\n",
    "        2: 'cloud',\n",
    "        3: 'ground',\n",
    "        4: 'bush',\n",
    "        5: 'box',\n",
    "        6: 'pipe'\n",
    "    }\n",
    "\n",
    "    for i in range(len(graph.x)):\n",
    "        graph_node = graph.x[i][6:]\n",
    "        iteration = int(graph_node[6]) # iteration will start at 1\n",
    "        class_num = int(graph_node[0])\n",
    "        class_name = classes_dict.get(class_num, 'unknown')\n",
    "        width = round(float(graph_node[3]), 2)\n",
    "        height = round(float(graph_node[4]), 2)\n",
    "        center_x = round(float(graph_node[1]), 2)\n",
    "        center_y = round(float(graph_node[2]), 2)\n",
    "        top = round(center_y - (height / 2), 2)\n",
    "        left = round(center_x - (width / 2), 2)\n",
    "        bottom = round(center_y + (height / 2), 2)\n",
    "        right = round(center_x + (width / 2), 2)\n",
    "        object_id = int(graph_node[7])\n",
    "    \n",
    "        file_number = int(graph_node[5])  # write to csv-file with name {file_number:04d}.csv\"\n",
    "        \n",
    "        csv_entry = [iteration, class_name, top, left, bottom, right, center_x, center_y, object_id]\n",
    "        file_name = os.path.join(relative_path, f\"{file_number:04d}.csv\")\n",
    "        \n",
    "        if iteration == 1 and os.path.isfile(file_name):\n",
    "            os.remove(file_name)\n",
    "    \n",
    "        with open(file_name, mode='a', newline='') as file:\n",
    "            writer = csv.writer(file)\n",
    "            \n",
    "            if iteration == 1:\n",
    "                writer.writerow(['iteration', 'class', 'top', 'left', 'bottom', 'right', 'center_x', 'center_y', 'object_id'])\n",
    "                filter_max_label_number = 1\n",
    "            \n",
    "            writer.writerow(csv_entry)\n",
    "\n",
    "@save_params\n",
    "def graph_id_tracking(graph_a, graph_b, treshhold=0):\n",
    "    global filter_max_label_number\n",
    "    mappings = find_mapping_of_two_graphs(graph_a, graph_b, treshhold)\n",
    "    \n",
    "    all_node_ids = torch.tensor([int(node_entry[-1]) for node_entry in graph_b.x])\n",
    "    not_tracked_nodes = all_node_ids[~all_node_ids.unsqueeze(-1).eq( mappings[:, 1]).any(dim=-1)]\n",
    "\n",
    "    indicies_graph_b = graph_b.x[:, -1]\n",
    "    indicies_graph_a = graph_a.x[:, -1]\n",
    "    max_graph_value = max(max(indicies_graph_a), max(indicies_graph_b))\n",
    "\n",
    "    # if (graph_b.x[0, -2] > 127): sys.exit(-1)\n",
    "    for i, object_id in enumerate(indicies_graph_b):\n",
    "        if(object_id in not_tracked_nodes):\n",
    "            graph_b.x[i, -1] = filter_max_label_number\n",
    "            # print('filter_max_label_number', filter_max_label_number)\n",
    "            filter_max_label_number += 1\n",
    "        else:\n",
    "            # mapping_idx = int(torch.where(mappings[:, 1] == int(object_id))[0]) \n",
    "            mapping_idx_tensor = torch.where(mappings[:, 1] == object_id)[0]\n",
    "            mapping_idx = mapping_idx_tensor.item()\n",
    "            graph_b.x[i, -1] = mappings[mapping_idx, 0]\n",
    "            # print('mappings', mappings[mapping_idx, 0])\n"
   ]
  },
  {
   "cell_type": "code",
   "execution_count": 20,
   "id": "0ee826a0-4b72-48d7-af78-ea4db26fe13a",
   "metadata": {},
   "outputs": [],
   "source": [
    "for graph in train_dataset:\n",
    "    csv_entry_for_graph(graph, 'graph_to_csv')"
   ]
  },
  {
   "cell_type": "code",
   "execution_count": 21,
   "id": "6e5a358c-85b5-4d8f-8c55-79a3406d53f3",
   "metadata": {},
   "outputs": [
    {
     "name": "stderr",
     "output_type": "stream",
     "text": [
      "/tmp/ipykernel_723183/1275716414.py:20: UserWarning: To copy construct from a tensor, it is recommended to use sourceTensor.clone().detach() or sourceTensor.clone().detach().requires_grad_(True), rather than torch.tensor(sourceTensor).\n",
      "  mappings[:, 0] = torch.tensor((node_attributes_a[-1])[dist_filter], dtype=torch.int)\n",
      "/tmp/ipykernel_723183/1275716414.py:28: UserWarning: To copy construct from a tensor, it is recommended to use sourceTensor.clone().detach() or sourceTensor.clone().detach().requires_grad_(True), rather than torch.tensor(sourceTensor).\n",
      "  mappings[dest_index, 1] = torch.tensor((node_attributes_b[-1])[relative_point_index], dtype=torch.int)\n"
     ]
    }
   ],
   "source": [
    "for i in range(len(train_dataset) - 1):\n",
    "    graph_a = train_dataset[i]\n",
    "    graph_b = train_dataset[i+1]\n",
    "    graph_id_tracking(graph_a, graph_b, 0.0002)\n",
    "    csv_entry_for_graph(graph_a, 'graph_to_csv-applied_tracking')"
   ]
  },
  {
   "cell_type": "markdown",
   "id": "648ba7eb-4322-4e9b-8655-705d73dcf234",
   "metadata": {},
   "source": [
    "#### Visualize the CSV-Data"
   ]
  },
  {
   "cell_type": "code",
   "execution_count": 22,
   "id": "97625208-3df2-4287-8a57-f4630b6c30a5",
   "metadata": {},
   "outputs": [
    {
     "data": {
      "application/vnd.jupyter.widget-view+json": {
       "model_id": "99da5b2f30214b6c932a1a0ebc24c4c5",
       "version_major": 2,
       "version_minor": 0
      },
      "text/plain": [
       "Image(value=b'', format='jpeg')"
      ]
     },
     "metadata": {},
     "output_type": "display_data"
    }
   ],
   "source": [
    "import IPython.display as display\n",
    "from IPython.display import clear_output\n",
    "import ipywidgets as widgets\n",
    "import os\n",
    "import time\n",
    "\n",
    "image_widget = widgets.Image(format='jpeg')\n",
    "display.display(image_widget)"
   ]
  },
  {
   "cell_type": "code",
   "execution_count": 23,
   "id": "ccdede97-ca9d-4c8d-9f7a-6909d8a3fc2b",
   "metadata": {},
   "outputs": [],
   "source": [
    "import os\n",
    "import csv\n",
    "import time\n",
    "import cv2\n",
    "import numpy as np\n",
    "import pandas as pd\n",
    "from hashlib import sha256\n",
    "\n",
    "def get_name_and_boxes_for_iteration(csv_file_name, iteration):\n",
    "    names = []\n",
    "    boxes = []\n",
    "    \n",
    "    with open(csv_file_name, 'r') as csvfile:\n",
    "        reader = csv.DictReader(csvfile)\n",
    "        for row in reader:\n",
    "            if int(row['iteration']) == iteration:\n",
    "                names.append(row['class'])\n",
    "                boxes.append({\n",
    "                    'top': float(row['top']),\n",
    "                    'left': float(row['left']),\n",
    "                    'bottom': float(row['bottom']),\n",
    "                    'right': float(row['right']),\n",
    "                    'center_x': float(row['center_x']),\n",
    "                    'center_y': float(row['center_y']),\n",
    "                    'object_id': int(row['object_id'])\n",
    "                })\n",
    "    \n",
    "    return names, boxes\n",
    "\n",
    "def generate_color(object_id):\n",
    "    \"\"\"\n",
    "    Generate a unique color for each object_id.\n",
    "    Uses a hash function to create unique colors.\n",
    "    \"\"\"\n",
    "    hash_object = sha256(str(object_id).encode())\n",
    "    hex_color = hash_object.hexdigest()[:6]\n",
    "    return tuple(int(hex_color[i:i+2], 16) for i in (0, 2, 4))\n",
    "\n",
    "# def generate_color(object_id):\n",
    "#     \"\"\"\n",
    "#     Generate a unique color for each object_id from a fixed set of 10 colors.\n",
    "#     \"\"\"\n",
    "#     colors = [\n",
    "#         (255, 0, 0),    # Red\n",
    "#         (0, 255, 0),    # Green\n",
    "#         (0, 0, 255),    # Blue\n",
    "#         (255, 255, 0),  # Yellow\n",
    "#         (0, 255, 255),  # Cyan\n",
    "#         (255, 0, 255),  # Magenta\n",
    "#         (192, 192, 192),# Silver\n",
    "#         (128, 128, 128),# Gray\n",
    "#         (128, 0, 0),    # Maroon\n",
    "#         (0, 128, 0)     # Green\n",
    "#     ]\n",
    "    \n",
    "#     index = int(object_id) % len(colors)\n",
    "#     return colors[index]\n",
    "\n",
    "def draw_boxes_to_canvas(csv_file_name, image_widget, x_limit=240, y_limit=240, frame_delay=0.01):\n",
    "    df = pd.read_csv(csv_file_name)\n",
    "    num_iterations = int(df.iloc[-1]['iteration']) + 1\n",
    "    for iteration in range(num_iterations):\n",
    "        names, boxes = get_name_and_boxes_for_iteration(csv_file_name, iteration)\n",
    "        \n",
    "        height, width = y_limit, x_limit\n",
    "        canvas = np.ones((height, width, 3), dtype=np.uint8) * 255  # Create a white background\n",
    "        \n",
    "        # Draw the file name in the top-left corner\n",
    "        file_name_text = f\"File: {os.path.basename(csv_file_name)}\"\n",
    "        cv2.putText(canvas, file_name_text, (10, 20), cv2.FONT_HERSHEY_SIMPLEX, 0.6, (0, 0, 0), 2)\n",
    "        \n",
    "        for name, box in zip(names, boxes):\n",
    "            top = int(box['top'])\n",
    "            left = int(box['left'])\n",
    "            bottom = int(box['bottom'])\n",
    "            right = int(box['right'])\n",
    "            color = generate_color(box['object_id'])  # Get unique color for object_id\n",
    "            \n",
    "            cv2.rectangle(canvas, (top, left), (bottom, right), color, 2)\n",
    "            cv2.putText(canvas, name, (top, left - 10), cv2.FONT_HERSHEY_SIMPLEX, 0.9, color, 2)\n",
    "        \n",
    "        _, buffer = cv2.imencode('.jpg', canvas)\n",
    "        image_widget.value = buffer.tobytes()\n",
    "\n",
    "        time.sleep(frame_delay)\n",
    "\n",
    "def replay_csv_files_from_directory(directory_name, image_widget):\n",
    "    for file_name in sorted(os.listdir(directory_name)):\n",
    "        if file_name.endswith('.csv'):\n",
    "            csv_file_path = os.path.join(directory_name, file_name)\n",
    "            draw_boxes_to_canvas(csv_file_path, image_widget)"
   ]
  },
  {
   "cell_type": "code",
   "execution_count": 24,
   "id": "574df8a6-3a3a-4ea7-8554-7941d02f94ed",
   "metadata": {},
   "outputs": [],
   "source": [
    "# directory_name = \"/workspaces/jupyterlite/workspace/supermario_graph-nn/03_supermario_graph-nn/yolo_results/clean_multiple_episodes\"\n",
    "# replay_csv_files_from_directory(directory_name, image_widget)"
   ]
  },
  {
   "cell_type": "code",
   "execution_count": 25,
   "id": "afb2ab3f-b05f-4e5b-a19f-cc5fb6754ed8",
   "metadata": {},
   "outputs": [],
   "source": [
    "# directory_name = \"/workspaces/jupyterlite/content/pytroch-geometric/graph_to_csv\"\n",
    "# replay_csv_files_from_directory(directory_name, image_widget)"
   ]
  },
  {
   "cell_type": "code",
   "execution_count": 26,
   "id": "2876e4b3-bebb-482f-bc10-7ebe739f3784",
   "metadata": {},
   "outputs": [],
   "source": [
    "directory_name = \"/workspaces/jupyterlite/content/pytroch-geometric/graph_to_csv-applied_tracking\"\n",
    "replay_csv_files_from_directory(directory_name, image_widget)"
   ]
  },
  {
   "cell_type": "code",
   "execution_count": null,
   "id": "2fccc4b5-8584-4397-b367-9bfa7b5bd2da",
   "metadata": {},
   "outputs": [],
   "source": []
  },
  {
   "cell_type": "code",
   "execution_count": null,
   "id": "c9e85beb-99dc-4421-9de7-944c58c60aaf",
   "metadata": {},
   "outputs": [],
   "source": []
  },
  {
   "cell_type": "code",
   "execution_count": null,
   "id": "81e6b450-3f5a-46b3-b103-8543ae1781dd",
   "metadata": {},
   "outputs": [],
   "source": []
  }
 ],
 "metadata": {
  "kernelspec": {
   "display_name": "Python 3 (ipykernel)",
   "language": "python",
   "name": "python3"
  },
  "language_info": {
   "codemirror_mode": {
    "name": "ipython",
    "version": 3
   },
   "file_extension": ".py",
   "mimetype": "text/x-python",
   "name": "python",
   "nbconvert_exporter": "python",
   "pygments_lexer": "ipython3",
   "version": "3.8.10"
  }
 },
 "nbformat": 4,
 "nbformat_minor": 5
}
