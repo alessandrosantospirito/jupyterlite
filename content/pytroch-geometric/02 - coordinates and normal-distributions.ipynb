{
 "cells": [
  {
   "cell_type": "markdown",
   "id": "fbe4a48d-b92d-4398-8702-b72be6c8f7e3",
   "metadata": {},
   "source": [
    "### Imports and HTML-content"
   ]
  },
  {
   "cell_type": "code",
   "execution_count": 1,
   "id": "4e013a98-618b-4936-9dd9-dbca51355186",
   "metadata": {},
   "outputs": [],
   "source": [
    "%run helper.py"
   ]
  },
  {
   "cell_type": "code",
   "execution_count": 2,
   "id": "f3bf5323-ff7a-4905-bda6-15f9f7b16d4f",
   "metadata": {},
   "outputs": [],
   "source": [
    "from IPython.display import display, HTML\n",
    "point_to_dist_angle = \"\"\"\n",
    "\n",
    "\"\"\""
   ]
  },
  {
   "cell_type": "code",
   "execution_count": 3,
   "id": "52fcb20c-672e-4ea1-a387-442a16fa7943",
   "metadata": {},
   "outputs": [],
   "source": [
    "from scipy.stats import multivariate_normal\n",
    "\n",
    "def calc_likelihoods_for_distributions_and_points(matrix_dist, matrix_points):\n",
    "    means = matrix_dist[:, 0]\n",
    "    covariances = matrix_dist[:, 1:]\n",
    "    likelihoods = np.array([multivariate_normal(mean=means[i], cov=covariances[i]).pdf(matrix_points) for i in range(len(means))])\n",
    "    \n",
    "    return likelihoods.T "
   ]
  },
  {
   "cell_type": "code",
   "execution_count": null,
   "id": "75bb3469-3fc7-467a-956f-d3760fd28d90",
   "metadata": {},
   "outputs": [],
   "source": []
  },
  {
   "cell_type": "markdown",
   "id": "d24df746-fbbf-4bf5-b06c-56c19a81201f",
   "metadata": {},
   "source": [
    "### Code"
   ]
  },
  {
   "cell_type": "markdown",
   "id": "df621322-06c3-4565-b0eb-30fa4a010904",
   "metadata": {},
   "source": [
    "### Build Graph"
   ]
  },
  {
   "cell_type": "code",
   "execution_count": 4,
   "id": "e4153ff8-aae4-4dfe-ab70-a35a401bc6f5",
   "metadata": {},
   "outputs": [],
   "source": [
    "@save_params\n",
    "def create_graph_data(csv_file_name, iteration):\n",
    "    classes_dict = {\n",
    "        'goomba': 0,\n",
    "        'mario': 1,\n",
    "        'cloud': 2,\n",
    "        'ground': 3,\n",
    "        'bush': 4,\n",
    "        'box': 5,\n",
    "        'pipe': 6\n",
    "    }\n",
    "    \n",
    "    class_names, boxes = get_classnames_boxes_from_csv(csv_file_name, iteration)\n",
    "    num_nodes = len(boxes)\n",
    "    edge_connections = cartesian_product_for_nodes(range(num_nodes))\n",
    "    node_features = []\n",
    "    matrix = np.empty((0, 2))\n",
    "    normal_dist = [0, 0, 1, 0, 0, 1] # mu1, mu2, sig00, sig01, sig10, sig11\n",
    "    dataset_number = int(csv_file_name.split('/')[-1].split('.')[0])\n",
    "\n",
    "    if num_nodes == 1:\n",
    "        box = boxes[0]\n",
    "        width, height = abs(box['left'] - box['right']), abs(box['top'] - box['bottom'])\n",
    "        # node_feature: (normal-distribution, class-label, x-val, y-val, width, height, dataset_number, iteration, id)\n",
    "        node_features.append((*normal_dist, classes_dict[class_names[0]], box['center_x'], \\\n",
    "                              box['center_y'], width, height, dataset_number, iteration, 0))\n",
    "        \n",
    "        node_features = torch.tensor(node_features, dtype=torch.float)\n",
    "        \n",
    "        return Data(\n",
    "            x=node_features,\n",
    "            edge_index=torch.tensor([0]),\n",
    "            edge_attr=torch.tensor([0])\n",
    "        )\n",
    "        \n",
    "    for i, box in enumerate(boxes):\n",
    "        new_row = np.array([[box['center_x'], box['center_y']]])\n",
    "        matrix = np.vstack((matrix, new_row))\n",
    "\n",
    "        width, height = abs(box['left'] - box['right']), abs(box['top'] - box['bottom'])\n",
    "        # node_feature: (normal-distribution, class-label, x-val, y-val, width, height, dataset_number, iteration, id)\n",
    "        node_features.append((*normal_dist, classes_dict[class_names[i]], box['center_x'], \\\n",
    "                              box['center_y'], width, height, dataset_number, iteration, i))\n",
    "    \n",
    "    dists, angles = dist_angle_from_matrix(matrix, edge_connections)\n",
    "    \n",
    "    node_features = torch.tensor(node_features, dtype=torch.float)\n",
    "    edge_connections = torch.tensor(edge_connections)\n",
    "    edges_features =  torch.tensor(np.stack((dists, angles), axis=-1))\n",
    "    \n",
    "    data = Data(\n",
    "        x=node_features,\n",
    "        edge_index=edge_connections.t().contiguous(),\n",
    "        edge_attr=edges_features\n",
    "    )\n",
    "\n",
    "    return data"
   ]
  },
  {
   "cell_type": "code",
   "execution_count": 5,
   "id": "2934e962-d3bc-472f-b4a4-a71ebc4ca432",
   "metadata": {},
   "outputs": [
    {
     "name": "stderr",
     "output_type": "stream",
     "text": [
      "/workspaces/jupyterlite/content/pytroch-geometric/helper.py:73: RuntimeWarning: invalid value encountered in divide\n",
      "  return np.linalg.norm(val_edge_pairs, axis=1), np.rad2deg(np.arctan(val_edge_pairs[:, 1] / val_edge_pairs[:, 0]))\n",
      "/workspaces/jupyterlite/content/pytroch-geometric/helper.py:73: RuntimeWarning: divide by zero encountered in divide\n",
      "  return np.linalg.norm(val_edge_pairs, axis=1), np.rad2deg(np.arctan(val_edge_pairs[:, 1] / val_edge_pairs[:, 0]))\n",
      "/usr/local/lib/python3.8/site-packages/torch_geometric/deprecation.py:12: UserWarning: 'data.DataLoader' is deprecated, use 'loader.DataLoader' instead\n",
      "  warnings.warn(out)\n"
     ]
    }
   ],
   "source": [
    "dataset = []\n",
    "for i in range(4):\n",
    "    csv_file_name = f\"/workspaces/jupyterlite/content/pytroch-geometric/mario-tracking-data/{i:04d}.csv\"\n",
    "    df = pd.read_csv(csv_file_name)\n",
    "    num_iterations = int(df.iloc[-1]['iteration']) # we start at index 1, so no need for `+ 1`\n",
    "    \n",
    "    for iteration in range(1, num_iterations):\n",
    "        graph_data = create_graph_data(csv_file_name, iteration)\n",
    "        dataset.append(graph_data)\n",
    "\n",
    "train_dataset = dataset[:int(0.8 * len(dataset))]\n",
    "test_dataset = dataset[int(0.8 * len(dataset)):]\n",
    "\n",
    "train_loader = DataLoader(train_dataset, batch_size=1, shuffle=True)\n",
    "test_loader = DataLoader(test_dataset, batch_size=1)"
   ]
  },
  {
   "cell_type": "code",
   "execution_count": 6,
   "id": "6d2d2b08-8315-4d0e-bd8b-eb8c2c5a8f25",
   "metadata": {},
   "outputs": [
    {
     "data": {
      "text/plain": [
       "3"
      ]
     },
     "execution_count": 6,
     "metadata": {},
     "output_type": "execute_result"
    }
   ],
   "source": [
    "int(csv_file_name.split('/')[-1].split('.')[0])"
   ]
  },
  {
   "cell_type": "markdown",
   "id": "bea6429f-47a6-41f1-b38b-7b6bbb0e0428",
   "metadata": {},
   "source": [
    "#### Message Passing"
   ]
  },
  {
   "cell_type": "code",
   "execution_count": 7,
   "id": "fdce48fe-779c-488e-aa99-209e93d8f8fc",
   "metadata": {},
   "outputs": [],
   "source": [
    "class SimpleGAT(torch.nn.Module):\n",
    "    def __init__(self, in_channels, hidden_channels, out_channels, heads=1):\n",
    "        super().__init__()\n",
    "        self.conv1 = GATConv(in_channels, out_channels, heads=1, add_self_loops=False)\n",
    "\n",
    "    def forward(self, x, edge_index, target_node):\n",
    "        out = self.conv1(x, edge_index)"
   ]
  },
  {
   "cell_type": "markdown",
   "id": "b96696cf-f16c-4c69-aca9-e78d32cf2226",
   "metadata": {},
   "source": [
    "#### Loss"
   ]
  },
  {
   "cell_type": "markdown",
   "id": "a5b181b4-a928-48a1-89e5-136027d6c97e",
   "metadata": {},
   "source": [
    "The Loss will be the SSE of the likelihoods that the points of frame i+1 belong to the distributions that were created from the graph on frame i.\n"
   ]
  },
  {
   "cell_type": "code",
   "execution_count": 8,
   "id": "bbb6ca06-782a-4c52-a615-69685de770f7",
   "metadata": {},
   "outputs": [],
   "source": [
    "def calc_point_indices_to_distributions(distributions, points, treshhold_likelihood = 0):\n",
    "    if points.shape[0] == 0:\n",
    "        return np.zeros(distributions.shape[0]) - 1\n",
    "    \n",
    "    if points.shape[0] == 1 and distributions.shape[0] == 1:\n",
    "        likelihood_entries = calc_likelihoods_for_distributions_and_points(distributions, points)\n",
    "    \n",
    "        if likelihood_entries < treshhold_likelihood: return np.array([-1])\n",
    "        return np.array([0])\n",
    "\n",
    "    likelihoods = calc_likelihoods_for_distributions_and_points(distributions, points)\n",
    "    sorted_indices = np.argsort(likelihoods, axis=0)\n",
    "    ranks = np.zeros_like(likelihoods, dtype=int)\n",
    "    n_rows, n_cols = likelihoods.shape\n",
    "    ranks[sorted_indices, np.arange(n_cols)] = np.tile(np.arange(n_rows), (n_cols, 1)).T\n",
    "    \n",
    "    mask_binary = np.array((n_rows - ranks) <= n_cols, dtype=int)\n",
    "    cumsum_array = np.cumsum(mask_binary, axis=0)\n",
    "    \n",
    "    s = min(n_rows, n_cols)\n",
    "    extended_likelihood_entries = np.zeros((s+1, n_cols + 1))\n",
    "    \n",
    "    mask  = np.array((n_rows - ranks) <= n_cols)\n",
    "    \n",
    "    points_to_consider = np.where(np.any(mask, axis=1))[0]\n",
    "    filtered_points = points[points_to_consider]\n",
    "    \n",
    "    likelihood_entries = calc_likelihoods_for_distributions_and_points(distributions, filtered_points)\n",
    "    likelihood_indicies_to_filter = likelihood_entries < treshhold_likelihood\n",
    "    # punish points that should be filtered out\n",
    "    likelihood_entries[likelihood_indicies_to_filter] = 1e-50\n",
    "    \n",
    "    inv_percentage_of_likelihood = np.log(likelihood_entries)/ np.sum(np.log(likelihood_entries), axis=0)\n",
    "    # percentage_of_likelihood = (1 / inv_percentage_of_likelihood) / np.sum( (1 / inv_percentage_of_likelihood), axis=0)\n",
    "    # percentage_of_likelihood = inv_percentage_of_likelihood\n",
    "    \n",
    "    cost_matrix = np.log(inv_percentage_of_likelihood)\n",
    "    row_ind, col_ind = linear_sum_assignment(cost_matrix)\n",
    "    \n",
    "    max_index = max(col_ind) + 1\n",
    "    points_to_distributions = np.zeros(max_index, dtype=row_ind.dtype) - 1\n",
    "    \n",
    "    points_to_distributions[col_ind] = row_ind\n",
    "\n",
    "    # if punished points still come up ahead, set the association to -1\n",
    "    for point_index, distribution_index in enumerate(col_ind):\n",
    "        if likelihood_indicies_to_filter[point_index, distribution_index]:\n",
    "            points_to_distributions[point_index] = -1\n",
    "    \n",
    "    return points_to_distributions"
   ]
  },
  {
   "cell_type": "code",
   "execution_count": 9,
   "id": "43c442a1-df47-4998-891b-a60afd83ee35",
   "metadata": {},
   "outputs": [],
   "source": [
    "def classes_points_distributions_ids_from_graph(graph):\n",
    "    graph = graph.x\n",
    "    return graph[:, 6], graph[:, :6], graph[:, 7:9], graph[:, -1]"
   ]
  },
  {
   "cell_type": "code",
   "execution_count": 11,
   "id": "904ee05d-cbf2-4db3-826d-4cab990a1e8b",
   "metadata": {},
   "outputs": [],
   "source": [
    "def indicies_of_filterted_array_entries(filtered_indicies, relative_indicies):\n",
    "    return np.where(filtered_indicies)[0][relative_indicies]"
   ]
  },
  {
   "cell_type": "code",
   "execution_count": 17,
   "id": "e10e8cde-6e1a-43e2-9027-7057fd52315a",
   "metadata": {},
   "outputs": [],
   "source": [
    "def calculate_sse_for_distributions_and_points(graph_a, graph_b, mappings):\n",
    "    node_attr_a = classes_points_distributions_ids_from_graph(graph_a)\n",
    "    node_attr_b = classes_points_distributions_ids_from_graph(graph_b)\n",
    "    \n",
    "    dist_indicies = mappings[:, 0]\n",
    "    distributions = node_attr_a[1][dist_indicies]\n",
    "    distributions[:, :2] +=  np.array(node_attr_a[2][dist_indicies])[:]\n",
    "    distributions = np.array(distributions.reshape(distributions.shape[0], -1, 2))\n",
    "    \n",
    "    points = node_attr_b[2][mappings[:, 1]]\n",
    "    \n",
    "    likelihoods = torch.tensor(calc_likelihoods_for_distributions_and_points(distributions, points))\n",
    "    \n",
    "    return torch.sum(likelihoods * mappings.unsqueeze(-1), dim=1)[0, :]"
   ]
  },
  {
   "cell_type": "code",
   "execution_count": 13,
   "id": "101935ee-d25e-4de3-8f5c-de8cabc581f0",
   "metadata": {},
   "outputs": [],
   "source": [
    "@save_params\n",
    "def find_mapping_of_two_graphs(graph_a, graph_b):\n",
    "    node_attributes_a = classes_points_distributions_ids_from_graph(graph_a)\n",
    "    node_attributes_b = classes_points_distributions_ids_from_graph(graph_b)\n",
    "\n",
    "    total_mappings = torch.empty((0, 2), dtype=torch.int)\n",
    "\n",
    "    for label in classes_points_distributions_ids_from_graph(graph_b)[0].unique():\n",
    "        dist_filter = (node_attributes_a[0] == label)\n",
    "        dist_indicies = np.copy(dist_filter)\n",
    "        points_filter = (node_attributes_b[0] == label)\n",
    "        point_indicies = np.copy(points_filter)\n",
    "        distributions = node_attributes_a[1][dist_indicies]\n",
    "        distributions = np.array(distributions.reshape(distributions.shape[0], -1, 2))  # to have the correct format\n",
    "        distributions[:, 0, :] += np.array(node_attributes_a[2][dist_indicies])\n",
    "        points = node_attributes_b[2][point_indicies]\n",
    "        num_dist_entries = torch.sum(dist_filter)\n",
    "        \n",
    "        mappings = torch.full((num_dist_entries, 2), -1, dtype=torch.int)\n",
    "        mappings[:, 0] = torch.tensor((node_attributes_a[-1])[dist_filter], dtype=torch.int)\n",
    "        \n",
    "        dist_to_point_mapping = calc_point_indices_to_distributions(distributions, points)\n",
    "        \n",
    "        for i, dest_index in enumerate(dist_to_point_mapping):\n",
    "            if dest_index == -1:\n",
    "                continue\n",
    "            relative_point_index = indicies_of_filterted_array_entries(points_filter, i)\n",
    "            mappings[dest_index, 1] = torch.tensor((node_attributes_b[-1])[relative_point_index], dtype=torch.int)\n",
    "        \n",
    "        total_mappings = torch.cat((total_mappings, mappings), dim=0)\n",
    "\n",
    "    return total_mappings"
   ]
  },
  {
   "cell_type": "code",
   "execution_count": 14,
   "id": "ba394013-47c4-412e-be3e-112278a892de",
   "metadata": {},
   "outputs": [],
   "source": [
    "graph_a = train_dataset[700]\n",
    "graph_b = train_dataset[700]"
   ]
  },
  {
   "cell_type": "code",
   "execution_count": 15,
   "id": "2b47f844-f0b7-4c4e-a6b3-1e58013a24d7",
   "metadata": {},
   "outputs": [
    {
     "name": "stderr",
     "output_type": "stream",
     "text": [
      "/tmp/ipykernel_632536/3274530774.py:20: UserWarning: To copy construct from a tensor, it is recommended to use sourceTensor.clone().detach() or sourceTensor.clone().detach().requires_grad_(True), rather than torch.tensor(sourceTensor).\n",
      "  mappings[:, 0] = torch.tensor((node_attributes_a[-1])[dist_filter], dtype=torch.int)\n",
      "/tmp/ipykernel_632536/3274530774.py:28: UserWarning: To copy construct from a tensor, it is recommended to use sourceTensor.clone().detach() or sourceTensor.clone().detach().requires_grad_(True), rather than torch.tensor(sourceTensor).\n",
      "  mappings[dest_index, 1] = torch.tensor((node_attributes_b[-1])[relative_point_index], dtype=torch.int)\n"
     ]
    }
   ],
   "source": [
    "mappings = find_mapping_of_two_graphs(graph_a, graph_b)"
   ]
  },
  {
   "cell_type": "code",
   "execution_count": 16,
   "id": "54ce4e43-5192-4aae-9b8c-260045a0dba8",
   "metadata": {},
   "outputs": [
    {
     "data": {
      "text/plain": [
       "tensor([[1, 1],\n",
       "        [0, 0]], dtype=torch.int32)"
      ]
     },
     "execution_count": 16,
     "metadata": {},
     "output_type": "execute_result"
    }
   ],
   "source": [
    "mappings"
   ]
  },
  {
   "cell_type": "code",
   "execution_count": 18,
   "id": "6612f0ae-24af-4d90-ab17-62a9601f68b1",
   "metadata": {},
   "outputs": [
    {
     "data": {
      "text/plain": [
       "array([[0.15915494, 0.        ],\n",
       "       [0.        , 0.15915494]])"
      ]
     },
     "execution_count": 18,
     "metadata": {},
     "output_type": "execute_result"
    }
   ],
   "source": [
    "calculate_sse_for_distributions_and_points(graph_a, graph_b, mappings)"
   ]
  },
  {
   "cell_type": "code",
   "execution_count": 50,
   "id": "b2d0cacb-78ee-4ad7-b0be-d35495ad957a",
   "metadata": {},
   "outputs": [],
   "source": [
    "node_attr_a = classes_points_distributions_ids_from_graph(graph_a)\n",
    "node_attr_b = classes_points_distributions_ids_from_graph(graph_b)\n",
    "\n",
    "dist_indicies = mappings[:, 0]\n",
    "distributions = node_attr_a[1][dist_indicies]\n",
    "distributions[:, :2] +=  np.array(node_attr_a[2][dist_indicies])[:]\n",
    "distributions = np.array(distributions.reshape(distributions.shape[0], -1, 2))\n",
    "\n",
    "points = node_attr_b[2][mappings[:, 1]]\n",
    "\n",
    "likelihoods = torch.tensor(calc_likelihoods_for_distributions_and_points(distributions, points))"
   ]
  },
  {
   "cell_type": "code",
   "execution_count": 22,
   "id": "cc59679e-1ce0-4140-b4cd-dea23f498459",
   "metadata": {},
   "outputs": [
    {
     "data": {
      "text/plain": [
       "(array([[[176.76 , 119.265],\n",
       "         [  1.   ,   0.   ],\n",
       "         [  0.   ,   1.   ]],\n",
       " \n",
       "        [[151.585, 201.275],\n",
       "         [  1.   ,   0.   ],\n",
       "         [  0.   ,   1.   ]]], dtype=float32),\n",
       " tensor([[176.7600, 119.2650],\n",
       "         [151.5850, 201.2750]]))"
      ]
     },
     "execution_count": 22,
     "metadata": {},
     "output_type": "execute_result"
    }
   ],
   "source": [
    "distributions, points"
   ]
  },
  {
   "cell_type": "code",
   "execution_count": 37,
   "id": "3cdf811b-ef05-4a23-8a52-91bb76cfe901",
   "metadata": {},
   "outputs": [
    {
     "data": {
      "text/plain": [
       "array([[0.15915494, 0.        ],\n",
       "       [0.        , 0.15915494]])"
      ]
     },
     "execution_count": 37,
     "metadata": {},
     "output_type": "execute_result"
    }
   ],
   "source": [
    "likelihoods"
   ]
  },
  {
   "cell_type": "code",
   "execution_count": 36,
   "id": "7b6a30ff-eada-4102-8052-8c00d2883d00",
   "metadata": {},
   "outputs": [
    {
     "data": {
      "text/plain": [
       "tensor([[1, 1],\n",
       "        [0, 0]], dtype=torch.int32)"
      ]
     },
     "execution_count": 36,
     "metadata": {},
     "output_type": "execute_result"
    }
   ],
   "source": [
    "likelihoods\n",
    "# array([[0.15915494, 0.        ],\n",
    "#       [0.        , 0.15915494]])\n",
    "\n",
    "mappings\n",
    "# tensor([[1, 1],\n",
    "#        [0, 0]], dtype=torch.int32)\n",
    "\n",
    "# result = [0.15915494, 0.15915494]"
   ]
  },
  {
   "cell_type": "code",
   "execution_count": 45,
   "id": "1bd0384c-4f48-46d7-a344-7fd51efea2ac",
   "metadata": {},
   "outputs": [],
   "source": [
    "result = torch.tensor(likelihoods)[torch.arange(mappings.size(0)).unsqueeze(1), mappings]\n",
    "\n",
    "# Flatten the result to get a 1D tensor\n",
    "result = result.flatten()"
   ]
  },
  {
   "cell_type": "code",
   "execution_count": 41,
   "id": "e9adadc3-562d-4ad6-a5f6-bd8c45f6c838",
   "metadata": {},
   "outputs": [
    {
     "ename": "AttributeError",
     "evalue": "'numpy.ndarray' object has no attribute 'gather'",
     "output_type": "error",
     "traceback": [
      "\u001b[0;31m---------------------------------------------------------------------------\u001b[0m",
      "\u001b[0;31mAttributeError\u001b[0m                            Traceback (most recent call last)",
      "Cell \u001b[0;32mIn[41], line 1\u001b[0m\n\u001b[0;32m----> 1\u001b[0m \u001b[43mlikelihoods\u001b[49m\u001b[38;5;241;43m.\u001b[39;49m\u001b[43mgather\u001b[49m(\u001b[38;5;241m1\u001b[39m, np\u001b[38;5;241m.\u001b[39marray(mappings))\n",
      "\u001b[0;31mAttributeError\u001b[0m: 'numpy.ndarray' object has no attribute 'gather'"
     ]
    }
   ],
   "source": [
    "likelihoods.gather(1, mappings)"
   ]
  },
  {
   "cell_type": "code",
   "execution_count": 48,
   "id": "d66b7859-6747-4166-a687-689fe9c08ae5",
   "metadata": {},
   "outputs": [
    {
     "data": {
      "text/plain": [
       "tensor([0.1592, 0.0000], dtype=torch.float64)"
      ]
     },
     "execution_count": 48,
     "metadata": {},
     "output_type": "execute_result"
    }
   ],
   "source": [
    "torch.sum(torch.tensor(likelihoods) * mappings, dim=0)"
   ]
  },
  {
   "cell_type": "code",
   "execution_count": 51,
   "id": "264178d6-7dec-4c86-a057-ca30d743ff19",
   "metadata": {},
   "outputs": [
    {
     "data": {
      "text/plain": [
       "tensor([[0.1592, 0.0000],\n",
       "        [0.0000, 0.1592]], dtype=torch.float64)"
      ]
     },
     "execution_count": 51,
     "metadata": {},
     "output_type": "execute_result"
    }
   ],
   "source": [
    "torch.sum(likelihoods * mappings.unsqueeze(-1), dim=0)"
   ]
  },
  {
   "cell_type": "code",
   "execution_count": 67,
   "id": "412ba81e-a2d4-40c2-89fc-3befc0b19375",
   "metadata": {},
   "outputs": [
    {
     "ename": "SyntaxError",
     "evalue": "invalid syntax (1528378976.py, line 10)",
     "output_type": "error",
     "traceback": [
      "\u001b[0;36m  Cell \u001b[0;32mIn[67], line 10\u001b[0;36m\u001b[0m\n\u001b[0;31m    [likelihoods[[mapping[0], mapping[1]] for mapping in mappings]]\u001b[0m\n\u001b[0m                                          ^\u001b[0m\n\u001b[0;31mSyntaxError\u001b[0m\u001b[0;31m:\u001b[0m invalid syntax\n"
     ]
    }
   ],
   "source": [
    "import torch\n",
    "\n",
    "# Define the tensors\n",
    "likelihoods = torch.tensor([[0.15915494, 0.0],\n",
    "                            [0.0, 0.15915494]])\n",
    "\n",
    "mappings = torch.tensor([[1, 0],\n",
    "                         [0, 1]], dtype=torch.int32)\n",
    "\n",
    "likelihoods[mappings[:, 0], ma]"
   ]
  },
  {
   "cell_type": "code",
   "execution_count": 60,
   "id": "de8be65f-fa09-43a4-9572-0634d149b077",
   "metadata": {},
   "outputs": [
    {
     "data": {
      "text/plain": [
       "tensor([[0.1592, 0.0000],\n",
       "        [0.0000, 0.1592]])"
      ]
     },
     "execution_count": 60,
     "metadata": {},
     "output_type": "execute_result"
    }
   ],
   "source": [
    "likelihoods"
   ]
  },
  {
   "cell_type": "code",
   "execution_count": 61,
   "id": "889607dd-cd10-43ed-aaf5-d7facd4b4092",
   "metadata": {},
   "outputs": [
    {
     "name": "stdout",
     "output_type": "stream",
     "text": [
      "tensor([1, 0], dtype=torch.int32)\n",
      "tensor([0, 1], dtype=torch.int32)\n"
     ]
    }
   ],
   "source": [
    "for mapping in mappings:\n",
    "    print(mapping)"
   ]
  },
  {
   "cell_type": "code",
   "execution_count": 63,
   "id": "a2498233-2cf2-403b-80de-e273b86495a8",
   "metadata": {},
   "outputs": [
    {
     "data": {
      "text/plain": [
       "tensor(0.)"
      ]
     },
     "execution_count": 63,
     "metadata": {},
     "output_type": "execute_result"
    }
   ],
   "source": [
    "a = torch.tensor([[0.15915494, 0.0],\n",
    "                            [0.0, 0.15915494]])\n",
    "b = torch.tensor([0, 1])\n",
    "a[b[0], b[1]]"
   ]
  }
 ],
 "metadata": {
  "kernelspec": {
   "display_name": "Python 3 (ipykernel)",
   "language": "python",
   "name": "python3"
  },
  "language_info": {
   "codemirror_mode": {
    "name": "ipython",
    "version": 3
   },
   "file_extension": ".py",
   "mimetype": "text/x-python",
   "name": "python",
   "nbconvert_exporter": "python",
   "pygments_lexer": "ipython3",
   "version": "3.8.10"
  }
 },
 "nbformat": 4,
 "nbformat_minor": 5
}
