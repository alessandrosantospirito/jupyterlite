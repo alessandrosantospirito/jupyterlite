{
 "cells": [
  {
   "cell_type": "markdown",
   "id": "99931d90-db46-453f-a2fa-f66aa4a58707",
   "metadata": {},
   "source": [
    "#### Imports"
   ]
  },
  {
   "cell_type": "code",
   "execution_count": null,
   "id": "a9be78ec-eff8-4ddb-883d-9b8488d5ae8b",
   "metadata": {},
   "outputs": [],
   "source": [
    "import torch\n",
    "import numpy\n",
    "import math\n",
    "import matplotlib.pyplot as plt\n",
    "from matplotlib.animation import FuncAnimation\n",
    "from IPython.display import HTML\n",
    "import sys\n",
    "import os\n",
    "\n",
    "sys.path.insert(0, os.path.abspath('../pytorch-physics/'))\n",
    "from boid import Flock"
   ]
  },
  {
   "cell_type": "markdown",
   "id": "f7272a70-74c3-470b-b6e5-f869e5f212fb",
   "metadata": {
    "jp-MarkdownHeadingCollapsed": true
   },
   "source": [
    "#### Visualizations"
   ]
  },
  {
   "cell_type": "code",
   "execution_count": null,
   "id": "382de6d8-2ce2-4bf8-a5c4-40df29400063",
   "metadata": {},
   "outputs": [],
   "source": [
    "def visualize_boids(list_of_birds_pos, list_of_birds_vel, box_top):\n",
    "    list_of_birds_pos = [list_of_birds_pos[i].cpu().numpy() for i in range(len(list_of_birds_pos))]\n",
    "    list_of_birds_vel = [list_of_birds_vel[i].cpu().numpy() for i in range(len(list_of_birds_vel))]\n",
    "    \n",
    "    offset = math.floor(box_top / 50)\n",
    "    fig, ax = plt.subplots(figsize=(8, 8))\n",
    "    ax.set_xlim(offset, box_top - offset)\n",
    "    ax.set_ylim(offset, box_top - offset)\n",
    "    ax.set_xlabel('X-axis')\n",
    "    ax.set_ylabel('Y-axis')\n",
    "    \n",
    "    initial_positions = list_of_birds_pos[0]\n",
    "    initial_velocities = list_of_birds_vel[0]\n",
    "    \n",
    "    scatter = ax.scatter([], [], c='orange', s=10)\n",
    "    \n",
    "    quiver = ax.quiver(initial_positions[:, 0], initial_positions[:, 1], \n",
    "                       initial_velocities[:, 0], initial_velocities[:, 1], \n",
    "                       angles='xy', scale_units='xy', scale=1, color='blue')\n",
    "    \n",
    "    def update(frame):\n",
    "        positions = list_of_birds_pos[frame]\n",
    "        velocities = list_of_birds_vel[frame]\n",
    "    \n",
    "        scatter.set_offsets(positions)\n",
    "    \n",
    "        quiver.set_offsets(positions)\n",
    "        quiver.set_UVC(velocities[:, 0], velocities[:, 1])\n",
    "    \n",
    "        return scatter, quiver\n",
    "    \n",
    "    ani = FuncAnimation(fig, update, frames=len(list_of_birds_pos), interval=50, blit=True)\n",
    "    plt.close(fig)\n",
    "    return HTML(ani.to_html5_video())"
   ]
  },
  {
   "cell_type": "markdown",
   "id": "69440467-adc3-44ff-83b3-3678e1c1b426",
   "metadata": {},
   "source": [
    "#### Config-Values"
   ]
  },
  {
   "cell_type": "code",
   "execution_count": null,
   "id": "75beb930-c016-47bb-b409-5e76ecb27b6a",
   "metadata": {},
   "outputs": [],
   "source": [
    "device = torch.device(\"cuda:0\" if torch.cuda.is_available() else \"cpu\")\n",
    "N = 400\n",
    "box_top = 30\n",
    "\n",
    "flock_args = {\n",
    "    'D': 2,\n",
    "    'N': N,\n",
    "    'box_top': box_top,\n",
    "    'pass_through_edges': True,\n",
    "    'bouncy_edges': False,\n",
    "    'device': device,\n",
    "}\n",
    "\n",
    "boid_args = {\n",
    "    'init_speed': None,\n",
    "    'min_speed': 0.02,\n",
    "    'max_speed': 1,\n",
    "    'max_acc': 0.1,\n",
    "    \n",
    "    'view_radius': 3,\n",
    "    'view_angle': None,\n",
    "    \n",
    "    'avoid_radius': 5,\n",
    "    'avoid_view': True,\n",
    "    \n",
    "    'sep_factor': 0.05,    # avoidfactor\n",
    "    'align_factor': 0.05,  # matchingfactor\n",
    "    'cohe_factor': 0.0005,  # centeringfactor\n",
    "    'bias_factor': 0.005,\n",
    "    'edge_factor': 0.05,\n",
    "    \n",
    "    'is_debug': False\n",
    "}"
   ]
  },
  {
   "cell_type": "markdown",
   "id": "c1ecb299-5bdf-44b6-a65e-baf39752eb72",
   "metadata": {},
   "source": [
    "#### Simulation and Visualization"
   ]
  },
  {
   "cell_type": "code",
   "execution_count": null,
   "id": "201a0d80-6477-49c1-9581-0fe14e68fd3e",
   "metadata": {},
   "outputs": [],
   "source": [
    "flock = Flock(\n",
    "    **flock_args,\n",
    "    **boid_args\n",
    ")\n",
    "\n",
    "list_of_birds_pos = []\n",
    "list_of_birds_vel = []\n",
    "iterations = 150\n",
    "\n",
    "for _ in range(iterations):\n",
    "    flock.update()\n",
    "    list_of_birds_pos.append(flock.pos)\n",
    "    list_of_birds_vel.append(flock.vel)"
   ]
  },
  {
   "cell_type": "code",
   "execution_count": null,
   "id": "c0b86407-0aa3-44df-bd3a-2bf2ce701545",
   "metadata": {},
   "outputs": [],
   "source": [
    "visualize_boids(list_of_birds_pos, list_of_birds_vel, box_top)"
   ]
  }
 ],
 "metadata": {
  "language_info": {
   "name": "python"
  }
 },
 "nbformat": 4,
 "nbformat_minor": 5
}
