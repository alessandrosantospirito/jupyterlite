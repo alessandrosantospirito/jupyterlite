{
 "cells": [
  {
   "cell_type": "code",
   "execution_count": 1,
   "id": "1c3c611c-5553-4f19-843c-fa7eb83ae8f4",
   "metadata": {},
   "outputs": [],
   "source": [
    "import torch\n",
    "%run /workspaces/jupyterlite/content/pytroch/arrays_and_matricies.py"
   ]
  },
  {
   "cell_type": "markdown",
   "id": "6d6be5fd-1158-45fd-8050-1d4fcc1d4e35",
   "metadata": {},
   "source": [
    "### Algorithms"
   ]
  },
  {
   "cell_type": "markdown",
   "id": "e1c93ca9-92ba-448d-ad4b-c65b6118742a",
   "metadata": {},
   "source": [
    "#### One-Dimensional Array"
   ]
  },
  {
   "cell_type": "code",
   "execution_count": 2,
   "id": "a9dd7c2d-0d80-4a3f-8419-d443eea7e5df",
   "metadata": {},
   "outputs": [],
   "source": [
    "def fill_zero_places(a):\n",
    "    \"\"\"\n",
    "    a = tensor([1, 0, 0, 0, 0, 1, 0, 1, 0, 0, 0, 0, 0, 1, 0, 0, 0, 0, 0, 0, 0, 0, 1, 0, 0, 0, 0, 0, 0, 0])\n",
    "    b = tensor([-1,  1,  0,  0,  0,  0,  1,  0,  1,  0,  0,  0,  0,  0,  1,  0,  0,  0, 0,  0,  0,  0,  0,  1,  0,  0,  0,  0,  0,  0,  0])\n",
    "    nonzero_indices = tensor([ 0,  1,  6,  8, 14, 23])\n",
    "    diff = tensor([1, 5, 2, 6, 9, 8])\n",
    "    c = tensor([0, 1, 1, 1, 1, 1, 1, 1, 1, 1, 1, 1, 1, 1, 1, 1, 1, 1, 1, 1, 1, 1, 1, 1, 1, 1, 1, 1, 1, 1, 1]),\n",
    "    d = tensor([1, 1, 1, 1, 1, 1, 1, 1, 1, 1, 1, 1, 1, 1, 1, 1, 1, 1, 1, 1, 1, 1, 1, 1, 1, 1, 1, 1, 1, 1])\n",
    "    \"\"\"\n",
    "    b = torch.cat([torch.tensor([-1], device=a.device), a])\n",
    "    nonzero_indices = torch.nonzero(b).squeeze()\n",
    "    diff = torch.diff(torch.cat([nonzero_indices, torch.tensor([b.shape[0]], device=b.device)]))\n",
    "    c = b[nonzero_indices].repeat_interleave(diff)\n",
    "    c[c < 0] = 0\n",
    "    d = c[1:]\n",
    "    \n",
    "    return d"
   ]
  },
  {
   "cell_type": "code",
   "execution_count": 3,
   "id": "849b761e-626d-4383-8d4e-ec63c637d003",
   "metadata": {},
   "outputs": [],
   "source": [
    "def shift_values_to_next_available_zero(a):\n",
    "    \"\"\"\n",
    "    a = tensor([1, 0, 0, 0, 0, 1, 0, 1, 0, 0, 0, 0, 0, 1, 0, 0, 0, 0, 0, 0, 0, 0, 1, 0, 0, 0, 0, 0, 0, 0])\n",
    "    b = tensor([1, 1, 0, 0, 0, 0, 1, 0, 1, 0, 0, 0, 0, 0, 1, 0, 0, 0, 0, 0, 0, 0, 0, 1, 0, 0, 0, 0, 0, 0, 0])\n",
    "    c = tensor([ 0,  1,  0,  0,  0,  0,  6,  0,  8,  0,  0,  0,  0,  0, 14,  0,  0,  0, 0,  0,  0,  0,  0, 23,  0,  0,  0,  0,  0,  0,  0])\n",
    "    d = tensor([ 1,  0,  0,  0,  0,  6,  0,  8,  0,  0,  0,  0,  0, 14,  0,  0,  0,  0, 0,  0,  0,  0, 23,  0,  0,  0,  0,  0,  0,  0])\n",
    "    e = tensor([ 0,  1,  1,  1,  1,  1,  6,  6,  8,  8,  8,  8,  8,  8, 14, 14, 14, 14, 14, 14, 14, 14, 14, 23, 23, 23, 23, 23, 23, 23])\n",
    "    f = tensor([1, 1, 0, 0, 0, 0, 1, 0, 1, 0, 0, 0, 0, 0, 1, 0, 0, 0, 0, 0, 0, 0, 0, 0, 0, 0, 0, 0, 0, 0])\n",
    "    \"\"\"\n",
    "    b = (a > 0).int()\n",
    "    b = torch.cat([torch.tensor([1], device=a.device), b])\n",
    "    c = torch.arange(b.shape[0], device=a.device) * b\n",
    "    d = c[1:]\n",
    "    e = torch.roll(fill_zero_places(d), 1)\n",
    "    e[0] = 0\n",
    "    f = torch.zeros_like(a)\n",
    "    f.scatter_add_(0, e.long(), a)\n",
    "        \n",
    "    return f"
   ]
  },
  {
   "cell_type": "code",
   "execution_count": 4,
   "id": "15488192-7077-4510-ab46-1782fc746ee3",
   "metadata": {},
   "outputs": [],
   "source": [
    "def fill_zero_values_ascending_rest_with_zero(a):\n",
    "    \"\"\"\n",
    "    a = tensor([4, 3, 2, 1, 0, 1, 0, 5, 4, 3, 2, 1, 0, 8, 7, 6, 5, 4, 3, 2, 1, 0, 1, 0, 4, 3, 2, 1, 0, 0])\n",
    "    b = tensor([1, 1, 1, 1, 0, 1, 0, 1, 1, 1, 1, 1, 0, 1, 1, 1, 1, 1, 1, 1, 1, 0, 1, 0, 1, 1, 1, 1, 0, 0], dtype=torch.int32)\n",
    "    c = tensor([0, 0, 0, 0, 1, 1, 2, 2, 2, 2, 2, 2, 3, 3, 3, 3, 3, 3, 3, 3, 3, 4, 4, 5, 5, 5, 5, 5, 6, 7])\n",
    "    d = tensor([0, 0, 0, 0, 1, 0, 1, 0, 0, 0, 0, 0, 1, 0, 0, 0, 0, 0, 0, 0, 0, 1, 0, 1, 0, 0, 0, 0, 1, 2])\n",
    "    \"\"\"\n",
    "    b = (a > 0).int()\n",
    "    c = torch.cumsum(1 - b, dim=0)\n",
    "    d = (c * (1 - b) - torch.maximum(b * c, torch.zeros_like(c)).cummax(dim=0)[0]) * (1 - b)\n",
    "    \n",
    "    return d"
   ]
  },
  {
   "cell_type": "code",
   "execution_count": 5,
   "id": "e2895ecf-77ed-4f0f-be25-3a025f7a1f20",
   "metadata": {},
   "outputs": [],
   "source": [
    "def find_one_zero_pattern(a):\n",
    "    \"\"\"\n",
    "    a = tensor([0, 0, 0, 0, 1, 0, 1, 0, 0, 0, 0, 0, 1, 0, 0, 0, 0, 0, 0, 0, 0, 1, 0, 1, 0, 0, 0, 0, 0, 0], dtype=torch.int32)\n",
    "    b = tensor([0, 0, 0, 1, 0, 1, 0, 0, 0, 0, 0, 1, 0, 0, 0, 0, 0, 0, 0, 0, 1, 0, 1, 0, 0, 0, 0, 0, 0, 1], dtype=torch.int32)\n",
    "    c = tensor([ 0,  0,  0, -1,  1, -1,  1,  0,  0,  0,  0, -1,  1,  0,  0,  0,  0,  0, 0,  0, -1,  1, -1,  1,  0,  0,  0,  0,  0, -1], dtype=torch.int32)\n",
    "    d = tensor([0, 0, 0, 0, 1, 0, 1, 0, 0, 0, 0, 0, 1, 0, 0, 0, 0, 0, 0, 0, 0, 1, 0, 1, 0, 0, 0, 0, 0, 0], dtype=torch.int32)\n",
    "    \"\"\"\n",
    "    b = torch.roll(a.int(), -1)\n",
    "    b[-1] = 1\n",
    "    c = a - b\n",
    "    d = (c == 1).int()\n",
    "    \n",
    "    return d"
   ]
  },
  {
   "cell_type": "code",
   "execution_count": 6,
   "id": "e9779321-29d3-4471-86b6-0b85db822a49",
   "metadata": {},
   "outputs": [],
   "source": [
    "def fill_zero_values_descending_rest_with_zero(a):\n",
    "    \"\"\"\n",
    "    a = tensor([4, 3, 2, 1, 0, 1, 0, 5, 4, 3, 2, 1, 0, 8, 7, 6, 5, 4, 3, 2, 1, 0, 1, 0, 4, 3, 2, 1, 0, 0])\n",
    "    b = tensor([0, 0, 0, 0, 1, 0, 1, 0, 0, 0, 0, 0, 1, 0, 0, 0, 0, 0, 0, 0, 0, 1, 0, 1, 0, 0, 0, 0, 1, 2])\n",
    "    c = tensor([0, 0, 0, 0, 1, 0, 1, 0, 0, 0, 0, 0, 1, 0, 0, 0, 0, 0, 0, 0, 0, 1, 0, 1, 0, 0, 0, 0, 1, 1], dtype=torch.int32)\n",
    "    d = tensor([0, 0, 0, 0, 1, 0, 1, 0, 0, 0, 0, 0, 1, 0, 0, 0, 0, 0, 0, 0, 0, 1, 0, 1, 0, 0, 0, 0, 0, 0], dtype=torch.int32)\n",
    "    e = tensor([0, 0, 0, 0, 1, 0, 1, 0, 0, 0, 0, 0, 1, 0, 0, 0, 0, 0, 0, 0, 0, 1, 0, 1, 0, 0, 0, 0, 0, 0])\n",
    "    f = tensor([1, 0, 0, 0, 0, 1, 0, 1, 0, 0, 0, 0, 0, 1, 0, 0, 0, 0, 0, 0, 0, 0, 1, 0, 0, 0, 0, 0, 0, 0])\n",
    "    g = tensor([1, 1, 1, 1, 1, 1, 1, 1, 1, 1, 1, 1, 1, 1, 1, 1, 1, 1, 1, 1, 1, 1, 1, 1, 1, 1, 1, 1, 1, 1])\n",
    "    h = tensor([0, 0, 0, 0, 1, 0, 1, 0, 0, 0, 0, 0, 1, 0, 0, 0, 0, 0, 0, 0, 0, 1, 0, 1, 0, 0, 0, 0, 1, 0])\n",
    "    \"\"\"\n",
    "    b = fill_zero_values_ascending_rest_with_zero(a)\n",
    "    c = (b > 0).int()\n",
    "    d = find_one_zero_pattern(c)\n",
    "    e = d * b\n",
    "    f = shift_values_to_next_available_zero(e)\n",
    "    g = fill_zero_places(f)\n",
    "    h = ((g + 1) - b) * c\n",
    "    \n",
    "    return h"
   ]
  },
  {
   "cell_type": "code",
   "execution_count": 7,
   "id": "1d2b5688-333d-44ad-985f-7441562728d1",
   "metadata": {},
   "outputs": [],
   "source": [
    "def find_values_that_must_be_reordered(a):\n",
    "    \"\"\"\n",
    "    a = tensor([ 3, 10,  8, 11,  5, 13,  7, 14, 18, 15, 19, 20, 13, 21, 16, 24, 19, 24, 23, 22, 28, 22, 27, 26, 33, 32, 30, 32, 31, 36])\n",
    "    b = tensor([ 1,  2,  3,  4,  5,  6,  7,  8,  9, 10, 11, 12, 13, 14, 15, 16, 17, 18, 19, 20, 21, 22, 23, 24, 25, 26, 27, 28, 29, 30])\n",
    "    c = tensor([2, 8, 5, 7, 0, 7, 0, 6, 9, 5, 8, 8, 0, 7, 1, 8, 2, 6, 4, 2, 7, 0, 4, 2, 8, 6, 3, 4, 2, 6])\n",
    "    d = tensor([0, 0, 0, 0, 0, 0, 0, 0, 0, 0, 0, 0, 0, 0, 0, 0, 0, 0, 0, 0, 0, 0, 2, 2, 2, 2, 2, 2, 2, 6])\n",
    "    e = tensor([0, 0, 0, 0, 1, 0, 1, 0, 0, 0, 0, 0, 1, 0, 0, 0, 0, 0, 0, 0, 0, 1, 0, 1, 0, 0, 0, 0, 1, 1], dtype=torch.int32)\n",
    "    f = tensor([1, 1, 1, 1, 0, 1, 0, 1, 1, 1, 1, 1, 0, 1, 1, 1, 1, 1, 1, 1, 1, 0, 1, 0, 1, 1, 1, 1, 0, 0], dtype=torch.int32)\n",
    "    \"\"\"\n",
    "    b = torch.arange(1, a.shape[0] + 1)\n",
    "    c = a - b\n",
    "    d, _ = torch.cummin(c.flip(0), dim=0)\n",
    "    d = d.flip(0)\n",
    "    e = (c == d).int()\n",
    "    f = 1 - e\n",
    "\n",
    "    return f"
   ]
  },
  {
   "cell_type": "code",
   "execution_count": 8,
   "id": "f36cd4a4-8e45-49cf-9869-dcfee21ebbd8",
   "metadata": {},
   "outputs": [],
   "source": [
    "def adjust_cars_no_lane_change(a):\n",
    "    \"\"\"\n",
    "    a = tensor([ 3, 10,  8, 11,  5, 13,  7, 14, 18, 15, 19, 20, 13, 21, 16, 24, 19, 24, 23, 22, 28, 22, 27, 26, 33, 32, 30, 32, 31, 36])\n",
    "    b = tensor([0, 0, 0, 0, 1, 0, 1, 0, 0, 0, 0, 0, 1, 0, 0, 0, 0, 0, 0, 0, 0, 1, 0, 1, 0, 0, 0, 0, 1, 1], dtype=torch.int32)\n",
    "    c = tensor([4, 3, 2, 1, 0, 1, 0, 5, 4, 3, 2, 1, 0, 8, 7, 6, 5, 4, 3, 2, 1, 0, 1, 0, 4, 3, 2, 1, 0, 0])\n",
    "    d = tensor([ 0,  0,  0,  0,  5,  0,  7,  0,  0,  0,  0,  0, 13,  0,  0,  0,  0,  0, 0,  0,  0, 22,  0, 26,  0,  0,  0,  0, 31, 36])\n",
    "    e = tensor([ 5,  0,  0,  0,  0,  7,  0, 13,  0,  0,  0,  0,  0, 22,  0,  0,  0,  0, 0,  0,  0,  0, 26,  0, 31,  0,  0,  0,  0, 36])\n",
    "    f = tensor([ 5,  5,  5,  5,  5,  7,  7, 13, 13, 13, 13, 13, 13, 22, 22, 22, 22, 22, 22, 22, 22, 22, 26, 26, 31, 31, 31, 31, 31, 36])\n",
    "    g = tensor([ 1,  2,  3,  4,  5,  6,  7,  8,  9, 10, 11, 12, 13, 14, 15, 16, 17, 18, 19, 20, 21, 22, 25, 26, 27, 28, 29, 30, 31, 36])\n",
    "    \"\"\"\n",
    "    b = 1 - find_values_that_must_be_reordered(a)\n",
    "    c = fill_zero_values_descending_rest_with_zero(b)\n",
    "    d = a * b\n",
    "    e = shift_values_to_next_available_zero(d)\n",
    "    f = fill_zero_places(e)\n",
    "    g = f - c\n",
    "\n",
    "    return g"
   ]
  },
  {
   "cell_type": "markdown",
   "id": "a32319be-0ae2-4a4e-9e15-87ae474c8890",
   "metadata": {},
   "source": [
    "#### Matrices"
   ]
  },
  {
   "cell_type": "code",
   "execution_count": null,
   "id": "4c4ca4e8-16d8-4263-8f3a-9a2ad63bdd95",
   "metadata": {},
   "outputs": [],
   "source": []
  },
  {
   "cell_type": "markdown",
   "id": "dc0bce9e-e163-4438-bb14-330ff6e5afc0",
   "metadata": {},
   "source": [
    "### Use-Cases"
   ]
  },
  {
   "cell_type": "markdown",
   "id": "5b0a6a13-8d11-4b57-9d0f-e5672980f90b",
   "metadata": {},
   "source": [
    "#### Single Lane"
   ]
  },
  {
   "cell_type": "code",
   "execution_count": 9,
   "id": "9680c6d3-ed4c-49e4-937e-9161e58600d2",
   "metadata": {},
   "outputs": [
    {
     "data": {
      "text/plain": [
       "tensor([30, 31, 32, 33, 34, 35, 36, 37, 38, 39, 40, 41, 42, 43, 44, 45, 46, 47,\n",
       "        48, 49, 50, 51, 52, 53, 54, 55, 56, 57, 58, 59])"
      ]
     },
     "execution_count": 9,
     "metadata": {},
     "output_type": "execute_result"
    }
   ],
   "source": [
    "a = torch.tensor([ 83,  84,  89,  93,  87,  92,  90,  95,  90,  94,  94,  96,  97, 101,  97, 105, 104,  99, 101, 101, 101, 110, 105, 111, 106, 115, 90,  86, 107,  59])\n",
    "adjust_cars_no_lane_change(a)"
   ]
  },
  {
   "cell_type": "code",
   "execution_count": 10,
   "id": "555f9ff0-faba-4f84-91f5-7d211614ede8",
   "metadata": {},
   "outputs": [
    {
     "data": {
      "text/plain": [
       "tensor([ 1,  2,  3,  4,  5,  6,  7,  8,  9, 10, 11, 12, 13, 14, 15, 16, 17, 18,\n",
       "        19, 20, 21, 22, 25, 26, 27, 28, 29, 30, 31, 36])"
      ]
     },
     "execution_count": 10,
     "metadata": {},
     "output_type": "execute_result"
    }
   ],
   "source": [
    "a = torch.tensor([ 3, 10,  8, 11,  5, 13,  7, 14, 18, 15, 19, 20, 13, 21, 16, 24, 19, 24, 23, 22, 28, 22, 27, 26, 33, 32, 30, 32, 31, 36])\n",
    "adjust_cars_no_lane_change(a)"
   ]
  },
  {
   "cell_type": "code",
   "execution_count": 11,
   "id": "0718745b-72f4-4990-9d11-8df9a54324c7",
   "metadata": {},
   "outputs": [
    {
     "data": {
      "text/plain": [
       "tensor([ 1,  2,  3,  4,  5,  6,  7,  8,  9, 10, 11, 12, 13, 14, 15, 16, 17, 18,\n",
       "        19, 20, 21, 22, 23, 24, 25, 26, 27, 28, 30, 35])"
      ]
     },
     "execution_count": 11,
     "metadata": {},
     "output_type": "execute_result"
    }
   ],
   "source": [
    "a = torch.tensor([ 1,  4,  3,  6,  5,  6,  8,  8, 14, 10, 11, 13, 13, 14, 15, 16, 17, 18,  19, 20, 21, 23, 23, 24, 25, 26, 27, 28, 30, 35])\n",
    "adjust_cars_no_lane_change(a)"
   ]
  },
  {
   "cell_type": "markdown",
   "id": "ace6bfb4-89db-4bcc-b507-eff58d8504af",
   "metadata": {},
   "source": [
    "#### Multi-Lane"
   ]
  },
  {
   "cell_type": "code",
   "execution_count": 12,
   "id": "4a09d630-bb31-4630-86d3-56613a7776b1",
   "metadata": {},
   "outputs": [],
   "source": [
    "# [lane, index, speed]\n",
    "cars = torch.tensor([[0, 1, 4], [1, 5, 3], [0, 3, 5], [1, 7, 3], [1, 6, 7], [0, 4, 3], [1, 10, 1], [1, 11, 3], [0, 5, 5], [0, 6, 3]])"
   ]
  },
  {
   "cell_type": "code",
   "execution_count": 13,
   "id": "f256b639-32d2-4f57-8ca5-8549ed17f73e",
   "metadata": {},
   "outputs": [
    {
     "data": {
      "text/plain": [
       "tensor([0, 0, 0, 0, 0, 0, 0, 0, 0], dtype=torch.int32)"
      ]
     },
     "execution_count": 13,
     "metadata": {},
     "output_type": "execute_result"
    }
   ],
   "source": [
    "(cars[1:, 1] - cars[:-1, 1]  == 0).int()"
   ]
  },
  {
   "cell_type": "code",
   "execution_count": 14,
   "id": "c5383ed8-ef2a-4356-9eea-55a9293010ca",
   "metadata": {},
   "outputs": [],
   "source": [
    "def eligible_for_takeover(a, val_idx=1):\n",
    "    \"\"\"\n",
    "    - two lane case\n",
    "    - all cars with their original indicies (no adjustment to put them in one lane)\n",
    "    - those cars where the index occurs twice cannot change the lane\n",
    "\n",
    "    a = torch.tensor([[0, 1, 4], [0, 2, 3], [0, 3, 5], [1, 2, 3], [1, 3, 7], [0, 4, 3], [1, 10, 1], [1, 11, 3], [0, 9, 5], [0, 10, 3]], dtype=torch.float)\n",
    "    b = tensor([0, 1, 0, 1, 0, 0, 0, 1, 0, 0], dtype=torch.int32)\n",
    "    c = tensor([0, 1, 1, 1, 1, 0, 0, 1, 1, 0], dtype=torch.int32)\n",
    "    d = tensor([0, 1, 1, 0, 1, 1, 1, 0, 1, 0], dtype=torch.int32)\n",
    "    e = tensor([1, 0, 0, 1, 0, 0, 0, 1, 0, 1], dtype=torch.int32)\n",
    "    \"\"\"\n",
    "\n",
    "    sorted_matrix = sort_matrix_by_nth_entry(a, val_idx)\n",
    "    b = (sorted_matrix[:, val_idx] - torch.cat([sorted_matrix[1:, val_idx], torch.tensor([sorted_matrix[-2, val_idx]])]) == 0).int()\n",
    "    c = torch.roll(b, 1) | b\n",
    "    d = reverse_sort_matrix_by_nth_entry(a, c)\n",
    "    e = 1 - d\n",
    "    \n",
    "    return e"
   ]
  },
  {
   "cell_type": "code",
   "execution_count": 15,
   "id": "6bca8d68-ff4f-4c92-892f-feafd8594c24",
   "metadata": {},
   "outputs": [
    {
     "data": {
      "text/plain": [
       "tensor([1, 0, 0, 1, 0, 0, 0, 1, 0, 1], dtype=torch.int32)"
      ]
     },
     "execution_count": 15,
     "metadata": {},
     "output_type": "execute_result"
    }
   ],
   "source": [
    "a = torch.tensor([[0, 1, 4], [0, 2, 3], [0, 3, 5], [1, 2, 3], [1, 3, 7], [0, 4, 3], [1, 10, 1], [1, 11, 3], [0, 9, 5], [0, 10, 3]], dtype=torch.float)\n",
    "eligible_for_takeover(a)"
   ]
  },
  {
   "cell_type": "code",
   "execution_count": 16,
   "id": "9de7a33a-2718-4c90-8b4e-11c7c4172757",
   "metadata": {
    "scrolled": true
   },
   "outputs": [
    {
     "data": {
      "text/plain": [
       "(tensor([[ 0., 11.,  4.],\n",
       "         [ 0., 12.,  3.],\n",
       "         [ 0., 13.,  5.],\n",
       "         [ 1., 23.,  3.],\n",
       "         [ 1., 24.,  7.],\n",
       "         [ 0., 14.,  3.],\n",
       "         [ 1., 31.,  1.],\n",
       "         [ 1., 32.,  3.],\n",
       "         [ 0., 19.,  5.],\n",
       "         [ 0., 20.,  3.]]),\n",
       " tensor([[ 0., 15.,  4.],\n",
       "         [ 0., 15.,  3.],\n",
       "         [ 0., 18.,  5.],\n",
       "         [ 1., 26.,  3.],\n",
       "         [ 1., 31.,  7.],\n",
       "         [ 0., 17.,  3.],\n",
       "         [ 1., 32.,  1.],\n",
       "         [ 1., 35.,  3.],\n",
       "         [ 0., 24.,  5.],\n",
       "         [ 0., 23.,  3.]]),\n",
       " tensor([[ 0., 14.,  4.],\n",
       "         [ 0., 15.,  3.],\n",
       "         [ 0., 16.,  5.],\n",
       "         [ 0., 17.,  3.],\n",
       "         [ 0., 22.,  5.],\n",
       "         [ 0., 23.,  3.],\n",
       "         [ 1., 26.,  3.],\n",
       "         [ 1., 31.,  7.],\n",
       "         [ 1., 32.,  1.],\n",
       "         [ 1., 35.,  3.]]),\n",
       " tensor([[ 0., 14.,  4.],\n",
       "         [ 0., 15.,  3.],\n",
       "         [ 0., 16.,  5.],\n",
       "         [ 1., 26.,  3.],\n",
       "         [ 1., 31.,  7.],\n",
       "         [ 0., 17.,  3.],\n",
       "         [ 1., 32.,  1.],\n",
       "         [ 1., 35.,  3.],\n",
       "         [ 0., 22.,  5.],\n",
       "         [ 0., 23.,  3.]]))"
      ]
     },
     "execution_count": 16,
     "metadata": {},
     "output_type": "execute_result"
    }
   ],
   "source": [
    "import torch\n",
    "\n",
    "cars = torch.tensor([[0, 1, 4], [0, 2, 3], [0, 3, 5], [1, 2, 3], [1, 3, 7], [0, 4, 3], [1, 10, 1], [1, 11, 3], [0, 9, 5], [0, 10, 3]], dtype=torch.float)\n",
    "max_values = maximum_value_by_grp(cars, 0, 1)\n",
    "\n",
    "# before the updates, no car is eligible for takeover (all cars are already in order)\n",
    "max_values_per_lane = maximum_value_by_grp(cars, 0, 1)\n",
    "cars_in_single_lane = add_to_matrix_mapping_values(cars, max_values_per_lane)\n",
    "\n",
    "# Update the cars\n",
    "cars_update = torch.clone(cars_in_single_lane)\n",
    "cars_update[:, 1] += cars_update[:, 2]\n",
    "\n",
    "# Adjust the cars, such that they could fit into one lane (to execute adjust_cars_no_lane_change)\n",
    "cars_update_ordered_by_grp = sort_matrix_by_nth_entry(cars_update)\n",
    "cars_update_in_lane = torch.clone(cars_update_ordered_by_grp)\n",
    "cars_update_in_lane[:, 1] = adjust_cars_no_lane_change(cars_update_ordered_by_grp[:, 1])[:]\n",
    "\n",
    "# Create the original order of the cars for the updates\n",
    "cars_updated_original_order = reverse_sort_matrix_by_nth_entry(cars_update, cars_update_in_lane)\n",
    "\n",
    "cars_in_single_lane, cars_update, cars_update_in_lane, cars_updated_original_order"
   ]
  },
  {
   "cell_type": "code",
   "execution_count": 75,
   "id": "30603093-d6d1-438f-9f9b-b567b7339f2d",
   "metadata": {},
   "outputs": [
    {
     "data": {
      "text/plain": [
       "(tensor([[ 0.,  4.,  4.],\n",
       "         [ 0.,  5.,  3.],\n",
       "         [ 0.,  6.,  5.],\n",
       "         [ 0.,  7.,  3.],\n",
       "         [ 0., 12.,  5.],\n",
       "         [ 0., 13.,  3.],\n",
       "         [ 1.,  5.,  3.],\n",
       "         [ 1., 10.,  7.],\n",
       "         [ 1., 11.,  1.],\n",
       "         [ 1., 14.,  3.]]),\n",
       " tensor([[ 0.,  4.,  4.],\n",
       "         [ 0.,  5.,  3.],\n",
       "         [ 0.,  6.,  5.],\n",
       "         [ 0.,  7.,  3.],\n",
       "         [ 0., 12.,  5.],\n",
       "         [ 0., 13.,  3.],\n",
       "         [ 1.,  5.,  3.],\n",
       "         [ 1., 10.,  7.],\n",
       "         [ 1., 11.,  1.],\n",
       "         [ 1., 14.,  3.]]))"
      ]
     },
     "execution_count": 75,
     "metadata": {},
     "output_type": "execute_result"
    }
   ],
   "source": [
    "neg_max_values_per_lane = torch.clone(max_values_per_lane)\n",
    "neg_max_values_per_lane[:, 1] = - neg_max_values_per_lane[:, 1]\n",
    "cars_update_multi_lane = add_to_matrix_mapping_values(cars_update_in_lane, neg_max_values_per_lane)\n",
    "cars_update_in_lane, cars_update_multi_lane"
   ]
  },
  {
   "cell_type": "code",
   "execution_count": 76,
   "id": "24986369-68b7-442d-b0fe-bcf74d8da1ad",
   "metadata": {},
   "outputs": [
    {
     "data": {
      "text/plain": [
       "tensor([[ 0., 10.],\n",
       "        [ 1., 11.]])"
      ]
     },
     "execution_count": 76,
     "metadata": {},
     "output_type": "execute_result"
    }
   ],
   "source": [
    "max_values_per_lane"
   ]
  },
  {
   "cell_type": "code",
   "execution_count": 19,
   "id": "14912140-12bf-4d6a-9bf9-7ea28fada759",
   "metadata": {},
   "outputs": [
    {
     "data": {
      "text/plain": [
       "(tensor([1, 0, 1, 0, 1, 0, 0, 0, 0, 0], dtype=torch.int32),\n",
       " tensor([1, 0, 1, 0, 0, 0, 0, 0, 1, 0], dtype=torch.int32))"
      ]
     },
     "execution_count": 19,
     "metadata": {},
     "output_type": "execute_result"
    }
   ],
   "source": [
    "updated_cars_to_be_reordered = find_values_that_must_be_reordered(cars_update_ordered_by_grp[:, 1])\n",
    "original_cars_to_be_reordered = reverse_sort_matrix_by_nth_entry(cars_update, updated_cars_to_be_reordered)\n",
    "\n",
    "updated_cars_to_be_reordered, original_cars_to_be_reordered"
   ]
  },
  {
   "cell_type": "code",
   "execution_count": 20,
   "id": "071ec1d4-d0ef-4a77-b793-b69c25472075",
   "metadata": {},
   "outputs": [
    {
     "data": {
      "text/plain": [
       "tensor([15., 15., 18., 26., 31., 17., 32., 35., 24., 23.])"
      ]
     },
     "execution_count": 20,
     "metadata": {},
     "output_type": "execute_result"
    }
   ],
   "source": [
    "cars_update[:, 1]"
   ]
  },
  {
   "cell_type": "code",
   "execution_count": 79,
   "id": "f943fcea-e949-41f8-b245-8dbe985e840c",
   "metadata": {},
   "outputs": [],
   "source": [
    "def mapping_max_values_to_prev_lanes(cars):\n",
    "    \"\"\"\n",
    "    - two lanes\n",
    "    \"\"\"\n",
    "    max_values_per_lane = maximum_value_by_grp(cars, 0, 1)\n",
    "    mapping_max_values_per_lane = torch.clone(max_values_per_lane)\n",
    "    mapping_max_values_per_lane[1:, 1] = mapping_max_values_per_lane[:-1, 1]\n",
    "    mapping_max_values_per_lane[0, 1] = 0\n",
    "\n",
    "    return mapping_max_values_per_lane"
   ]
  },
  {
   "cell_type": "code",
   "execution_count": 78,
   "id": "8ae27b4f-86b6-4e6d-a36c-db179eee0ae3",
   "metadata": {},
   "outputs": [],
   "source": [
    "def cars_desiring_takeover(cars, grp_idx = 0, val_idx = 1, speed_idx = 2):\n",
    "    \"\"\"\n",
    "    - two lane case\n",
    "    - all cars with their original indicies (no adjustment to put them in one lane)\n",
    "\n",
    "    returns:\n",
    "     - original_cars_to_overtake: positions of cars (in their original index) which try to overtake\n",
    "    \"\"\"\n",
    "\n",
    "    # before the updates, no car is eligible for takeover (all cars are already in order)\n",
    "    mapping_max_values_per_lane = mapping_max_values_to_prev_lanes(cars)\n",
    "    cars_in_single_lane = add_to_matrix_mapping_values(cars, mapping_max_values_per_lane)\n",
    "    \n",
    "    # Update the cars\n",
    "    cars_update = torch.clone(cars_in_single_lane)\n",
    "    cars_update[:, val_idx] += cars_update[:, speed_idx]\n",
    "    \n",
    "    # Adjust the cars, such that they could fit into one lane (to execute adjust_cars_no_lane_change)\n",
    "    cars_update_ordered_by_grp = sort_matrix_by_nth_entry(cars_update)\n",
    "\n",
    "    # Based on the cars in their respective groups, which are the ones that try to overtake?\n",
    "    updated_cars_to_overtake = find_values_that_must_be_reordered(cars_update_ordered_by_grp[:, 1])\n",
    "    original_cars_to_overtake = reverse_sort_matrix_by_nth_entry(cars_update, updated_cars_to_overtake)\n",
    "\n",
    "    return original_cars_to_overtake"
   ]
  },
  {
   "cell_type": "code",
   "execution_count": 54,
   "id": "54d47cfe-0264-4b7f-8ed7-03dc67b408e6",
   "metadata": {},
   "outputs": [],
   "source": [
    "def cars_that_overtake(cars):\n",
    "    cars_that_might_overtake = cars_desiring_takeover(cars) & eligible_for_takeover(cars)\n",
    "    prob_that_cars_overtake = cars_that_might_overtake * cars[:, 3]\n",
    "    cars_that_overtake = (prob_that_cars_overtake > torch.rand(prob_that_cars_overtake.shape[0]))\n",
    "\n",
    "    return cars_that_overtake"
   ]
  },
  {
   "cell_type": "code",
   "execution_count": 80,
   "id": "59868bb5-cfb2-4c8a-9b23-dd6d794a47ff",
   "metadata": {},
   "outputs": [],
   "source": [
    "def update_cars(cars):\n",
    "    \"\"\"\n",
    "    - two car lanes\n",
    "    \"\"\"\n",
    "    \n",
    "    cars_that_change_lane = cars_that_overtake(cars)\n",
    "    cars[:, 0] += cars_that_change_lane\n",
    "    cars[:, 0] = torch.remainder(cars[:, 0], 2)\n",
    "\n",
    "    # Put all cars in one lane\n",
    "    max_values_per_lane = mapping_max_values_to_prev_lanes(cars)\n",
    "    cars_in_single_lane = add_to_matrix_mapping_values(cars, max_values_per_lane)\n",
    "    \n",
    "    # Update the cars\n",
    "    cars_update = torch.clone(cars_in_single_lane)\n",
    "    cars_update[:, 1] += cars_update[:, 2]\n",
    "\n",
    "    # Adjust the cars, such that they could fit into one lane (to execute adjust_cars_no_lane_change)\n",
    "    cars_update_ordered_by_grp = sort_matrix_by_nth_entry(cars_update)\n",
    "    cars_update_in_lane = torch.clone(cars_update_ordered_by_grp)\n",
    "    cars_update_in_lane[:, 1] = adjust_cars_no_lane_change(cars_update_ordered_by_grp[:, 1])[:]\n",
    "\n",
    "    # Remove the lane offset and put the cars to the original index\n",
    "    neg_max_values_per_lane = torch.clone(max_values_per_lane)\n",
    "    neg_max_values_per_lane[:, 1] = - neg_max_values_per_lane[:, 1]\n",
    "    cars_update_multi_lane = add_to_matrix_mapping_values(cars_update_in_lane, neg_max_values_per_lane)\n",
    "\n",
    "    return cars_update_multi_lane"
   ]
  },
  {
   "cell_type": "code",
   "execution_count": 56,
   "id": "fce059fa-a141-4bfb-ac77-559487831495",
   "metadata": {},
   "outputs": [],
   "source": [
    "import torch\n",
    "\n",
    "cars = torch.tensor([[0, 1, 4], [0, 2, 3], [0, 3, 5], [1, 2, 3], [1, 3, 7], [0, 4, 3], [1, 10, 1], [1, 11, 3], [0, 9, 5], [0, 10, 3]], dtype=torch.float)\n",
    "max_values = maximum_value_by_grp(cars, 0, 1)\n",
    "\n",
    "# before the updates, no car is eligible for takeover (all cars are already in order)\n",
    "max_values_per_lane = maximum_value_by_grp(cars, 0, 1)\n",
    "cars_in_single_lane = add_to_matrix_mapping_values(cars, max_values_per_lane)\n",
    "\n",
    "# Update the cars\n",
    "cars_update = torch.clone(cars_in_single_lane)\n",
    "cars_update[:, 1] += cars_update[:, 2]\n",
    "\n",
    "# Adjust the cars, such that they could fit into one lane (to execute adjust_cars_no_lane_change)\n",
    "cars_update_ordered_by_grp = sort_matrix_by_nth_entry(cars_update)\n",
    "cars_update_in_lane = torch.clone(cars_update_ordered_by_grp)\n",
    "cars_update_in_lane[:, 1] = adjust_cars_no_lane_change(cars_update_ordered_by_grp[:, 1])[:]\n",
    "\n",
    "# Create the original order of the cars for the updates\n",
    "cars_updated_original_order = reverse_sort_matrix_by_nth_entry(cars_update, cars_update_in_lane)\n"
   ]
  },
  {
   "cell_type": "code",
   "execution_count": 87,
   "id": "bb90aaa3-429a-4825-a1f9-d6be04395f01",
   "metadata": {},
   "outputs": [
    {
     "data": {
      "text/plain": [
       "tensor([[ 0.0000,  4.0000,  4.0000,  0.1000],\n",
       "        [ 0.0000,  5.0000,  3.0000,  0.1000],\n",
       "        [ 0.0000,  6.0000,  5.0000,  0.1000],\n",
       "        [ 0.0000,  7.0000,  3.0000,  0.1000],\n",
       "        [ 0.0000, 12.0000,  5.0000,  0.1000],\n",
       "        [ 0.0000, 13.0000,  3.0000,  0.1000],\n",
       "        [ 1.0000, 15.0000,  3.0000,  0.1000],\n",
       "        [ 1.0000, 20.0000,  7.0000,  0.1000],\n",
       "        [ 1.0000, 21.0000,  1.0000,  0.1000],\n",
       "        [ 1.0000, 24.0000,  3.0000,  0.1000]])"
      ]
     },
     "execution_count": 87,
     "metadata": {},
     "output_type": "execute_result"
    }
   ],
   "source": [
    "cars = torch.tensor([[0, 1, 4, 0.1], [0, 2, 3, 0.1], [0, 3, 5, 0.1], [1, 2, 3, 0.1], [1, 3, 7, 0.1], [0, 4, 3, 0.1], [1, 10, 1, 0.1], [1, 11, 3, 0.1], [0, 9, 5, 0.1], [0, 10, 3, 0.1]], dtype=torch.float)\n",
    "cars = update_cars(cars)"
   ]
  },
  {
   "cell_type": "code",
   "execution_count": 74,
   "id": "226d6498-cb3b-4d57-9a4d-ad1dadf96680",
   "metadata": {},
   "outputs": [
    {
     "data": {
      "text/plain": [
       "tensor([[ 1.0000,  1.0000,  4.0000,  1.0000],\n",
       "        [ 0.0000,  2.0000,  3.0000,  0.1000],\n",
       "        [ 0.0000,  3.0000,  5.0000,  0.1000],\n",
       "        [ 1.0000, 12.0000,  3.0000,  0.1000],\n",
       "        [ 1.0000, 13.0000,  7.0000,  0.1000],\n",
       "        [ 0.0000,  4.0000,  3.0000,  0.1000],\n",
       "        [ 1.0000, 20.0000,  1.0000,  0.1000],\n",
       "        [ 1.0000, 21.0000,  3.0000,  0.1000],\n",
       "        [ 0.0000,  9.0000,  5.0000,  0.1000],\n",
       "        [ 0.0000, 10.0000,  3.0000,  0.1000]])"
      ]
     },
     "execution_count": 74,
     "metadata": {},
     "output_type": "execute_result"
    }
   ],
   "source": [
    "import torch\n",
    "\n",
    "cars = torch.tensor([[0, 1, 4, 0.1], [0, 2, 3, 0.1], [0, 3, 5, 0.1], [1, 2, 3, 0.1], [1, 3, 7, 0.1], [0, 4, 3, 0.1], [1, 10, 1, 0.1], [1, 11, 3, 0.1], [0, 9, 5, 0.1], [0, 10, 3, 0.1]], dtype=torch.float)\n",
    "max_values = maximum_value_by_grp(cars, 0, 1)\n",
    "\n",
    "cars_that_change_lane = cars_that_overtake(cars)\n",
    "cars[:, 0] += cars_that_change_lane\n",
    "cars[:, 0] = torch.remainder(cars[:, 0], 2)\n",
    "\n",
    "cars"
   ]
  },
  {
   "cell_type": "code",
   "execution_count": 65,
   "id": "b6f71385-0928-4f04-b6fa-c412d0edb116",
   "metadata": {},
   "outputs": [
    {
     "data": {
      "text/plain": [
       "tensor([False, False, False, False, False, False, False, False, False, False])"
      ]
     },
     "execution_count": 65,
     "metadata": {},
     "output_type": "execute_result"
    }
   ],
   "source": [
    "cars_that_change_lane"
   ]
  },
  {
   "cell_type": "code",
   "execution_count": 52,
   "id": "f8a5babf-7aac-4961-891a-3c7febc2aed6",
   "metadata": {},
   "outputs": [
    {
     "data": {
      "text/plain": [
       "tensor([False, False, False, False, False, False, False, False, False, False])"
      ]
     },
     "execution_count": 52,
     "metadata": {},
     "output_type": "execute_result"
    }
   ],
   "source": [
    "cars_that_might_overtake = cars_desiring_takeover(cars) & eligible_for_takeover(cars)\n",
    "prob_that_cars_overtake = cars_that_might_overtake * cars[:, 3]\n",
    "cars_that_overtake = (prob_that_cars_overtake > torch.rand(prob_that_cars_overtake.shape[0]))\n",
    "cars_that_overtake"
   ]
  },
  {
   "cell_type": "code",
   "execution_count": 45,
   "id": "afb989b1-f3ad-4295-af0f-f602919bf17d",
   "metadata": {},
   "outputs": [
    {
     "data": {
      "text/plain": [
       "tensor([0.5393, 0.0325, 0.6074, 0.3039, 0.5253, 0.9845, 0.3841, 0.6454, 0.9784,\n",
       "        0.2262])"
      ]
     },
     "execution_count": 45,
     "metadata": {},
     "output_type": "execute_result"
    }
   ],
   "source": []
  },
  {
   "cell_type": "code",
   "execution_count": 24,
   "id": "b2ed83b2-e604-4a86-8167-a37830c8899c",
   "metadata": {},
   "outputs": [
    {
     "data": {
      "text/plain": [
       "(tensor([[ 0.,  1.,  4.],\n",
       "         [ 0.,  2.,  3.],\n",
       "         [ 0.,  3.,  5.],\n",
       "         [ 1., 12.,  3.],\n",
       "         [ 1., 13.,  7.],\n",
       "         [ 0.,  4.,  3.],\n",
       "         [ 1., 20.,  1.],\n",
       "         [ 1., 21.,  3.],\n",
       "         [ 0.,  9.,  5.],\n",
       "         [ 0., 10.,  3.]]),\n",
       " tensor([[ 0.,  5.,  4.],\n",
       "         [ 0.,  5.,  3.],\n",
       "         [ 0.,  8.,  5.],\n",
       "         [ 1., 15.,  3.],\n",
       "         [ 1., 20.,  7.],\n",
       "         [ 0.,  7.,  3.],\n",
       "         [ 1., 21.,  1.],\n",
       "         [ 1., 24.,  3.],\n",
       "         [ 0., 14.,  5.],\n",
       "         [ 0., 13.,  3.]]),\n",
       " tensor([[ 0.,  4.,  4.],\n",
       "         [ 0.,  5.,  3.],\n",
       "         [ 0.,  6.,  5.],\n",
       "         [ 0.,  7.,  3.],\n",
       "         [ 0., 12.,  5.],\n",
       "         [ 0., 13.,  3.],\n",
       "         [ 1., 15.,  3.],\n",
       "         [ 1., 20.,  7.],\n",
       "         [ 1., 21.,  1.],\n",
       "         [ 1., 24.,  3.]]),\n",
       " tensor([[ 0.,  4.,  4.],\n",
       "         [ 0.,  5.,  3.],\n",
       "         [ 0.,  6.,  5.],\n",
       "         [ 1., 15.,  3.],\n",
       "         [ 1., 20.,  7.],\n",
       "         [ 0.,  7.,  3.],\n",
       "         [ 1., 21.,  1.],\n",
       "         [ 1., 24.,  3.],\n",
       "         [ 0., 12.,  5.],\n",
       "         [ 0., 13.,  3.]]))"
      ]
     },
     "execution_count": 24,
     "metadata": {},
     "output_type": "execute_result"
    }
   ],
   "source": [
    "import torch\n",
    "\n",
    "cars = torch.tensor([[0, 1, 4], [0, 2, 3], [0, 3, 5], [1, 2, 3], [1, 3, 7], [0, 4, 3], [1, 10, 1], [1, 11, 3], [0, 9, 5], [0, 10, 3]], dtype=torch.float)\n",
    "max_values = maximum_value_by_grp(cars, 0, 1)\n",
    "\n",
    "# before the updates, no car is eligible for takeover (all cars are already in order)\n",
    "max_values_per_lane = maximum_value_by_grp(cars, 0, 1)\n",
    "mapping_max_values_per_lane = torch.clone(max_values_per_lane)\n",
    "mapping_max_values_per_lane[1:, 1] = mapping_max_values_per_lane[:-1, 1]\n",
    "mapping_max_values_per_lane[0, 1] = 0\n",
    "cars_in_single_lane = add_to_matrix_mapping_values(cars, mapping_max_values_per_lane)\n",
    "\n",
    "# Update the cars\n",
    "cars_update = torch.clone(cars_in_single_lane)\n",
    "cars_update[:, 1] += cars_update[:, 2]\n",
    "\n",
    "# Adjust the cars, such that they could fit into one lane (to execute adjust_cars_no_lane_change)\n",
    "cars_update_ordered_by_grp = sort_matrix_by_nth_entry(cars_update)\n",
    "cars_update_in_lane = torch.clone(cars_update_ordered_by_grp)\n",
    "cars_update_in_lane[:, 1] = adjust_cars_no_lane_change(cars_update_ordered_by_grp[:, 1])[:]\n",
    "\n",
    "# Create the original order of the cars for the updates\n",
    "cars_updated_original_order = reverse_sort_matrix_by_nth_entry(cars_update, cars_update_in_lane)\n",
    "\n",
    "cars_in_single_lane, cars_update, cars_update_in_lane, cars_updated_original_order"
   ]
  },
  {
   "cell_type": "markdown",
   "id": "614d07e4-36e5-45e5-876b-1c9e7027e3ba",
   "metadata": {},
   "source": [
    "### Benchmarks"
   ]
  },
  {
   "cell_type": "code",
   "execution_count": 25,
   "id": "49ce41a6-c182-451e-8a02-4f4b194f00c9",
   "metadata": {},
   "outputs": [
    {
     "data": {
      "text/plain": [
       "tensor([    0,     1,     2,  ..., 30000, 30001, 30002])"
      ]
     },
     "execution_count": 25,
     "metadata": {},
     "output_type": "execute_result"
    }
   ],
   "source": [
    "count = 30000\n",
    "lane_num_tracks = torch.tensor([300000])\n",
    "cars_position = torch.arange(0, count)\n",
    "cars_speed = torch.randint(0,10, (count, 1)).flatten()\n",
    "\n",
    "adjust_cars_no_lane_change(cars_position + cars_speed)"
   ]
  },
  {
   "cell_type": "code",
   "execution_count": 26,
   "id": "35a35238-9143-4387-a125-7ddc752ceffb",
   "metadata": {},
   "outputs": [],
   "source": [
    "# import torch\n",
    "# import time\n",
    "\n",
    "# if not torch.cuda.is_available():\n",
    "#     raise RuntimeError(\"CUDA is not available, please run on a CUDA-capable device.\")\n",
    "\n",
    "# iterations = 100000\n",
    "# count = 30000\n",
    "\n",
    "# lane_num_tracks = torch.tensor([300000000]).cuda()\n",
    "# cars_position = torch.arange(0, count).cuda()\n",
    "# cars_speed = torch.randint(0, 10, (count, 1)).flatten().cuda()\n",
    "\n",
    "# def adjust_cars_no_lane_change(cars_info):\n",
    "#     # Sample implementation, replace with the actual function\n",
    "#     return cars_info * 2  # Example operation\n",
    "\n",
    "# # Start timing\n",
    "# start_time = time.time()\n",
    "\n",
    "# # Execute the function multiple times\n",
    "# for _ in range(iterations):\n",
    "#     result = adjust_cars_no_lane_change(cars_position + cars_speed)\n",
    "\n",
    "# # Optionally, synchronize and free the cache to get accurate timings\n",
    "# torch.cuda.synchronize()\n",
    "# torch.cuda.empty_cache()\n",
    "\n",
    "# # End timing\n",
    "# end_time = time.time()\n",
    "\n",
    "# # Calculate elapsed time\n",
    "# elapsed_time = end_time - start_time\n",
    "# print(f\"Elapsed time: {elapsed_time} seconds\")"
   ]
  },
  {
   "cell_type": "markdown",
   "id": "249ae135-9dba-4a13-afae-1a07692962d9",
   "metadata": {},
   "source": [
    "Iterationen: 1.000.000\n",
    "Autos: 300.000\n",
    "\n",
    "Zeit: 16 Sekunden"
   ]
  },
  {
   "cell_type": "markdown",
   "id": "1f00467a-fc30-4a0b-80bd-0945169f3ecc",
   "metadata": {},
   "source": [
    "Iterationen: 10.000.000\n",
    "Autos: 30.000\n",
    "\n",
    "Zeit: 94 Sekunden"
   ]
  },
  {
   "cell_type": "markdown",
   "id": "96789b24-984a-4326-8909-61cc94a5f178",
   "metadata": {},
   "source": [
    "Iterationen: 1.000.000\n",
    "Autos: 3.000.000\n",
    "\n",
    "Zeit: 178 Sekunden"
   ]
  }
 ],
 "metadata": {
  "kernelspec": {
   "display_name": "Python 3 (ipykernel)",
   "language": "python",
   "name": "python3"
  },
  "language_info": {
   "codemirror_mode": {
    "name": "ipython",
    "version": 3
   },
   "file_extension": ".py",
   "mimetype": "text/x-python",
   "name": "python",
   "nbconvert_exporter": "python",
   "pygments_lexer": "ipython3",
   "version": "3.8.10"
  }
 },
 "nbformat": 4,
 "nbformat_minor": 5
}
