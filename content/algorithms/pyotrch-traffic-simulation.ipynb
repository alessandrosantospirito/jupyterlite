{
 "cells": [
  {
   "cell_type": "code",
   "execution_count": 20,
   "id": "1c3c611c-5553-4f19-843c-fa7eb83ae8f4",
   "metadata": {},
   "outputs": [],
   "source": [
    "import torch\n",
    "%run /workspaces/jupyterlite/content/pytroch/arrays_and_matricies.py"
   ]
  },
  {
   "cell_type": "markdown",
   "id": "6d6be5fd-1158-45fd-8050-1d4fcc1d4e35",
   "metadata": {},
   "source": [
    "### Algorithms"
   ]
  },
  {
   "cell_type": "markdown",
   "id": "e1c93ca9-92ba-448d-ad4b-c65b6118742a",
   "metadata": {},
   "source": [
    "#### One-Dimensional Array"
   ]
  },
  {
   "cell_type": "code",
   "execution_count": 21,
   "id": "a9dd7c2d-0d80-4a3f-8419-d443eea7e5df",
   "metadata": {},
   "outputs": [],
   "source": [
    "def fill_zero_places(a):\n",
    "    \"\"\"\n",
    "    a = tensor([1, 0, 0, 0, 0, 1, 0, 1, 0, 0, 0, 0, 0, 1, 0, 0, 0, 0, 0, 0, 0, 0, 1, 0, 0, 0, 0, 0, 0, 0])\n",
    "    b = tensor([-1,  1,  0,  0,  0,  0,  1,  0,  1,  0,  0,  0,  0,  0,  1,  0,  0,  0, 0,  0,  0,  0,  0,  1,  0,  0,  0,  0,  0,  0,  0])\n",
    "    nonzero_indices = tensor([ 0,  1,  6,  8, 14, 23])\n",
    "    diff = tensor([1, 5, 2, 6, 9, 8])\n",
    "    c = tensor([0, 1, 1, 1, 1, 1, 1, 1, 1, 1, 1, 1, 1, 1, 1, 1, 1, 1, 1, 1, 1, 1, 1, 1, 1, 1, 1, 1, 1, 1, 1]),\n",
    "    d = tensor([1, 1, 1, 1, 1, 1, 1, 1, 1, 1, 1, 1, 1, 1, 1, 1, 1, 1, 1, 1, 1, 1, 1, 1, 1, 1, 1, 1, 1, 1])\n",
    "    \"\"\"\n",
    "    b = torch.cat([torch.tensor([-1], device=a.device), a])\n",
    "    nonzero_indices = torch.nonzero(b).squeeze()\n",
    "    diff = torch.diff(torch.cat([nonzero_indices, torch.tensor([b.shape[0]], device=b.device)]))\n",
    "    c = b[nonzero_indices].repeat_interleave(diff)\n",
    "    c[c < 0] = 0\n",
    "    d = c[1:]\n",
    "    \n",
    "    return d"
   ]
  },
  {
   "cell_type": "code",
   "execution_count": 22,
   "id": "849b761e-626d-4383-8d4e-ec63c637d003",
   "metadata": {},
   "outputs": [],
   "source": [
    "def shift_values_to_next_available_zero(a):\n",
    "    \"\"\"\n",
    "    a = tensor([1, 0, 0, 0, 0, 1, 0, 1, 0, 0, 0, 0, 0, 1, 0, 0, 0, 0, 0, 0, 0, 0, 1, 0, 0, 0, 0, 0, 0, 0])\n",
    "    b = tensor([1, 1, 0, 0, 0, 0, 1, 0, 1, 0, 0, 0, 0, 0, 1, 0, 0, 0, 0, 0, 0, 0, 0, 1, 0, 0, 0, 0, 0, 0, 0])\n",
    "    c = tensor([ 0,  1,  0,  0,  0,  0,  6,  0,  8,  0,  0,  0,  0,  0, 14,  0,  0,  0, 0,  0,  0,  0,  0, 23,  0,  0,  0,  0,  0,  0,  0])\n",
    "    d = tensor([ 1,  0,  0,  0,  0,  6,  0,  8,  0,  0,  0,  0,  0, 14,  0,  0,  0,  0, 0,  0,  0,  0, 23,  0,  0,  0,  0,  0,  0,  0])\n",
    "    e = tensor([ 0,  1,  1,  1,  1,  1,  6,  6,  8,  8,  8,  8,  8,  8, 14, 14, 14, 14, 14, 14, 14, 14, 14, 23, 23, 23, 23, 23, 23, 23])\n",
    "    f = tensor([1, 1, 0, 0, 0, 0, 1, 0, 1, 0, 0, 0, 0, 0, 1, 0, 0, 0, 0, 0, 0, 0, 0, 0, 0, 0, 0, 0, 0, 0])\n",
    "    \"\"\"\n",
    "    b = (a > 0).int()\n",
    "    b = torch.cat([torch.tensor([1], device=a.device), b])\n",
    "    c = torch.arange(b.shape[0], device=a.device) * b\n",
    "    d = c[1:]\n",
    "    e = torch.roll(fill_zero_places(d), 1)\n",
    "    e[0] = 0\n",
    "    f = torch.zeros_like(a)\n",
    "    f.scatter_add_(0, e.long(), a)\n",
    "\n",
    "    return f"
   ]
  },
  {
   "cell_type": "code",
   "execution_count": 46,
   "id": "8dc37071-eae6-438d-8c2c-3addae0abdf0",
   "metadata": {},
   "outputs": [],
   "source": [
    "def indicies_where_the_value_changes(a):\n",
    "    \"\"\"\n",
    "    question: has value of position i a different value then position i-1?\n",
    "    - the edge case for the first position is decidided as True\n",
    "    \n",
    "    a = tensor([0, 0, 0, 1, 0, 2, 0, 3])\n",
    "    b = tensor([ 0,  0,  1, -1,  2, -2,  3])\n",
    "    c = tensor([ True, False, False,  True,  True,  True,  True,  True])\n",
    "    d = tensor([0, 3, 4, 5, 6, 7])\n",
    "    \"\"\"\n",
    "    b = a[1:,] - a[:-1]\n",
    "    c = (b != 0)\n",
    "    c = torch.cat([torch.tensor([True]), c])\n",
    "    d = (c==True).nonzero(as_tuple=True)[0]\n",
    "\n",
    "    return d"
   ]
  },
  {
   "cell_type": "code",
   "execution_count": 23,
   "id": "15488192-7077-4510-ab46-1782fc746ee3",
   "metadata": {},
   "outputs": [],
   "source": [
    "def fill_zero_values_ascending_rest_with_zero(a):\n",
    "    \"\"\"\n",
    "    a = tensor([4, 3, 2, 1, 0, 1, 0, 5, 4, 3, 2, 1, 0, 8, 7, 6, 5, 4, 3, 2, 1, 0, 1, 0, 4, 3, 2, 1, 0, 0])\n",
    "    b = tensor([1, 1, 1, 1, 0, 1, 0, 1, 1, 1, 1, 1, 0, 1, 1, 1, 1, 1, 1, 1, 1, 0, 1, 0, 1, 1, 1, 1, 0, 0], dtype=torch.int32)\n",
    "    c = tensor([0, 0, 0, 0, 1, 1, 2, 2, 2, 2, 2, 2, 3, 3, 3, 3, 3, 3, 3, 3, 3, 4, 4, 5, 5, 5, 5, 5, 6, 7])\n",
    "    d = tensor([0, 0, 0, 0, 1, 0, 1, 0, 0, 0, 0, 0, 1, 0, 0, 0, 0, 0, 0, 0, 0, 1, 0, 1, 0, 0, 0, 0, 1, 2])\n",
    "    \"\"\"\n",
    "    b = (a > 0).int()\n",
    "    c = torch.cumsum(1 - b, dim=0)\n",
    "    d = (c * (1 - b) - torch.maximum(b * c, torch.zeros_like(c)).cummax(dim=0)[0]) * (1 - b)\n",
    "    \n",
    "    return d"
   ]
  },
  {
   "cell_type": "code",
   "execution_count": 24,
   "id": "e2895ecf-77ed-4f0f-be25-3a025f7a1f20",
   "metadata": {},
   "outputs": [],
   "source": [
    "def find_one_zero_pattern(a):\n",
    "    \"\"\"\n",
    "    a = tensor([0, 0, 0, 0, 1, 0, 1, 0, 0, 0, 0, 0, 1, 0, 0, 0, 0, 0, 0, 0, 0, 1, 0, 1, 0, 0, 0, 0, 0, 0], dtype=torch.int32)\n",
    "    b = tensor([0, 0, 0, 1, 0, 1, 0, 0, 0, 0, 0, 1, 0, 0, 0, 0, 0, 0, 0, 0, 1, 0, 1, 0, 0, 0, 0, 0, 0, 1], dtype=torch.int32)\n",
    "    c = tensor([ 0,  0,  0, -1,  1, -1,  1,  0,  0,  0,  0, -1,  1,  0,  0,  0,  0,  0, 0,  0, -1,  1, -1,  1,  0,  0,  0,  0,  0, -1], dtype=torch.int32)\n",
    "    d = tensor([0, 0, 0, 0, 1, 0, 1, 0, 0, 0, 0, 0, 1, 0, 0, 0, 0, 0, 0, 0, 0, 1, 0, 1, 0, 0, 0, 0, 0, 0], dtype=torch.int32)\n",
    "    \"\"\"\n",
    "    b = torch.roll(a.int(), -1)\n",
    "    b[-1] = 1\n",
    "    c = a - b\n",
    "    d = (c == 1).int()\n",
    "    \n",
    "    return d"
   ]
  },
  {
   "cell_type": "code",
   "execution_count": 25,
   "id": "e9779321-29d3-4471-86b6-0b85db822a49",
   "metadata": {},
   "outputs": [],
   "source": [
    "def fill_zero_values_descending_rest_with_zero(a):\n",
    "    \"\"\"\n",
    "    a = tensor([4, 3, 2, 1, 0, 1, 0, 5, 4, 3, 2, 1, 0, 8, 7, 6, 5, 4, 3, 2, 1, 0, 1, 0, 4, 3, 2, 1, 0, 0])\n",
    "    b = tensor([0, 0, 0, 0, 1, 0, 1, 0, 0, 0, 0, 0, 1, 0, 0, 0, 0, 0, 0, 0, 0, 1, 0, 1, 0, 0, 0, 0, 1, 2])\n",
    "    c = tensor([0, 0, 0, 0, 1, 0, 1, 0, 0, 0, 0, 0, 1, 0, 0, 0, 0, 0, 0, 0, 0, 1, 0, 1, 0, 0, 0, 0, 1, 1], dtype=torch.int32)\n",
    "    d = tensor([0, 0, 0, 0, 1, 0, 1, 0, 0, 0, 0, 0, 1, 0, 0, 0, 0, 0, 0, 0, 0, 1, 0, 1, 0, 0, 0, 0, 0, 0], dtype=torch.int32)\n",
    "    e = tensor([0, 0, 0, 0, 1, 0, 1, 0, 0, 0, 0, 0, 1, 0, 0, 0, 0, 0, 0, 0, 0, 1, 0, 1, 0, 0, 0, 0, 0, 0])\n",
    "    f = tensor([1, 0, 0, 0, 0, 1, 0, 1, 0, 0, 0, 0, 0, 1, 0, 0, 0, 0, 0, 0, 0, 0, 1, 0, 0, 0, 0, 0, 0, 0])\n",
    "    g = tensor([1, 1, 1, 1, 1, 1, 1, 1, 1, 1, 1, 1, 1, 1, 1, 1, 1, 1, 1, 1, 1, 1, 1, 1, 1, 1, 1, 1, 1, 1])\n",
    "    h = tensor([0, 0, 0, 0, 1, 0, 1, 0, 0, 0, 0, 0, 1, 0, 0, 0, 0, 0, 0, 0, 0, 1, 0, 1, 0, 0, 0, 0, 1, 0])\n",
    "    \"\"\"\n",
    "    b = fill_zero_values_ascending_rest_with_zero(a)\n",
    "    c = (b > 0).int()\n",
    "    d = find_one_zero_pattern(c)\n",
    "    e = d * b\n",
    "    f = shift_values_to_next_available_zero(e)\n",
    "    g = fill_zero_places(f)\n",
    "    h = ((g + 1) - b) * c\n",
    "    \n",
    "    return h"
   ]
  },
  {
   "cell_type": "code",
   "execution_count": 26,
   "id": "1d2b5688-333d-44ad-985f-7441562728d1",
   "metadata": {},
   "outputs": [],
   "source": [
    "def find_values_that_must_be_reordered(a):\n",
    "    \"\"\"\n",
    "    a = tensor([ 3, 10,  8, 11,  5, 13,  7, 14, 18, 15, 19, 20, 13, 21, 16, 24, 19, 24, 23, 22, 28, 22, 27, 26, 33, 32, 30, 32, 31, 36])\n",
    "    b = tensor([ 1,  2,  3,  4,  5,  6,  7,  8,  9, 10, 11, 12, 13, 14, 15, 16, 17, 18, 19, 20, 21, 22, 23, 24, 25, 26, 27, 28, 29, 30])\n",
    "    c = tensor([2, 8, 5, 7, 0, 7, 0, 6, 9, 5, 8, 8, 0, 7, 1, 8, 2, 6, 4, 2, 7, 0, 4, 2, 8, 6, 3, 4, 2, 6])\n",
    "    d = tensor([0, 0, 0, 0, 0, 0, 0, 0, 0, 0, 0, 0, 0, 0, 0, 0, 0, 0, 0, 0, 0, 0, 2, 2, 2, 2, 2, 2, 2, 6])\n",
    "    e = tensor([0, 0, 0, 0, 1, 0, 1, 0, 0, 0, 0, 0, 1, 0, 0, 0, 0, 0, 0, 0, 0, 1, 0, 1, 0, 0, 0, 0, 1, 1], dtype=torch.int32)\n",
    "    f = tensor([1, 1, 1, 1, 0, 1, 0, 1, 1, 1, 1, 1, 0, 1, 1, 1, 1, 1, 1, 1, 1, 0, 1, 0, 1, 1, 1, 1, 0, 0], dtype=torch.int32)\n",
    "    \"\"\"\n",
    "    b = torch.arange(1, a.shape[0] + 1)\n",
    "    c = a - b\n",
    "    d, _ = torch.cummin(c.flip(0), dim=0)\n",
    "    d = d.flip(0)\n",
    "    e = (c == d).int()\n",
    "    f = 1 - e\n",
    "\n",
    "    return f"
   ]
  },
  {
   "cell_type": "code",
   "execution_count": 27,
   "id": "f36cd4a4-8e45-49cf-9869-dcfee21ebbd8",
   "metadata": {},
   "outputs": [],
   "source": [
    "def adjust_cars_no_lane_change(a):\n",
    "    \"\"\"\n",
    "    a = tensor([ 3, 10,  8, 11,  5, 13,  7, 14, 18, 15, 19, 20, 13, 21, 16, 24, 19, 24, 23, 22, 28, 22, 27, 26, 33, 32, 30, 32, 31, 36, -1, -1])\n",
    "    b = tensor([0, 0, 0, 0, 1, 0, 1, 0, 0, 0, 0, 0, 1, 0, 0, 0, 0, 0, 0, 0, 0, 1, 0, 1, 0, 0, 0, 0, 1, 1, 0, 1], dtype=torch.int32)\n",
    "    c = tensor([4, 3, 2, 1, 0, 1, 0, 5, 4, 3, 2, 1, 0, 8, 7, 6, 5, 4, 3, 2, 1, 0, 1, 0, 4, 3, 2, 1, 0, 0, 1, 0])\n",
    "    d = tensor([ 0,  0,  0,  0,  5,  0,  7,  0,  0,  0,  0,  0, 13,  0,  0,  0,  0,  0, 0,  0,  0, 22,  0, 26,  0,  0,  0,  0, 31, 36, 0, -1])\n",
    "    e = tensor([ 5,  0,  0,  0,  0,  7,  0, 13,  0,  0,  0,  0,  0, 22,  0,  0,  0,  0, 0,  0,  0,  0, 26,  0, 31,  0,  0,  0,  0, 36, -1, 0])\n",
    "    f = tensor([ 5,  5,  5,  5,  5,  7,  7, 13, 13, 13, 13, 13, 13, 22, 22, 22, 22, 22, 22, 22, 22, 22, 26, 26, 31, 31, 31, 31, 31, 36, 0, 0])\n",
    "    g = tensor([ 1,  2,  3,  4,  5,  6,  7,  8,  9, 10, 11, 12, 13, 14, 15, 16, 17, 18, 19, 20, 21, 22, 25, 26, 27, 28, 29, 30, 31, 36])\n",
    "    \"\"\"\n",
    "\n",
    "    b = 1 - find_values_that_must_be_reordered(a)\n",
    "    # Extend a and b with dummy-values to cover the cases where no car has to be reordered without throwing an error\n",
    "    a = torch.cat([a, torch.tensor([-1, -1])])\n",
    "    b = torch.cat([b, torch.tensor([0, 1])])\n",
    "    c = fill_zero_values_descending_rest_with_zero(b)\n",
    "    d = a * b\n",
    "    e = shift_values_to_next_available_zero(d)\n",
    "    f = fill_zero_places(e)\n",
    "    g = f[:-2] - c[:-2]\n",
    "\n",
    "    return g"
   ]
  },
  {
   "cell_type": "markdown",
   "id": "a32319be-0ae2-4a4e-9e15-87ae474c8890",
   "metadata": {},
   "source": [
    "#### Matrices"
   ]
  },
  {
   "cell_type": "code",
   "execution_count": null,
   "id": "4c4ca4e8-16d8-4263-8f3a-9a2ad63bdd95",
   "metadata": {},
   "outputs": [],
   "source": []
  },
  {
   "cell_type": "markdown",
   "id": "dc0bce9e-e163-4438-bb14-330ff6e5afc0",
   "metadata": {},
   "source": [
    "### Use-Cases"
   ]
  },
  {
   "cell_type": "markdown",
   "id": "5b0a6a13-8d11-4b57-9d0f-e5672980f90b",
   "metadata": {},
   "source": [
    "#### Single Lane"
   ]
  },
  {
   "cell_type": "code",
   "execution_count": 28,
   "id": "9680c6d3-ed4c-49e4-937e-9161e58600d2",
   "metadata": {},
   "outputs": [
    {
     "data": {
      "text/plain": [
       "tensor([30, 31, 32, 33, 34, 35, 36, 37, 38, 39, 40, 41, 42, 43, 44, 45, 46, 47,\n",
       "        48, 49, 50, 51, 52, 53, 54, 55, 56, 57, 58, 59])"
      ]
     },
     "execution_count": 28,
     "metadata": {},
     "output_type": "execute_result"
    }
   ],
   "source": [
    "a = torch.tensor([ 83,  84,  89,  93,  87,  92,  90,  95,  90,  94,  94,  96,  97, 101,  97, 105, 104,  99, 101, 101, 101, 110, 105, 111, 106, 115, 90,  86, 107,  59])\n",
    "adjust_cars_no_lane_change(a)"
   ]
  },
  {
   "cell_type": "code",
   "execution_count": 29,
   "id": "555f9ff0-faba-4f84-91f5-7d211614ede8",
   "metadata": {},
   "outputs": [
    {
     "data": {
      "text/plain": [
       "tensor([ 1,  2,  3,  4,  5,  6,  7,  8,  9, 10, 11, 12, 13, 14, 15, 16, 17, 18,\n",
       "        19, 20, 21, 22, 25, 26, 27, 28, 29, 30, 31, 36])"
      ]
     },
     "execution_count": 29,
     "metadata": {},
     "output_type": "execute_result"
    }
   ],
   "source": [
    "a = torch.tensor([ 3, 10,  8, 11,  5, 13,  7, 14, 18, 15, 19, 20, 13, 21, 16, 24, 19, 24, 23, 22, 28, 22, 27, 26, 33, 32, 30, 32, 31, 36])\n",
    "adjust_cars_no_lane_change(a)"
   ]
  },
  {
   "cell_type": "code",
   "execution_count": 30,
   "id": "0718745b-72f4-4990-9d11-8df9a54324c7",
   "metadata": {},
   "outputs": [
    {
     "data": {
      "text/plain": [
       "tensor([ 1,  2,  3,  4,  5,  6,  7,  8,  9, 10, 11, 12, 13, 14, 15, 16, 17, 18,\n",
       "        19, 20, 21, 22, 23, 24, 25, 26, 27, 28, 30, 35])"
      ]
     },
     "execution_count": 30,
     "metadata": {},
     "output_type": "execute_result"
    }
   ],
   "source": [
    "a = torch.tensor([ 1,  4,  3,  6,  5,  6,  8,  8, 14, 10, 11, 13, 13, 14, 15, 16, 17, 18,  19, 20, 21, 23, 23, 24, 25, 26, 27, 28, 30, 35])\n",
    "adjust_cars_no_lane_change(a)"
   ]
  },
  {
   "cell_type": "markdown",
   "id": "ace6bfb4-89db-4bcc-b507-eff58d8504af",
   "metadata": {},
   "source": [
    "#### Two-Lanes"
   ]
  },
  {
   "cell_type": "code",
   "execution_count": 31,
   "id": "c5383ed8-ef2a-4356-9eea-55a9293010ca",
   "metadata": {},
   "outputs": [],
   "source": [
    "def mapping_max_values_to_prev_lanes(cars):\n",
    "    \"\"\"\n",
    "    - two lanes\n",
    "    \"\"\"\n",
    "    max_values_per_lane = maximum_value_by_grp(cars, 0, 1)\n",
    "    mapping_max_values_per_lane = torch.clone(max_values_per_lane)\n",
    "    mapping_max_values_per_lane[1:, 1] = mapping_max_values_per_lane[:-1, 1]\n",
    "    mapping_max_values_per_lane[0, 1] = 0\n",
    "\n",
    "    return mapping_max_values_per_lane\n",
    "\n",
    "def indicies_where_the_value_changes(a):\n",
    "    \"\"\"\n",
    "    question: has value of position i a different value then position i-1?\n",
    "    - the edge case for the first position is decidided as True\n",
    "    \n",
    "    a = tensor([0, 0, 0, 1, 0, 2, 0, 3])\n",
    "    b = tensor([ 0,  0,  1, -1,  2, -2,  3])\n",
    "    c = tensor([ True, False, False,  True,  True,  True,  True,  True])\n",
    "    d = tensor([0, 3, 4, 5, 6, 7])\n",
    "    \"\"\"\n",
    "    b = a[1:,] - a[:-1]\n",
    "    c = (b != 0)\n",
    "    c = torch.cat([torch.tensor([True]), c])\n",
    "    d = (c==True).nonzero(as_tuple=True)[0]\n",
    "\n",
    "    return d\n",
    "\n",
    "def put_slowest_car_infront(cars, track_sizes, grp_idx = 0, val_idx = 1):\n",
    "    \"\"\"\n",
    "    asserts that cars are sorted by grp_idx\n",
    "    \"\"\"\n",
    "    # put the lowest cars of each lane infront of the top car\n",
    "    indicies_slowest_cars = indicies_where_the_value_changes(cars[:, grp_idx])\n",
    "    used_lanes = torch.unique(cars[:, grp_idx])\n",
    "    slowest_cars = cars[indicies_slowest_cars]\n",
    "    track_sizes_used_lanes = filter_columns_based_on_tensor(track_sizes, used_lanes)\n",
    "    slowest_cars[:, val_idx] = slowest_cars[:, val_idx] + track_sizes_used_lanes[:, val_idx]\n",
    "    cars_with_slowest_car_infront = torch.cat([cars, slowest_cars])\n",
    "    indicies_of_artifical_cars = torch.cat([indicies_slowest_cars[1:], torch.tensor([cars.shape[0]])]) + torch.arange(0, indicies_slowest_cars.shape[0])\n",
    "    mask_valid_cars = torch.ones(cars_with_slowest_car_infront.shape[0], dtype=torch.bool)\n",
    "    mask_valid_cars[indicies_of_artifical_cars] = False\n",
    "    cars_with_slowest_car_infront_sorted = sort_matrix_by_nth_and_mth_column(cars_with_slowest_car_infront, grp_idx, val_idx)\n",
    "    \n",
    "    return cars_with_slowest_car_infront, mask_valid_cars\n",
    "\n",
    "def cars_index_with_track_mod(cars, track_sizes):\n",
    "    mod_for_cars = track_sizes[(cars[:, 0][..., None] == track_sizes[:, 0]).nonzero(as_tuple=True)[1]]\n",
    "    cars_with_indicies_mod_track = torch.clone(cars)\n",
    "    cars_with_indicies_mod_track[:, 1] = torch.remainder(cars[:, 1], mod_for_cars[:, 1])[:]\n",
    "\n",
    "    return cars_with_indicies_mod_track\n",
    "\n",
    "def eligible_for_takeover(a, mods, val_idx=1):\n",
    "    \"\"\"\n",
    "    - two lane case\n",
    "    - all cars with their original indicies (no adjustment to put them in one lane)\n",
    "    - those cars where the index occurs twice cannot change the lane\n",
    "\n",
    "    -- outdated --\n",
    "    a = torch.tensor([[0, 1, 4], [0, 2, 3], [0, 3, 5], [1, 2, 3], [1, 3, 7], [0, 4, 3], [1, 10, 1], [1, 11, 3], [0, 9, 5], [0, 10, 3]], dtype=torch.float)\n",
    "    b = tensor([0, 1, 0, 1, 0, 0, 0, 1, 0, 0], dtype=torch.int32)\n",
    "    c = tensor([0, 1, 1, 1, 1, 0, 0, 1, 1, 0], dtype=torch.int32)\n",
    "    d = tensor([0, 1, 1, 0, 1, 1, 1, 0, 1, 0], dtype=torch.int32)\n",
    "    e = tensor([1, 0, 0, 1, 0, 0, 0, 1, 0, 1], dtype=torch.int32)\n",
    "    \"\"\"\n",
    "    a_mod = torch.clone(a)\n",
    "    a_mod[:, 1] = cars_index_with_track_mod(a, mods)[:, 1]\n",
    "    sorted_matrix = sort_matrix_by_nth_entry(a_mod, val_idx)\n",
    "    b = (sorted_matrix[:, val_idx] - torch.cat([sorted_matrix[1:, val_idx], torch.tensor([sorted_matrix[-2, val_idx]])]) == 0).int()\n",
    "    c = torch.roll(b, 1) | b\n",
    "    d = reverse_sort_matrix_by_nth_entry(a, c)\n",
    "    e = 1 - d\n",
    "    \n",
    "    return e\n",
    "\n",
    "def cars_desiring_takeover(cars, track_sizes, grp_idx = 0, val_idx = 1, speed_idx = 2):\n",
    "    \"\"\"\n",
    "    - two lane case\n",
    "    - all cars with their original indicies (no adjustment to put them in one lane)\n",
    "    - respect the last car of a track when using modulo-tracks\n",
    "\n",
    "    returns:\n",
    "     - original_cars_to_overtake: positions of cars (in their original index) which try to overtake\n",
    "    \"\"\"\n",
    "    # Sort cars (since some cars might have changed the lane)\n",
    "    cars_sorted = sort_matrix_by_nth_and_mth_column(cars)\n",
    "    # mask_valid_cars works for sorted arrays\n",
    "    cars_with_slowest_cars_infront, mask_valid_cars = put_slowest_car_infront(cars_sorted, track_sizes)\n",
    "    \n",
    "    # Put all cars in one lane\n",
    "    max_values_per_lane = mapping_max_values_to_prev_lanes(cars_with_slowest_cars_infront)\n",
    "    cars_in_single_lane = add_to_matrix_mapping_values(cars_with_slowest_cars_infront, max_values_per_lane)\n",
    "\n",
    "    # Fit order cars, Update the cars\n",
    "    cars_update_sorted = sort_matrix_by_nth_and_mth_column(cars_in_single_lane)\n",
    "    cars_update_sorted[:, 1] += cars_update_sorted[:, 2]\n",
    "    \n",
    "    # Based on the cars in their respective groups, which are the ones that try to overtake?\n",
    "    updated_cars_to_overtake = find_values_that_must_be_reordered(cars_update_sorted[:, 1])\n",
    "    cars_to_overtake = reverse_sort_matrix_by_nth_and_mth_column(cars_in_single_lane, updated_cars_to_overtake)\n",
    "    no_sort_mask_valid_cars = reverse_sort_matrix_by_nth_and_mth_column(cars_in_single_lane, mask_valid_cars)\n",
    "    \n",
    "    original_cars_to_overtake = reverse_sort_matrix_by_nth_and_mth_column(cars, cars_to_overtake[no_sort_mask_valid_cars])\n",
    "    \n",
    "    return original_cars_to_overtake\n",
    "\n",
    "def cars_that_overtake(cars, track_sizes):\n",
    "    cars_that_might_overtake = cars_desiring_takeover(cars, track_sizes) & eligible_for_takeover(cars, track_sizes)\n",
    "    prob_that_cars_overtake = cars_that_might_overtake * cars[:, 3]\n",
    "    cars_that_overtake = (prob_that_cars_overtake > torch.rand(prob_that_cars_overtake.shape[0]))\n",
    "    \n",
    "    return cars_that_overtake\n",
    "\n",
    "def update_cars(cars, track_sizes):\n",
    "    \"\"\"\n",
    "    - two car lanes\n",
    "    \"\"\"\n",
    "    cars_sorted = sort_matrix_by_nth_and_mth_column(cars)\n",
    "    cars_that_change_lane = cars_that_overtake(cars_sorted, track_sizes)\n",
    "    updated_cars = update_cars_with_lane_changes(cars, track_sizes, cars_that_change_lane)\n",
    "\n",
    "    return updated_cars\n",
    "\n",
    "def track_offset_from_slowest_cars(cars, track_sizes, cars_changing_lanes):\n",
    "    cars_sorted = sort_matrix_by_nth_and_mth_column(cars)\n",
    "\n",
    "    # calculate the slowest car in each lane\n",
    "    indicies_of_slowest_cars = indicies_where_the_value_changes(cars_sorted[:, 0])\n",
    "    mod_for_cars = track_sizes[(cars_sorted[:, 0][..., None] == track_sizes[:, 0]).nonzero(as_tuple=True)[1]]\n",
    "    num_of_rounds = torch.div(cars_sorted[:, 1], mod_for_cars[:, 1], rounding_mode=\"trunc\")\n",
    "    cars_rounds_as_distance = num_of_rounds * mod_for_cars[:, 1]\n",
    "    \n",
    "    slowest_cars = cars_sorted[indicies_of_slowest_cars]\n",
    "    slowest_cars_neg_offsets = torch.column_stack([slowest_cars[:, 0], -cars_rounds_as_distance[indicies_of_slowest_cars]])\n",
    "    slowest_cars_offsets = torch.column_stack([slowest_cars[:, 0], cars_rounds_as_distance[indicies_of_slowest_cars]])\n",
    "\n",
    "    # update lanes\n",
    "    cars_sorted[:, 0] += cars_changing_lanes\n",
    "    cars_sorted[:, 0] = torch.remainder(cars_sorted[:, 0], 2)\n",
    "    \n",
    "    # set the slowest cars to be at 0, then do modulo and put the cars back\n",
    "    # the distance between slowest and fastes car is always less then the lane distance\n",
    "    cars_sorted[:, 1] = add_to_matrix_mapping_values(cars_sorted[:, :2], slowest_cars_neg_offsets)[:, 1]\n",
    "    cars_sorted[:, 1] = cars_index_with_track_mod(cars_sorted[:, :2], track_sizes)[:, 1]\n",
    "    cars_sorted[:, 1] = add_to_matrix_mapping_values(cars_sorted[:, :2], slowest_cars_offsets)[:, 1]\n",
    "    \n",
    "    return cars_sorted\n",
    "\n",
    "def update_cars_with_lane_changes(cars, track_sizes, cars_changing_lanes):\n",
    "    # updat the car lanes and fit the cars\n",
    "    cars_sorted_and_lanes_update = track_offset_from_slowest_cars(cars, track_sizes, cars_changing_lanes)\n",
    "    \n",
    "    # Sort cars (since some cars might have changed the lane)\n",
    "    cars_sorted = sort_matrix_by_nth_and_mth_column(cars_sorted_and_lanes_update)\n",
    "    cars_with_slowest_cars_infront, mask_valid_cars = put_slowest_car_infront(cars_sorted, track_sizes)\n",
    "\n",
    "    # Put all cars in one lane\n",
    "    max_values_per_lane = mapping_max_values_to_prev_lanes(cars_with_slowest_cars_infront)\n",
    "    cars_in_single_lane = add_to_matrix_mapping_values(cars_with_slowest_cars_infront, max_values_per_lane)\n",
    "\n",
    "    # Update the cars and sort for adjust_cars_no_... as well as to use the mask mask_valid_cars\n",
    "    cars_update_in_lane_sorted = sort_matrix_by_nth_and_mth_column(cars_in_single_lane)\n",
    "    # either drive or change lane\n",
    "    no_drive_while_lanechange = torch.ones(cars_update_in_lane_sorted.shape[0])\n",
    "    no_drive_while_lanechange[mask_valid_cars] = 1 - cars_changing_lanes.float()\n",
    "    cars_update_in_lane_sorted[:, 1] += cars_update_in_lane_sorted[:, 2] * no_drive_while_lanechange\n",
    "    \n",
    "    # Adjust the cars, such that they could fit into one lane (to execute adjust_cars_no_lane_change)\n",
    "    cars_update_in_lane_sorted[:, 1] = adjust_cars_no_lane_change(cars_update_in_lane_sorted[:, 1])\n",
    "    \n",
    "    # Remove the lane offset and put the cars to the original index\n",
    "    neg_max_values_per_lane = torch.clone(max_values_per_lane)\n",
    "    neg_max_values_per_lane[:, 1] = - neg_max_values_per_lane[:, 1]\n",
    "    cars_update_multi_lane = add_to_matrix_mapping_values(cars_update_in_lane_sorted, neg_max_values_per_lane)\n",
    "\n",
    "    return cars_update_multi_lane[mask_valid_cars]"
   ]
  },
  {
   "cell_type": "code",
   "execution_count": 36,
   "id": "bb90aaa3-429a-4825-a1f9-d6be04395f01",
   "metadata": {},
   "outputs": [
    {
     "data": {
      "text/plain": [
       "tensor([[ 0.0000,  5.0000,  3.0000,  0.1000,  2.0000],\n",
       "        [ 0.0000,  7.0000,  3.0000,  0.1000,  6.0000],\n",
       "        [ 0.0000, 13.0000,  3.0000,  0.1000, 10.0000],\n",
       "        [ 1.0000,  5.0000,  4.0000,  0.1000,  1.0000],\n",
       "        [ 1.0000,  8.0000,  5.0000,  0.1000,  3.0000],\n",
       "        [ 1.0000, 10.0000,  3.0000,  0.1000,  4.0000],\n",
       "        [ 1.0000, 11.0000,  7.0000,  0.1000,  5.0000],\n",
       "        [ 1.0000, 12.0000,  1.0000,  0.1000,  7.0000],\n",
       "        [ 1.0000, 13.0000,  3.0000,  0.1000,  8.0000],\n",
       "        [ 1.0000, 14.0000,  5.0000,  0.1000,  9.0000]])"
      ]
     },
     "execution_count": 36,
     "metadata": {},
     "output_type": "execute_result"
    }
   ],
   "source": [
    "# lane-id, lane-idx, speed, prob.-lane-change, unique-id\n",
    "cars = torch.tensor([[0, 1, 4, 0.1, 1], [0, 2, 3, 0.1, 2], [0, 3, 5, 0.1, 3], [1, 2, 3, 0.1, 4], [1, 3, 7, 0.1, 5], [0, 4, 3, 0.1, 6], [1, 10, 1, 0.1, 7], [1, 11, 3, 0.1, 8], [0, 9, 5, 0.1, 9], [0, 10, 3, 0.1, 10]], dtype=torch.float)\n",
    "cars = update_cars(cars)\n",
    "cars"
   ]
  },
  {
   "cell_type": "code",
   "execution_count": null,
   "id": "6c5ca9d1-2537-4837-8417-dcbe748429f1",
   "metadata": {},
   "outputs": [],
   "source": [
    "car_count = 500\n",
    "len_track = point_sequence_one.shape[0]\n",
    "cars_track = torch.randint(0, 2, (car_count,))\n",
    "cars_position = torch.arange(0, len_track)[torch.randint(0, len_track, (car_count,))]\n",
    "cars_speed = torch.randint(1, 30, (car_count,))\n",
    "chance_for_takeover = torch.rand(car_count) / 4\n",
    "cars_id = torch.arange(0, car_count)\n",
    "cars = torch.column_stack([cars_track, cars_position, cars_speed, chance_for_takeover, cars_id])\n",
    "cars = sort_matrix_by_nth_and_mth_column(cars)\n",
    "cars = update_cars(cars)\n",
    "cars"
   ]
  },
  {
   "cell_type": "markdown",
   "id": "614d07e4-36e5-45e5-876b-1c9e7027e3ba",
   "metadata": {},
   "source": [
    "### Benchmarks"
   ]
  },
  {
   "cell_type": "code",
   "execution_count": 37,
   "id": "49ce41a6-c182-451e-8a02-4f4b194f00c9",
   "metadata": {},
   "outputs": [],
   "source": [
    "count = 30000\n",
    "lane_num_tracks = torch.tensor([300000])\n",
    "cars_position = torch.arange(0, count)\n",
    "cars_speed = torch.randint(0,10, (count, 1)).flatten()\n",
    "\n",
    "# adjust_cars_no_lane_change(cars_position + cars_speed)"
   ]
  },
  {
   "cell_type": "code",
   "execution_count": 38,
   "id": "35a35238-9143-4387-a125-7ddc752ceffb",
   "metadata": {},
   "outputs": [],
   "source": [
    "# import torch\n",
    "# import time\n",
    "\n",
    "# if not torch.cuda.is_available():\n",
    "#     raise RuntimeError(\"CUDA is not available, please run on a CUDA-capable device.\")\n",
    "\n",
    "# iterations = 100000\n",
    "# count = 30000\n",
    "\n",
    "# lane_num_tracks = torch.tensor([300000000]).cuda()\n",
    "# cars_position = torch.arange(0, count).cuda()\n",
    "# cars_speed = torch.randint(0, 10, (count, 1)).flatten().cuda()\n",
    "\n",
    "# def adjust_cars_no_lane_change(cars_info):\n",
    "#     # Sample implementation, replace with the actual function\n",
    "#     return cars_info * 2  # Example operation\n",
    "\n",
    "# # Start timing\n",
    "# start_time = time.time()\n",
    "\n",
    "# # Execute the function multiple times\n",
    "# for _ in range(iterations):\n",
    "#     result = adjust_cars_no_lane_change(cars_position + cars_speed)\n",
    "\n",
    "# # Optionally, synchronize and free the cache to get accurate timings\n",
    "# torch.cuda.synchronize()\n",
    "# torch.cuda.empty_cache()\n",
    "\n",
    "# # End timing\n",
    "# end_time = time.time()\n",
    "\n",
    "# # Calculate elapsed time\n",
    "# elapsed_time = end_time - start_time\n",
    "# print(f\"Elapsed time: {elapsed_time} seconds\")"
   ]
  },
  {
   "cell_type": "markdown",
   "id": "249ae135-9dba-4a13-afae-1a07692962d9",
   "metadata": {},
   "source": [
    "Iterationen: 1.000.000\n",
    "Autos: 300.000\n",
    "\n",
    "Zeit: 16 Sekunden"
   ]
  },
  {
   "cell_type": "markdown",
   "id": "1f00467a-fc30-4a0b-80bd-0945169f3ecc",
   "metadata": {},
   "source": [
    "Iterationen: 10.000.000\n",
    "Autos: 30.000\n",
    "\n",
    "Zeit: 94 Sekunden"
   ]
  },
  {
   "cell_type": "markdown",
   "id": "96789b24-984a-4326-8909-61cc94a5f178",
   "metadata": {},
   "source": [
    "Iterationen: 1.000.000\n",
    "Autos: 3.000.000\n",
    "\n",
    "Zeit: 178 Sekunden"
   ]
  }
 ],
 "metadata": {
  "kernelspec": {
   "display_name": "Python 3 (ipykernel)",
   "language": "python",
   "name": "python3"
  },
  "language_info": {
   "codemirror_mode": {
    "name": "ipython",
    "version": 3
   },
   "file_extension": ".py",
   "mimetype": "text/x-python",
   "name": "python",
   "nbconvert_exporter": "python",
   "pygments_lexer": "ipython3",
   "version": "3.8.10"
  }
 },
 "nbformat": 4,
 "nbformat_minor": 5
}
