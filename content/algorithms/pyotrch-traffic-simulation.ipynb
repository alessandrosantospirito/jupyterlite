{
 "cells": [
  {
   "cell_type": "code",
   "execution_count": 1,
   "id": "1c3c611c-5553-4f19-843c-fa7eb83ae8f4",
   "metadata": {},
   "outputs": [],
   "source": [
    "import torch\n",
    "%run /workspaces/jupyterlite/content/pytroch/arrays_and_matricies.py"
   ]
  },
  {
   "cell_type": "markdown",
   "id": "6d6be5fd-1158-45fd-8050-1d4fcc1d4e35",
   "metadata": {},
   "source": [
    "### Algorithms"
   ]
  },
  {
   "cell_type": "markdown",
   "id": "e1c93ca9-92ba-448d-ad4b-c65b6118742a",
   "metadata": {},
   "source": [
    "#### One-Dimensional Array"
   ]
  },
  {
   "cell_type": "code",
   "execution_count": 2,
   "id": "a9dd7c2d-0d80-4a3f-8419-d443eea7e5df",
   "metadata": {},
   "outputs": [],
   "source": [
    "def fill_zero_places(a):\n",
    "    \"\"\"\n",
    "    a = tensor([1, 0, 0, 0, 0, 1, 0, 1, 0, 0, 0, 0, 0, 1, 0, 0, 0, 0, 0, 0, 0, 0, 1, 0, 0, 0, 0, 0, 0, 0])\n",
    "    b = tensor([-1,  1,  0,  0,  0,  0,  1,  0,  1,  0,  0,  0,  0,  0,  1,  0,  0,  0, 0,  0,  0,  0,  0,  1,  0,  0,  0,  0,  0,  0,  0])\n",
    "    nonzero_indices = tensor([ 0,  1,  6,  8, 14, 23])\n",
    "    diff = tensor([1, 5, 2, 6, 9, 8])\n",
    "    c = tensor([0, 1, 1, 1, 1, 1, 1, 1, 1, 1, 1, 1, 1, 1, 1, 1, 1, 1, 1, 1, 1, 1, 1, 1, 1, 1, 1, 1, 1, 1, 1]),\n",
    "    d = tensor([1, 1, 1, 1, 1, 1, 1, 1, 1, 1, 1, 1, 1, 1, 1, 1, 1, 1, 1, 1, 1, 1, 1, 1, 1, 1, 1, 1, 1, 1])\n",
    "    \"\"\"\n",
    "    b = torch.cat([torch.tensor([-1], device=a.device), a])\n",
    "    nonzero_indices = torch.nonzero(b).squeeze()\n",
    "    diff = torch.diff(torch.cat([nonzero_indices, torch.tensor([b.shape[0]], device=b.device)]))\n",
    "    c = b[nonzero_indices].repeat_interleave(diff)\n",
    "    c[c < 0] = 0\n",
    "    d = c[1:]\n",
    "    \n",
    "    return d"
   ]
  },
  {
   "cell_type": "code",
   "execution_count": 3,
   "id": "849b761e-626d-4383-8d4e-ec63c637d003",
   "metadata": {},
   "outputs": [],
   "source": [
    "def shift_values_to_next_available_zero(a):\n",
    "    \"\"\"\n",
    "    a = tensor([1, 0, 0, 0, 0, 1, 0, 1, 0, 0, 0, 0, 0, 1, 0, 0, 0, 0, 0, 0, 0, 0, 1, 0, 0, 0, 0, 0, 0, 0])\n",
    "    b = tensor([1, 1, 0, 0, 0, 0, 1, 0, 1, 0, 0, 0, 0, 0, 1, 0, 0, 0, 0, 0, 0, 0, 0, 1, 0, 0, 0, 0, 0, 0, 0])\n",
    "    c = tensor([ 0,  1,  0,  0,  0,  0,  6,  0,  8,  0,  0,  0,  0,  0, 14,  0,  0,  0, 0,  0,  0,  0,  0, 23,  0,  0,  0,  0,  0,  0,  0])\n",
    "    d = tensor([ 1,  0,  0,  0,  0,  6,  0,  8,  0,  0,  0,  0,  0, 14,  0,  0,  0,  0, 0,  0,  0,  0, 23,  0,  0,  0,  0,  0,  0,  0])\n",
    "    e = tensor([ 0,  1,  1,  1,  1,  1,  6,  6,  8,  8,  8,  8,  8,  8, 14, 14, 14, 14, 14, 14, 14, 14, 14, 23, 23, 23, 23, 23, 23, 23])\n",
    "    f = tensor([1, 1, 0, 0, 0, 0, 1, 0, 1, 0, 0, 0, 0, 0, 1, 0, 0, 0, 0, 0, 0, 0, 0, 0, 0, 0, 0, 0, 0, 0])\n",
    "    \"\"\"\n",
    "    b = (a > 0).int()\n",
    "    b = torch.cat([torch.tensor([1], device=a.device), b])\n",
    "    c = torch.arange(b.shape[0], device=a.device) * b\n",
    "    d = c[1:]\n",
    "    e = torch.roll(fill_zero_places(d), 1)\n",
    "    e[0] = 0\n",
    "    f = torch.zeros_like(a)\n",
    "    f.scatter_add_(0, e.long(), a)\n",
    "        \n",
    "    return f"
   ]
  },
  {
   "cell_type": "code",
   "execution_count": 4,
   "id": "15488192-7077-4510-ab46-1782fc746ee3",
   "metadata": {},
   "outputs": [],
   "source": [
    "def fill_zero_values_ascending_rest_with_zero(a):\n",
    "    \"\"\"\n",
    "    a = tensor([4, 3, 2, 1, 0, 1, 0, 5, 4, 3, 2, 1, 0, 8, 7, 6, 5, 4, 3, 2, 1, 0, 1, 0, 4, 3, 2, 1, 0, 0])\n",
    "    b = tensor([1, 1, 1, 1, 0, 1, 0, 1, 1, 1, 1, 1, 0, 1, 1, 1, 1, 1, 1, 1, 1, 0, 1, 0, 1, 1, 1, 1, 0, 0], dtype=torch.int32)\n",
    "    c = tensor([0, 0, 0, 0, 1, 1, 2, 2, 2, 2, 2, 2, 3, 3, 3, 3, 3, 3, 3, 3, 3, 4, 4, 5, 5, 5, 5, 5, 6, 7])\n",
    "    d = tensor([0, 0, 0, 0, 1, 0, 1, 0, 0, 0, 0, 0, 1, 0, 0, 0, 0, 0, 0, 0, 0, 1, 0, 1, 0, 0, 0, 0, 1, 2])\n",
    "    \"\"\"\n",
    "    b = (a > 0).int()\n",
    "    c = torch.cumsum(1 - b, dim=0)\n",
    "    d = (c * (1 - b) - torch.maximum(b * c, torch.zeros_like(c)).cummax(dim=0)[0]) * (1 - b)\n",
    "    \n",
    "    return d"
   ]
  },
  {
   "cell_type": "code",
   "execution_count": 5,
   "id": "e2895ecf-77ed-4f0f-be25-3a025f7a1f20",
   "metadata": {},
   "outputs": [],
   "source": [
    "def find_one_zero_pattern(a):\n",
    "    \"\"\"\n",
    "    a = tensor([0, 0, 0, 0, 1, 0, 1, 0, 0, 0, 0, 0, 1, 0, 0, 0, 0, 0, 0, 0, 0, 1, 0, 1, 0, 0, 0, 0, 0, 0], dtype=torch.int32)\n",
    "    b = tensor([0, 0, 0, 1, 0, 1, 0, 0, 0, 0, 0, 1, 0, 0, 0, 0, 0, 0, 0, 0, 1, 0, 1, 0, 0, 0, 0, 0, 0, 1], dtype=torch.int32)\n",
    "    c = tensor([ 0,  0,  0, -1,  1, -1,  1,  0,  0,  0,  0, -1,  1,  0,  0,  0,  0,  0, 0,  0, -1,  1, -1,  1,  0,  0,  0,  0,  0, -1], dtype=torch.int32)\n",
    "    d = tensor([0, 0, 0, 0, 1, 0, 1, 0, 0, 0, 0, 0, 1, 0, 0, 0, 0, 0, 0, 0, 0, 1, 0, 1, 0, 0, 0, 0, 0, 0], dtype=torch.int32)\n",
    "    \"\"\"\n",
    "    b = torch.roll(a.int(), -1)\n",
    "    b[-1] = 1\n",
    "    c = a - b\n",
    "    d = (c == 1).int()\n",
    "    \n",
    "    return d"
   ]
  },
  {
   "cell_type": "code",
   "execution_count": 6,
   "id": "e9779321-29d3-4471-86b6-0b85db822a49",
   "metadata": {},
   "outputs": [],
   "source": [
    "def fill_zero_values_descending_rest_with_zero(a):\n",
    "    \"\"\"\n",
    "    a = tensor([4, 3, 2, 1, 0, 1, 0, 5, 4, 3, 2, 1, 0, 8, 7, 6, 5, 4, 3, 2, 1, 0, 1, 0, 4, 3, 2, 1, 0, 0])\n",
    "    b = tensor([0, 0, 0, 0, 1, 0, 1, 0, 0, 0, 0, 0, 1, 0, 0, 0, 0, 0, 0, 0, 0, 1, 0, 1, 0, 0, 0, 0, 1, 2])\n",
    "    c = tensor([0, 0, 0, 0, 1, 0, 1, 0, 0, 0, 0, 0, 1, 0, 0, 0, 0, 0, 0, 0, 0, 1, 0, 1, 0, 0, 0, 0, 1, 1], dtype=torch.int32)\n",
    "    d = tensor([0, 0, 0, 0, 1, 0, 1, 0, 0, 0, 0, 0, 1, 0, 0, 0, 0, 0, 0, 0, 0, 1, 0, 1, 0, 0, 0, 0, 0, 0], dtype=torch.int32)\n",
    "    e = tensor([0, 0, 0, 0, 1, 0, 1, 0, 0, 0, 0, 0, 1, 0, 0, 0, 0, 0, 0, 0, 0, 1, 0, 1, 0, 0, 0, 0, 0, 0])\n",
    "    f = tensor([1, 0, 0, 0, 0, 1, 0, 1, 0, 0, 0, 0, 0, 1, 0, 0, 0, 0, 0, 0, 0, 0, 1, 0, 0, 0, 0, 0, 0, 0])\n",
    "    g = tensor([1, 1, 1, 1, 1, 1, 1, 1, 1, 1, 1, 1, 1, 1, 1, 1, 1, 1, 1, 1, 1, 1, 1, 1, 1, 1, 1, 1, 1, 1])\n",
    "    h = tensor([0, 0, 0, 0, 1, 0, 1, 0, 0, 0, 0, 0, 1, 0, 0, 0, 0, 0, 0, 0, 0, 1, 0, 1, 0, 0, 0, 0, 1, 0])\n",
    "    \"\"\"\n",
    "    b = fill_zero_values_ascending_rest_with_zero(a)\n",
    "    c = (b > 0).int()\n",
    "    d = find_one_zero_pattern(c)\n",
    "    e = d * b\n",
    "    f = shift_values_to_next_available_zero(e)\n",
    "    g = fill_zero_places(f)\n",
    "    h = ((g + 1) - b) * c\n",
    "    \n",
    "    return h"
   ]
  },
  {
   "cell_type": "code",
   "execution_count": 7,
   "id": "1d2b5688-333d-44ad-985f-7441562728d1",
   "metadata": {},
   "outputs": [],
   "source": [
    "def find_values_that_must_be_reordered(a):\n",
    "    \"\"\"\n",
    "    a = tensor([-82, -83, -88, -92, -86, -91, -89, -94, -89, -93, -93, -95, -96, -100, -96, -104, -103, -98, -100, -100, -100, -109, -104, -110, -105, -114, -89, -85, -106, -58])\n",
    "    b = tensor([1, 2, 3, 4, 5, 6, 7, 8, 9, 10, 11, 12, 13, 14, 15, 16, 17, 18, 19, 20, 21, 22, 23, 24, 25, 26, 27, 28, 29, 30])\n",
    "    c = tensor([-83, -85, -91, -96, -91, -97, -96, -102, -98, -103, -104, -107, -109, -114, -111, -120, -120, -116, -119, -120, -121, -131, -127, -134, -130, -140, -116, -113, -135, -88])\n",
    "    d = tensor([-140, -140, -140, -140, -140, -140, -140, -140, -140, -140, -140, -140, -140, -140, -140, -140, -140, -140, -140, -140, -140, -140, -140, -140, -140, -140, -135, -135, -135, -88])\n",
    "    e = tensor([0, 0, 0, 0, 0, 0, 0, 0, 0, 0, 0, 0, 0, 0, 0, 0, 0, 0, 0, 0, 0, 0, 0, 0, 0, 1, 0, 0, 1, 1], dtype=torch.int32)\n",
    "    \"\"\"\n",
    "    b = torch.arange(1, a.shape[0] + 1)\n",
    "    c = a - b\n",
    "    d, _ = torch.cummin(c.flip(0), dim=0)\n",
    "    d = d.flip(0)\n",
    "    e = (c == d).int()\n",
    "\n",
    "    return 1 - e"
   ]
  },
  {
   "cell_type": "code",
   "execution_count": 8,
   "id": "f36cd4a4-8e45-49cf-9869-dcfee21ebbd8",
   "metadata": {},
   "outputs": [],
   "source": [
    "def adjust_cars_no_lane_change(a):\n",
    "    \"\"\"\n",
    "    a = tensor([ 3, 10,  8, 11,  5, 13,  7, 14, 18, 15, 19, 20, 13, 21, 16, 24, 19, 24, 23, 22, 28, 22, 27, 26, 33, 32, 30, 32, 31, 36])\n",
    "    b = tensor([0, 0, 0, 0, 1, 0, 1, 0, 0, 0, 0, 0, 1, 0, 0, 0, 0, 0, 0, 0, 0, 1, 0, 1, 0, 0, 0, 0, 1, 1], dtype=torch.int32)\n",
    "    c = tensor([4, 3, 2, 1, 0, 1, 0, 5, 4, 3, 2, 1, 0, 8, 7, 6, 5, 4, 3, 2, 1, 0, 1, 0, 4, 3, 2, 1, 0, 0])\n",
    "    d = tensor([ 0,  0,  0,  0,  5,  0,  7,  0,  0,  0,  0,  0, 13,  0,  0,  0,  0,  0, 0,  0,  0, 22,  0, 26,  0,  0,  0,  0, 31, 36])\n",
    "    e = tensor([ 5,  0,  0,  0,  0,  7,  0, 13,  0,  0,  0,  0,  0, 22,  0,  0,  0,  0, 0,  0,  0,  0, 26,  0, 31,  0,  0,  0,  0, 36])\n",
    "    f = tensor([ 5,  5,  5,  5,  5,  7,  7, 13, 13, 13, 13, 13, 13, 22, 22, 22, 22, 22, 22, 22, 22, 22, 26, 26, 31, 31, 31, 31, 31, 36])\n",
    "    g = tensor([ 1,  2,  3,  4,  5,  6,  7,  8,  9, 10, 11, 12, 13, 14, 15, 16, 17, 18, 19, 20, 21, 22, 25, 26, 27, 28, 29, 30, 31, 36])\n",
    "    \"\"\"\n",
    "    b = 1 - find_values_that_must_be_reordered(a)\n",
    "    c = fill_zero_values_descending_rest_with_zero(b)\n",
    "    d = a * b\n",
    "    e = shift_values_to_next_available_zero(d)\n",
    "    f = fill_zero_places(e)\n",
    "    g = f - c\n",
    "\n",
    "    return g"
   ]
  },
  {
   "cell_type": "markdown",
   "id": "a32319be-0ae2-4a4e-9e15-87ae474c8890",
   "metadata": {},
   "source": [
    "#### Matrices"
   ]
  },
  {
   "cell_type": "code",
   "execution_count": 9,
   "id": "9c265e30-29fb-450e-b709-fba2c5545c92",
   "metadata": {},
   "outputs": [
    {
     "data": {
      "text/plain": [
       "(tensor([ 3, 10,  8, 11,  5, 13,  7, 14, 18, 15, 19, 20, 13, 21, 16, 24, 19, 24,\n",
       "         23, 22, 28, 22, 27, 26, 33, 32, 30, 32, 31, 36]),\n",
       " tensor([0, 0, 0, 0, 1, 0, 1, 0, 0, 0, 0, 0, 1, 0, 0, 0, 0, 0, 0, 0, 0, 1, 0, 1,\n",
       "         0, 0, 0, 0, 1, 1], dtype=torch.int32),\n",
       " tensor([4, 3, 2, 1, 0, 1, 0, 5, 4, 3, 2, 1, 0, 8, 7, 6, 5, 4, 3, 2, 1, 0, 1, 0,\n",
       "         4, 3, 2, 1, 0, 0]),\n",
       " tensor([ 0,  0,  0,  0,  5,  0,  7,  0,  0,  0,  0,  0, 13,  0,  0,  0,  0,  0,\n",
       "          0,  0,  0, 22,  0, 26,  0,  0,  0,  0, 31, 36]),\n",
       " tensor([ 5,  0,  0,  0,  0,  7,  0, 13,  0,  0,  0,  0,  0, 22,  0,  0,  0,  0,\n",
       "          0,  0,  0,  0, 26,  0, 31,  0,  0,  0,  0, 36]),\n",
       " tensor([ 5,  5,  5,  5,  5,  7,  7, 13, 13, 13, 13, 13, 13, 22, 22, 22, 22, 22,\n",
       "         22, 22, 22, 22, 26, 26, 31, 31, 31, 31, 31, 36]),\n",
       " tensor([ 1,  2,  3,  4,  5,  6,  7,  8,  9, 10, 11, 12, 13, 14, 15, 16, 17, 18,\n",
       "         19, 20, 21, 22, 25, 26, 27, 28, 29, 30, 31, 36]))"
      ]
     },
     "execution_count": 9,
     "metadata": {},
     "output_type": "execute_result"
    }
   ],
   "source": [
    "a = torch.tensor([ 3, 10,  8, 11,  5, 13,  7, 14, 18, 15, 19, 20, 13, 21, 16, 24, 19, 24, 23, 22, 28, 22, 27, 26, 33, 32, 30, 32, 31, 36])\n",
    "b = 1 - find_values_that_must_be_reordered(a)\n",
    "c = fill_zero_values_descending_rest_with_zero(b)\n",
    "d = a * b\n",
    "e = shift_values_to_next_available_zero(d)\n",
    "f = fill_zero_places(e)\n",
    "g = f - c\n",
    "\n",
    "a, b, c, d, e, f, g"
   ]
  },
  {
   "cell_type": "code",
   "execution_count": null,
   "id": "910d906a-5304-4a74-a2e2-70867be5244f",
   "metadata": {},
   "outputs": [],
   "source": []
  },
  {
   "cell_type": "code",
   "execution_count": null,
   "id": "4c4ca4e8-16d8-4263-8f3a-9a2ad63bdd95",
   "metadata": {},
   "outputs": [],
   "source": []
  },
  {
   "cell_type": "markdown",
   "id": "dc0bce9e-e163-4438-bb14-330ff6e5afc0",
   "metadata": {},
   "source": [
    "### Use-Cases"
   ]
  },
  {
   "cell_type": "markdown",
   "id": "5b0a6a13-8d11-4b57-9d0f-e5672980f90b",
   "metadata": {},
   "source": [
    "#### Single Lane"
   ]
  },
  {
   "cell_type": "code",
   "execution_count": 10,
   "id": "9680c6d3-ed4c-49e4-937e-9161e58600d2",
   "metadata": {},
   "outputs": [
    {
     "data": {
      "text/plain": [
       "tensor([30, 31, 32, 33, 34, 35, 36, 37, 38, 39, 40, 41, 42, 43, 44, 45, 46, 47,\n",
       "        48, 49, 50, 51, 52, 53, 54, 55, 56, 57, 58, 59])"
      ]
     },
     "execution_count": 10,
     "metadata": {},
     "output_type": "execute_result"
    }
   ],
   "source": [
    "a = torch.tensor([ 83,  84,  89,  93,  87,  92,  90,  95,  90,  94,  94,  96,  97, 101,  97, 105, 104,  99, 101, 101, 101, 110, 105, 111, 106, 115, 90,  86, 107,  59])\n",
    "adjust_cars_no_lane_change(a)"
   ]
  },
  {
   "cell_type": "code",
   "execution_count": 11,
   "id": "555f9ff0-faba-4f84-91f5-7d211614ede8",
   "metadata": {},
   "outputs": [
    {
     "data": {
      "text/plain": [
       "tensor([ 1,  2,  3,  4,  5,  6,  7,  8,  9, 10, 11, 12, 13, 14, 15, 16, 17, 18,\n",
       "        19, 20, 21, 22, 25, 26, 27, 28, 29, 30, 31, 36])"
      ]
     },
     "execution_count": 11,
     "metadata": {},
     "output_type": "execute_result"
    }
   ],
   "source": [
    "a = torch.tensor([ 3, 10,  8, 11,  5, 13,  7, 14, 18, 15, 19, 20, 13, 21, 16, 24, 19, 24, 23, 22, 28, 22, 27, 26, 33, 32, 30, 32, 31, 36])\n",
    "adjust_cars_no_lane_change(a)"
   ]
  },
  {
   "cell_type": "code",
   "execution_count": 12,
   "id": "0718745b-72f4-4990-9d11-8df9a54324c7",
   "metadata": {},
   "outputs": [
    {
     "data": {
      "text/plain": [
       "tensor([ 1,  2,  3,  4,  5,  6,  7,  8,  9, 10, 11, 12, 13, 14, 15, 16, 17, 18,\n",
       "        19, 20, 21, 22, 23, 24, 25, 26, 27, 28, 30, 35])"
      ]
     },
     "execution_count": 12,
     "metadata": {},
     "output_type": "execute_result"
    }
   ],
   "source": [
    "a = torch.tensor([ 1,  4,  3,  6,  5,  6,  8,  8, 14, 10, 11, 13, 13, 14, 15, 16, 17, 18,  19, 20, 21, 23, 23, 24, 25, 26, 27, 28, 30, 35])\n",
    "adjust_cars_no_lane_change(a)"
   ]
  },
  {
   "cell_type": "markdown",
   "id": "ace6bfb4-89db-4bcc-b507-eff58d8504af",
   "metadata": {},
   "source": [
    "#### Multi-Lane"
   ]
  },
  {
   "cell_type": "code",
   "execution_count": 13,
   "id": "4a09d630-bb31-4630-86d3-56613a7776b1",
   "metadata": {},
   "outputs": [],
   "source": [
    "# [lane, index, speed]\n",
    "cars = torch.tensor([[0, 1, 4], [1, 5, 3], [0, 3, 5], [1, 7, 3], [1, 6, 7], [0, 4, 3], [1, 10, 1], [1, 11, 3], [0, 5, 5], [0, 6, 3]])"
   ]
  },
  {
   "cell_type": "code",
   "execution_count": 14,
   "id": "f256b639-32d2-4f57-8ca5-8549ed17f73e",
   "metadata": {},
   "outputs": [
    {
     "data": {
      "text/plain": [
       "tensor([0, 0, 0, 0, 0, 0, 0, 0, 0], dtype=torch.int32)"
      ]
     },
     "execution_count": 14,
     "metadata": {},
     "output_type": "execute_result"
    }
   ],
   "source": [
    "(cars[1:, 1] - cars[:-1, 1]  == 0).int()"
   ]
  },
  {
   "cell_type": "code",
   "execution_count": 15,
   "id": "c5383ed8-ef2a-4356-9eea-55a9293010ca",
   "metadata": {},
   "outputs": [],
   "source": [
    "def eligible_for_takeover(a, val_idx=1):\n",
    "    \"\"\"\n",
    "    two lane case, assuming `a` is sorted by the idx-values\n",
    "    \"\"\"\n",
    "\n",
    "    b = (a[1:, val_idx] - a[:-1, val_idx]  == 0).int()\n",
    "    c = torch.roll(b, 1) | b\n",
    "    d = 1 - c\n",
    "    \n",
    "    return d"
   ]
  },
  {
   "cell_type": "code",
   "execution_count": 16,
   "id": "a2f0f7ae-bf0c-4544-b662-f1c4eed09b74",
   "metadata": {},
   "outputs": [
    {
     "data": {
      "text/plain": [
       "(tensor([[ 0.,  1.,  4.],\n",
       "         [ 0.,  5.,  3.],\n",
       "         [ 0.,  3.,  5.],\n",
       "         [ 1.,  7.,  3.],\n",
       "         [ 1.,  6.,  7.],\n",
       "         [ 0.,  4.,  3.],\n",
       "         [ 1., 10.,  1.],\n",
       "         [ 1., 11.,  3.],\n",
       "         [ 0.,  5.,  5.],\n",
       "         [ 0.,  6.,  3.]]),\n",
       " tensor([0, 0, 0, 0, 0, 0, 0, 0, 0], dtype=torch.int32),\n",
       " tensor([0, 0, 0, 0, 0, 0, 0, 0, 0], dtype=torch.int32),\n",
       " tensor([1, 1, 1, 1, 1, 1, 1, 1, 1], dtype=torch.int32))"
      ]
     },
     "execution_count": 16,
     "metadata": {},
     "output_type": "execute_result"
    }
   ],
   "source": [
    "val_idx=1\n",
    "a = torch.tensor([[0, 1, 4], [0, 5, 3], [0, 3, 5], [1, 7, 3], [1, 6, 7], [0, 4, 3], [1, 10, 1], [1, 11, 3], [0, 5, 5], [0, 6, 3]], dtype=torch.float)\n",
    "b = (a[1:, val_idx] - a[:-1, val_idx]  == 0).int()\n",
    "c = torch.roll(b, 1) | b\n",
    "d = 1 - c\n",
    "\n",
    "a, b, c, d"
   ]
  },
  {
   "cell_type": "code",
   "execution_count": 17,
   "id": "8ae27b4f-86b6-4e6d-a36c-db179eee0ae3",
   "metadata": {},
   "outputs": [],
   "source": [
    "def cars_desiring_takeover():\n",
    "    \"\"\"\n",
    "    \"\"\"\n",
    "    \n",
    "    pass"
   ]
  },
  {
   "cell_type": "code",
   "execution_count": 18,
   "id": "59868bb5-cfb2-4c8a-9b23-dd6d794a47ff",
   "metadata": {},
   "outputs": [],
   "source": [
    "def cars_after_takeovers():\n",
    "    \"\"\"\n",
    "    \"\"\"\n",
    "    \n",
    "    pass"
   ]
  },
  {
   "cell_type": "code",
   "execution_count": 19,
   "id": "226d6498-cb3b-4d57-9a4d-ad1dadf96680",
   "metadata": {},
   "outputs": [
    {
     "data": {
      "text/plain": [
       "(tensor([[ 0.,  1.,  4.],\n",
       "         [ 0.,  5.,  3.],\n",
       "         [ 0.,  3.,  5.],\n",
       "         [ 1.,  7.,  3.],\n",
       "         [ 1.,  6.,  7.],\n",
       "         [ 0.,  4.,  3.],\n",
       "         [ 1., 10.,  1.],\n",
       "         [ 1., 11.,  3.],\n",
       "         [ 0.,  5.,  5.],\n",
       "         [ 0.,  6.,  3.]]),\n",
       " tensor([[ 0.,  6.],\n",
       "         [ 1., 11.]]))"
      ]
     },
     "execution_count": 19,
     "metadata": {},
     "output_type": "execute_result"
    }
   ],
   "source": [
    "import torch\n",
    "\n",
    "cars = torch.tensor([[0, 1, 4], [0, 5, 3], [0, 3, 5], [1, 7, 3], [1, 6, 7], [0, 4, 3], [1, 10, 1], [1, 11, 3], [0, 5, 5], [0, 6, 3]], dtype=torch.float)\n",
    "max_values = maximum_value_by_grp(cars, 0, 1)\n",
    "\n",
    "cars, max_values"
   ]
  },
  {
   "cell_type": "code",
   "execution_count": 20,
   "id": "e493e252-d3da-4622-ac13-16fce68595d9",
   "metadata": {},
   "outputs": [
    {
     "data": {
      "text/plain": [
       "tensor([[ 0.,  7.,  4.],\n",
       "        [ 0., 11.,  3.],\n",
       "        [ 0.,  9.,  5.],\n",
       "        [ 1., 24.,  3.],\n",
       "        [ 1., 23.,  7.],\n",
       "        [ 0., 10.,  3.],\n",
       "        [ 1., 27.,  1.],\n",
       "        [ 1., 28.,  3.],\n",
       "        [ 0., 11.,  5.],\n",
       "        [ 0., 12.,  3.]])"
      ]
     },
     "execution_count": 20,
     "metadata": {},
     "output_type": "execute_result"
    }
   ],
   "source": [
    "add_to_matrix_mapping_values(cars, max_values)"
   ]
  },
  {
   "cell_type": "code",
   "execution_count": 21,
   "id": "659b802b-a661-4bd0-8e38-e53f3b1be39c",
   "metadata": {},
   "outputs": [
    {
     "data": {
      "text/plain": [
       "tensor([[ 0.,  7.],\n",
       "        [ 0., 11.],\n",
       "        [ 0.,  9.],\n",
       "        [ 1., 24.],\n",
       "        [ 1., 23.],\n",
       "        [ 0., 10.],\n",
       "        [ 1., 27.],\n",
       "        [ 1., 28.],\n",
       "        [ 0., 11.],\n",
       "        [ 0., 12.]])"
      ]
     },
     "execution_count": 21,
     "metadata": {},
     "output_type": "execute_result"
    }
   ],
   "source": [
    "cars_sort = torch.empty(cars.shape[0], 2)\n",
    "cars_sort[:, 0] = cars[:, 0]\n",
    "cars_sort[:, 1] = cars[:, 1]\n",
    "cars_sort"
   ]
  },
  {
   "cell_type": "code",
   "execution_count": 22,
   "id": "d2b14805-9e7c-4705-bab7-d04bd26d0d78",
   "metadata": {},
   "outputs": [
    {
     "data": {
      "text/plain": [
       "(tensor([[ 0.,  7.,  4.],\n",
       "         [ 0., 11.,  3.],\n",
       "         [ 0.,  9.,  5.],\n",
       "         [ 1., 24.,  3.],\n",
       "         [ 1., 23.,  7.],\n",
       "         [ 0., 10.,  3.],\n",
       "         [ 1., 27.,  1.],\n",
       "         [ 1., 28.,  3.],\n",
       "         [ 0., 11.,  5.],\n",
       "         [ 0., 12.,  3.]]),\n",
       " tensor([0., 1., 2., 5., 8., 9., 3., 4., 6., 7.]),\n",
       " tensor([[ 0.,  7.,  4.],\n",
       "         [ 0.,  9.,  5.],\n",
       "         [ 0., 10.,  3.],\n",
       "         [ 0., 11.,  3.],\n",
       "         [ 0., 11.,  5.],\n",
       "         [ 0., 12.,  3.],\n",
       "         [ 1., 23.,  7.],\n",
       "         [ 1., 24.,  3.],\n",
       "         [ 1., 27.,  1.],\n",
       "         [ 1., 28.,  3.]]))"
      ]
     },
     "execution_count": 22,
     "metadata": {},
     "output_type": "execute_result"
    }
   ],
   "source": [
    "cars = torch.tensor([[0, 1, 4], [0, 5, 3], [0, 3, 5], [1, 7, 3], [1, 6, 7], [0, 4, 3], [1, 10, 1], [1, 11, 3], [0, 5, 5], [0, 6, 3]], dtype=torch.float)\n",
    "max_values = maximum_value_by_grp(cars, 0, 1)\n",
    "\n",
    "a = add_to_matrix_mapping_values(cars, max_values)\n",
    "b = group_ordering_based_on_sorting(a)\n",
    "c = sort_matrix_by_nth_and_mth_column(a)\n",
    "# b = adjust_cars_no_lane_change(a)\n",
    "a, b, c"
   ]
  },
  {
   "cell_type": "code",
   "execution_count": 23,
   "id": "9cd38951-c852-49e4-aa13-4be35a890ef2",
   "metadata": {},
   "outputs": [
    {
     "data": {
      "text/plain": [
       "tensor([[ 0.,  7.,  4.],\n",
       "        [ 0.,  9.,  5.],\n",
       "        [ 0., 10.,  3.],\n",
       "        [ 0., 12.,  3.],\n",
       "        [ 1., 27.,  1.],\n",
       "        [ 1., 28.,  3.],\n",
       "        [ 0., 11.,  3.],\n",
       "        [ 0., 11.,  5.],\n",
       "        [ 1., 23.,  7.],\n",
       "        [ 1., 24.,  3.]])"
      ]
     },
     "execution_count": 23,
     "metadata": {},
     "output_type": "execute_result"
    }
   ],
   "source": [
    "c[b.int()]"
   ]
  },
  {
   "cell_type": "code",
   "execution_count": 24,
   "id": "7f2d4750-ec03-4b4e-a481-f72a1af24e46",
   "metadata": {},
   "outputs": [
    {
     "name": "stdout",
     "output_type": "stream",
     "text": [
      "tensor([[ 0.,  2.],\n",
      "        [ 0.,  3.],\n",
      "        [ 1.,  0.],\n",
      "        [ 1.,  3.],\n",
      "        [ 1.,  4.],\n",
      "        [ 0., 11.]])\n"
     ]
    }
   ],
   "source": [
    "import torch\n",
    "\n",
    "# Create the matrix as a torch tensor\n",
    "matrix = torch.tensor([[ 0.,  2.],\n",
    "        [ 0., 11.],\n",
    "        [ 0.,  3.],\n",
    "        [ 1.,  4.],\n",
    "        [ 1.,  0.],\n",
    "        [ 1.,  3.]])\n",
    "\n",
    "# Transpose the matrix\n",
    "transposed = matrix.T\n",
    "\n",
    "# Sort by first column, then second column\n",
    "sorted_indices = torch.argsort(transposed[0] * matrix.shape[0] + transposed[1])\n",
    "sorted_array = matrix[sorted_indices]\n",
    "\n",
    "# The result is in sorted_array\n",
    "print(sorted_array)"
   ]
  },
  {
   "cell_type": "markdown",
   "id": "614d07e4-36e5-45e5-876b-1c9e7027e3ba",
   "metadata": {},
   "source": [
    "### Benchmarks"
   ]
  },
  {
   "cell_type": "code",
   "execution_count": 25,
   "id": "49ce41a6-c182-451e-8a02-4f4b194f00c9",
   "metadata": {},
   "outputs": [
    {
     "data": {
      "text/plain": [
       "tensor([    0,     1,     2,  ..., 29999, 30000, 30001])"
      ]
     },
     "execution_count": 25,
     "metadata": {},
     "output_type": "execute_result"
    }
   ],
   "source": [
    "count = 30000\n",
    "lane_num_tracks = torch.tensor([300000])\n",
    "cars_position = torch.arange(0, count)\n",
    "cars_speed = torch.randint(0,10, (count, 1)).flatten()\n",
    "\n",
    "adjust_cars_no_lane_change(cars_position + cars_speed)"
   ]
  },
  {
   "cell_type": "code",
   "execution_count": 26,
   "id": "35a35238-9143-4387-a125-7ddc752ceffb",
   "metadata": {},
   "outputs": [],
   "source": [
    "# import torch\n",
    "# import time\n",
    "\n",
    "# if not torch.cuda.is_available():\n",
    "#     raise RuntimeError(\"CUDA is not available, please run on a CUDA-capable device.\")\n",
    "\n",
    "# iterations = 100000\n",
    "# count = 30000\n",
    "\n",
    "# lane_num_tracks = torch.tensor([300000000]).cuda()\n",
    "# cars_position = torch.arange(0, count).cuda()\n",
    "# cars_speed = torch.randint(0, 10, (count, 1)).flatten().cuda()\n",
    "\n",
    "# def adjust_cars_no_lane_change(cars_info):\n",
    "#     # Sample implementation, replace with the actual function\n",
    "#     return cars_info * 2  # Example operation\n",
    "\n",
    "# # Start timing\n",
    "# start_time = time.time()\n",
    "\n",
    "# # Execute the function multiple times\n",
    "# for _ in range(iterations):\n",
    "#     result = adjust_cars_no_lane_change(cars_position + cars_speed)\n",
    "\n",
    "# # Optionally, synchronize and free the cache to get accurate timings\n",
    "# torch.cuda.synchronize()\n",
    "# torch.cuda.empty_cache()\n",
    "\n",
    "# # End timing\n",
    "# end_time = time.time()\n",
    "\n",
    "# # Calculate elapsed time\n",
    "# elapsed_time = end_time - start_time\n",
    "# print(f\"Elapsed time: {elapsed_time} seconds\")"
   ]
  },
  {
   "cell_type": "markdown",
   "id": "249ae135-9dba-4a13-afae-1a07692962d9",
   "metadata": {},
   "source": [
    "Iterationen: 1.000.000\n",
    "Autos: 300.000\n",
    "\n",
    "Zeit: 16 Sekunden"
   ]
  },
  {
   "cell_type": "markdown",
   "id": "1f00467a-fc30-4a0b-80bd-0945169f3ecc",
   "metadata": {},
   "source": [
    "Iterationen: 10.000.000\n",
    "Autos: 30.000\n",
    "\n",
    "Zeit: 94 Sekunden"
   ]
  },
  {
   "cell_type": "markdown",
   "id": "96789b24-984a-4326-8909-61cc94a5f178",
   "metadata": {},
   "source": [
    "Iterationen: 1.000.000\n",
    "Autos: 3.000.000\n",
    "\n",
    "Zeit: 178 Sekunden"
   ]
  }
 ],
 "metadata": {
  "kernelspec": {
   "display_name": "Python 3 (ipykernel)",
   "language": "python",
   "name": "python3"
  },
  "language_info": {
   "codemirror_mode": {
    "name": "ipython",
    "version": 3
   },
   "file_extension": ".py",
   "mimetype": "text/x-python",
   "name": "python",
   "nbconvert_exporter": "python",
   "pygments_lexer": "ipython3",
   "version": "3.8.10"
  }
 },
 "nbformat": 4,
 "nbformat_minor": 5
}
