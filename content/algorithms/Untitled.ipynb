{
 "cells": [
  {
   "cell_type": "code",
   "execution_count": null,
   "id": "6589bd6f-c4a6-4a1b-919f-f9d02f021ed6",
   "metadata": {},
   "outputs": [],
   "source": []
  }
 ],
 "metadata": {
  "kernelspec": {
   "display_name": "",
   "name": ""
  },
  "language_info": {
   "name": ""
  }
 },
 "nbformat": 4,
 "nbformat_minor": 5
}
