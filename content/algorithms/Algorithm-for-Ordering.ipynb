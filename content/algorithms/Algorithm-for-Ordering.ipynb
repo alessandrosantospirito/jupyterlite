{
 "cells": [
  {
   "cell_type": "code",
   "execution_count": 1,
   "id": "0aa1824c-ce7a-479f-8fbc-870f893b0e99",
   "metadata": {},
   "outputs": [],
   "source": [
    "import torch"
   ]
  },
  {
   "cell_type": "code",
   "execution_count": 9,
   "id": "c4e6119f-490f-4f76-af02-8b642fddcdbe",
   "metadata": {},
   "outputs": [],
   "source": [
    "def shift_values_to_next_available_zero(a):\n",
    "    b = (a > 0).int()\n",
    "    b = torch.cat([torch.tensor([0], device=a.device), b])\n",
    "    c = torch.arange(b.shape[0], device=a.device) * b\n",
    "    c[-1] = 0\n",
    "    d = c[1:]\n",
    "    e = torch.roll(fill_zero_places(d), 1)\n",
    "    e[0] = 0\n",
    "    f = torch.zeros_like(a)\n",
    "    f.scatter_add_(0, e.long(), a)\n",
    "    return f"
   ]
  },
  {
   "cell_type": "code",
   "execution_count": 11,
   "id": "16e6d732-c461-4541-b97c-febd4ff5336c",
   "metadata": {},
   "outputs": [],
   "source": [
    "def fill_zero_places(a):\n",
    "    a = torch.cat([torch.tensor([-1], device=a.device), a])\n",
    "    nonzero_indices = torch.nonzero(a).squeeze()\n",
    "    diff = torch.diff(torch.cat([nonzero_indices, torch.tensor([a.shape[0]], device=a.device)]))\n",
    "    b = a[nonzero_indices].repeat_interleave(diff)\n",
    "    b[b < 0] = 0\n",
    "    c = b[1:]\n",
    "    return c"
   ]
  },
  {
   "cell_type": "code",
   "execution_count": 5,
   "id": "9ad8764e-90af-4bc3-989e-2e934e418d8c",
   "metadata": {},
   "outputs": [],
   "source": [
    "def fill_zero_values_ascending_rest_with_zero(a):\n",
    "    b = (a > 0).int()\n",
    "    cumsum = torch.cumsum(1 - b, dim=0)\n",
    "    c = (cumsum * (1 - b) - torch.maximum(b * cumsum, torch.zeros_like(cumsum)).cummax(dim=0)[0]) * (1 - b)\n",
    "    return c"
   ]
  },
  {
   "cell_type": "code",
   "execution_count": 7,
   "id": "b2d0ff82-b7c5-4d9e-9d89-97d2a01dce33",
   "metadata": {},
   "outputs": [],
   "source": [
    "def find_one_zero_pattern(a):\n",
    "    b = torch.roll(a.int(), -1)\n",
    "    b[-1] = 1\n",
    "    c = a - b\n",
    "    d = (c == 1).int()\n",
    "    return d"
   ]
  },
  {
   "cell_type": "code",
   "execution_count": 3,
   "id": "80865a82-1e85-4587-b370-945ba19a93f8",
   "metadata": {},
   "outputs": [],
   "source": [
    "def fill_zero_values_descending_rest_with_zero(a):\n",
    "    b = fill_zero_values_ascending_rest_with_zero(a)\n",
    "    c = (b > 0).int()\n",
    "    d = find_one_zero_pattern(c)\n",
    "    e = d * b\n",
    "    f = shift_values_to_next_available_zero(e)\n",
    "    g = fill_zero_places(f)\n",
    "    h = ((g + 1) - b) * c\n",
    "    return h"
   ]
  },
  {
   "cell_type": "code",
   "execution_count": 12,
   "id": "6589bd6f-c4a6-4a1b-919f-f9d02f021ed6",
   "metadata": {},
   "outputs": [
    {
     "data": {
      "text/plain": [
       "(tensor([ 3, 10,  8, 11,  5, 13,  7, 14, 18, 15, 19, 20, 13, 21, 16, 24, 19, 24,\n",
       "         23, 22, 28, 22, 27, 26, 33, 32, 30, 32, 31, 36]),\n",
       " tensor([ 3,  5,  5,  5,  5,  7,  7, 13, 13, 13, 13, 13, 13, 16, 16, 19, 19, 22,\n",
       "         22, 22, 22, 22, 26, 26, 30, 30, 30, 31, 31, 36]),\n",
       " tensor([0, 1, 1, 1, 0, 1, 0, 1, 1, 1, 1, 1, 0, 1, 0, 1, 0, 1, 1, 1, 1, 0, 1, 0,\n",
       "         1, 1, 0, 1, 0, 0]),\n",
       " tensor([ 0, 10,  8, 11,  0, 13,  0, 14, 18, 15, 19, 20,  0, 21,  0, 24,  0, 24,\n",
       "         23, 22, 28,  0, 27,  0, 33, 32,  0, 32,  0,  0]),\n",
       " tensor([0, 1, 1, 1, 0, 1, 0, 1, 1, 1, 1, 1, 0, 1, 0, 1, 0, 1, 1, 1, 1, 0, 1, 0,\n",
       "         1, 1, 0, 1, 0, 0], dtype=torch.int32),\n",
       " tensor([1, 0, 0, 0, 1, 0, 1, 0, 0, 0, 0, 0, 1, 0, 1, 0, 1, 0, 0, 0, 0, 1, 0, 1,\n",
       "         0, 0, 1, 0, 1, 1]),\n",
       " tensor([0, 3, 2, 1, 0, 1, 0, 5, 4, 3, 2, 1, 0, 1, 0, 1, 0, 4, 3, 2, 1, 0, 1, 0,\n",
       "         2, 1, 0, 1, 0, 0]),\n",
       " tensor([ 0,  7,  6, 10,  0, 12,  0,  9, 14, 12, 17, 19,  0, 20,  0, 23,  0, 20,\n",
       "         20, 20, 27,  0, 26,  0, 31, 31,  0, 31,  0,  0]),\n",
       " tensor([0, 1, 1, 1, 0, 1, 0, 1, 1, 1, 1, 1, 0, 1, 0, 1, 0, 1, 1, 1, 1, 0, 1, 0,\n",
       "         1, 1, 0, 1, 0, 0], dtype=torch.int32),\n",
       " tensor([ 0, 10,  8, 11,  0, 13,  0, 14, 18, 15, 19, 20,  0, 21,  0, 24,  0, 24,\n",
       "         23, 22, 28,  0, 27,  0, 33, 32,  0, 32,  0,  0]),\n",
       " tensor([ 3,  0,  0,  0,  5,  0,  7,  0,  0,  0,  0,  0, 13,  0, 16,  0, 19,  0,\n",
       "          0,  0,  0, 22,  0, 26,  0,  0, 30,  0, 31, 36]))"
      ]
     },
     "execution_count": 12,
     "metadata": {},
     "output_type": "execute_result"
    }
   ],
   "source": [
    "a = torch.tensor([ 3, 10,  8, 11,  5, 13,  7, 14, 18, 15, 19, 20, 13, 21, 16, 24, 19, 24, 23, 22, 28, 22, 27, 26, 33, 32, 30, 32, 31, 36])\n",
    "b, _ = torch.cummin(a.flip(0), dim=0)\n",
    "b = b.flip(0)\n",
    "c = torch.cat([(1 - (b[1:] - b[:-1]) > 0).int(), torch.tensor([0], device=a.device)])\n",
    "d = a * c\n",
    "e = ((d >= b).int() * c).int()\n",
    "f = (1 - c)\n",
    "g = fill_zero_values_descending_rest_with_zero(f)\n",
    "h = d - g\n",
    "i = ((h > b).int() * c | (a >= b).int() * c).int()\n",
    "\n",
    "a, b, c, d, e, f, g, h, i, a  * i, a  * (1-i)"
   ]
  },
  {
   "cell_type": "markdown",
   "id": "ec17bdc6-f694-4192-b99c-10c3c2e304c9",
   "metadata": {},
   "source": [
    "#### Expiriment if there is a pattern (using NN)"
   ]
  },
  {
   "cell_type": "code",
   "execution_count": 194,
   "id": "0d47131d-6344-48e6-95e9-f8a719f0728d",
   "metadata": {},
   "outputs": [
    {
     "data": {
      "text/plain": [
       "(tensor(81.),\n",
       " tensor([1., 1., 0., 0., 0., 0., 1., 1., 1., 1., 1., 1., 1., 1., 1., 1., 0., 0.,\n",
       "         0., 1., 1., 0., 1., 1., 0., 1., 1., 1., 1., 0., 1., 0., 1., 1., 0., 0.,\n",
       "         0., 1., 1., 1., 1., 0., 1., 0., 1., 1., 0., 0., 1., 0., 1., 1., 1., 1.,\n",
       "         0., 1., 0., 0., 1., 1., 1., 1., 1., 0., 1., 0., 0., 0., 1., 0., 0., 0.,\n",
       "         1., 0., 0., 1., 1., 0., 1., 1., 0., 1., 1., 0., 0., 1., 0., 1., 1., 0.,\n",
       "         1., 1., 0., 0., 1., 0., 0., 0., 1., 0., 1., 0., 0., 1., 0., 0., 0., 1.,\n",
       "         1., 0., 1., 0., 1., 0., 0., 1., 1., 0., 0., 1., 0., 1., 0., 1., 1., 1.,\n",
       "         0., 0., 1., 1., 0., 0., 1., 0., 0., 1., 1., 0., 0., 0., 0., 0., 0., 0.,\n",
       "         1., 1., 1., 1., 1., 1.]),\n",
       " tensor([ 91,  92,  93,  94,  95,  96,  97,  98,  99, 100, 101, 102, 103, 104,\n",
       "         105, 106, 107, 108, 109, 110, 111, 112, 113, 114, 115, 116, 117, 118,\n",
       "         119, 120, 121, 122, 123, 124, 125, 126, 127, 128, 129, 130, 131, 132,\n",
       "         133, 134, 135, 136, 137, 138, 139, 140, 141, 142, 143, 144, 145, 146,\n",
       "         147, 148, 149, 150, 151, 152, 153, 154, 155, 156, 157, 158, 159, 160,\n",
       "         161, 162, 163, 164, 165, 166, 167, 168, 169, 170, 171, 172, 173, 174,\n",
       "         175, 176, 177, 178, 179, 180, 181, 182, 183, 184, 185, 186, 187, 188,\n",
       "         189, 190, 191, 192, 193, 194, 195, 196, 197, 198, 199, 200, 201, 202,\n",
       "         203, 204, 205, 206, 207, 208, 209, 210, 211, 212, 213, 214, 215, 216,\n",
       "         217, 218, 219, 220, 221, 222, 223, 224, 225, 226, 227, 228, 229, 230,\n",
       "         231, 232, 233, 234, 235, 236, 237, 238, 239, 240]),\n",
       " tensor([1., 1., 1., 1., 1., 1., 1., 1., 1., 1., 1., 1., 1., 1., 1., 1., 1., 1.,\n",
       "         1., 1., 1., 1., 1., 1., 1., 1., 1., 1., 1., 1., 1., 1., 1., 1., 1., 1.,\n",
       "         1., 1., 1., 1., 1., 1., 1., 1., 1., 1., 1., 1., 1., 1., 1., 1., 1., 1.,\n",
       "         1., 1., 1., 1., 1., 1., 1., 1., 1., 1., 1., 1., 1., 1., 1., 1., 1., 1.,\n",
       "         1., 1., 1., 1., 1., 1., 1., 1., 1., 1., 1., 1., 1., 1., 1., 1., 1., 1.,\n",
       "         1., 1., 1., 1., 1., 1., 1., 1., 1., 1., 1., 1., 1., 1., 1., 1., 1., 1.,\n",
       "         1., 1., 1., 1., 1., 1., 1., 1., 1., 1., 1., 1., 1., 1., 1., 1., 1., 1.,\n",
       "         1., 1., 1., 1., 1., 1., 1., 1., 1., 1., 1., 1., 1., 1., 1., 1., 1., 1.,\n",
       "         1., 1., 1., 1., 1., 1.]),\n",
       " tensor([ 91.,  92.,   0.,   0.,   0.,   0.,  97.,  98.,  99., 100., 101., 102.,\n",
       "         103., 104., 105., 106.,   0.,   0.,   0., 110., 111.,   0., 113., 114.,\n",
       "           0., 116., 117., 118., 119.,   0., 121.,   0., 123., 124.,   0.,   0.,\n",
       "           0., 128., 129., 130., 131.,   0., 133.,   0., 135., 136.,   0.,   0.,\n",
       "         139.,   0., 141., 142., 143., 144.,   0., 146.,   0.,   0., 149., 150.,\n",
       "         151., 152., 153.,   0., 155.,   0.,   0.,   0., 159.,   0.,   0.,   0.,\n",
       "         163.,   0.,   0., 166., 167.,   0., 169., 170.,   0., 172., 173.,   0.,\n",
       "           0., 176.,   0., 178., 179.,   0., 181., 182.,   0.,   0., 185.,   0.,\n",
       "           0.,   0., 189.,   0., 191.,   0.,   0., 194.,   0.,   0.,   0., 198.,\n",
       "         199.,   0., 201.,   0., 203.,   0.,   0., 206., 207.,   0.,   0., 210.,\n",
       "           0., 212.,   0., 214., 215., 216.,   0.,   0., 219., 220.,   0.,   0.,\n",
       "         223.,   0.,   0., 226., 227.,   0.,   0.,   0.,   0.,   0.,   0.,   0.,\n",
       "         235., 236., 237., 238., 239., 240.]))"
      ]
     },
     "execution_count": 194,
     "metadata": {},
     "output_type": "execute_result"
    }
   ],
   "source": [
    "import torch\n",
    "import random\n",
    "\n",
    "tensor_size = random.randint(100, 200)\n",
    "num_ones = random.randint(40, min(100, tensor_size))\n",
    "tensor = torch.zeros(tensor_size)\n",
    "one_positions = random.sample(range(tensor_size), num_ones)\n",
    "tensor[one_positions] = 1\n",
    "start_index = torch.randint(0, 100, (1,))[0]\n",
    "indices = torch.arange(start_index, start_index + tensor.shape[0])\n",
    "ones = torch.ones(tensor.shape[0])\n",
    "a = (indices * tensor)\n",
    "\n",
    "tensor.sum(), tensor, indices, ones, a"
   ]
  },
  {
   "cell_type": "code",
   "execution_count": 202,
   "id": "3fdb1f17-2bb9-4352-b030-de4c0c0ea3c9",
   "metadata": {},
   "outputs": [
    {
     "data": {
      "text/plain": [
       "tensor(81, dtype=torch.int32)"
      ]
     },
     "execution_count": 202,
     "metadata": {},
     "output_type": "execute_result"
    }
   ],
   "source": [
    "tensor.sum().int()"
   ]
  },
  {
   "cell_type": "code",
   "execution_count": 216,
   "id": "e924e583-f16b-42df-8288-181d8de8d084",
   "metadata": {},
   "outputs": [
    {
     "data": {
      "text/plain": [
       "(tensor([2, 4, 4, 2, 1, 1, 4, 3, 2, 4, 2, 3, 1, 2, 4, 4, 1, 1, 4, 3, 3, 4, 4, 3,\n",
       "         3, 2, 3, 1, 4, 2, 1, 2, 3, 4, 1, 4, 3, 3, 3, 4, 3, 2, 1, 1, 3, 2, 3, 4,\n",
       "         1, 1, 1, 2, 4, 2, 2, 3, 1, 3, 4, 3, 4, 4, 4, 3, 4, 2, 2, 1, 1, 2, 4, 4,\n",
       "         1, 2, 2, 2, 1, 2, 3, 4, 3]),\n",
       " tensor(271))"
      ]
     },
     "execution_count": 216,
     "metadata": {},
     "output_type": "execute_result"
    }
   ],
   "source": [
    "decline_range = 5\n",
    "declines = torch.randint(1, decline_range, (tensor.sum().int(),))\n",
    "top_value_offset = torch.randint(0, tensor.sum().int() * decline_range, (1,))[0]\n",
    "\n",
    "declines, top_value_offset"
   ]
  },
  {
   "cell_type": "code",
   "execution_count": 212,
   "id": "f07f2cc6-5907-4360-bd28-a0df62a3eb32",
   "metadata": {},
   "outputs": [
    {
     "data": {
      "text/plain": [
       "tensor([264])"
      ]
     },
     "execution_count": 212,
     "metadata": {},
     "output_type": "execute_result"
    }
   ],
   "source": [
    "declines = torch.tensor([2, 4, 3, 2, 1])\n",
    "top_value_offset = torch.tensor(323)"
   ]
  },
  {
   "cell_type": "code",
   "execution_count": 221,
   "id": "92bfba49-0387-4e7d-bde5-b4d666ff6ff7",
   "metadata": {},
   "outputs": [
    {
     "data": {
      "text/plain": [
       "tensor([  0,   1,   6,   7,   8,   9,  10,  11,  12,  13,  14,  15,  19,  20,\n",
       "         22,  23,  25,  26,  27,  28,  30,  32,  33,  37,  38,  39,  40,  42,\n",
       "         44,  45,  48,  50,  51,  52,  53,  55,  58,  59,  60,  61,  62,  64,\n",
       "         68,  72,  75,  76,  78,  79,  81,  82,  85,  87,  88,  90,  91,  94,\n",
       "         98, 100, 103, 107, 108, 110, 112, 115, 116, 119, 121, 123, 124, 125,\n",
       "        128, 129, 132, 135, 136, 144, 145, 146, 147, 148, 149])"
      ]
     },
     "execution_count": 221,
     "metadata": {},
     "output_type": "execute_result"
    }
   ],
   "source": [
    "indices = torch.nonzero(tensor > 0).flatten()\n",
    "indices"
   ]
  }
 ],
 "metadata": {
  "kernelspec": {
   "display_name": "Python 3 (ipykernel)",
   "language": "python",
   "name": "python3"
  },
  "language_info": {
   "codemirror_mode": {
    "name": "ipython",
    "version": 3
   },
   "file_extension": ".py",
   "mimetype": "text/x-python",
   "name": "python",
   "nbconvert_exporter": "python",
   "pygments_lexer": "ipython3",
   "version": "3.8.10"
  }
 },
 "nbformat": 4,
 "nbformat_minor": 5
}
