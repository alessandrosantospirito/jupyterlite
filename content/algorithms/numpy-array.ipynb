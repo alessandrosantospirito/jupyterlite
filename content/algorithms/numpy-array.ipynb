{
 "cells": [
  {
   "cell_type": "code",
   "execution_count": 1,
   "id": "71c878cd-bd4c-4c9f-b972-d9f216901663",
   "metadata": {},
   "outputs": [],
   "source": [
    "import numpy as np"
   ]
  },
  {
   "cell_type": "code",
   "execution_count": 2,
   "id": "8040cc6d-1745-43a6-be93-8dd2a5b78569",
   "metadata": {},
   "outputs": [],
   "source": [
    "# a = np.array([10, 3, 4, 5, 7, 17, 15, 11])\n",
    "# b = a[-1] - b\n",
    "# k = np.arange(a.shape[0])[::-1] > b\n",
    "# c = np.where((np.roll(k.astype(int), 1) == 1) & (k.astype(int) == 0), 1, 0)\n",
    "# c"
   ]
  },
  {
   "cell_type": "code",
   "execution_count": 3,
   "id": "0db9b115-447b-474d-8a01-ab9e7b24c4f7",
   "metadata": {},
   "outputs": [
    {
     "data": {
      "text/plain": [
       "(array([ 0,  0,  0,  0,  3,  3,  3,  3,  3,  3, 11, 11, 11,  5,  5,  5, 17]),\n",
       " array([ 0,  1,  1,  1,  1,  1,  1,  7,  7,  7,  7,  7,  7, 13, 13, 13, 13,\n",
       "        13, 13, 13]))"
      ]
     },
     "execution_count": 3,
     "metadata": {},
     "output_type": "execute_result"
    }
   ],
   "source": [
    "def fill_zero_places(a):\n",
    "    \"\"\"\n",
    "    a = np.array([0, 0, 0, 0,  3,  0,  0,  0,  0,  0, 11, 0, 0, 5, 0, 0, 17])\n",
    "    b = np. array([ 0,  0,  0,  0,  0,  3,  3,  3,  3,  3,  3, 11, 11, 11,  5,  5,  5, 17])\n",
    "    c = array([ 0,  0,  0,  0,  3,  3,  3,  3,  3,  3, 11, 11, 11,  5,  5,  5, 17])\n",
    "    \"\"\"\n",
    "    a = np.append([-1], a)\n",
    "    b = np.roll(a[a.nonzero()].repeat(np.diff(np.append(np.where(a!=0),a.shape[0]))), 0)\n",
    "    b[b<0] = 0\n",
    "    c = b[1:]\n",
    "    return c\n",
    "\n",
    "a = np.array([0, 0, 0, 0,  3,  0,  0,  0,  0,  0, 11, 0, 0, 5, 0, 0, 17])\n",
    "b = np.array([ 0,  1,  0,  0,  0,  0,  0,  7,  0,  0,  0,  0,  0, 13,  0,  0,  0, 0,  0,  0])\n",
    "\n",
    "fill_zero_places(a), fill_zero_places(b)"
   ]
  },
  {
   "cell_type": "code",
   "execution_count": 4,
   "id": "d375e117-7400-46c7-9147-09b4ae0375f1",
   "metadata": {},
   "outputs": [
    {
     "data": {
      "text/plain": [
       "array([2, 6, 0, 0, 0, 0, 0, 4, 0, 0, 0, 0, 0, 6, 0, 0, 0, 0, 0, 0])"
      ]
     },
     "execution_count": 4,
     "metadata": {},
     "output_type": "execute_result"
    }
   ],
   "source": [
    "def shift_values_to_next_available_zero(a):\n",
    "    \"\"\"\n",
    "    a = np.array([0, 2, 0, 0, 0, 0, 0, 6, 0, 0, 0, 0, 0, 4, 0, 0, 0, 0, 0, 6])\n",
    "    b = np.array([0, 1, 0, 0, 0, 0, 0, 1, 0, 0, 0, 0, 0, 1, 0, 0, 0, 0, 0, 1])\n",
    "    c = np.array([ 0,  1,  0,  0,  0,  0,  0,  7,  0,  0,  0,  0,  0, 13,  0,  0,  0, 0,  0,  0])\n",
    "    d = np.array([0, 0, 0, 0, 0, 0, 0, 1, 0, 0, 0, 0, 0, 7, 0, 0, 0, 0, 0, 0]),\n",
    "    e = np.array([ 0,  0,  1,  1,  1,  1,  1,  1,  7,  7,  7,  7,  7,  7, 13, 13, 13, 13, 13, 13]\n",
    "    f = np.array([2, 6, 0, 0, 0, 0, 0, 4, 0, 0, 0, 0, 0, 6, 0, 0, 0, 0, 0, 0]))\n",
    "    \"\"\"\n",
    "\n",
    "    b = (a>0).astype(int)\n",
    "    c = np.arange(b.shape[0]) * b\n",
    "    c[-1] = -1 # acts as token\n",
    "    d = np.roll(c[c.nonzero()].repeat(np.diff(np.append(np.where(c!=0),c.shape[0]))), 2)\n",
    "    d = np.append(d, np.array([0])) * b\n",
    "    c[-1] = 0\n",
    "    d[d<0] = 0\n",
    "    e = np.roll(fill_zero_places(c), 1)\n",
    "    e[0] = 0\n",
    "    f = np.zeros_like(a)\n",
    "    np.add.at(f, e, a)\n",
    "    f != 0\n",
    "\n",
    "    return f\n",
    "\n",
    "a = np.array([0, 2, 0, 0, 0, 0, 0, 6, 0, 0, 0, 0, 0, 4, 0, 0, 0, 0, 0, 6])\n",
    "shift_values_to_next_available_zero(a)"
   ]
  },
  {
   "cell_type": "code",
   "execution_count": 5,
   "id": "7d392530-c573-4f3e-ab4e-928577e309b8",
   "metadata": {},
   "outputs": [
    {
     "data": {
      "text/plain": [
       "array([1, 0, 1, 2, 3, 4, 5, 0, 1, 2, 3, 4, 5, 0, 1, 2, 3, 4, 5, 0])"
      ]
     },
     "execution_count": 5,
     "metadata": {},
     "output_type": "execute_result"
    }
   ],
   "source": [
    "def fill_zero_values_ascending_rest_with_zero(a):\n",
    "    \"\"\"\n",
    "    a = np.array([0, 2, 0, 0, 0, 0, 0, 6, 0, 0, 0, 0, 0, 4, 0, 0, 0, 0, 0, 6])\n",
    "    b = np.array([0, 1, 0, 0, 0, 0, 0, 1, 0, 0, 0, 0, 0, 1, 0, 0, 0, 0, 0, 1])\n",
    "    c = np.array([1, 0, 1, 2, 3, 4, 5, 0, 1, 2, 3, 4, 5, 0, 1, 2, 3, 4, 5, 0])\n",
    "    \"\"\"\n",
    "    \n",
    "    b = (a>0).astype(int)\n",
    "    c = (np.cumsum(1 - b) * (1-b) - np.maximum.accumulate(b * np.cumsum(1-b))) * ( 1 - b)\n",
    "\n",
    "    return c\n",
    "\n",
    "a = np.array([0, 2, 0, 0, 0, 0, 0, 6, 0, 0, 0, 0, 0, 4, 0, 0, 0, 0, 0, 6])\n",
    "fill_zero_values_ascending_rest_with_zero(a)"
   ]
  },
  {
   "cell_type": "code",
   "execution_count": 84,
   "id": "ab3a816f-ef1c-4583-bba6-eaca83779524",
   "metadata": {},
   "outputs": [
    {
     "data": {
      "text/plain": [
       "(array([0, 1, 0, 1, 1, 1, 0, 1, 0, 0, 0, 0, 0, 1, 0, 0, 0, 0, 0, 1]),\n",
       " array([1, 0, 1, 0, 0, 0, 1, 0, 1, 0, 0, 0, 0, 0, 1, 0, 0, 0, 0, 0]))"
      ]
     },
     "execution_count": 84,
     "metadata": {},
     "output_type": "execute_result"
    }
   ],
   "source": [
    "def find_zero_one_pattern(a):\n",
    "    \"\"\"\n",
    "    a = np.array([0, 1, 0, 1, 1, 1, 0, 1, 0, 0, 0, 0, 0, 1, 0, 0, 0, 0, 0, 1])\n",
    "    b = np.array([1, 0, 1, 0, 0, 0, 1, 0, 1, 0, 0, 0, 0, 0, 1, 0, 0, 0, 0, 0])\n",
    "    \"\"\"\n",
    "    \n",
    "    b = np.where((np.roll(a.astype(int), 1) == 1) & (a.astype(int) == 0), 1, 0)\n",
    "\n",
    "    return b\n",
    "\n",
    "a = np.array([0, 1, 0, 1, 1, 1, 0, 1, 0, 0, 0, 0, 0, 1, 0, 0, 0, 0, 0, 1])\n",
    "a, find_zero_one_pattern(a)"
   ]
  },
  {
   "cell_type": "code",
   "execution_count": 98,
   "id": "02915b86-d299-4a7d-881d-93816c9be091",
   "metadata": {},
   "outputs": [
    {
     "data": {
      "text/plain": [
       "array([0, 1, 0, 1, 0, 0, 0, 1, 0, 0, 0, 0, 0, 1, 0, 0, 0, 0, 0, 1])"
      ]
     },
     "execution_count": 98,
     "metadata": {},
     "output_type": "execute_result"
    }
   ],
   "source": [
    "def find_one_zero_pattern(a):\n",
    "    \"\"\"\n",
    "    a = np.array([0, 1, 0, 1, 1, 1, 0, 1, 0, 0, 0, 0, 0, 1, 0, 0, 0, 0, 0, 1])\n",
    "    b = np.array([-1,  1, -1,  1,  0,  0, -1,  1, -1,  0,  0,  0,  0,  1, -1,  0,  0, 0,  0,  1]\n",
    "    c = np.array([0, 1, 0, 1, 0, 0, 0, 1, 0, 0, 0, 0, 0, 1, 0, 0, 0, 0, 0, 1])\n",
    "    \"\"\"\n",
    "\n",
    "    b = a - np.roll(a.astype(int), 1)\n",
    "    c = b\n",
    "    c[c<=0] = 0\n",
    "\n",
    "    return c\n",
    "\n",
    "a = np.array([0, 1, 0, 1, 1, 1, 0, 1, 0, 0, 0, 0, 0, 1, 0, 0, 0, 0, 0, 1])\n",
    "find_one_zero_pattern(a)"
   ]
  },
  {
   "cell_type": "code",
   "execution_count": null,
   "id": "c399f66d-b95e-42f5-9849-20763ad60f85",
   "metadata": {},
   "outputs": [],
   "source": [
    "def fill_zero_values_desscending_rest_with_zero(a):\n",
    "    \"\"\"\n",
    "    a = np.array([0, 2, 0, 0, 0, 0, 0, 6, 0, 0, 0, 0, 0, 4, 0, 0, 0, 0, 0, 6])\n",
    "    b = np.array([1, 0, 1, 2, 3, 4, 5, 0, 1, 2, 3, 4, 5, 0, 1, 2, 3, 4, 5, 0])\n",
    "    c = np.array([1, 0, 5, 4, 3, 2, 1, 0, 5, 4, 3, 2, 1, 0, 5, 4, 3, 2, 1, 0])\n",
    "    \"\"\"\n",
    "    \n",
    "    b = fill_zero_values_ascending_rest_with_zero(a)\n",
    "    c = (np.cumsum(1 - b) * (1-b) - np.maximum.accumulate(b * np.cumsum(1-b))) * ( 1 - b)\n",
    "\n",
    "    return c\n",
    "\n",
    "a = np.array([0, 2, 0, 0, 0, 0, 0, 6, 0, 0, 0, 0, 0, 4, 0, 0, 0, 0, 0, 6])\n",
    "fill_zero_values_ascending_rest_with_zero(a)"
   ]
  },
  {
   "cell_type": "code",
   "execution_count": 11,
   "id": "67cd5b39-e0b5-4995-ac64-a6c33e808b8b",
   "metadata": {},
   "outputs": [
    {
     "data": {
      "text/plain": [
       "(array([0, 1, 0, 1, 1, 1, 0, 1, 0, 0, 0, 0, 0, 1, 0, 0, 0, 0, 0, 1]),\n",
       " array([1, 0, 1, 0, 0, 0, 1, 0, 1, 0, 0, 0, 0, 0, 1, 0, 0, 0, 0, 0]),\n",
       " array([0, 1, 0, 1, 1, 1, 0, 1, 0, 1, 1, 1, 1, 1, 0, 1, 1, 1, 1, 1]),\n",
       " array([1, 0, 1, 0, 1, 1, 1, 0, 1, 1, 1, 1, 1, 0, 1, 1, 1, 1, 1, 0]),\n",
       " array([0, 1, 0, 1, 0, 0, 0, 1, 0, 0, 0, 0, 0, 1, 0, 0, 0, 0, 0, 1]),\n",
       " array([0, 1, 0, 1, 1, 1, 0, 1, 0, 1, 1, 1, 1, 1, 0, 1, 1, 1, 1, 1]))"
      ]
     },
     "execution_count": 11,
     "metadata": {},
     "output_type": "execute_result"
    }
   ],
   "source": [
    "a = np.array([0, 1, 0, 1, 1, 1, 0, 1, 0, 0, 0, 0, 0, 1, 0, 0, 0, 0, 0, 1])\n",
    "z = find_zero_one_pattern(a)\n",
    "b = np.where((np.roll(a.astype(int), 1) == 1) & (a.astype(int) == 0), 0, 1)\n",
    "c = np.where((np.roll(a.astype(int), 1) == 0) & (a.astype(int) == 1), 0, 1)\n",
    "# d = c = np.where((np.roll(a.astype(int), 0) == 0) & (a.astype(int) == 1), 0, 1)\n",
    "# e = c = np.where((np.roll(a.astype(int), 0) == 1) & (a.astype(int) == 0), 1, 0)\n",
    "x = np.array([0, 1, 0, 1, 0, 0, 0, 1, 0, 0, 0, 0, 0, 1, 0, 0, 0, 0, 0, 1])\n",
    "\n",
    "a, z, b, c, x, a | b\n",
    "# a, z, b, c, d, e, x"
   ]
  },
  {
   "cell_type": "code",
   "execution_count": 12,
   "id": "f5afeb97-d42f-4be8-a043-2e30815ff433",
   "metadata": {},
   "outputs": [
    {
     "data": {
      "text/plain": [
       "array([1, 0, 1, 2, 3, 4, 5, 0, 1, 2, 3, 4, 5, 0, 1, 2, 3, 4, 5, 0])"
      ]
     },
     "execution_count": 12,
     "metadata": {},
     "output_type": "execute_result"
    }
   ],
   "source": []
  },
  {
   "cell_type": "code",
   "execution_count": 13,
   "id": "b800590e-d150-4aee-8b33-546d78b597d8",
   "metadata": {},
   "outputs": [
    {
     "data": {
      "text/plain": [
       "(array([0, 2, 0, 0, 0, 0, 0, 6, 0, 0, 0, 0, 0, 4, 0, 0, 0, 0, 0, 6]),\n",
       " array([0, 1, 0, 0, 0, 0, 0, 1, 0, 0, 0, 0, 0, 1, 0, 0, 0, 0, 0, 1]),\n",
       " array([1, 0, 1, 2, 3, 4, 5, 0, 1, 2, 3, 4, 5, 0, 1, 2, 3, 4, 5, 0]))"
      ]
     },
     "execution_count": 13,
     "metadata": {},
     "output_type": "execute_result"
    }
   ],
   "source": [
    "a = np.array([0, 2, 0, 0, 0, 0, 0, 6, 0, 0, 0, 0, 0, 4, 0, 0, 0, 0, 0, 6])\n",
    "b = (a>0).astype(int)\n",
    "c = (np.cumsum(1 - b) * (1-b) - np.maximum.accumulate(b * np.cumsum(1-b))) * ( 1 - b)\n",
    "a,b, c"
   ]
  },
  {
   "cell_type": "code",
   "execution_count": 14,
   "id": "344599b8-d10b-4e73-9f44-ae9ec4d48f61",
   "metadata": {},
   "outputs": [
    {
     "data": {
      "text/plain": [
       "array([ 1,  2,  3,  4,  5,  6,  7,  8,  9, 10, 11, 12, 13, 14,  0,  1,  2,\n",
       "        3,  4,  5])"
      ]
     },
     "execution_count": 14,
     "metadata": {},
     "output_type": "execute_result"
    }
   ],
   "source": [
    "a = np.array([0, 2, 0, 0, 0, 0, 0, 6, 0, 0, 0, 0, 0, 4, 0, 0, 0, 0, 0, 6])\n",
    "b = np.copy(a)\n",
    "b = a[-1] - b\n",
    "# a, b, np.arange(a.shape[0])[::-1]\n",
    "indices_to_change = np.arange(a.shape[0])[::-1] > b\n",
    "\n",
    "a_int = np.copy(indices_to_change.astype(int))\n",
    "c = np.where((np.roll(a_int, 1) == 1) & (a_int == 0), 1, 0)\n",
    "important_values = a * c\n",
    "\n",
    "d = (np.cumsum(1 - c) * (1-c) - np.maximum.accumulate(c * np.cumsum(1-c))) * ( 1 - c)\n",
    "d"
   ]
  },
  {
   "cell_type": "code",
   "execution_count": 15,
   "id": "66aaf428-5d63-481e-ad3c-e9980297517d",
   "metadata": {},
   "outputs": [
    {
     "data": {
      "text/plain": [
       "array([1, 0, 1, 2, 3, 4, 5, 0, 1, 2, 3, 0, 1, 2, 0])"
      ]
     },
     "execution_count": 15,
     "metadata": {},
     "output_type": "execute_result"
    }
   ],
   "source": [
    "c = np.array([0, 1, 0, 0, 0, 0, 0, 1, 0, 0, 0, 1, 0, 0, 1])\n",
    "(np.cumsum(1 - c) * (1-c) - np.maximum.accumulate(c * np.cumsum(1-c))) * ( 1 - c)"
   ]
  },
  {
   "cell_type": "code",
   "execution_count": 16,
   "id": "9c304869-9713-4d02-93fc-102e1f9e1f11",
   "metadata": {},
   "outputs": [
    {
     "data": {
      "text/plain": [
       "(array([10,  3,  4,  5,  7, 17, 15, 11]),\n",
       " array([ 1,  8,  7,  6,  4, -6, -4,  0]),\n",
       " array([0, 1, 0, 0, 0, 0, 0, 1]),\n",
       " array([ True, False, False, False, False,  True,  True, False]),\n",
       " array([1, 0, 1, 2, 3, 4, 5, 0]),\n",
       " array([ 0,  3,  0,  0,  0,  0,  0, 11]),\n",
       " array([ 3,  3,  3,  3,  3,  3, 11]),\n",
       " array([7, 0, 2, 2, 2, 2, 2, 2]),\n",
       " array([ 3,  0, 11,  0,  0,  0,  0,  0]),\n",
       " array([ 3,  3, 11, 11, 11, 11, 11, 11]),\n",
       " array([ 2,  3, 10,  9,  8,  7,  6, 11]))"
      ]
     },
     "execution_count": 16,
     "metadata": {},
     "output_type": "execute_result"
    }
   ],
   "source": [
    "a = np.array([10, 3, 4, 5, 7, 17, 15, 11])\n",
    "b = np.copy(a)\n",
    "b = a[-1] - b\n",
    "# a, b, np.arange(a.shape[0])[::-1]\n",
    "indices_to_change = np.arange(a.shape[0])[::-1] > b\n",
    "\n",
    "a_int = np.copy(indices_to_change.astype(int))\n",
    "c = np.where((np.roll(a_int, 1) == 1) & (a_int == 0), 1, 0)\n",
    "important_values = a * c\n",
    "\n",
    "d = (np.cumsum(1 - c) * (1-c) - np.maximum.accumulate(c * np.cumsum(1-c))) * ( 1 - c)\n",
    "e = important_values\n",
    "f = e[e.nonzero()].repeat(np.diff(np.append(np.where(e!=0),e.shape[0])))\n",
    "g = np.roll(np.maximum.accumulate(np.argsort(e) * c), 1)\n",
    "h = np.zeros_like(e)\n",
    "h[g] = e\n",
    "i = np.maximum.accumulate(h)\n",
    "j = i - d\n",
    "a, b, c, indices_to_change, d, e, f, g, h, i, j"
   ]
  },
  {
   "cell_type": "code",
   "execution_count": 17,
   "id": "1d3e5d19-3c56-401f-8d3e-b3845121c382",
   "metadata": {},
   "outputs": [
    {
     "data": {
      "text/plain": [
       "(array([ 1,  8,  7,  6,  4, -6, -4,  0]),\n",
       " array([0, 1, 0, 0, 0, 0, 0, 1]),\n",
       " array([1, 0, 1, 2, 3, 4, 5, 0]),\n",
       " array([ 0,  3,  0,  0,  0,  0,  0, 11]),\n",
       " array([ 3,  3,  3,  3,  3,  3, 11]),\n",
       " array([7, 0, 2, 2, 2, 2, 2, 2]),\n",
       " array([ 3,  0, 11,  0,  0,  0,  0,  0]),\n",
       " array([ 3,  3, 11, 11, 11, 11, 11, 11]),\n",
       " array([ 2,  3, 10,  9,  8,  7,  6, 11]))"
      ]
     },
     "execution_count": 17,
     "metadata": {},
     "output_type": "execute_result"
    }
   ],
   "source": [
    "a = np.array([10, 3, 4, 5, 7, 17, 15, 11])\n",
    "b = np.copy(a)\n",
    "b = a[-1] - b\n",
    "# a, b, np.arange(a.shape[0])[::-1]\n",
    "indices_to_change = np.arange(a.shape[0])[::-1] > b\n",
    "\n",
    "a_int = np.copy(indices_to_change.astype(int))\n",
    "c = np.where((np.roll(a_int, 1) == 1) & (a_int == 0), 1, 0)\n",
    "important_values = a * c\n",
    "\n",
    "d = (np.cumsum(1 - c) * (1-c) - np.maximum.accumulate(c * np.cumsum(1-c))) * ( 1 - c)\n",
    "e = important_values\n",
    "f = e[e.nonzero()].repeat(np.diff(np.append(np.where(e!=0),e.shape[0])))\n",
    "g = np.roll(np.maximum.accumulate(np.argsort(e) * c), 1)\n",
    "h = np.zeros_like(e)\n",
    "h[g] = e\n",
    "i = np.maximum.accumulate(h)\n",
    "j = i - d\n",
    "b, c, d, e, f, g, h, i, j"
   ]
  },
  {
   "cell_type": "code",
   "execution_count": 18,
   "id": "cb00b442-267d-414c-8a50-6e1bef36f437",
   "metadata": {},
   "outputs": [
    {
     "data": {
      "text/plain": [
       "array([ 0,  1,  1,  1,  1,  1,  1,  7,  7,  7,  7,  7,  7, 13, 13, 13, 13,\n",
       "       13, 13, 13])"
      ]
     },
     "execution_count": 18,
     "metadata": {},
     "output_type": "execute_result"
    }
   ],
   "source": [
    "a = np.array([ 0,  1,  0,  0,  0,  0,  0,  7,  0,  0,  0,  0,  0, 13,  0,  0,  0, 0,  0,  0])\n",
    "a = np.append([-1], a)\n",
    "a = np.append(a, [-1])\n",
    "b = np.roll(a[a.nonzero()].repeat(np.diff(np.append(np.where(a!=0),a.shape[0]))), 0)\n",
    "b[b<0] = 0\n",
    "c = b[1:-1]\n",
    "c"
   ]
  },
  {
   "cell_type": "code",
   "execution_count": 19,
   "id": "4084554d-ff8b-4525-8df9-24c45f590bc0",
   "metadata": {},
   "outputs": [
    {
     "data": {
      "text/plain": [
       "array([0, 1, 0, 0, 0, 0, 0, 1])"
      ]
     },
     "execution_count": 19,
     "metadata": {},
     "output_type": "execute_result"
    }
   ],
   "source": [
    "a = np.array([10, 3, 4, 5, 7, 17, 15, 11])\n",
    "b = np.copy(a)\n",
    "b = a[-1] - b\n",
    "# a, b, np.arange(a.shape[0])[::-1]\n",
    "k = np.arange(a.shape[0])[::-1] > b\n",
    "\n",
    "a_int = np.copy(k.astype(int))\n",
    "l = np.where((np.roll(a_int, 1) == 1) & (a_int == 0), 1, 0)\n",
    "l"
   ]
  },
  {
   "cell_type": "code",
   "execution_count": 20,
   "id": "ba904591-542a-4434-af66-36808a1bc84b",
   "metadata": {},
   "outputs": [
    {
     "data": {
      "text/plain": [
       "(array([ 1,  8,  7,  6,  4, -6, -4,  0]),\n",
       " array([0, 1, 0, 0, 0, 0, 0, 1]),\n",
       " array([1, 0, 1, 2, 3, 4, 5, 0]),\n",
       " array([ 0,  3,  0,  0,  0,  0,  0, 11]),\n",
       " array([ 3,  3,  3,  3,  3,  3, 11]),\n",
       " array([7, 0, 2, 2, 2, 2, 2, 2]),\n",
       " array([ 3,  0, 11,  0,  0,  0,  0,  0]),\n",
       " array([ 3,  3, 11, 11, 11, 11, 11, 11]),\n",
       " array([ 2,  3, 10,  9,  8,  7,  6, 11]))"
      ]
     },
     "execution_count": 20,
     "metadata": {},
     "output_type": "execute_result"
    }
   ],
   "source": [
    "a = np.array([10, 3, 4, 5, 7, 17, 15, 11])\n",
    "b = np.copy(a)\n",
    "b = a[-1] - b\n",
    "# a, b, np.arange(a.shape[0])[::-1]\n",
    "indices_to_change = np.arange(a.shape[0])[::-1] > b\n",
    "\n",
    "a_int = np.copy(indices_to_change.astype(int))\n",
    "c = np.where((np.roll(a_int, 1) == 1) & (a_int == 0), 1, 0)\n",
    "important_values = a * c\n",
    "\n",
    "d = (np.cumsum(1 - c) * (1-c) - np.maximum.accumulate(c * np.cumsum(1-c))) * ( 1 - c)\n",
    "e = important_values\n",
    "f = e[e.nonzero()].repeat(np.diff(np.append(np.where(e!=0),e.shape[0])))\n",
    "g = np.roll(np.maximum.accumulate(np.argsort(e) * c), 1)\n",
    "h = np.zeros_like(e)\n",
    "h[g] = e\n",
    "i = np.maximum.accumulate(h)\n",
    "j = i - d\n",
    "b, c, d, e, f, g, h, i, j"
   ]
  },
  {
   "cell_type": "code",
   "execution_count": 21,
   "id": "9b661a49-e2ff-452c-afb1-a7b3b007c6bd",
   "metadata": {},
   "outputs": [
    {
     "data": {
      "text/plain": [
       "array([1, 0, 1, 2, 3, 4, 5, 0])"
      ]
     },
     "execution_count": 21,
     "metadata": {},
     "output_type": "execute_result"
    }
   ],
   "source": [
    "(np.cumsum(1 - c) * (1-c) - np.maximum.accumulate(c * np.cumsum(1-c))) * ( 1 - c)"
   ]
  },
  {
   "cell_type": "code",
   "execution_count": 22,
   "id": "95960e89-b6c8-411d-a2a8-1fa3f8ff6fca",
   "metadata": {},
   "outputs": [
    {
     "data": {
      "text/plain": [
       "(array([0, 0, 0, 0, 0, 0, 0, 1, 0, 0, 0, 0, 0, 7, 0, 0, 0, 0, 0, 0]),\n",
       " array([ 0,  1,  0,  0,  0,  0,  0,  7,  0,  0,  0,  0,  0, 13,  0,  0,  0,\n",
       "         0,  0,  0]),\n",
       " array([ 1,  7,  0,  0,  0,  0,  0, 13,  0,  0,  0,  0,  0,  0,  0,  0,  0,\n",
       "         0,  0,  0]))"
      ]
     },
     "execution_count": 22,
     "metadata": {},
     "output_type": "execute_result"
    }
   ],
   "source": [
    "a = np.array([0, 2, 0, 0, 0, 0, 0, 6, 0, 0, 0, 0, 0, 4, 0, 0, 0, 0, 0, 6])\n",
    "b = np.array([0, 1, 0, 0, 0, 0, 0, 1, 0, 0, 0, 0, 0, 1, 0, 0, 0, 0, 0, 1])\n",
    "q = np.arange(b.shape[0]) * b\n",
    "q[-1] = -1 # acts as token\n",
    "p = np.roll(q[q.nonzero()].repeat(np.diff(np.append(np.where(q!=0),q.shape[0]))), 2)\n",
    "p = np.append(p, np.array([0])) * b\n",
    "q[-1] = 0\n",
    "p[p<0] = 0\n",
    "r = np.zeros_like(q)\n",
    "np.add.at(r, p, q)\n",
    "r != 0\n",
    "p, q, r"
   ]
  },
  {
   "cell_type": "code",
   "execution_count": 23,
   "id": "9ca9e973-33a4-47b5-b293-6a8a250dc7f2",
   "metadata": {},
   "outputs": [
    {
     "data": {
      "text/plain": [
       "(array([0, 0, 0, 0, 0, 0, 0, 1, 0, 0, 0, 0, 0, 7, 0, 0, 0, 0, 0, 0]),\n",
       " array([ 0,  1,  0,  0,  0,  0,  0,  7,  0,  0,  0,  0,  0, 13,  0,  0,  0,\n",
       "         0,  0,  0]),\n",
       " array([2, 6, 0, 0, 0, 0, 0, 4, 0, 0, 0, 0, 0, 6, 0, 0, 0, 0, 0, 0]))"
      ]
     },
     "execution_count": 23,
     "metadata": {},
     "output_type": "execute_result"
    }
   ],
   "source": [
    "#      array([0, 1, 0, 0, 0, 0, 0, 7, 0, 0, 0, 0, 0,13, 0, 0, 0, 0, 0, 0])\n",
    "a = np.array([0, 2, 0, 0, 0, 0, 0, 6, 0, 0, 0, 0, 0, 4, 0, 0, 0, 0, 0, 6])\n",
    "b = np.array([0, 1, 0, 0, 0, 0, 0, 1, 0, 0, 0, 0, 0, 1, 0, 0, 0, 0, 0, 1])\n",
    "q = np.arange(b.shape[0]) * b\n",
    "q[-1] = -1 # acts as token\n",
    "p = np.roll(q[q.nonzero()].repeat(np.diff(np.append(np.where(q!=0),q.shape[0]))), 2)\n",
    "p = np.append(p, np.array([0])) * b\n",
    "q[-1] = 0\n",
    "p[p<0] = 0\n",
    "z = np.roll(fill_zero_places(q), 1)\n",
    "z[0] = 0\n",
    "r = np.zeros_like(a)\n",
    "np.add.at(r, z, a)\n",
    "r != 0\n",
    "p, q, r"
   ]
  },
  {
   "cell_type": "code",
   "execution_count": 24,
   "id": "f0c68bb1-9d41-4ba9-906d-72b573595637",
   "metadata": {},
   "outputs": [
    {
     "data": {
      "text/plain": [
       "array([ 0,  0,  1,  1,  1,  1,  1,  1,  7,  7,  7,  7,  7,  7, 13, 13, 13,\n",
       "       13, 13, 13])"
      ]
     },
     "execution_count": 24,
     "metadata": {},
     "output_type": "execute_result"
    }
   ],
   "source": [
    "# q, np.roll(fill_zero_places(q), 1)\n",
    "z = np.roll(fill_zero_places(q), 1)\n",
    "z[0] = 0\n",
    "z"
   ]
  },
  {
   "cell_type": "code",
   "execution_count": null,
   "id": "3f12b3d3-f35d-4cd8-92d6-7b267de806dd",
   "metadata": {},
   "outputs": [],
   "source": []
  },
  {
   "cell_type": "code",
   "execution_count": 25,
   "id": "46809a6d-ca46-4e37-b13c-a4f292d37d45",
   "metadata": {},
   "outputs": [
    {
     "data": {
      "text/plain": [
       "array([ 0,  1,  0,  0,  0,  0,  0,  7,  0,  0,  0,  0,  0, 13,  0,  0,  0,\n",
       "        0,  0,  0])"
      ]
     },
     "execution_count": 25,
     "metadata": {},
     "output_type": "execute_result"
    }
   ],
   "source": [
    "x = np.copy(q)\n",
    "x\n",
    "# np.roll(x[x.nonzero()].repeat(np.diff(np.append(np.where(x!=0),x.shape[0]))), 1)"
   ]
  },
  {
   "cell_type": "code",
   "execution_count": 26,
   "id": "550dc46c-f955-411c-b897-b9e6965d59c7",
   "metadata": {},
   "outputs": [
    {
     "data": {
      "text/plain": [
       "array([1, 1, 2, 3, 4, 5, 6, 6])"
      ]
     },
     "execution_count": 26,
     "metadata": {},
     "output_type": "execute_result"
    }
   ],
   "source": [
    "np.cumsum((d>0).astype(int))"
   ]
  },
  {
   "cell_type": "code",
   "execution_count": 27,
   "id": "598a72eb-67f0-44bd-8e93-850341e9f97e",
   "metadata": {},
   "outputs": [
    {
     "data": {
      "text/plain": [
       "array([7, 0, 7, 6, 5, 4, 3, 0])"
      ]
     },
     "execution_count": 27,
     "metadata": {},
     "output_type": "execute_result"
    }
   ],
   "source": [
    "(8-d) * (1-c)"
   ]
  },
  {
   "cell_type": "code",
   "execution_count": 28,
   "id": "0da2569f-1da8-4d8f-9d6f-9f73869f23c7",
   "metadata": {},
   "outputs": [
    {
     "data": {
      "text/plain": [
       "(array([ 3,  0, 11,  0,  0,  0,  0,  0]),\n",
       " array([ 3,  3, 11, 11, 11, 11, 11, 11]))"
      ]
     },
     "execution_count": 28,
     "metadata": {},
     "output_type": "execute_result"
    }
   ],
   "source": [
    "a1 = e\n",
    "b1 = np.roll(np.maximum.accumulate(np.argsort(a1) * c), 1)\n",
    "# c1 = np.array([ 3,  0,  11,  0,  0,  0,  0, 0])\n",
    "d1 = np.zeros_like(a1)\n",
    "d1[b1] = a1\n",
    "e1 = np.maximum.accumulate(d1)\n",
    "d1, e1"
   ]
  },
  {
   "cell_type": "code",
   "execution_count": null,
   "id": "f8121b73-f920-4a1f-b802-a83bfa69f7bb",
   "metadata": {},
   "outputs": [],
   "source": []
  },
  {
   "cell_type": "code",
   "execution_count": 29,
   "id": "3ac69cf8-d020-4589-9c27-ffa8a6f93acc",
   "metadata": {},
   "outputs": [
    {
     "data": {
      "text/plain": [
       "(array([ 3,  0, 11,  0,  0,  0,  0,  0]),\n",
       " array([ 3,  3, 11, 11, 11, 11, 11, 11]))"
      ]
     },
     "execution_count": 29,
     "metadata": {},
     "output_type": "execute_result"
    }
   ],
   "source": [
    "a = np.array([ 0,  3,  0,  0,  0,  0,  0, 11])\n",
    "b = np.array([7, 0, 2, 2, 2, 2, 2, 2])\n",
    "c = np.array([ 3,  0,  11,  0,  0,  0,  0, 0])\n",
    "d = np.zeros_like(a)\n",
    "d[b] = a\n",
    "e = np.maximum.accumulate(d)\n",
    "d, e"
   ]
  },
  {
   "cell_type": "code",
   "execution_count": 30,
   "id": "a0128bae-ca0f-4714-836c-0b5a51fcd487",
   "metadata": {},
   "outputs": [],
   "source": [
    "# the array: np.array([10, 3, 4, 5, 7, 17, 15, 11])\n",
    "# the position to be changed: np.array([1, 0, 0, 0, 0, 1, 1, 0])\n",
    "# fill the 0 places with the highest value that is not part of the array\n",
    "a = np.array([ 0,  3,  0,  0,  0,  0,  0, 11])\n",
    "b = np.array([ 2,  3,  6,  7,  8,  9,  10, 11])\n",
    "\n",
    "# count up (1, 2, 3, 4, ...) until 1, then start again from 1\n",
    "c = np.array([0, 1, 0, 0, 0, 0, 1, 1])\n",
    "# d = np.array([1, 0, 1, 2, 3, 4, 0, 0])\n",
    "d = (np.cumsum(1 - c) * (1-c) - np.maximum.accumulate(c * np.cumsum(1-c))) * ( 1 - c)"
   ]
  },
  {
   "cell_type": "code",
   "execution_count": 31,
   "id": "d47f2c96-3b1c-4718-b0da-d4ea557b114c",
   "metadata": {},
   "outputs": [
    {
     "data": {
      "text/plain": [
       "(array([ 0,  3,  0,  0,  0,  0,  0, 11,  0,  0,  0, 13]),\n",
       " array([ 3,  3,  3,  3,  3,  3, 11, 11, 11, 11, 13]))"
      ]
     },
     "execution_count": 31,
     "metadata": {},
     "output_type": "execute_result"
    }
   ],
   "source": [
    "a = np.array([ 0,  3,  0,  0,  0,  0,  0, 11, 0, 0, 0, 13])\n",
    "b = np.array([ 3,  0,  11,  0,  0,  0,  0, 0, 13, 0, 0, 0])\n",
    "a, a[a.nonzero()].repeat(np.diff(np.append(np.where(a!=0),len(a))))"
   ]
  },
  {
   "cell_type": "code",
   "execution_count": 32,
   "id": "9829e7c7-c561-4dc3-b973-37c3f641a77a",
   "metadata": {},
   "outputs": [
    {
     "data": {
      "text/plain": [
       "array([ 3,  3,  3,  3,  3,  3, 11])"
      ]
     },
     "execution_count": 32,
     "metadata": {},
     "output_type": "execute_result"
    }
   ],
   "source": [
    "a = np.array([ 0,  3,  0,  0,  0,  0,  0, 11])\n",
    "b = np.array([0,  1,  0,  0,  0,  0,  0, 1])\n",
    "a[a.nonzero()].repeat(np.diff(np.append(np.where(a!=0),len(a))))"
   ]
  },
  {
   "cell_type": "code",
   "execution_count": 33,
   "id": "374fff10-250f-48c4-a740-fe3734e67b40",
   "metadata": {},
   "outputs": [
    {
     "data": {
      "text/plain": [
       "array([7, 0, 2, 2, 2, 2, 2, 2])"
      ]
     },
     "execution_count": 33,
     "metadata": {},
     "output_type": "execute_result"
    }
   ],
   "source": [
    "c = np.roll(np.maximum.accumulate(np.argsort(a) * b), 1)\n",
    "c"
   ]
  },
  {
   "cell_type": "code",
   "execution_count": null,
   "id": "46ef1548-6aef-4683-bcec-d7b420db5115",
   "metadata": {},
   "outputs": [],
   "source": []
  },
  {
   "cell_type": "code",
   "execution_count": 34,
   "id": "8f63d002-a8a5-41c1-aa41-474335aeb2b5",
   "metadata": {},
   "outputs": [
    {
     "data": {
      "text/plain": [
       "array([0, 2, 0, 0, 0, 0, 0, 7])"
      ]
     },
     "execution_count": 34,
     "metadata": {},
     "output_type": "execute_result"
    }
   ],
   "source": [
    "np.argsort(a) * b"
   ]
  },
  {
   "cell_type": "code",
   "execution_count": 35,
   "id": "f8c033aa-a6f7-417c-89f9-ab341ead8c66",
   "metadata": {},
   "outputs": [
    {
     "data": {
      "text/plain": [
       "array([1, 1, 1, 1, 1, 1, 1])"
      ]
     },
     "execution_count": 35,
     "metadata": {},
     "output_type": "execute_result"
    }
   ],
   "source": [
    "b[b.nonzero()].repeat(np.diff(np.append(np.where(b!=0),len(b))))"
   ]
  },
  {
   "cell_type": "code",
   "execution_count": 36,
   "id": "13f6037b-cbb4-41cc-9fe2-d697770b6f57",
   "metadata": {},
   "outputs": [
    {
     "data": {
      "text/plain": [
       "array([0, 1, 1, 1, 1, 1, 1, 1])"
      ]
     },
     "execution_count": 36,
     "metadata": {},
     "output_type": "execute_result"
    }
   ],
   "source": [
    "np.maximum.accumulate(b)"
   ]
  },
  {
   "cell_type": "code",
   "execution_count": 37,
   "id": "47c59dea-2407-405b-b2b6-0b8512cd284b",
   "metadata": {},
   "outputs": [
    {
     "data": {
      "text/plain": [
       "array([ 0,  3,  4,  5,  7,  0, 15, 11])"
      ]
     },
     "execution_count": 37,
     "metadata": {},
     "output_type": "execute_result"
    }
   ],
   "source": [
    "x = np.array([1, 2, 3, 5, 7, 8, 9, 11])\n",
    "x_change = np.array([9, 1, 1, 0, 0, 9, 6, 0])\n",
    "# x_difference = \n",
    "a = np.array([10, 3, 4, 5, 7, 17, 15, 11]) # array with unique entries\n",
    "# [1, 2, 3, 5, 7, 9, 10, 11]\n",
    "b = a * ((np.sort(a) - a) >= 0).astype(int)\n",
    "b"
   ]
  },
  {
   "cell_type": "code",
   "execution_count": 38,
   "id": "82688f9c-01c6-4c74-b588-e1fc2cf008ed",
   "metadata": {},
   "outputs": [
    {
     "data": {
      "text/plain": [
       "array([ True, False, False, False, False,  True, False, False])"
      ]
     },
     "execution_count": 38,
     "metadata": {},
     "output_type": "execute_result"
    }
   ],
   "source": [
    "(np.sort(a) - a) < 0"
   ]
  },
  {
   "cell_type": "code",
   "execution_count": 39,
   "id": "aed9ea74-0d67-4c1a-b6b8-80b23de8afdc",
   "metadata": {},
   "outputs": [
    {
     "data": {
      "text/plain": [
       "array([1, 1, 2, 2, 1, 1, 2])"
      ]
     },
     "execution_count": 39,
     "metadata": {},
     "output_type": "execute_result"
    }
   ],
   "source": [
    "x = np.array([1, 2, 3, 5, 7, 8, 9, 11])\n",
    "x_gaps = x[1:] - x[:-1]\n",
    "x_gaps"
   ]
  },
  {
   "cell_type": "code",
   "execution_count": 40,
   "id": "59739d6a-c916-491b-add8-5d9ef76097ca",
   "metadata": {},
   "outputs": [
    {
     "data": {
      "text/plain": [
       "array([-8,  0, -1,  0,  9, -3, -6])"
      ]
     },
     "execution_count": 40,
     "metadata": {},
     "output_type": "execute_result"
    }
   ],
   "source": [
    "x_change = np.array([9, 1, 1, 0, 0, 9, 6, 0])\n",
    "x_change[1:] - x_change[:-1]"
   ]
  },
  {
   "cell_type": "code",
   "execution_count": 41,
   "id": "eab7eaae-50af-4dab-8366-b16259f60a32",
   "metadata": {},
   "outputs": [],
   "source": [
    "# a = np.array([1,2,3,0,0,0,10,11,0,0,20])\n",
    "# a = np.array([1,2,3,1,2,3,10,11,1,2,20])\n",
    "a = np.array([1,2,3,1,2,3,10,11,1,2,20])\n",
    "b = np.array([1,2,3,7,8,9,10,11,18,19,20])"
   ]
  },
  {
   "cell_type": "code",
   "execution_count": 42,
   "id": "3935ddb6-4938-4794-b974-b30ce525b09e",
   "metadata": {},
   "outputs": [
    {
     "data": {
      "text/plain": [
       "array([ 1,  2,  3,  1,  2,  3, 10, 11,  1,  2, 20])"
      ]
     },
     "execution_count": 42,
     "metadata": {},
     "output_type": "execute_result"
    }
   ],
   "source": [
    "mask = a != 0\n",
    "\n",
    "increments = np.cumsum(mask) - np.cumsum(a != 0)\n",
    "\n",
    "b = np.where(mask, a, a[mask][-1] + increments)\n",
    "b"
   ]
  },
  {
   "cell_type": "code",
   "execution_count": 43,
   "id": "d348d7fc-4151-4e1b-b61d-6da03e261c06",
   "metadata": {},
   "outputs": [
    {
     "data": {
      "text/plain": [
       "array([ 1,  3,  6,  7,  9, 12, 22, 33, 34, 36, 56])"
      ]
     },
     "execution_count": 43,
     "metadata": {},
     "output_type": "execute_result"
    }
   ],
   "source": [
    "np.cumsum(a)"
   ]
  },
  {
   "cell_type": "code",
   "execution_count": 44,
   "id": "4de764d4-48a1-42a5-b53f-462342fe175f",
   "metadata": {},
   "outputs": [
    {
     "data": {
      "text/plain": [
       "array([ True, False, False, False, False,  True,  True, False])"
      ]
     },
     "execution_count": 44,
     "metadata": {},
     "output_type": "execute_result"
    }
   ],
   "source": [
    "# Detected all places that have to be updated\n",
    "a = np.array([10, 3, 4, 5, 7, 17, 15, 11])\n",
    "# np.argsort(a), np.arange(a.shape[0])\n",
    "\n",
    "val = a[-1]\n",
    "b = np.copy(a)\n",
    "b = val - b\n",
    "# a, b, np.arange(a.shape[0])[::-1]\n",
    "indices_to_change = np.arange(a.shape[0])[::-1] > b\n",
    "indices_to_change"
   ]
  },
  {
   "cell_type": "code",
   "execution_count": 45,
   "id": "153e8d5c-0efc-445d-859c-cf248b5f1c34",
   "metadata": {},
   "outputs": [],
   "source": [
    "# important_indices = indices_to_change.astype(int)[]"
   ]
  },
  {
   "cell_type": "code",
   "execution_count": 46,
   "id": "231a5450-d9f7-4ec6-a8d1-1605e23b8ada",
   "metadata": {},
   "outputs": [
    {
     "data": {
      "text/plain": [
       "(array([0, 0, 0, 0, 0, 0, 0, 0]), array([1, 0, 0, 0, 0, 1, 1, 0]))"
      ]
     },
     "execution_count": 46,
     "metadata": {},
     "output_type": "execute_result"
    }
   ],
   "source": [
    "np.right_shift(indices_to_change.astype(int), 1), indices_to_change.astype(int)"
   ]
  },
  {
   "cell_type": "code",
   "execution_count": 47,
   "id": "b4ab07c7-6647-46a1-8f40-638544c8d21e",
   "metadata": {},
   "outputs": [
    {
     "data": {
      "text/plain": [
       "(array([0, 1, 0, 0, 0, 0, 0, 1]), array([ 0,  3,  0,  0,  0,  0,  0, 11]))"
      ]
     },
     "execution_count": 47,
     "metadata": {},
     "output_type": "execute_result"
    }
   ],
   "source": [
    "a_int = np.copy(indices_to_change.astype(int))\n",
    "important_indices = np.where((np.roll(a_int, 1) == 1) & (a_int == 0), 1, 0)\n",
    "important_indices, a * important_indices"
   ]
  },
  {
   "cell_type": "code",
   "execution_count": 48,
   "id": "0e79fa2f-b637-4edd-9daf-5a3fa59aeee4",
   "metadata": {},
   "outputs": [
    {
     "data": {
      "text/plain": [
       "array([0, 1, 0, 0, 0, 0, 1, 1])"
      ]
     },
     "execution_count": 48,
     "metadata": {},
     "output_type": "execute_result"
    }
   ],
   "source": [
    "b_int = np.array([1, 0, 0, 0, 0, 1, 1, 0])\n",
    "np.roll(b_int, 1)"
   ]
  },
  {
   "cell_type": "code",
   "execution_count": 49,
   "id": "43de97b9-3063-45cb-b69d-0a8684bc72be",
   "metadata": {},
   "outputs": [
    {
     "data": {
      "text/plain": [
       "array([ True, False, False, False, False,  True,  True, False])"
      ]
     },
     "execution_count": 49,
     "metadata": {},
     "output_type": "execute_result"
    }
   ],
   "source": [
    "indices_to_change = np.arange(a.shape[0])[::-1] > b\n",
    "indices_to_change"
   ]
  },
  {
   "cell_type": "code",
   "execution_count": 50,
   "id": "a4795a14-ee25-4156-9be5-34f5859b4b59",
   "metadata": {},
   "outputs": [
    {
     "data": {
      "text/plain": [
       "array([ 1,  2,  3,  7,  8,  9, 10, 28, 18, 19, 20])"
      ]
     },
     "execution_count": 50,
     "metadata": {},
     "output_type": "execute_result"
    }
   ],
   "source": [
    "a = np.array([0,0,0,0,0,0,10,0,0,0,20])\n",
    "b = np.array([0,0,0,3,2,1,0,3,2,1,0])\n",
    "c = np.array([10,10,10,10,10,10,10,20,20,20,20])\n",
    "d = np.array([1,2,3,0,0,0,10,11,0,0,20])\n",
    "mask_b = b >0\n",
    "d += (c-b)*mask_b.astype(int)\n",
    "d"
   ]
  },
  {
   "cell_type": "code",
   "execution_count": 51,
   "id": "309b027b-6c85-46dd-a63c-d72e21bba155",
   "metadata": {},
   "outputs": [
    {
     "data": {
      "text/plain": [
       "array([10, 10, 10, 10, 10, 10, 20, 20, 20, 20, 20])"
      ]
     },
     "execution_count": 51,
     "metadata": {},
     "output_type": "execute_result"
    }
   ],
   "source": [
    "# a = np.array([0,0,0,0,0,0,10,0,0,0,20])\n",
    "a = np.array([10,0,0,0,0,0,20,0,0,0,0])\n",
    "c = np.array([10,10,10,10,10,10,10,20,20,20,20])\n",
    "np.maximum.accumulate(a)"
   ]
  },
  {
   "cell_type": "code",
   "execution_count": 52,
   "id": "e5615a64-e3fa-47bd-846d-2d3734c1d9f4",
   "metadata": {},
   "outputs": [],
   "source": [
    "# the array: np.array([10, 3, 4, 5, 7, 17, 15, 11])\n",
    "# the position to be changed: np.array([1, 0, 0, 0, 0, 1, 1, 0])\n",
    "# fill the 0 places with the highest value that is not part of the array\n",
    "a = np.array([ 0,  3,  0,  0,  0,  0,  0, 11])\n",
    "b = np.array([ 2,  3,  6,  7,  8,  9,  10, 11])\n",
    "\n",
    "# count up (1, 2, 3, 4, ...) until 1, then start again from 1\n",
    "c = np.array([0, 1, 0, 0, 0, 0, 1, 1])\n",
    "# d = np.array([1, 0, 1, 2, 3, 4, 0, 0])\n",
    "d = (np.cumsum(1 - c) * (1-c) - np.maximum.accumulate(c * np.cumsum(1-c))) * ( 1 - c)"
   ]
  },
  {
   "cell_type": "code",
   "execution_count": null,
   "id": "8cd94762-7387-47db-a416-3d86a0cff3dd",
   "metadata": {},
   "outputs": [],
   "source": []
  },
  {
   "cell_type": "code",
   "execution_count": 53,
   "id": "c8d6d148-0959-4dee-9815-9c693599b9ce",
   "metadata": {},
   "outputs": [
    {
     "data": {
      "text/plain": [
       "(array([ 3,  0, 11,  0,  0,  0,  0,  0, 13,  0,  0,  0]),\n",
       " array([ 3,  3,  3,  3,  3,  3, 11, 11, 11, 11, 13]))"
      ]
     },
     "execution_count": 53,
     "metadata": {},
     "output_type": "execute_result"
    }
   ],
   "source": [
    "a = np.array([ 0,  3,  0,  0,  0,  0,  0, 11, 0, 0, 0, 13])\n",
    "b = np.array([ 3,  0,  11,  0,  0,  0,  0, 0, 13, 0, 0, 0])\n",
    "b, a[a.nonzero()].repeat(np.diff(np.append(np.where(a!=0),len(a))))"
   ]
  },
  {
   "cell_type": "code",
   "execution_count": 54,
   "id": "10d89e93-0c31-410d-bcc2-39e6369a4474",
   "metadata": {},
   "outputs": [
    {
     "data": {
      "text/plain": [
       "array([ 0,  3,  3,  3,  3,  3,  3, 11, 11, 11, 11, 13])"
      ]
     },
     "execution_count": 54,
     "metadata": {},
     "output_type": "execute_result"
    }
   ],
   "source": [
    "np.maximum.accumulate(a)"
   ]
  },
  {
   "cell_type": "code",
   "execution_count": 55,
   "id": "d04437c9-819f-4b24-b229-a49a50bc03b4",
   "metadata": {},
   "outputs": [],
   "source": [
    "a = np.array([ 0, 3, 0, 0, 0, 0, 0, 11, 0, 0, 0, 13])\n",
    "b = np.array([ 3, 3, 11, 11, 11, 11, 11, 11, 13, 13, 13, 13])"
   ]
  },
  {
   "cell_type": "code",
   "execution_count": 56,
   "id": "da9c1617-a490-4f86-bd08-b0ac7918870a",
   "metadata": {},
   "outputs": [
    {
     "data": {
      "text/plain": [
       "array([ 3,  3,  3,  3,  3,  3, 11, 11, 11, 11, 13])"
      ]
     },
     "execution_count": 56,
     "metadata": {},
     "output_type": "execute_result"
    }
   ],
   "source": [
    "import numpy as np\n",
    "\n",
    "a = np.array([0, 3, 0, 0, 0, 0, 0, 11, 0, 0, 0, 13])\n",
    "b = a[a.nonzero()].repeat(np.diff(np.append(np.where(a!=0),len(a))))\n",
    "b"
   ]
  },
  {
   "cell_type": "code",
   "execution_count": 57,
   "id": "74ab68e4-8ab5-480b-bf93-7a2c3cb04a74",
   "metadata": {},
   "outputs": [
    {
     "data": {
      "text/plain": [
       "array([0, 1, 0, 0, 0, 0, 6, 7])"
      ]
     },
     "execution_count": 57,
     "metadata": {},
     "output_type": "execute_result"
    }
   ],
   "source": [
    "np.arange(c.shape[0]) * np.roll(b_int, 1)"
   ]
  },
  {
   "cell_type": "code",
   "execution_count": 58,
   "id": "b0f277c7-18f0-4ee7-98e2-0f1c9c0bb5f4",
   "metadata": {},
   "outputs": [
    {
     "data": {
      "text/plain": [
       "(array([0, 1, 0, 0, 0, 0, 0, 1]), array([ 0,  3,  0,  0,  0,  0,  0, 11]))"
      ]
     },
     "execution_count": 58,
     "metadata": {},
     "output_type": "execute_result"
    }
   ],
   "source": [
    "a = np.array([10, 3, 4, 5, 7, 17, 15, 11])\n",
    "b = np.copy(a)\n",
    "b = a[-1] - b\n",
    "# a, b, np.arange(a.shape[0])[::-1]\n",
    "indices_to_change = np.arange(a.shape[0])[::-1] > b\n",
    "\n",
    "a_int = np.copy(indices_to_change.astype(int))\n",
    "important_indices = np.where((np.roll(a_int, 1) == 1) & (a_int == 0), 1, 0)\n",
    "important_indices, a * important_indices"
   ]
  },
  {
   "cell_type": "code",
   "execution_count": 59,
   "id": "877bba8e-858d-421c-b664-f6354782d457",
   "metadata": {},
   "outputs": [
    {
     "data": {
      "text/plain": [
       "(array([ 0,  3,  3,  3,  3,  3,  3, 11]), array([ 3,  3, 11, 11, 11, 11, 11]))"
      ]
     },
     "execution_count": 59,
     "metadata": {},
     "output_type": "execute_result"
    }
   ],
   "source": [
    "arr = np.array([ 0,  3,  0,  0,  0,  0,  0, 11])\n",
    "np.maximum.accumulate(arr), np.maximum.accumulate([ 3,  0,  11,  0,  0,  0,  0, ])"
   ]
  },
  {
   "cell_type": "code",
   "execution_count": 60,
   "id": "c6f4a018-dd22-4d22-a221-6960fd912920",
   "metadata": {},
   "outputs": [
    {
     "data": {
      "text/plain": [
       "array([ 0,  3,  3,  3,  3,  3,  3, 14, 14, 14, 14, 19])"
      ]
     },
     "execution_count": 60,
     "metadata": {},
     "output_type": "execute_result"
    }
   ],
   "source": [
    "arr = np.array([0, 3, 0, 0, 0, 0, 0, 11, 0, 0, 0, 5])\n",
    "np.cumsum(arr)"
   ]
  },
  {
   "cell_type": "code",
   "execution_count": 61,
   "id": "6a5acc9b-9f02-454a-8c24-c65de27b84bf",
   "metadata": {},
   "outputs": [
    {
     "data": {
      "text/plain": [
       "array([0, 1, 0, 0, 0, 0, 0, 1])"
      ]
     },
     "execution_count": 61,
     "metadata": {},
     "output_type": "execute_result"
    }
   ],
   "source": [
    "important_indices"
   ]
  },
  {
   "cell_type": "code",
   "execution_count": 62,
   "id": "08d3cae2-be7a-4e6e-8eaf-6fce1e7e3a50",
   "metadata": {},
   "outputs": [],
   "source": [
    "asd = np.array([0, 1, 0, 0, 0, 0, 0, 1, 0, 0, 1, 1, 0, 0, 0, 1, 0, 0])"
   ]
  },
  {
   "cell_type": "code",
   "execution_count": 63,
   "id": "0846b4d6-ea25-4134-864d-5bec328d6232",
   "metadata": {},
   "outputs": [
    {
     "data": {
      "text/plain": [
       "array([0, 0, 1, 0, 0, 0, 0, 0, 1, 0, 0, 0, 1, 0, 0, 0, 1, 0])"
      ]
     },
     "execution_count": 63,
     "metadata": {},
     "output_type": "execute_result"
    }
   ],
   "source": [
    "k = asd\n",
    "np.where((np.roll(k.astype(int), 1) == 1) & (k.astype(int) == 0), 1, 0)"
   ]
  },
  {
   "cell_type": "code",
   "execution_count": 64,
   "id": "1bda651e-8883-4326-8cbf-1ba0e5ab36ab",
   "metadata": {},
   "outputs": [
    {
     "data": {
      "text/plain": [
       "array([ 1,  1,  2,  3,  4,  5,  6,  6,  7,  8,  8,  8,  9, 10, 11, 11, 12,\n",
       "       13])"
      ]
     },
     "execution_count": 64,
     "metadata": {},
     "output_type": "execute_result"
    }
   ],
   "source": [
    "np.cumsum(1 - asd)"
   ]
  },
  {
   "cell_type": "code",
   "execution_count": 65,
   "id": "f9ad96ca-557a-4869-bb0f-cfa8be95f85b",
   "metadata": {},
   "outputs": [
    {
     "data": {
      "text/plain": [
       "(array([ 1,  2,  3,  4,  5,  6,  7,  8,  9, 10, 11, 12, 13, 14, 15, 16, 17,\n",
       "        18]),\n",
       " array([ 1,  1,  2,  3,  4,  5,  6,  6,  7,  8,  8,  8,  9, 10, 11, 11, 12,\n",
       "        13]))"
      ]
     },
     "execution_count": 65,
     "metadata": {},
     "output_type": "execute_result"
    }
   ],
   "source": [
    "(np.arange(asd.shape[0]) + 1), np.cumsum(1 - asd)"
   ]
  },
  {
   "cell_type": "code",
   "execution_count": 66,
   "id": "a4b56bc0-ebe3-468d-b4c5-ab4dd9561512",
   "metadata": {},
   "outputs": [
    {
     "data": {
      "text/plain": [
       "array([ 1,  0,  2,  3,  4,  5,  6,  0,  7,  8,  0,  0,  9, 10, 11,  0, 12,\n",
       "       13])"
      ]
     },
     "execution_count": 66,
     "metadata": {},
     "output_type": "execute_result"
    }
   ],
   "source": [
    "np.cumsum(1 - asd) * (1-asd)"
   ]
  },
  {
   "cell_type": "code",
   "execution_count": 67,
   "id": "ea6c977f-2af1-46af-ae21-b80342d48e6c",
   "metadata": {},
   "outputs": [
    {
     "data": {
      "text/plain": [
       "array([ 0,  1,  1,  1,  1,  1,  1,  6,  6,  6,  8,  8,  8,  8,  8, 11, 11,\n",
       "       11])"
      ]
     },
     "execution_count": 67,
     "metadata": {},
     "output_type": "execute_result"
    }
   ],
   "source": [
    "np.maximum.accumulate(asd * np.cumsum(1-asd))"
   ]
  },
  {
   "cell_type": "code",
   "execution_count": 68,
   "id": "64eb00dc-a982-45ba-a6d6-ccb2fd518d52",
   "metadata": {},
   "outputs": [
    {
     "data": {
      "text/plain": [
       "array([1, 0, 1, 2, 3, 4, 5, 0, 1, 2, 0, 0, 1, 2, 3, 0, 1, 2])"
      ]
     },
     "execution_count": 68,
     "metadata": {},
     "output_type": "execute_result"
    }
   ],
   "source": [
    "(np.cumsum(1 - asd) * (1-asd) - np.maximum.accumulate(asd * np.cumsum(1-asd))) * ( 1 - asd)"
   ]
  },
  {
   "cell_type": "code",
   "execution_count": 69,
   "id": "45b2991b-8894-45c5-90c3-d6916a6fb321",
   "metadata": {},
   "outputs": [
    {
     "data": {
      "text/plain": [
       "array([ 0,  1,  1,  1,  1,  1,  1,  6,  6,  6,  8,  8,  8,  8,  8, 11, 11,\n",
       "       11])"
      ]
     },
     "execution_count": 69,
     "metadata": {},
     "output_type": "execute_result"
    }
   ],
   "source": [
    "np.maximum.accumulate(asd * np.cumsum(1-asd))"
   ]
  },
  {
   "cell_type": "code",
   "execution_count": 70,
   "id": "8f77c95d-64e3-4d1a-bc00-8572d2db9488",
   "metadata": {},
   "outputs": [
    {
     "data": {
      "text/plain": [
       "array([ 12,  88,  28,  30,  24, -48, -72,   0])"
      ]
     },
     "execution_count": 70,
     "metadata": {},
     "output_type": "execute_result"
    }
   ],
   "source": [
    "(np.roll(a, 1) + 1) * b"
   ]
  },
  {
   "cell_type": "code",
   "execution_count": 71,
   "id": "12e365b5-74df-4423-9cea-0e0aace449dc",
   "metadata": {},
   "outputs": [
    {
     "data": {
      "text/plain": [
       "(array([ 1,  8,  7,  6,  4, -6, -4,  0]),\n",
       " array([0, 1, 0, 0, 0, 0, 0, 1]),\n",
       " array([1, 0, 1, 2, 3, 4, 5, 0]),\n",
       " array([ 0,  3,  0,  0,  0,  0,  0, 11]),\n",
       " array([ 3,  3,  3,  3,  3,  3, 11]),\n",
       " array([7, 0, 2, 2, 2, 2, 2, 2]),\n",
       " array([ 3,  0, 11,  0,  0,  0,  0,  0]),\n",
       " array([ 3,  3, 11, 11, 11, 11, 11, 11]),\n",
       " array([ 2,  3, 10,  9,  8,  7,  6, 11]))"
      ]
     },
     "execution_count": 71,
     "metadata": {},
     "output_type": "execute_result"
    }
   ],
   "source": [
    "a = np.array([10, 3, 4, 5, 7, 17, 15, 11])\n",
    "b = np.copy(a)\n",
    "b = a[-1] - b\n",
    "# a, b, np.arange(a.shape[0])[::-1]\n",
    "indices_to_change = np.arange(a.shape[0])[::-1] > b\n",
    "\n",
    "a_int = np.copy(indices_to_change.astype(int))\n",
    "c = np.where((np.roll(a_int, 1) == 1) & (a_int == 0), 1, 0)\n",
    "important_values = a * c\n",
    "\n",
    "d = (np.cumsum(1 - c) * (1-c) - np.maximum.accumulate(c * np.cumsum(1-c))) * ( 1 - c)\n",
    "e = important_values\n",
    "f = e[e.nonzero()].repeat(np.diff(np.append(np.where(e!=0),e.shape[0])))\n",
    "g = np.roll(np.maximum.accumulate(np.argsort(e) * c), 1)\n",
    "h = np.zeros_like(e)\n",
    "h[g] = e\n",
    "i = np.maximum.accumulate(h)\n",
    "j = i - d\n",
    "b, c, d, e, f, g, h, i, j"
   ]
  },
  {
   "cell_type": "code",
   "execution_count": 72,
   "id": "fa8aaf26-fc53-40e9-ab03-c82f9d1ac746",
   "metadata": {},
   "outputs": [
    {
     "data": {
      "text/plain": [
       "(array([1, 0, 1, 2, 3, 4, 5, 0, 0, 0, 1, 2, 3, 0, 1, 2, 3, 4, 5, 0]),\n",
       " array([0, 1, 0, 0, 0, 0, 0, 1, 0, 0, 0, 0, 0, 1, 0, 0, 0, 0, 0, 1]),\n",
       " array([0, 2, 0, 0, 0, 0, 0, 6, 0, 0, 0, 0, 0, 4, 0, 0, 0, 0, 0, 6]),\n",
       " array([6, 2, 2, 2, 2, 2, 2, 6, 6, 6, 6, 6, 6, 4, 4, 4, 4, 4, 4]),\n",
       " array([19,  0, 17, 17, 17, 17, 17, 17, 17, 17, 17, 17, 17, 17, 17, 17, 17,\n",
       "        17, 17, 17]),\n",
       " array([2, 0, 0, 0, 0, 0, 0, 0, 0, 0, 0, 0, 0, 0, 0, 0, 0, 6, 0, 0]))"
      ]
     },
     "execution_count": 72,
     "metadata": {},
     "output_type": "execute_result"
    }
   ],
   "source": [
    "a = np.array([1, 0, 1, 2, 3, 4, 5, 0, 0, 0, 1, 2, 3, 0, 1, 2, 3, 4, 5, 0])\n",
    "k = (a>0).astype(int)\n",
    "# b = np.logical_and(b == 0, np.roll(b, 1) == 1).astype(int)\n",
    "b = np.where((np.roll(k, 1) == 1) & (k == 0), 1, 0)\n",
    "c = (np.roll(a, 1) + 1) * b\n",
    "f = np.roll(c[c.nonzero()].repeat(np.diff(np.append(np.where(c!=0),c.shape[0]))), 1)\n",
    "g = np.roll(np.maximum.accumulate(np.argsort(c) * b), 1)\n",
    "h = np.zeros_like(c)\n",
    "h[g] = c\n",
    "a, b, c, f, g, h"
   ]
  },
  {
   "cell_type": "code",
   "execution_count": 73,
   "id": "c0a8a27d-bd13-46d2-a9cc-ade9c0fe7abf",
   "metadata": {},
   "outputs": [
    {
     "data": {
      "text/plain": [
       "array([ 1,  7,  0,  0,  0,  0,  0, 13,  0,  0,  0,  0,  0,  0,  0,  0,  0,\n",
       "        0,  0,  0])"
      ]
     },
     "execution_count": 73,
     "metadata": {},
     "output_type": "execute_result"
    }
   ],
   "source": [
    "a = np.array([0, 2, 0, 0, 0, 0, 0, 6, 0, 0, 0, 0, 0, 4, 0, 0, 0, 0, 0, 6]),\n",
    "b = np.array([0, 1, 0, 0, 0, 0, 0, 1, 0, 0, 0, 0, 0, 1, 0, 0, 0, 0, 0, 1])\n",
    "q = np.arange(b.shape[0]) * b\n",
    "q[-1] = -1 # acts as token\n",
    "p = np.roll(q[q.nonzero()].repeat(np.diff(np.append(np.where(q!=0),q.shape[0]))), 2)\n",
    "p = np.append(p, np.array([0])) * b\n",
    "q[-1] = 0\n",
    "p[p<0] = 0\n",
    "r = np.zeros_like(q)\n",
    "np.add.at(r, p, q)\n",
    "r != 0\n",
    "r"
   ]
  },
  {
   "cell_type": "code",
   "execution_count": 74,
   "id": "566e1ab2-48e4-43cb-a588-610a84d06522",
   "metadata": {},
   "outputs": [
    {
     "data": {
      "text/plain": [
       "array([ 1,  7,  0,  0,  0,  0,  0, 13,  0,  0,  0,  0,  0,  0,  0,  0,  0,\n",
       "        0,  0,  0])"
      ]
     },
     "execution_count": 74,
     "metadata": {},
     "output_type": "execute_result"
    }
   ],
   "source": [
    "# r = np.zeros_like(q)\n",
    "# r[p] = q\n",
    "# r\n",
    "\n",
    "# r = np.zeros_like(q, dtype=bool)\n",
    "# np.logical_or.at(r, p, q)\n",
    "# r = r.astype(q.dtype)\n",
    "# r\n",
    "\n",
    "r = np.zeros_like(q)\n",
    "np.add.at(r, p, q)\n",
    "r != 0\n",
    "r"
   ]
  },
  {
   "cell_type": "code",
   "execution_count": 75,
   "id": "9a08a634-a09d-4356-aa83-efd0405bae37",
   "metadata": {},
   "outputs": [
    {
     "data": {
      "text/plain": [
       "array([2, 2, 2, 2, 2, 2, 6, 6, 6, 6, 6, 6, 4, 4, 4, 4, 4, 4, 6])"
      ]
     },
     "execution_count": 75,
     "metadata": {},
     "output_type": "execute_result"
    }
   ],
   "source": [
    "c[c.nonzero()].repeat(np.diff(np.append(np.where(c!=0),c.shape[0])))"
   ]
  },
  {
   "cell_type": "code",
   "execution_count": 76,
   "id": "241e62da-0823-47a4-a264-65615a0cc8bb",
   "metadata": {},
   "outputs": [
    {
     "data": {
      "text/plain": [
       "(array([1, 0, 1, 2, 3, 4, 5, 0, 0, 0, 1, 2, 3, 0, 1, 2, 3, 4, 5, 0]),\n",
       " array([0, 1, 0, 0, 0, 0, 0, 1, 0, 0, 0, 0, 0, 1, 0, 0, 0, 0, 0, 1]),\n",
       " array([ 0,  0,  0,  0,  0,  0,  0,  6,  0,  0,  0,  0,  0, 12,  0,  0,  0,\n",
       "         0,  0, 18]),\n",
       " array([ 6,  6,  6,  6,  6,  6, 12, 12, 12, 12, 12, 12, 18]),\n",
       " array([19,  0, 17, 17, 17, 17, 17, 17, 17, 17, 17, 17, 17, 17, 17, 17, 17,\n",
       "        17, 17, 17]),\n",
       " array([2, 0, 0, 0, 0, 0, 0, 0, 0, 0, 0, 0, 0, 0, 0, 0, 0, 6, 0, 0]))"
      ]
     },
     "execution_count": 76,
     "metadata": {},
     "output_type": "execute_result"
    }
   ],
   "source": [
    "a = np.array([1, 0, 1, 2, 3, 4, 5, 0, 0, 0, 1, 2, 3, 0, 1, 2, 3, 4, 5, 0])\n",
    "b = (a>0).astype(int)\n",
    "b = np.logical_and(b == 0, np.roll(b, 1) == 1).astype(int)\n",
    "c = (np.arange(b.shape[0]) * b - 1) * b\n",
    "f = c[c.nonzero()].repeat(np.diff(np.append(np.where(c!=0),c.shape[0])))\n",
    "g = np.roll(np.maximum.accumulate(np.argsort(c) * b), 1)\n",
    "# h[g] = c\n",
    "\n",
    "# np.array([1, 0, 5, 4, 3, 2, 1, 0])\n",
    "a,b,c,f,g,h"
   ]
  },
  {
   "cell_type": "code",
   "execution_count": 77,
   "id": "d2f63cbb-806e-4c48-a677-373936c0da16",
   "metadata": {},
   "outputs": [
    {
     "data": {
      "text/plain": [
       "(array([1, 0, 1, 2, 3, 4, 5, 0, 0, 0, 1, 2, 3, 0, 1, 2, 3, 4, 5, 0]),\n",
       " array([0, 1, 0, 0, 0, 0, 0, 1, 0, 0, 0, 0, 0, 1, 0, 0, 0, 0, 0, 1]),\n",
       " array([ 0,  0,  0,  0,  0,  0,  0,  6,  0,  0,  0,  0,  0, 12,  0,  0,  0,\n",
       "         0,  0, 18]),\n",
       " array([ 6,  6,  6,  6,  6,  6, 12, 12, 12, 12, 12, 12, 18]),\n",
       " array([19,  0, 17, 17, 17, 17, 17, 17, 17, 17, 17, 17, 17, 17, 17, 17, 17,\n",
       "        17, 17, 17]))"
      ]
     },
     "execution_count": 77,
     "metadata": {},
     "output_type": "execute_result"
    }
   ],
   "source": [
    "a,b,c,f,g"
   ]
  },
  {
   "cell_type": "code",
   "execution_count": 78,
   "id": "8c4cb047-eee0-4691-8c42-05c7e4978f55",
   "metadata": {},
   "outputs": [
    {
     "ename": "ValueError",
     "evalue": "operands could not be broadcast together with shapes (8,) (20,) ",
     "output_type": "error",
     "traceback": [
      "\u001b[0;31m---------------------------------------------------------------------------\u001b[0m",
      "\u001b[0;31mValueError\u001b[0m                                Traceback (most recent call last)",
      "Cell \u001b[0;32mIn[78], line 3\u001b[0m\n\u001b[1;32m      1\u001b[0m a \u001b[38;5;241m=\u001b[39m np\u001b[38;5;241m.\u001b[39marray([\u001b[38;5;241m10\u001b[39m, \u001b[38;5;241m3\u001b[39m, \u001b[38;5;241m4\u001b[39m, \u001b[38;5;241m5\u001b[39m, \u001b[38;5;241m7\u001b[39m, \u001b[38;5;241m17\u001b[39m, \u001b[38;5;241m15\u001b[39m, \u001b[38;5;241m11\u001b[39m])\n\u001b[1;32m      2\u001b[0m b \u001b[38;5;241m=\u001b[39m a[\u001b[38;5;241m-\u001b[39m\u001b[38;5;241m1\u001b[39m] \u001b[38;5;241m-\u001b[39m b\n\u001b[0;32m----> 3\u001b[0m k \u001b[38;5;241m=\u001b[39m \u001b[43mnp\u001b[49m\u001b[38;5;241;43m.\u001b[39;49m\u001b[43marange\u001b[49m\u001b[43m(\u001b[49m\u001b[43ma\u001b[49m\u001b[38;5;241;43m.\u001b[39;49m\u001b[43mshape\u001b[49m\u001b[43m[\u001b[49m\u001b[38;5;241;43m0\u001b[39;49m\u001b[43m]\u001b[49m\u001b[43m)\u001b[49m\u001b[43m[\u001b[49m\u001b[43m:\u001b[49m\u001b[43m:\u001b[49m\u001b[38;5;241;43m-\u001b[39;49m\u001b[38;5;241;43m1\u001b[39;49m\u001b[43m]\u001b[49m\u001b[43m \u001b[49m\u001b[38;5;241;43m>\u001b[39;49m\u001b[43m \u001b[49m\u001b[43mb\u001b[49m\n\u001b[1;32m      4\u001b[0m c \u001b[38;5;241m=\u001b[39m np\u001b[38;5;241m.\u001b[39mwhere((np\u001b[38;5;241m.\u001b[39mroll(k\u001b[38;5;241m.\u001b[39mastype(\u001b[38;5;28mint\u001b[39m), \u001b[38;5;241m1\u001b[39m) \u001b[38;5;241m==\u001b[39m \u001b[38;5;241m1\u001b[39m) \u001b[38;5;241m&\u001b[39m (k\u001b[38;5;241m.\u001b[39mastype(\u001b[38;5;28mint\u001b[39m) \u001b[38;5;241m==\u001b[39m \u001b[38;5;241m0\u001b[39m), \u001b[38;5;241m1\u001b[39m, \u001b[38;5;241m0\u001b[39m)\n\u001b[1;32m      5\u001b[0m c\n",
      "\u001b[0;31mValueError\u001b[0m: operands could not be broadcast together with shapes (8,) (20,) "
     ]
    }
   ],
   "source": [
    "a = np.array([10, 3, 4, 5, 7, 17, 15, 11])\n",
    "b = a[-1] - b\n",
    "k = np.arange(a.shape[0])[::-1] > b\n",
    "c = np.where((np.roll(k.astype(int), 1) == 1) & (k.astype(int) == 0), 1, 0)\n",
    "c"
   ]
  },
  {
   "cell_type": "code",
   "execution_count": null,
   "id": "1ed5b8c2-a07d-4d29-8cb2-3a597354f8c5",
   "metadata": {},
   "outputs": [],
   "source": [
    "a = np.array([1, 0, 1, 2, 3, 4, 5, 0, 0, 0, 1, 2, 3, 0, 1, 2, 3, 4, 5])\n",
    "b = (a>0).astype(int)\n",
    "a, b"
   ]
  },
  {
   "cell_type": "code",
   "execution_count": null,
   "id": "e8b096c2-47c6-4738-92cf-aa11ab2bb5d9",
   "metadata": {},
   "outputs": [],
   "source": [
    "b = np.array([1, 0, 1, 1, 1, 1, 1, 0, 0, 0, 1, 1, 1, 0, 1, 1, 1, 1, 1])\n",
    "np.logical_and(b == 0, np.roll(b, 1) == 1).astype(int)"
   ]
  }
 ],
 "metadata": {
  "kernelspec": {
   "display_name": "Python 3 (ipykernel)",
   "language": "python",
   "name": "python3"
  },
  "language_info": {
   "codemirror_mode": {
    "name": "ipython",
    "version": 3
   },
   "file_extension": ".py",
   "mimetype": "text/x-python",
   "name": "python",
   "nbconvert_exporter": "python",
   "pygments_lexer": "ipython3",
   "version": "3.8.10"
  }
 },
 "nbformat": 4,
 "nbformat_minor": 5
}
