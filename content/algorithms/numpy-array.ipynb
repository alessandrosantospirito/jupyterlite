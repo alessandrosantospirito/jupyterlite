{
 "cells": [
  {
   "cell_type": "code",
   "execution_count": 1,
   "id": "71c878cd-bd4c-4c9f-b972-d9f216901663",
   "metadata": {},
   "outputs": [],
   "source": [
    "import numpy as np"
   ]
  },
  {
   "cell_type": "code",
   "execution_count": 8,
   "id": "47c59dea-2407-405b-b2b6-0b8512cd284b",
   "metadata": {},
   "outputs": [
    {
     "data": {
      "text/plain": [
       "array([ 0,  2,  3,  5,  7,  0, 15, 11])"
      ]
     },
     "execution_count": 8,
     "metadata": {},
     "output_type": "execute_result"
    }
   ],
   "source": [
    "x = np.array([1, 2, 3, 5, 7, 8, 9, 11])\n",
    "x_change = np.array([9, 1, 1, 0, 0, 9, 6, 0])\n",
    "x_difference = \n",
    "a = np.array([10, 3, 4, 5, 7, 17, 15, 11]) # array with unique entries\n",
    "# [1, 2, 3, 5, 7, 9, 10, 11]\n",
    "b = a * ((np.sort(a) - a) >= 0).astype(int)\n",
    "b"
   ]
  },
  {
   "cell_type": "code",
   "execution_count": 6,
   "id": "82688f9c-01c6-4c74-b588-e1fc2cf008ed",
   "metadata": {},
   "outputs": [
    {
     "data": {
      "text/plain": [
       "array([ True, False, False, False, False,  True, False, False])"
      ]
     },
     "execution_count": 6,
     "metadata": {},
     "output_type": "execute_result"
    }
   ],
   "source": [
    "(np.sort(a) - a) < 0"
   ]
  },
  {
   "cell_type": "code",
   "execution_count": 14,
   "id": "aed9ea74-0d67-4c1a-b6b8-80b23de8afdc",
   "metadata": {},
   "outputs": [
    {
     "data": {
      "text/plain": [
       "array([1, 1, 2, 2, 1, 1, 2])"
      ]
     },
     "execution_count": 14,
     "metadata": {},
     "output_type": "execute_result"
    }
   ],
   "source": [
    "x = np.array([1, 2, 3, 5, 7, 8, 9, 11])\n",
    "x_gaps = x[1:] - x[:-1]\n",
    "x_gaps"
   ]
  },
  {
   "cell_type": "code",
   "execution_count": 13,
   "id": "59739d6a-c916-491b-add8-5d9ef76097ca",
   "metadata": {},
   "outputs": [
    {
     "data": {
      "text/plain": [
       "array([-8,  0, -1,  0,  9, -3, -6])"
      ]
     },
     "execution_count": 13,
     "metadata": {},
     "output_type": "execute_result"
    }
   ],
   "source": [
    "x_change = np.array([9, 1, 1, 0, 0, 9, 6, 0])\n",
    "x_change[1:] - x_change[:-1]"
   ]
  },
  {
   "cell_type": "code",
   "execution_count": 22,
   "id": "eab7eaae-50af-4dab-8366-b16259f60a32",
   "metadata": {},
   "outputs": [],
   "source": [
    "# a = np.array([1,2,3,0,0,0,10,11,0,0,20])\n",
    "# a = np.array([1,2,3,1,2,3,10,11,1,2,20])\n",
    "a = np.array([1,2,3,1,2,3,10,11,1,2,20])\n",
    "b = np.array([1,2,3,7,8,9,10,11,18,19,20])"
   ]
  },
  {
   "cell_type": "code",
   "execution_count": 19,
   "id": "3935ddb6-4938-4794-b974-b30ce525b09e",
   "metadata": {},
   "outputs": [
    {
     "data": {
      "text/plain": [
       "array([ 1,  2,  3, 20, 20, 20, 10, 11, 20, 20, 20])"
      ]
     },
     "execution_count": 19,
     "metadata": {},
     "output_type": "execute_result"
    }
   ],
   "source": [
    "mask = a != 0\n",
    "\n",
    "increments = np.cumsum(mask) - np.cumsum(a != 0)\n",
    "\n",
    "b = np.where(mask, a, a[mask][-1] + increments)\n",
    "b"
   ]
  },
  {
   "cell_type": "code",
   "execution_count": 23,
   "id": "d348d7fc-4151-4e1b-b61d-6da03e261c06",
   "metadata": {},
   "outputs": [
    {
     "data": {
      "text/plain": [
       "array([ 1,  3,  6,  7,  9, 12, 22, 33, 34, 36, 56])"
      ]
     },
     "execution_count": 23,
     "metadata": {},
     "output_type": "execute_result"
    }
   ],
   "source": [
    "np.cumsum(a)"
   ]
  },
  {
   "cell_type": "code",
   "execution_count": 83,
   "id": "4de764d4-48a1-42a5-b53f-462342fe175f",
   "metadata": {},
   "outputs": [
    {
     "data": {
      "text/plain": [
       "array([ True, False, False, False, False,  True,  True, False])"
      ]
     },
     "execution_count": 83,
     "metadata": {},
     "output_type": "execute_result"
    }
   ],
   "source": [
    "# Detected all places that have to be updated\n",
    "a = np.array([10, 3, 4, 5, 7, 17, 15, 11])\n",
    "# np.argsort(a), np.arange(a.shape[0])\n",
    "\n",
    "val = a[-1]\n",
    "b = np.copy(a)\n",
    "b = val - b\n",
    "# a, b, np.arange(a.shape[0])[::-1]\n",
    "indices_to_change = np.arange(a.shape[0])[::-1] > b\n",
    "indices_to_change"
   ]
  },
  {
   "cell_type": "code",
   "execution_count": 82,
   "id": "153e8d5c-0efc-445d-859c-cf248b5f1c34",
   "metadata": {},
   "outputs": [
    {
     "data": {
      "text/plain": [
       "(array([7, 6, 5, 4, 3, 2, 1, 0]), array([-1, -8, -7, -6, -4,  6,  4,  0]))"
      ]
     },
     "execution_count": 82,
     "metadata": {},
     "output_type": "execute_result"
    }
   ],
   "source": [
    "important_indices = indices_to_change.astype(int)[]"
   ]
  },
  {
   "cell_type": "code",
   "execution_count": 87,
   "id": "231a5450-d9f7-4ec6-a8d1-1605e23b8ada",
   "metadata": {},
   "outputs": [
    {
     "data": {
      "text/plain": [
       "(array([0, 0, 0, 0, 0, 0, 0, 0]), array([1, 0, 0, 0, 0, 1, 1, 0]))"
      ]
     },
     "execution_count": 87,
     "metadata": {},
     "output_type": "execute_result"
    }
   ],
   "source": [
    "np.right_shift(indices_to_change.astype(int), 1), indices_to_change.astype(int)"
   ]
  },
  {
   "cell_type": "code",
   "execution_count": 109,
   "id": "b4ab07c7-6647-46a1-8f40-638544c8d21e",
   "metadata": {},
   "outputs": [
    {
     "data": {
      "text/plain": [
       "(array([0, 1, 0, 0, 0, 0, 0, 1]), array([ 0,  3,  0,  0,  0,  0,  0, 11]))"
      ]
     },
     "execution_count": 109,
     "metadata": {},
     "output_type": "execute_result"
    }
   ],
   "source": [
    "a_int = np.copy(indices_to_change.astype(int))\n",
    "important_indices = np.where((np.roll(a_int, 1) == 1) & (a_int == 0), 1, 0)\n",
    "important_indices, a * important_indices"
   ]
  },
  {
   "cell_type": "code",
   "execution_count": 106,
   "id": "0e79fa2f-b637-4edd-9daf-5a3fa59aeee4",
   "metadata": {},
   "outputs": [
    {
     "data": {
      "text/plain": [
       "array([0, 1, 0, 0, 0, 0, 1, 1])"
      ]
     },
     "execution_count": 106,
     "metadata": {},
     "output_type": "execute_result"
    }
   ],
   "source": [
    "b_int = np.array([1, 0, 0, 0, 0, 1, 1, 0])\n",
    "np.roll(b_int, 1)"
   ]
  },
  {
   "cell_type": "code",
   "execution_count": 75,
   "id": "43de97b9-3063-45cb-b69d-0a8684bc72be",
   "metadata": {},
   "outputs": [
    {
     "data": {
      "text/plain": [
       "array([ True,  True,  True,  True,  True, False, False, False])"
      ]
     },
     "execution_count": 75,
     "metadata": {},
     "output_type": "execute_result"
    }
   ],
   "source": [
    "indices_to_change = np.arange(a.shape[0])[::-1] > b\n",
    "indices_to_change"
   ]
  },
  {
   "cell_type": "code",
   "execution_count": 30,
   "id": "a4795a14-ee25-4156-9be5-34f5859b4b59",
   "metadata": {},
   "outputs": [
    {
     "data": {
      "text/plain": [
       "array([ 1,  2,  3,  7,  8,  9, 10, 28, 18, 19, 20])"
      ]
     },
     "execution_count": 30,
     "metadata": {},
     "output_type": "execute_result"
    }
   ],
   "source": [
    "a = np.array([0,0,0,0,0,0,10,0,0,0,20])\n",
    "b = np.array([0,0,0,3,2,1,0,3,2,1,0])\n",
    "c = np.array([10,10,10,10,10,10,10,20,20,20,20])\n",
    "d = np.array([1,2,3,0,0,0,10,11,0,0,20])\n",
    "mask_b = b >0\n",
    "d += (c-b)*mask_b.astype(int)\n",
    "d"
   ]
  },
  {
   "cell_type": "code",
   "execution_count": 33,
   "id": "309b027b-6c85-46dd-a63c-d72e21bba155",
   "metadata": {},
   "outputs": [
    {
     "data": {
      "text/plain": [
       "array([10, 10, 10, 10, 10, 10, 20, 20, 20, 20, 20])"
      ]
     },
     "execution_count": 33,
     "metadata": {},
     "output_type": "execute_result"
    }
   ],
   "source": [
    "# a = np.array([0,0,0,0,0,0,10,0,0,0,20])\n",
    "a = np.array([10,0,0,0,0,0,20,0,0,0,0])\n",
    "c = np.array([10,10,10,10,10,10,10,20,20,20,20])\n",
    "np.maximum.accumulate(a)"
   ]
  },
  {
   "cell_type": "code",
   "execution_count": 112,
   "id": "e5615a64-e3fa-47bd-846d-2d3734c1d9f4",
   "metadata": {},
   "outputs": [],
   "source": [
    "# fill the 0 places with the highest value that is not part of the array\n",
    "a = np.array([ 0,  3,  0,  0,  0,  0,  0, 11])\n",
    "b = np.array([ 2,  3,  6,  7,  8,  9,  10, 11])\n",
    "\n",
    "# count up (1, 2, 3, 4, ...) until 1, then start again from 1\n",
    "c = np.array([0, 1, 0, 0, 0, 0, 1, 1])\n",
    "d = np.array([1, 0, 1, 2, 3, 4, 0, 0])"
   ]
  },
  {
   "cell_type": "code",
   "execution_count": 117,
   "id": "74ab68e4-8ab5-480b-bf93-7a2c3cb04a74",
   "metadata": {},
   "outputs": [
    {
     "data": {
      "text/plain": [
       "array([0, 1, 0, 0, 0, 0, 6, 7])"
      ]
     },
     "execution_count": 117,
     "metadata": {},
     "output_type": "execute_result"
    }
   ],
   "source": [
    "np.arange(c.shape[0]) * np.roll(b_int, 1)"
   ]
  },
  {
   "cell_type": "code",
   "execution_count": 118,
   "id": "b0f277c7-18f0-4ee7-98e2-0f1c9c0bb5f4",
   "metadata": {},
   "outputs": [
    {
     "data": {
      "text/plain": [
       "(array([0, 1, 0, 0, 0, 0, 0, 1]), array([ 0,  3,  0,  0,  0,  0,  0, 11]))"
      ]
     },
     "execution_count": 118,
     "metadata": {},
     "output_type": "execute_result"
    }
   ],
   "source": [
    "a = np.array([10, 3, 4, 5, 7, 17, 15, 11])\n",
    "val = a[-1]\n",
    "b = np.copy(a)\n",
    "b = val - b\n",
    "# a, b, np.arange(a.shape[0])[::-1]\n",
    "indices_to_change = np.arange(a.shape[0])[::-1] > b\n",
    "\n",
    "a_int = np.copy(indices_to_change.astype(int))\n",
    "important_indices = np.where((np.roll(a_int, 1) == 1) & (a_int == 0), 1, 0)\n",
    "important_indices, a * important_indices"
   ]
  },
  {
   "cell_type": "code",
   "execution_count": 119,
   "id": "c6f4a018-dd22-4d22-a221-6960fd912920",
   "metadata": {},
   "outputs": [
    {
     "data": {
      "text/plain": [
       "array([0, 1, 0, 0, 0, 0, 0, 7])"
      ]
     },
     "execution_count": 119,
     "metadata": {},
     "output_type": "execute_result"
    }
   ],
   "source": [
    "np.arange(a.shape[0]) * important_indices"
   ]
  },
  {
   "cell_type": "code",
   "execution_count": null,
   "id": "6a5acc9b-9f02-454a-8c24-c65de27b84bf",
   "metadata": {},
   "outputs": [],
   "source": []
  }
 ],
 "metadata": {
  "kernelspec": {
   "display_name": "Python 3 (ipykernel)",
   "language": "python",
   "name": "python3"
  },
  "language_info": {
   "codemirror_mode": {
    "name": "ipython",
    "version": 3
   },
   "file_extension": ".py",
   "mimetype": "text/x-python",
   "name": "python",
   "nbconvert_exporter": "python",
   "pygments_lexer": "ipython3",
   "version": "3.8.10"
  }
 },
 "nbformat": 4,
 "nbformat_minor": 5
}
