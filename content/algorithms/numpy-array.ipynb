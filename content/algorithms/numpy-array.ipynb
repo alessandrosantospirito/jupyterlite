{
 "cells": [
  {
   "cell_type": "code",
   "execution_count": 1,
   "id": "71c878cd-bd4c-4c9f-b972-d9f216901663",
   "metadata": {},
   "outputs": [],
   "source": [
    "import numpy as np"
   ]
  },
  {
   "cell_type": "code",
   "execution_count": 8,
   "id": "47c59dea-2407-405b-b2b6-0b8512cd284b",
   "metadata": {},
   "outputs": [
    {
     "data": {
      "text/plain": [
       "array([ 0,  2,  3,  5,  7,  0, 15, 11])"
      ]
     },
     "execution_count": 8,
     "metadata": {},
     "output_type": "execute_result"
    }
   ],
   "source": [
    "x = np.array([1, 2, 3, 5, 7, 8, 9, 11])\n",
    "x_change = np.array([9, 1, 1, 0, 0, 9, 6, 0])\n",
    "x_difference = \n",
    "a = np.array([10, 3, 4, 5, 7, 17, 15, 11]) # array with unique entries\n",
    "# [1, 2, 3, 5, 7, 9, 10, 11]\n",
    "b = a * ((np.sort(a) - a) >= 0).astype(int)\n",
    "b"
   ]
  },
  {
   "cell_type": "code",
   "execution_count": 6,
   "id": "82688f9c-01c6-4c74-b588-e1fc2cf008ed",
   "metadata": {},
   "outputs": [
    {
     "data": {
      "text/plain": [
       "array([ True, False, False, False, False,  True, False, False])"
      ]
     },
     "execution_count": 6,
     "metadata": {},
     "output_type": "execute_result"
    }
   ],
   "source": [
    "(np.sort(a) - a) < 0"
   ]
  },
  {
   "cell_type": "code",
   "execution_count": 14,
   "id": "aed9ea74-0d67-4c1a-b6b8-80b23de8afdc",
   "metadata": {},
   "outputs": [
    {
     "data": {
      "text/plain": [
       "array([1, 1, 2, 2, 1, 1, 2])"
      ]
     },
     "execution_count": 14,
     "metadata": {},
     "output_type": "execute_result"
    }
   ],
   "source": [
    "x = np.array([1, 2, 3, 5, 7, 8, 9, 11])\n",
    "x_gaps = x[1:] - x[:-1]\n",
    "x_gaps"
   ]
  },
  {
   "cell_type": "code",
   "execution_count": 13,
   "id": "59739d6a-c916-491b-add8-5d9ef76097ca",
   "metadata": {},
   "outputs": [
    {
     "data": {
      "text/plain": [
       "array([-8,  0, -1,  0,  9, -3, -6])"
      ]
     },
     "execution_count": 13,
     "metadata": {},
     "output_type": "execute_result"
    }
   ],
   "source": [
    "x_change = np.array([9, 1, 1, 0, 0, 9, 6, 0])\n",
    "x_change[1:] - x_change[:-1]"
   ]
  },
  {
   "cell_type": "code",
   "execution_count": null,
   "id": "eab7eaae-50af-4dab-8366-b16259f60a32",
   "metadata": {},
   "outputs": [],
   "source": []
  }
 ],
 "metadata": {
  "kernelspec": {
   "display_name": "Python 3 (ipykernel)",
   "language": "python",
   "name": "python3"
  },
  "language_info": {
   "codemirror_mode": {
    "name": "ipython",
    "version": 3
   },
   "file_extension": ".py",
   "mimetype": "text/x-python",
   "name": "python",
   "nbconvert_exporter": "python",
   "pygments_lexer": "ipython3",
   "version": "3.8.10"
  }
 },
 "nbformat": 4,
 "nbformat_minor": 5
}
