{
 "cells": [
  {
   "cell_type": "code",
   "execution_count": 1,
   "id": "1c3c611c-5553-4f19-843c-fa7eb83ae8f4",
   "metadata": {},
   "outputs": [],
   "source": [
    "import torch"
   ]
  },
  {
   "cell_type": "code",
   "execution_count": 12,
   "id": "f36cd4a4-8e45-49cf-9869-dcfee21ebbd8",
   "metadata": {},
   "outputs": [],
   "source": [
    "import torch\n",
    "\n",
    "def fill_zero_places(a):\n",
    "    a = torch.cat([torch.tensor([-1], device=a.device), a])\n",
    "    nonzero_indices = torch.nonzero(a).squeeze()\n",
    "    diff = torch.diff(torch.cat([nonzero_indices, torch.tensor([a.shape[0]], device=a.device)]))\n",
    "    b = a[nonzero_indices].repeat_interleave(diff)\n",
    "    b[b < 0] = 0\n",
    "    c = b[1:]\n",
    "    return c\n",
    "\n",
    "def shift_values_to_next_available_zero(a):\n",
    "    b = (a > 0).int()\n",
    "    b = torch.cat([torch.tensor([0], device=a.device), b])\n",
    "    c = torch.arange(b.shape[0], device=a.device) * b\n",
    "    c[-1] = 0\n",
    "    d = c[1:]\n",
    "    e = torch.roll(fill_zero_places(d), 1)\n",
    "    e[0] = 0\n",
    "    f = torch.zeros_like(a)\n",
    "    f.scatter_add_(0, e.long(), a)\n",
    "    return f\n",
    "\n",
    "def fill_zero_values_ascending_rest_with_zero(a):\n",
    "    b = (a > 0).int()\n",
    "    cumsum = torch.cumsum(1 - b, dim=0)\n",
    "    c = (cumsum * (1 - b) - torch.maximum(b * cumsum, torch.zeros_like(cumsum)).cummax(dim=0)[0]) * (1 - b)\n",
    "    return c\n",
    "\n",
    "def find_one_zero_pattern(a):\n",
    "    b = torch.roll(a.int(), -1)\n",
    "    b[-1] = 1\n",
    "    c = a - b\n",
    "    d = (c == 1).int()\n",
    "    return d\n",
    "\n",
    "def fill_zero_values_descending_rest_with_zero(a):\n",
    "    b = fill_zero_values_ascending_rest_with_zero(a)\n",
    "    c = (b > 0).int()\n",
    "    d = find_one_zero_pattern(c)\n",
    "    e = d * b\n",
    "    f = shift_values_to_next_available_zero(e)\n",
    "    g = fill_zero_places(f)\n",
    "    h = ((g + 1) - b) * c\n",
    "    return h\n",
    "\n",
    "def find_values_that_must_be_reordered(a):\n",
    "    b, _ = torch.cummin(a.flip(0), dim=0)\n",
    "    b = b.flip(0)\n",
    "    c = torch.cat([(1 - (b[1:] - b[:-1]) > 0).int(), torch.tensor([0], device=a.device)])\n",
    "    d = a * c\n",
    "    e = ((d >= b).int() * c).int()\n",
    "    f = (1 - c)\n",
    "    g = fill_zero_values_descending_rest_with_zero(f)\n",
    "    h = d - g\n",
    "    i = ((h > b).int() * c | (a >= b).int() * c).int()\n",
    "    return i\n",
    "\n",
    "def adjust_cars_no_lane_change(a):\n",
    "    b = a[-1] - a\n",
    "    m = find_values_that_must_be_reordered(b).int()\n",
    "    c = torch.where((torch.roll(m, 1) == 1) & (m == 0), torch.tensor(1, device=a.device), torch.tensor(0, device=a.device))\n",
    "    d = (torch.cumsum(1 - c, dim=0) * (1 - c) - torch.maximum(c * torch.cumsum(1 - c, dim=0), torch.zeros_like(c)).cummax(dim=0)[0]) * (1 - c)\n",
    "    e = a * c\n",
    "    nonzero_indices = torch.nonzero(e).squeeze()\n",
    "    diff = torch.diff(torch.cat([nonzero_indices, torch.tensor([e.shape[0]], device=a.device)]))\n",
    "    f = e[nonzero_indices].repeat_interleave(diff)\n",
    "    g = torch.roll(torch.argsort(e).cummax(dim=0)[0] * c, 1)\n",
    "    h = torch.zeros_like(e)\n",
    "    h.scatter_(0, g.long(), e)\n",
    "    i = h.cummax(dim=0)[0]\n",
    "    j = i - d\n",
    "    k = fill_zero_values_descending_rest_with_zero(c)\n",
    "    l = i - k\n",
    "    n = 1 - m\n",
    "    o = fill_zero_values_descending_rest_with_zero(n) * m\n",
    "    p = (i - o) * m\n",
    "    q = p + n * a\n",
    "    return q"
   ]
  },
  {
   "cell_type": "code",
   "execution_count": 13,
   "id": "0718745b-72f4-4990-9d11-8df9a54324c7",
   "metadata": {},
   "outputs": [
    {
     "ename": "RuntimeError",
     "evalue": "zero-dimensional tensor (at position 0) cannot be concatenated",
     "output_type": "error",
     "traceback": [
      "\u001b[0;31m---------------------------------------------------------------------------\u001b[0m",
      "\u001b[0;31mRuntimeError\u001b[0m                              Traceback (most recent call last)",
      "Cell \u001b[0;32mIn[13], line 2\u001b[0m\n\u001b[1;32m      1\u001b[0m a \u001b[38;5;241m=\u001b[39m torch\u001b[38;5;241m.\u001b[39mtensor([ \u001b[38;5;241m7\u001b[39m,  \u001b[38;5;241m4\u001b[39m,  \u001b[38;5;241m2\u001b[39m,  \u001b[38;5;241m6\u001b[39m,  \u001b[38;5;241m3\u001b[39m,  \u001b[38;5;241m5\u001b[39m,  \u001b[38;5;241m8\u001b[39m,  \u001b[38;5;241m6\u001b[39m, \u001b[38;5;241m14\u001b[39m,  \u001b[38;5;241m4\u001b[39m,  \u001b[38;5;241m8\u001b[39m, \u001b[38;5;241m13\u001b[39m,  \u001b[38;5;241m3\u001b[39m,  \u001b[38;5;241m2\u001b[39m,  \u001b[38;5;241m6\u001b[39m,  \u001b[38;5;241m7\u001b[39m,  \u001b[38;5;241m7\u001b[39m,  \u001b[38;5;241m17\u001b[39m,  \u001b[38;5;241m5\u001b[39m,  \u001b[38;5;241m3\u001b[39m,  \u001b[38;5;241m6\u001b[39m, \u001b[38;5;241m23\u001b[39m,  \u001b[38;5;241m9\u001b[39m, \u001b[38;5;241m23\u001b[39m,  \u001b[38;5;241m5\u001b[39m,  \u001b[38;5;241m6\u001b[39m,  \u001b[38;5;241m3\u001b[39m, \u001b[38;5;241m10\u001b[39m, \u001b[38;5;241m30\u001b[39m, \u001b[38;5;241m35\u001b[39m])\n\u001b[0;32m----> 2\u001b[0m \u001b[43madjust_cars_no_lane_change\u001b[49m\u001b[43m(\u001b[49m\u001b[43ma\u001b[49m\u001b[43m)\u001b[49m\n",
      "Cell \u001b[0;32mIn[12], line 66\u001b[0m, in \u001b[0;36madjust_cars_no_lane_change\u001b[0;34m(a)\u001b[0m\n\u001b[1;32m     64\u001b[0m e \u001b[38;5;241m=\u001b[39m a \u001b[38;5;241m*\u001b[39m c\n\u001b[1;32m     65\u001b[0m nonzero_indices \u001b[38;5;241m=\u001b[39m torch\u001b[38;5;241m.\u001b[39mnonzero(e)\u001b[38;5;241m.\u001b[39msqueeze()\n\u001b[0;32m---> 66\u001b[0m diff \u001b[38;5;241m=\u001b[39m torch\u001b[38;5;241m.\u001b[39mdiff(\u001b[43mtorch\u001b[49m\u001b[38;5;241;43m.\u001b[39;49m\u001b[43mcat\u001b[49m\u001b[43m(\u001b[49m\u001b[43m[\u001b[49m\u001b[43mnonzero_indices\u001b[49m\u001b[43m,\u001b[49m\u001b[43m \u001b[49m\u001b[43mtorch\u001b[49m\u001b[38;5;241;43m.\u001b[39;49m\u001b[43mtensor\u001b[49m\u001b[43m(\u001b[49m\u001b[43m[\u001b[49m\u001b[43me\u001b[49m\u001b[38;5;241;43m.\u001b[39;49m\u001b[43mshape\u001b[49m\u001b[43m[\u001b[49m\u001b[38;5;241;43m0\u001b[39;49m\u001b[43m]\u001b[49m\u001b[43m]\u001b[49m\u001b[43m,\u001b[49m\u001b[43m \u001b[49m\u001b[43mdevice\u001b[49m\u001b[38;5;241;43m=\u001b[39;49m\u001b[43ma\u001b[49m\u001b[38;5;241;43m.\u001b[39;49m\u001b[43mdevice\u001b[49m\u001b[43m)\u001b[49m\u001b[43m]\u001b[49m\u001b[43m)\u001b[49m)\n\u001b[1;32m     67\u001b[0m f \u001b[38;5;241m=\u001b[39m e[nonzero_indices]\u001b[38;5;241m.\u001b[39mrepeat_interleave(diff)\n\u001b[1;32m     68\u001b[0m g \u001b[38;5;241m=\u001b[39m torch\u001b[38;5;241m.\u001b[39mroll(torch\u001b[38;5;241m.\u001b[39margsort(e)\u001b[38;5;241m.\u001b[39mcummax(dim\u001b[38;5;241m=\u001b[39m\u001b[38;5;241m0\u001b[39m)[\u001b[38;5;241m0\u001b[39m] \u001b[38;5;241m*\u001b[39m c, \u001b[38;5;241m1\u001b[39m)\n",
      "\u001b[0;31mRuntimeError\u001b[0m: zero-dimensional tensor (at position 0) cannot be concatenated"
     ]
    }
   ],
   "source": [
    "a = torch.tensor([ 7,  4,  2,  6,  3,  5,  8,  6, 14,  4,  8, 13,  3,  2,  6,  7,  7,  17,  5,  3,  6, 23,  9, 23,  5,  6,  3, 10, 30, 35])\n",
    "adjust_cars_no_lane_change(a)"
   ]
  },
  {
   "cell_type": "code",
   "execution_count": 11,
   "id": "49ce41a6-c182-451e-8a02-4f4b194f00c9",
   "metadata": {},
   "outputs": [
    {
     "data": {
      "text/plain": [
       "(tensor([ 0,  1,  2,  3,  4,  5,  6,  7,  8,  9, 10, 11, 12, 13, 14, 15, 16, 17,\n",
       "         18, 19, 20, 21, 22, 23, 24, 25, 26, 27, 28, 29]),\n",
       " tensor([1, 3, 7, 5, 0, 3, 5, 9, 6, 5, 3, 2, 1, 5, 8, 2, 2, 3, 6, 1, 0, 4, 2, 6,\n",
       "         3, 1, 0, 3, 9, 1]))"
      ]
     },
     "execution_count": 11,
     "metadata": {},
     "output_type": "execute_result"
    }
   ],
   "source": [
    "count = 30\n",
    "lane_num_tracks = torch.tensor([198, 222])\n",
    "cars_position = torch.arange(0, count)\n",
    "cars_speed = torch.randint(0,10, (count, 1)).flatten()\n",
    "\n",
    "cars_position, cars_speed"
   ]
  }
 ],
 "metadata": {
  "kernelspec": {
   "display_name": "Python 3 (ipykernel)",
   "language": "python",
   "name": "python3"
  },
  "language_info": {
   "codemirror_mode": {
    "name": "ipython",
    "version": 3
   },
   "file_extension": ".py",
   "mimetype": "text/x-python",
   "name": "python",
   "nbconvert_exporter": "python",
   "pygments_lexer": "ipython3",
   "version": "3.8.10"
  }
 },
 "nbformat": 4,
 "nbformat_minor": 5
}
