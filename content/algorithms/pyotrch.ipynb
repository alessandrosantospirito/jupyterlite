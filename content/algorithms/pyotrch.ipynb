{
 "cells": [
  {
   "cell_type": "code",
   "execution_count": 1,
   "id": "1c3c611c-5553-4f19-843c-fa7eb83ae8f4",
   "metadata": {},
   "outputs": [],
   "source": [
    "import torch"
   ]
  },
  {
   "cell_type": "code",
   "execution_count": 2,
   "id": "a9dd7c2d-0d80-4a3f-8419-d443eea7e5df",
   "metadata": {},
   "outputs": [],
   "source": [
    "def fill_zero_places(a):\n",
    "    a = torch.cat([torch.tensor([-1], device=a.device), a])\n",
    "    nonzero_indices = torch.nonzero(a).squeeze()\n",
    "    diff = torch.diff(torch.cat([nonzero_indices, torch.tensor([a.shape[0]], device=a.device)]))\n",
    "    b = a[nonzero_indices].repeat_interleave(diff)\n",
    "    b[b < 0] = 0\n",
    "    c = b[1:]\n",
    "    return c"
   ]
  },
  {
   "cell_type": "code",
   "execution_count": 3,
   "id": "849b761e-626d-4383-8d4e-ec63c637d003",
   "metadata": {},
   "outputs": [],
   "source": [
    "def shift_values_to_next_available_zero(a):\n",
    "    b = (a > 0).int()\n",
    "    b = torch.cat([torch.tensor([1], device=a.device), b])\n",
    "    c = torch.arange(b.shape[0], device=a.device) * b\n",
    "    d = c[1:]\n",
    "    e = torch.roll(fill_zero_places(d), 1)\n",
    "    e[0] = 0\n",
    "    f = torch.zeros_like(a)\n",
    "    f.scatter_add_(0, e.long(), a)\n",
    "        \n",
    "    return f"
   ]
  },
  {
   "cell_type": "code",
   "execution_count": 4,
   "id": "15488192-7077-4510-ab46-1782fc746ee3",
   "metadata": {},
   "outputs": [],
   "source": [
    "def fill_zero_values_ascending_rest_with_zero(a):\n",
    "    b = (a > 0).int()\n",
    "    cumsum = torch.cumsum(1 - b, dim=0)\n",
    "    c = (cumsum * (1 - b) - torch.maximum(b * cumsum, torch.zeros_like(cumsum)).cummax(dim=0)[0]) * (1 - b)\n",
    "    \n",
    "    return c"
   ]
  },
  {
   "cell_type": "code",
   "execution_count": 5,
   "id": "e2895ecf-77ed-4f0f-be25-3a025f7a1f20",
   "metadata": {},
   "outputs": [],
   "source": [
    "def find_one_zero_pattern(a):\n",
    "    b = torch.roll(a.int(), -1)\n",
    "    b[-1] = 1\n",
    "    c = a - b\n",
    "    d = (c == 1).int()\n",
    "    \n",
    "    return d"
   ]
  },
  {
   "cell_type": "code",
   "execution_count": 6,
   "id": "e9779321-29d3-4471-86b6-0b85db822a49",
   "metadata": {},
   "outputs": [],
   "source": [
    "def fill_zero_values_descending_rest_with_zero(a):\n",
    "    b = fill_zero_values_ascending_rest_with_zero(a)\n",
    "    c = (b > 0).int()\n",
    "    d = find_one_zero_pattern(c)\n",
    "    e = d * b\n",
    "    f = shift_values_to_next_available_zero(e)\n",
    "    g = fill_zero_places(f)\n",
    "    h = ((g + 1) - b) * c\n",
    "    \n",
    "    return h"
   ]
  },
  {
   "cell_type": "code",
   "execution_count": 7,
   "id": "1d2b5688-333d-44ad-985f-7441562728d1",
   "metadata": {},
   "outputs": [],
   "source": [
    "def find_values_that_must_be_reordered(a):\n",
    "    b = torch.arange(1, a.shape[0] + 1)\n",
    "    c = a - b\n",
    "    d, _ = torch.cummin(c.flip(0), dim=0)\n",
    "    d = d.flip(0)\n",
    "    e = (c == d).int()\n",
    "\n",
    "    return 1 - e"
   ]
  },
  {
   "cell_type": "code",
   "execution_count": 8,
   "id": "f36cd4a4-8e45-49cf-9869-dcfee21ebbd8",
   "metadata": {},
   "outputs": [],
   "source": [
    "def adjust_cars_no_lane_change(a):\n",
    "    b = 1 - find_values_that_must_be_reordered(a)\n",
    "    c = fill_zero_values_descending_rest_with_zero(b)\n",
    "    d = a * b\n",
    "    e = shift_values_to_next_available_zero(d)\n",
    "    f = fill_zero_places(e)\n",
    "    g = f - c\n",
    "\n",
    "    return g"
   ]
  },
  {
   "cell_type": "code",
   "execution_count": 12,
   "id": "9680c6d3-ed4c-49e4-937e-9161e58600d2",
   "metadata": {},
   "outputs": [
    {
     "data": {
      "text/plain": [
       "tensor([30, 31, 32, 33, 34, 35, 36, 37, 38, 39, 40, 41, 42, 43, 44, 45, 46, 47,\n",
       "        48, 49, 50, 51, 52, 53, 54, 55, 56, 57, 58, 59])"
      ]
     },
     "execution_count": 12,
     "metadata": {},
     "output_type": "execute_result"
    }
   ],
   "source": [
    "a = torch.tensor([ 83,  84,  89,  93,  87,  92,  90,  95,  90,  94,  94,  96,  97, 101,  97, 105, 104,  99, 101, 101, 101, 110, 105, 111, 106, 115, 90,  86, 107,  59])\n",
    "adjust_cars_no_lane_change(a)"
   ]
  },
  {
   "cell_type": "code",
   "execution_count": 13,
   "id": "555f9ff0-faba-4f84-91f5-7d211614ede8",
   "metadata": {},
   "outputs": [
    {
     "data": {
      "text/plain": [
       "tensor([ 1,  2,  3,  4,  5,  6,  7,  8,  9, 10, 11, 12, 13, 14, 15, 16, 17, 18,\n",
       "        19, 20, 21, 22, 25, 26, 27, 28, 29, 30, 31, 36])"
      ]
     },
     "execution_count": 13,
     "metadata": {},
     "output_type": "execute_result"
    }
   ],
   "source": [
    "a = torch.tensor([ 3, 10,  8, 11,  5, 13,  7, 14, 18, 15, 19, 20, 13, 21, 16, 24, 19, 24, 23, 22, 28, 22, 27, 26, 33, 32, 30, 32, 31, 36])\n",
    "adjust_cars_no_lane_change(a)"
   ]
  },
  {
   "cell_type": "code",
   "execution_count": 14,
   "id": "0718745b-72f4-4990-9d11-8df9a54324c7",
   "metadata": {},
   "outputs": [
    {
     "data": {
      "text/plain": [
       "tensor([ 1,  2,  3,  4,  5,  6,  7,  8,  9, 10, 11, 12, 13, 14, 15, 16, 17, 18,\n",
       "        19, 20, 21, 22, 23, 24, 25, 26, 27, 28, 30, 35])"
      ]
     },
     "execution_count": 14,
     "metadata": {},
     "output_type": "execute_result"
    }
   ],
   "source": [
    "a = torch.tensor([ 1,  4,  3,  6,  5,  6,  8,  8, 14, 10, 11, 13, 13, 14, 15, 16, 17, 18,  19, 20, 21, 23, 23, 24, 25, 26, 27, 28, 30, 35])\n",
    "adjust_cars_no_lane_change(a)"
   ]
  },
  {
   "cell_type": "code",
   "execution_count": 15,
   "id": "49ce41a6-c182-451e-8a02-4f4b194f00c9",
   "metadata": {},
   "outputs": [
    {
     "data": {
      "text/plain": [
       "tensor([    0,     1,     2,  ..., 29998, 30004, 30006])"
      ]
     },
     "execution_count": 15,
     "metadata": {},
     "output_type": "execute_result"
    }
   ],
   "source": [
    "count = 30000\n",
    "lane_num_tracks = torch.tensor([300000])\n",
    "cars_position = torch.arange(0, count)\n",
    "cars_speed = torch.randint(0,10, (count, 1)).flatten()\n",
    "\n",
    "adjust_cars_no_lane_change(cars_position + cars_speed)"
   ]
  },
  {
   "cell_type": "markdown",
   "id": "614d07e4-36e5-45e5-876b-1c9e7027e3ba",
   "metadata": {},
   "source": [
    "### Benchmarks"
   ]
  },
  {
   "cell_type": "code",
   "execution_count": 18,
   "id": "35a35238-9143-4387-a125-7ddc752ceffb",
   "metadata": {},
   "outputs": [
    {
     "name": "stdout",
     "output_type": "stream",
     "text": [
      "Elapsed time: 0.9229917526245117 seconds\n"
     ]
    }
   ],
   "source": [
    "import torch\n",
    "import time\n",
    "\n",
    "if not torch.cuda.is_available():\n",
    "    raise RuntimeError(\"CUDA is not available, please run on a CUDA-capable device.\")\n",
    "\n",
    "iterations = 100000\n",
    "count = 30000\n",
    "\n",
    "lane_num_tracks = torch.tensor([300000000]).cuda()\n",
    "cars_position = torch.arange(0, count).cuda()\n",
    "cars_speed = torch.randint(0, 10, (count, 1)).flatten().cuda()\n",
    "\n",
    "def adjust_cars_no_lane_change(cars_info):\n",
    "    # Sample implementation, replace with the actual function\n",
    "    return cars_info * 2  # Example operation\n",
    "\n",
    "# Start timing\n",
    "start_time = time.time()\n",
    "\n",
    "# Execute the function multiple times\n",
    "for _ in range(iterations):\n",
    "    result = adjust_cars_no_lane_change(cars_position + cars_speed)\n",
    "\n",
    "# Optionally, synchronize and free the cache to get accurate timings\n",
    "torch.cuda.synchronize()\n",
    "torch.cuda.empty_cache()\n",
    "\n",
    "# End timing\n",
    "end_time = time.time()\n",
    "\n",
    "# Calculate elapsed time\n",
    "elapsed_time = end_time - start_time\n",
    "print(f\"Elapsed time: {elapsed_time} seconds\")"
   ]
  },
  {
   "cell_type": "markdown",
   "id": "249ae135-9dba-4a13-afae-1a07692962d9",
   "metadata": {},
   "source": [
    "Iterationen: 1.000.000\n",
    "Autos: 300.000\n",
    "\n",
    "Zeit: 16 Sekunden"
   ]
  },
  {
   "cell_type": "markdown",
   "id": "1f00467a-fc30-4a0b-80bd-0945169f3ecc",
   "metadata": {},
   "source": [
    "Iterationen: 10.000.000\n",
    "Autos: 30.000\n",
    "\n",
    "Zeit: 94 Sekunden"
   ]
  },
  {
   "cell_type": "markdown",
   "id": "96789b24-984a-4326-8909-61cc94a5f178",
   "metadata": {},
   "source": [
    "Iterationen: 1.000.000\n",
    "Autos: 3.000.000\n",
    "\n",
    "Zeit: 178 Sekunden"
   ]
  }
 ],
 "metadata": {
  "kernelspec": {
   "display_name": "Python 3 (ipykernel)",
   "language": "python",
   "name": "python3"
  },
  "language_info": {
   "codemirror_mode": {
    "name": "ipython",
    "version": 3
   },
   "file_extension": ".py",
   "mimetype": "text/x-python",
   "name": "python",
   "nbconvert_exporter": "python",
   "pygments_lexer": "ipython3",
   "version": "3.8.10"
  }
 },
 "nbformat": 4,
 "nbformat_minor": 5
}
