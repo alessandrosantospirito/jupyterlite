{
 "cells": [
  {
   "cell_type": "code",
   "execution_count": 1,
   "id": "1c3c611c-5553-4f19-843c-fa7eb83ae8f4",
   "metadata": {},
   "outputs": [],
   "source": [
    "import torch"
   ]
  },
  {
   "cell_type": "code",
   "execution_count": 2,
   "id": "a9dd7c2d-0d80-4a3f-8419-d443eea7e5df",
   "metadata": {},
   "outputs": [],
   "source": [
    "def fill_zero_places(a):\n",
    "    a = torch.cat([torch.tensor([-1], device=a.device), a])\n",
    "    nonzero_indices = torch.nonzero(a).squeeze()\n",
    "    diff = torch.diff(torch.cat([nonzero_indices, torch.tensor([a.shape[0]], device=a.device)]))\n",
    "    b = a[nonzero_indices].repeat_interleave(diff)\n",
    "    b[b < 0] = 0\n",
    "    c = b[1:]\n",
    "    return c"
   ]
  },
  {
   "cell_type": "code",
   "execution_count": 3,
   "id": "849b761e-626d-4383-8d4e-ec63c637d003",
   "metadata": {},
   "outputs": [],
   "source": [
    "def shift_values_to_next_available_zero(a):\n",
    "    b = (a > 0).int()\n",
    "    b = torch.cat([torch.tensor([0], device=a.device), b])\n",
    "    c = torch.arange(b.shape[0], device=a.device) * b\n",
    "    c[-1] = 0\n",
    "    d = c[1:]\n",
    "    e = torch.roll(fill_zero_places(d), 1)\n",
    "    e[0] = 0\n",
    "    f = torch.zeros_like(a)\n",
    "    f.scatter_add_(0, e.long(), a)\n",
    "    return f"
   ]
  },
  {
   "cell_type": "code",
   "execution_count": 4,
   "id": "15488192-7077-4510-ab46-1782fc746ee3",
   "metadata": {},
   "outputs": [],
   "source": [
    "def fill_zero_values_ascending_rest_with_zero(a):\n",
    "    b = (a > 0).int()\n",
    "    cumsum = torch.cumsum(1 - b, dim=0)\n",
    "    c = (cumsum * (1 - b) - torch.maximum(b * cumsum, torch.zeros_like(cumsum)).cummax(dim=0)[0]) * (1 - b)\n",
    "    return c"
   ]
  },
  {
   "cell_type": "code",
   "execution_count": 5,
   "id": "e2895ecf-77ed-4f0f-be25-3a025f7a1f20",
   "metadata": {},
   "outputs": [],
   "source": [
    "def find_one_zero_pattern(a):\n",
    "    b = torch.roll(a.int(), -1)\n",
    "    b[-1] = 1\n",
    "    c = a - b\n",
    "    d = (c == 1).int()\n",
    "    return d"
   ]
  },
  {
   "cell_type": "code",
   "execution_count": 6,
   "id": "e9779321-29d3-4471-86b6-0b85db822a49",
   "metadata": {},
   "outputs": [],
   "source": [
    "def fill_zero_values_descending_rest_with_zero(a):\n",
    "    b = fill_zero_values_ascending_rest_with_zero(a)\n",
    "    c = (b > 0).int()\n",
    "    d = find_one_zero_pattern(c)\n",
    "    e = d * b\n",
    "    f = shift_values_to_next_available_zero(e)\n",
    "    g = fill_zero_places(f)\n",
    "    h = ((g + 1) - b) * c\n",
    "    return h"
   ]
  },
  {
   "cell_type": "code",
   "execution_count": 52,
   "id": "1d2b5688-333d-44ad-985f-7441562728d1",
   "metadata": {},
   "outputs": [],
   "source": [
    "def find_values_that_must_be_reordered(a):\n",
    "    b = torch.arange(1, a.shape[0] + 1)\n",
    "    c = a - b\n",
    "    d, _ = torch.cummin(c.flip(0), dim=0)\n",
    "    d = d.flip(0)\n",
    "    e = (c == d).int()\n",
    "\n",
    "    return 1 - e"
   ]
  },
  {
   "cell_type": "code",
   "execution_count": 75,
   "id": "f36cd4a4-8e45-49cf-9869-dcfee21ebbd8",
   "metadata": {},
   "outputs": [],
   "source": [
    "def adjust_cars_no_lane_change(a):\n",
    "    b = 1 - find_values_that_must_be_reordered(a)\n",
    "    c = fill_zero_values_descending_rest_with_zero(b)\n",
    "    d = a * b\n",
    "    e = shift_values_to_next_available_zero(d)\n",
    "    f = fill_zero_places(e)\n",
    "    g = f - c\n",
    "\n",
    "    return g"
   ]
  },
  {
   "cell_type": "code",
   "execution_count": 54,
   "id": "9680c6d3-ed4c-49e4-937e-9161e58600d2",
   "metadata": {},
   "outputs": [
    {
     "data": {
      "text/plain": [
       "tensor([30, 31, 32, 33, 34, 35, 36, 37, 38, 39, 40, 41, 42, 43, 44, 45, 46, 47,\n",
       "        48, 49, 50, 51, 52, 53, 54, 55, 56, 57, 58, 59])"
      ]
     },
     "execution_count": 54,
     "metadata": {},
     "output_type": "execute_result"
    }
   ],
   "source": [
    "a = torch.tensor([ 83,  84,  89,  93,  87,  92,  90,  95,  90,  94,  94,  96,  97, 101,  97, 105, 104,  99, 101, 101, 101, 110, 105, 111, 106, 115, 90,  86, 107,  59])\n",
    "adjust_cars_no_lane_change(a)\n",
    "# find_values_that_must_be_reordered(a).int()"
   ]
  },
  {
   "cell_type": "code",
   "execution_count": 76,
   "id": "555f9ff0-faba-4f84-91f5-7d211614ede8",
   "metadata": {},
   "outputs": [
    {
     "data": {
      "text/plain": [
       "tensor([ 1,  2,  3,  4,  5,  6,  7,  8,  9, 10, 11, 12, 13, 14, 15, 16, 17, 18,\n",
       "        19, 20, 21, 22, 25, 26, 27, 28, 29, 30, 31, 36])"
      ]
     },
     "execution_count": 76,
     "metadata": {},
     "output_type": "execute_result"
    }
   ],
   "source": [
    "a = torch.tensor([ 3, 10,  8, 11,  5, 13,  7, 14, 18, 15, 19, 20, 13, 21, 16, 24, 19, 24, 23, 22, 28, 22, 27, 26, 33, 32, 30, 32, 31, 36])\n",
    "adjust_cars_no_lane_change(a)"
   ]
  },
  {
   "cell_type": "code",
   "execution_count": 73,
   "id": "d37af771-2220-4a97-a0d9-9cb8f7c57b3b",
   "metadata": {},
   "outputs": [
    {
     "data": {
      "text/plain": [
       "(tensor([ 3, 10,  8, 11,  5, 13,  7, 14, 18, 15, 19, 20, 13, 21, 16, 24, 19, 24,\n",
       "         23, 22, 28, 22, 27, 26, 33, 32, 30, 32, 31, 36]),\n",
       " tensor([0, 0, 0, 0, 1, 0, 1, 0, 0, 0, 0, 0, 1, 0, 0, 0, 0, 0, 0, 0, 0, 1, 0, 1,\n",
       "         0, 0, 0, 0, 1, 1], dtype=torch.int32),\n",
       " tensor([4, 3, 2, 1, 0, 1, 0, 5, 4, 3, 2, 1, 0, 8, 7, 6, 5, 4, 3, 2, 1, 0, 1, 0,\n",
       "         4, 3, 2, 1, 0, 0]),\n",
       " tensor([ 0,  0,  0,  0,  5,  0,  7,  0,  0,  0,  0,  0, 13,  0,  0,  0,  0,  0,\n",
       "          0,  0,  0, 22,  0, 26,  0,  0,  0,  0, 31, 36]),\n",
       " tensor([ 5,  0,  0,  0,  0,  7,  0, 13,  0,  0,  0,  0,  0, 22,  0,  0,  0,  0,\n",
       "          0,  0,  0,  0, 26,  0, 31,  0,  0,  0,  0, 36]),\n",
       " tensor([ 5,  5,  5,  5,  5,  7,  7, 13, 13, 13, 13, 13, 13, 22, 22, 22, 22, 22,\n",
       "         22, 22, 22, 22, 26, 26, 31, 31, 31, 31, 31, 36]),\n",
       " tensor([ 1,  2,  3,  4,  5,  6,  7,  8,  9, 10, 11, 12, 13, 14, 15, 16, 17, 18,\n",
       "         19, 20, 21, 22, 25, 26, 27, 28, 29, 30, 31, 36]))"
      ]
     },
     "execution_count": 73,
     "metadata": {},
     "output_type": "execute_result"
    }
   ],
   "source": [
    "a = torch.tensor([ 3, 10,  8, 11,  5, 13,  7, 14, 18, 15, 19, 20, 13, 21, 16, 24, 19, 24, 23, 22, 28, 22, 27, 26, 33, 32, 30, 32, 31, 36])\n",
    "# c = torch.where((torch.roll(m, 1) == 1) & (m == 0), torch.tensor(1, device=a.device), torch.tensor(0, device=a.device))\n",
    "b = 1 - find_values_that_must_be_reordered(a)\n",
    "c = fill_zero_values_descending_rest_with_zero(b)\n",
    "d = a * b\n",
    "e = shift_values_to_next_available_zero(d)\n",
    "f = fill_zero_places(e)\n",
    "g = f - c\n",
    "# d = (torch.cumsum(1 - c, dim=0) * (1 - c) - torch.maximum(c * torch.cumsum(1 - c, dim=0), torch.zeros_like(c)).cummax(dim=0)[0]) * (1 - c)\n",
    "# e = a * c\n",
    "# nonzero_indices = torch.nonzero(e, as_tuple=True)[0]\n",
    "# repeat_counts = torch.diff(torch.cat((nonzero_indices, torch.tensor([e.shape[0]]))))\n",
    "# f = e[nonzero_indices].repeat_interleave(repeat_counts)\n",
    "# g = torch.roll(torch.argsort(e).cummax(dim=0)[0] * c, 1)\n",
    "# h = torch.zeros_like(e)\n",
    "# h.scatter_(0, g.long(), e)\n",
    "# i = h.cummax(dim=0)[0]\n",
    "# j = i - d\n",
    "# l = i - k\n",
    "# n = 1 - m\n",
    "# o = fill_zero_values_descending_rest_with_zero(n) * m\n",
    "# p = (i - o) * m\n",
    "# q = p + n * a\n",
    "\n",
    "# a, m, c, d, e, f, g, h, i, j, k\n",
    "\n",
    "a, b, c, d, e, f, g"
   ]
  },
  {
   "cell_type": "code",
   "execution_count": 32,
   "id": "44f7ef64-3f89-4dc5-baa2-267dc9b89c20",
   "metadata": {},
   "outputs": [
    {
     "data": {
      "text/plain": [
       "(tensor([2, 8, 5, 7, 0, 7, 0, 6, 9, 5, 8, 8, 0, 7, 1, 8, 2, 6, 4, 2, 7, 0, 4, 2,\n",
       "         8, 6, 2, 4, 2, 6]),\n",
       " tensor([0, 0, 0, 0, 0, 0, 0, 0, 0, 0, 0, 0, 0, 0, 0, 0, 0, 0, 0, 0, 0, 0, 2, 2,\n",
       "         2, 2, 2, 2, 2, 6]),\n",
       " tensor([0, 0, 0, 0, 1, 0, 1, 0, 0, 0, 0, 0, 1, 0, 0, 0, 0, 0, 0, 0, 0, 1, 0, 1,\n",
       "         0, 0, 1, 0, 1, 1], dtype=torch.int32))"
      ]
     },
     "execution_count": 32,
     "metadata": {},
     "output_type": "execute_result"
    }
   ],
   "source": [
    "a = torch.tensor([ 3, 10,  8, 11,  5, 13,  7, 14, 18, 15, 19, 20, 13, 21, 16, 24, 19, 24, 23, 22, 28, 22, 27, 26, 33, 32, 29, 32, 31, 36])\n",
    "b = torch.arange(1, a.shape[0] + 1)\n",
    "c = a - b\n",
    "d, _ = torch.cummin(c.flip(0), dim=0)\n",
    "d = d.flip(0)\n",
    "e = (c == d).int()\n",
    "\n",
    "# a, b, c, d\n",
    "c, d, e"
   ]
  },
  {
   "cell_type": "code",
   "execution_count": 11,
   "id": "88fc506b-1072-4fb6-aa17-7c59518691d0",
   "metadata": {},
   "outputs": [
    {
     "data": {
      "text/plain": [
       "(tensor([ 3, 10,  8, 11,  5, 13,  7, 14, 18, 15, 19, 20, 13, 21, 16, 24, 19, 24,\n",
       "         23, 22, 28, 22, 27, 26, 33, 32, 30, 32, 31, 36]),\n",
       " tensor([ 3,  5,  5,  5,  5,  7,  7, 13, 13, 13, 13, 13, 13, 16, 16, 19, 19, 22,\n",
       "         22, 22, 22, 22, 26, 26, 30, 30, 30, 31, 31, 36]),\n",
       " tensor([0, 1, 1, 1, 0, 1, 0, 1, 1, 1, 1, 1, 0, 1, 0, 1, 0, 1, 1, 1, 1, 0, 1, 0,\n",
       "         1, 1, 0, 1, 0, 0]),\n",
       " tensor([ 0, 10,  8, 11,  0, 13,  0, 14, 18, 15, 19, 20,  0, 21,  0, 24,  0, 24,\n",
       "         23, 22, 28,  0, 27,  0, 33, 32,  0, 32,  0,  0]),\n",
       " tensor([0, 1, 1, 1, 0, 1, 0, 1, 1, 1, 1, 1, 0, 1, 0, 1, 0, 1, 1, 1, 1, 0, 1, 0,\n",
       "         1, 1, 0, 1, 0, 0], dtype=torch.int32),\n",
       " tensor([1, 0, 0, 0, 1, 0, 1, 0, 0, 0, 0, 0, 1, 0, 1, 0, 1, 0, 0, 0, 0, 1, 0, 1,\n",
       "         0, 0, 1, 0, 1, 1]),\n",
       " tensor([0, 3, 2, 1, 0, 1, 0, 5, 4, 3, 2, 1, 0, 1, 0, 1, 0, 4, 3, 2, 1, 0, 1, 0,\n",
       "         2, 1, 0, 1, 0, 0]),\n",
       " tensor([ 0,  7,  6, 10,  0, 12,  0,  9, 14, 12, 17, 19,  0, 20,  0, 23,  0, 20,\n",
       "         20, 20, 27,  0, 26,  0, 31, 31,  0, 31,  0,  0]),\n",
       " tensor([0, 1, 1, 1, 0, 1, 0, 1, 1, 1, 1, 1, 0, 1, 0, 1, 0, 1, 1, 1, 1, 0, 1, 0,\n",
       "         1, 1, 0, 1, 0, 0], dtype=torch.int32),\n",
       " tensor([ 0, 10,  8, 11,  0, 13,  0, 14, 18, 15, 19, 20,  0, 21,  0, 24,  0, 24,\n",
       "         23, 22, 28,  0, 27,  0, 33, 32,  0, 32,  0,  0]),\n",
       " tensor([ 3,  0,  0,  0,  5,  0,  7,  0,  0,  0,  0,  0, 13,  0, 16,  0, 19,  0,\n",
       "          0,  0,  0, 22,  0, 26,  0,  0, 30,  0, 31, 36]))"
      ]
     },
     "execution_count": 11,
     "metadata": {},
     "output_type": "execute_result"
    }
   ],
   "source": [
    "a = torch.tensor([ 3, 10,  8, 11,  5, 13,  7, 14, 18, 15, 19, 20, 13, 21, 16, 24, 19, 24, 23, 22, 28, 22, 27, 26, 33, 32, 30, 32, 31, 36])\n",
    "b, _ = torch.cummin(a.flip(0), dim=0)\n",
    "b = b.flip(0)\n",
    "c = torch.cat([(1 - (b[1:] - b[:-1]) > 0).int(), torch.tensor([0], device=a.device)])\n",
    "d = a * c\n",
    "e = ((d >= b).int() * c).int()\n",
    "f = (1 - c)\n",
    "g = fill_zero_values_descending_rest_with_zero(f)\n",
    "h = d - g\n",
    "i = ((h > b).int() * c | (a >= b).int() * c).int()\n",
    "\n",
    "a, b, c, d, e, f, g, h, i, a  * i, a  * (1-i)"
   ]
  },
  {
   "cell_type": "code",
   "execution_count": 12,
   "id": "42177b62-9cbe-43a5-a100-271a63ce7478",
   "metadata": {},
   "outputs": [
    {
     "ename": "NameError",
     "evalue": "name 'tensor' is not defined",
     "output_type": "error",
     "traceback": [
      "\u001b[0;31m---------------------------------------------------------------------------\u001b[0m",
      "\u001b[0;31mNameError\u001b[0m                                 Traceback (most recent call last)",
      "Cell \u001b[0;32mIn[12], line 1\u001b[0m\n\u001b[0;32m----> 1\u001b[0m \u001b[43mtensor\u001b[49m([ \u001b[38;5;241m3\u001b[39m,  \u001b[38;5;241m5\u001b[39m,  \u001b[38;5;241m5\u001b[39m,  \u001b[38;5;241m5\u001b[39m,  \u001b[38;5;241m5\u001b[39m,  \u001b[38;5;241m7\u001b[39m,  \u001b[38;5;241m7\u001b[39m, \u001b[38;5;241m13\u001b[39m, \u001b[38;5;241m13\u001b[39m, \u001b[38;5;241m13\u001b[39m, \u001b[38;5;241m13\u001b[39m, \u001b[38;5;241m13\u001b[39m, \u001b[38;5;241m13\u001b[39m, \u001b[38;5;241m16\u001b[39m, \u001b[38;5;241m16\u001b[39m, \u001b[38;5;241m19\u001b[39m, \u001b[38;5;241m19\u001b[39m, \u001b[38;5;241m22\u001b[39m, \u001b[38;5;241m22\u001b[39m, \u001b[38;5;241m22\u001b[39m, \u001b[38;5;241m22\u001b[39m, \u001b[38;5;241m22\u001b[39m, \u001b[38;5;241m26\u001b[39m, \u001b[38;5;241m26\u001b[39m, \u001b[38;5;241m30\u001b[39m, \u001b[38;5;241m30\u001b[39m, \u001b[38;5;241m30\u001b[39m, \u001b[38;5;241m31\u001b[39m, \u001b[38;5;241m31\u001b[39m, \u001b[38;5;241m36\u001b[39m])\n",
      "\u001b[0;31mNameError\u001b[0m: name 'tensor' is not defined"
     ]
    }
   ],
   "source": [
    "tensor([ 3,  5,  5,  5,  5,  7,  7, 13, 13, 13, 13, 13, 13, 16, 16, 19, 19, 22, 22, 22, 22, 22, 26, 26, 30, 30, 30, 31, 31, 36])"
   ]
  },
  {
   "cell_type": "code",
   "execution_count": null,
   "id": "c41bc981-da78-4be6-846b-1be0cc78a2e1",
   "metadata": {},
   "outputs": [],
   "source": [
    "a = torch.tensor([11, 12, 23, 14, 14, 13, 60, 60])\n",
    "b, _ = torch.cummin(a.flip(0), dim=0)\n",
    "b = b.flip(0)\n",
    "c = torch.cat([(1 - (b[1:] - b[:-1]) > 0).int(), torch.tensor([0], device=a.device)])\n",
    "d = a * c\n",
    "e = ((d >= b).int() * c).int()\n",
    "f = (1 - c)\n",
    "g = fill_zero_values_descending_rest_with_zero(f)\n",
    "h = d - g\n",
    "i = ((h > b).int() * c | (a >= b).int() * c).int()\n",
    "\n",
    "a, b, c, d, e, f, g, h, i"
   ]
  },
  {
   "cell_type": "code",
   "execution_count": null,
   "id": "2c841252-65ea-468f-ab80-55013879f3dd",
   "metadata": {},
   "outputs": [],
   "source": [
    "def find_values_to_reorder_from_argmin(a):\n",
    "    \"\"\"\n",
    "    a = array([3, 10, 10, 11, 11, 11, 12, 12, 12, 13])\n",
    "\n",
    "    return = array([3, 5, 6, 7, 8, 9, 10, 11, 12, 13])\n",
    "    \"\"\"\n",
    "\n",
    "    pass"
   ]
  },
  {
   "cell_type": "code",
   "execution_count": null,
   "id": "65e9478f-b943-4b96-a6d0-c64b5a61015f",
   "metadata": {},
   "outputs": [],
   "source": [
    "b = torch.tensor([3, 10, 10, 11, 11, 11, 12, 12, 12, 13])\n",
    "c = torch.cat([(1 - (b[1:] - b[:-1]) > 0).int(), torch.tensor([0], device=a.device)])\n",
    "d = a * c\n",
    "e = ((d >= b).int() * c).int()\n",
    "f = (1 - c)\n",
    "q = a * torch.arange(1, a.shape[0] + 1)\n",
    "p = b * f\n",
    "r = p * torch.arange(1, b.shape[0] + 1)\n",
    "\n",
    "b, c, d, e, q, p, r"
   ]
  },
  {
   "cell_type": "code",
   "execution_count": null,
   "id": "8f977494-7cd8-4672-a734-8a118393576e",
   "metadata": {},
   "outputs": [],
   "source": [
    "a = torch.tensor([11, 12, 23, 14, 14, 13, 60, 60])\n",
    "b, _ = torch.cummin(a.flip(0), dim=0)\n",
    "\n",
    "a, b"
   ]
  },
  {
   "cell_type": "code",
   "execution_count": null,
   "id": "0718745b-72f4-4990-9d11-8df9a54324c7",
   "metadata": {},
   "outputs": [],
   "source": [
    "a = torch.tensor([ 1,  4,  3,  6,  5,  6,  8,  8, 14, 10, 11, 13, 13, 14, 15, 16, 17, 18,  19, 20, 21, 23, 23, 24, 25, 26, 27, 28, 30, 35])\n",
    "# find_values_that_must_be_reordered(a).int()\n",
    "adjust_cars_no_lane_change(a)"
   ]
  },
  {
   "cell_type": "code",
   "execution_count": null,
   "id": "473dc8ce-f734-45d9-b04c-2c0371c9f108",
   "metadata": {},
   "outputs": [],
   "source": []
  },
  {
   "cell_type": "code",
   "execution_count": null,
   "id": "49ce41a6-c182-451e-8a02-4f4b194f00c9",
   "metadata": {},
   "outputs": [],
   "source": [
    "count = 30000\n",
    "lane_num_tracks = torch.tensor([300000])\n",
    "cars_position = torch.arange(0, count)\n",
    "cars_speed = torch.randint(0,10, (count, 1)).flatten()\n",
    "\n",
    "adjust_cars_no_lane_change(cars_position + cars_speed)"
   ]
  },
  {
   "cell_type": "markdown",
   "id": "614d07e4-36e5-45e5-876b-1c9e7027e3ba",
   "metadata": {},
   "source": [
    "### Benchmarks"
   ]
  },
  {
   "cell_type": "code",
   "execution_count": null,
   "id": "35a35238-9143-4387-a125-7ddc752ceffb",
   "metadata": {},
   "outputs": [],
   "source": [
    "# import torch\n",
    "# import time\n",
    "\n",
    "# # Ensure CUDA is available\n",
    "# if not torch.cuda.is_available():\n",
    "#     raise RuntimeError(\"CUDA is not available, please run on a CUDA-capable device.\")\n",
    "\n",
    "# # Number of iterations\n",
    "# iterations = 1000000\n",
    "# count = 3000000\n",
    "\n",
    "# lane_num_tracks = torch.tensor([300000000]).cuda()\n",
    "# cars_position = torch.arange(0, count).cuda()\n",
    "# cars_speed = torch.randint(0, 10, (count, 1)).flatten().cuda()\n",
    "\n",
    "# def adjust_cars_no_lane_change(cars_info):\n",
    "#     # Sample implementation, replace with the actual function\n",
    "#     return cars_info * 2  # Example operation\n",
    "\n",
    "# # Start timing\n",
    "# start_time = time.time()\n",
    "\n",
    "# # Execute the function multiple times\n",
    "# for _ in range(iterations):\n",
    "#     result = adjust_cars_no_lane_change(cars_position + cars_speed)\n",
    "\n",
    "# # Optionally, synchronize and free the cache to get accurate timings\n",
    "# torch.cuda.synchronize()\n",
    "# torch.cuda.empty_cache()\n",
    "\n",
    "# # End timing\n",
    "# end_time = time.time()\n",
    "\n",
    "# # Calculate elapsed time\n",
    "# elapsed_time = end_time - start_time\n",
    "# print(f\"Elapsed time: {elapsed_time} seconds\")"
   ]
  },
  {
   "cell_type": "markdown",
   "id": "249ae135-9dba-4a13-afae-1a07692962d9",
   "metadata": {},
   "source": [
    "Iterationen: 1.000.000\n",
    "Autos: 300.000\n",
    "\n",
    "Zeit: 16 Sekunden"
   ]
  },
  {
   "cell_type": "markdown",
   "id": "1f00467a-fc30-4a0b-80bd-0945169f3ecc",
   "metadata": {},
   "source": [
    "Iterationen: 10.000.000\n",
    "Autos: 30.000\n",
    "\n",
    "Zeit: 94 Sekunden"
   ]
  },
  {
   "cell_type": "markdown",
   "id": "96789b24-984a-4326-8909-61cc94a5f178",
   "metadata": {},
   "source": [
    "Iterationen: 1.000.000\n",
    "Autos: 3.000.000\n",
    "\n",
    "Zeit: 178 Sekunden"
   ]
  }
 ],
 "metadata": {
  "kernelspec": {
   "display_name": "Python 3 (ipykernel)",
   "language": "python",
   "name": "python3"
  },
  "language_info": {
   "codemirror_mode": {
    "name": "ipython",
    "version": 3
   },
   "file_extension": ".py",
   "mimetype": "text/x-python",
   "name": "python",
   "nbconvert_exporter": "python",
   "pygments_lexer": "ipython3",
   "version": "3.8.10"
  }
 },
 "nbformat": 4,
 "nbformat_minor": 5
}
