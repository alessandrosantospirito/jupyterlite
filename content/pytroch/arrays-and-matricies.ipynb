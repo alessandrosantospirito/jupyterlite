{
 "cells": [
  {
   "cell_type": "code",
   "execution_count": 1,
   "id": "60b8ab43-81c6-45ac-84e1-2a0a0909747a",
   "metadata": {},
   "outputs": [],
   "source": [
    "import torch"
   ]
  },
  {
   "cell_type": "markdown",
   "id": "9142758a-fe52-4b41-806e-6005a51fca84",
   "metadata": {},
   "source": [
    "#### Sorting"
   ]
  },
  {
   "cell_type": "code",
   "execution_count": 2,
   "id": "ade648f1-2d1f-462c-b7b1-3356e7d54777",
   "metadata": {},
   "outputs": [],
   "source": [
    "def sort_matrix_by_nth_entry(matrix, n=0):\n",
    "    sorted_values, sorted_indicies = torch.sort(matrix[:, n])\n",
    "    \n",
    "    return matrix[sorted_indicies]"
   ]
  },
  {
   "cell_type": "code",
   "execution_count": 26,
   "id": "e00ec360-1367-4bb3-982e-c498ba1843cc",
   "metadata": {},
   "outputs": [],
   "source": [
    "def reverse_sort_matrix_by_nth_entry(matrix, modified_matrix, n=0):\n",
    "    sorted_values, sorted_indicies = torch.sort(matrix[:, n])\n",
    "    _, reverse_sort_indicies = torch.sort(sorted_indicies)\n",
    "\n",
    "    return modified_matrix[reverse_sort_indicies]"
   ]
  },
  {
   "cell_type": "code",
   "execution_count": 4,
   "id": "d84fc419-e6e4-4af4-b80c-9b25f0bf5ac4",
   "metadata": {},
   "outputs": [],
   "source": [
    "def group_ordering_based_on_sorting(matrix, grp_idx=0, val_idx=1):\n",
    "    \"\"\"\n",
    "    matrix: tensor([[ 1.,  2.], [ 0.,  3.], [ 1.,  0.]])\n",
    "    b: tensor([[1., 0.], [0., 1.], [1., 2.]])\n",
    "    c: tensor([[ 0.,  1.], [ 1.,  0.], [ 1.,  2.]])\n",
    "    d: tensor([1, 0, 2])\n",
    "    \"\"\"\n",
    "\n",
    "    b = torch.empty(matrix.shape[0], 2)\n",
    "    b[:, 0] = matrix[:, 0]\n",
    "    b[:, 1] = torch.arange(matrix.shape[0])\n",
    "    c = sort_matrix_by_nth_entry(b)\n",
    "    d = c[:, 1]\n",
    "\n",
    "    return d"
   ]
  },
  {
   "cell_type": "code",
   "execution_count": 5,
   "id": "21dd2655-d1e3-4f0b-a64d-e1b9e3ec7ecd",
   "metadata": {},
   "outputs": [],
   "source": [
    "def sort_matrix_by_group(matrix, grp_idx=0, val_idx=1):\n",
    "    transposed = matrix.T\n",
    "    sorted_indices = torch.argsort(transposed[grp_idx] * matrix.shape[grp_idx] + transposed[val_idx])\n",
    "    \n",
    "    return matrix[sorted_indices]"
   ]
  },
  {
   "cell_type": "code",
   "execution_count": 5,
   "id": "4ed89b3a-d93f-4e14-bd6c-3b769328f111",
   "metadata": {},
   "outputs": [],
   "source": [
    "def reverse_sort_matrix_by_group(matrix, modified_matrix, grp_idx=0, val_idx=1):\n",
    "    transposed = matrix.T\n",
    "    sorted_indices = torch.argsort(transposed[grp_idx] * matrix.shape[grp_idx] + transposed[val_idx])\n",
    "    reverse_sorted_indicies, _ = torch.sort(sorted_indices)\n",
    "    \n",
    "    return modified_matrix[reverse_sorted_indicies]"
   ]
  },
  {
   "cell_type": "code",
   "execution_count": 7,
   "id": "d5323368-4f39-4c08-a7b1-dfbe87409ace",
   "metadata": {},
   "outputs": [],
   "source": [
    "def sort_matrix_by_nth_and_mth_column(matrix, nth_col=0, mth_col=1):\n",
    "    \"\"\"\n",
    "    First priority is nth-column, second priority is mth-column\n",
    "    \"\"\"\n",
    "\n",
    "    matrix = sort_matrix_by_group(matrix, nth_col, mth_col)\n",
    "    matrix = sort_matrix_by_nth_entry(matrix, nth_col)\n",
    "\n",
    "    return matrix"
   ]
  },
  {
   "cell_type": "code",
   "execution_count": 8,
   "id": "f8efe2ff-0817-41d0-a084-9c005e102948",
   "metadata": {},
   "outputs": [],
   "source": [
    "def reverse_sort_matrix_by_nth_and_mth_column(matrix, modified_matrix, nth_col=0, mth_col=1):\n",
    "    \n",
    "    modified_matrix = reverse_sort_matrix_by_nth_entry(matrix, modified_matrix, nth_col)\n",
    "    reverse_sorted_matrix = reverse_sort_matrix_by_group(matrix, modified_matrix, nth_col, mth_col)\n",
    "\n",
    "    return reverse_sorted_matrix"
   ]
  },
  {
   "cell_type": "code",
   "execution_count": 27,
   "id": "98f07d8c-c2f6-4d43-8bf9-94da0cbab48b",
   "metadata": {},
   "outputs": [
    {
     "data": {
      "text/plain": [
       "(tensor([[ 0.,  2.],\n",
       "         [ 0.,  3.],\n",
       "         [ 0.,  7.],\n",
       "         [ 0., 11.],\n",
       "         [ 1.,  0.],\n",
       "         [ 1.,  3.],\n",
       "         [ 1.,  4.],\n",
       "         [ 1.,  0.],\n",
       "         [ 1.,  3.],\n",
       "         [ 1.,  7.]]),\n",
       " tensor([[ 0.,  2.],\n",
       "         [ 0.,  3.],\n",
       "         [ 1.,  0.],\n",
       "         [ 1.,  3.],\n",
       "         [ 1.,  4.],\n",
       "         [ 0.,  7.],\n",
       "         [ 1.,  0.],\n",
       "         [ 1.,  3.],\n",
       "         [ 1.,  7.],\n",
       "         [ 0., 11.]]))"
      ]
     },
     "execution_count": 27,
     "metadata": {},
     "output_type": "execute_result"
    }
   ],
   "source": [
    "matrix = torch.tensor([[ 0.,  2.],\n",
    "        [ 0.,  3.],\n",
    "        [ 1.,  0.],\n",
    "        [ 1.,  3.],\n",
    "        [ 1.,  4.],\n",
    "        [ 0.,  7.],\n",
    "        [ 1.,  0.],\n",
    "        [ 1.,  3.],\n",
    "        [ 1.,  7.],\n",
    "        [ 0., 11.]])\n",
    "\n",
    "sorted_matrix = sort_matrix_by_nth_entry(matrix)\n",
    "reverse_sort_matrix = reverse_sort_matrix_by_nth_entry(matrix, sorted_matrix)\n",
    "sorted_matrix, reverse_sort_matrix"
   ]
  },
  {
   "cell_type": "markdown",
   "id": "4f6ad8dd-f242-418b-aa0a-773be7bdbe59",
   "metadata": {},
   "source": [
    "#### Filtering"
   ]
  },
  {
   "cell_type": "code",
   "execution_count": 4,
   "id": "428dade5-f638-466c-8516-acf56239f1f7",
   "metadata": {},
   "outputs": [],
   "source": [
    "def filter_columns_based_on_tensor(a, b, grp_idx = 0):\n",
    "    \"\"\"\n",
    "    a = tensor([[0., 11.], [2., 3.], [1., 12.]])\n",
    "    b = tensor([0., 2.])\n",
    "    c = tensor([ True,  True, False]),\n",
    "    b = tensor([[ 0., 11.], [ 2.,  3.]])\n",
    "    \"\"\"\n",
    "\n",
    "    c = torch.isin(a[:, 0], b)\n",
    "    d = a[c]\n",
    "\n",
    "    return d"
   ]
  },
  {
   "cell_type": "markdown",
   "id": "de95e03d-6262-47b8-99fb-b6181e647e14",
   "metadata": {},
   "source": [
    "#### Mapping"
   ]
  },
  {
   "cell_type": "code",
   "execution_count": 11,
   "id": "0b02a99f-53af-40a8-a7e3-a04833859421",
   "metadata": {},
   "outputs": [
    {
     "data": {
      "text/plain": [
       "(tensor([0., 4., 0., 1., 1., 0., 1., 1., 0., 0.]),\n",
       " tensor([0., 1., 4.]),\n",
       " tensor([0, 2, 0, 1, 1, 0, 1, 1, 0, 0]))"
      ]
     },
     "execution_count": 11,
     "metadata": {},
     "output_type": "execute_result"
    }
   ],
   "source": [
    "a = torch.tensor([0., 4., 0., 1., 1., 0., 1., 1., 0., 0.])\n",
    "b = torch.tensor([0., 1., 4.])\n",
    "c = (a[..., None] == b).nonzero(as_tuple=True)[1]\n",
    "\n",
    "a, b, c"
   ]
  },
  {
   "cell_type": "markdown",
   "id": "4ee4705a-21c9-4ac6-8f30-1120c204749c",
   "metadata": {},
   "source": [
    "#### Addition"
   ]
  },
  {
   "cell_type": "code",
   "execution_count": 47,
   "id": "b287d60f-7ca9-40dc-8795-a42a74008c2e",
   "metadata": {},
   "outputs": [],
   "source": [
    "def add_to_matrix_mapping_values(matrix, mapping, grp_idx = 0, val_idx = 1):\n",
    "    \"\"\"\n",
    "    a = tensor([[ 0.,  1.], [ 0.,  5.], [ 0.,  3.], [ 1.,  7.], [ 1.,  6.], [ 0.,  4.], [ 1., 10.], [ 1., 11.], [ 0.,  5.], [ 0.,  6.]])\n",
    "    b = tensor([[ 0.,  6.], [ 1., 11.]])\n",
    "    c = tensor([0, 0, 0, 1, 1, 0, 1, 1, 0, 0])\n",
    "    d = tensor([[0., 0.], [1., 6.]])\n",
    "    e = tensor([[ 0.,  1.], [ 0.,  5.], [ 0.,  3.], [ 1., 13.], [ 1., 12.], [ 0.,  4.], [ 1., 16.], [ 1., 17.], [ 0.,  5.], [ 0.,  6.]]\n",
    "    \"\"\"\n",
    "\n",
    "    a = matrix\n",
    "    b = mapping\n",
    "    c = (a[:, 0][..., None] == b[:, 0]).nonzero(as_tuple=True)[1]\n",
    "    d = torch.cumsum(b, dim=0)\n",
    "    e = a\n",
    "    e[:, 1] = e[:, 1] + d[c][:, 1]\n",
    "\n",
    "    return e"
   ]
  },
  {
   "cell_type": "markdown",
   "id": "88568e94-afa9-44e1-8599-f862a3ef5c3e",
   "metadata": {},
   "source": [
    "#### Maximum Values"
   ]
  },
  {
   "cell_type": "code",
   "execution_count": 15,
   "id": "007a5918-9dd0-4401-bcff-ee6b342e3837",
   "metadata": {},
   "outputs": [],
   "source": [
    "def maximum_value_by_grp(matrix, grp_idx=0, val_idx=1):\n",
    "    \"\"\"\n",
    "    matrix: torch.tensor([[ 0.,  2.], [ 0.,  3.], [ 1.,  0.], [ 1.,  3.], [ 1.,  4.], [ 2.,  23.], [ 3.,  4.], [ 0.,  7.], [ 1.,  0.], [ 1.,  3.], [ 1.,  7.], [ 0., 11.]])\n",
    "    result: tensor([[ 0., 11.], [ 1.,  7.], [ 2., 23.], [ 3.,  4.]])\n",
    "    \"\"\"\n",
    "    \n",
    "    unique_grps = torch.unique(matrix[:, grp_idx])\n",
    "    count_unique_grps = unique_grps.shape[0]\n",
    "    result = torch.zeros(count_unique_grps, 2)\n",
    "    result[:, grp_idx] = unique_grps[:]\n",
    "    indices = (matrix[:, grp_idx][..., None] == unique_grps).nonzero(as_tuple=True)[1]\n",
    "    \n",
    "    result[:, val_idx] = torch.scatter_reduce(\n",
    "        input=torch.zeros(count_unique_grps),\n",
    "        dim=0,\n",
    "        index=indices.long(),\n",
    "        src=matrix[:, val_idx],\n",
    "        reduce='amax'\n",
    "    )\n",
    "    \n",
    "    return result"
   ]
  },
  {
   "cell_type": "code",
   "execution_count": null,
   "id": "29c5f00e-944a-4b17-bad2-9a83409ec192",
   "metadata": {},
   "outputs": [],
   "source": []
  }
 ],
 "metadata": {
  "kernelspec": {
   "display_name": "Python 3 (ipykernel)",
   "language": "python",
   "name": "python3"
  },
  "language_info": {
   "codemirror_mode": {
    "name": "ipython",
    "version": 3
   },
   "file_extension": ".py",
   "mimetype": "text/x-python",
   "name": "python",
   "nbconvert_exporter": "python",
   "pygments_lexer": "ipython3",
   "version": "3.8.10"
  }
 },
 "nbformat": 4,
 "nbformat_minor": 5
}
