{
 "cells": [
  {
   "cell_type": "code",
   "execution_count": 1,
   "id": "60b8ab43-81c6-45ac-84e1-2a0a0909747a",
   "metadata": {},
   "outputs": [],
   "source": [
    "import torch"
   ]
  },
  {
   "cell_type": "markdown",
   "id": "9142758a-fe52-4b41-806e-6005a51fca84",
   "metadata": {},
   "source": [
    "#### Sorting"
   ]
  },
  {
   "cell_type": "code",
   "execution_count": 2,
   "id": "ade648f1-2d1f-462c-b7b1-3356e7d54777",
   "metadata": {},
   "outputs": [],
   "source": [
    "def sort_matrix_by_nth_entry(matrix, n=0):\n",
    "    sorted_values, sorted_indices = torch.sort(matrix[:, n])\n",
    "\n",
    "    return  matrix[sorted_indices]"
   ]
  },
  {
   "cell_type": "code",
   "execution_count": 29,
   "id": "d84fc419-e6e4-4af4-b80c-9b25f0bf5ac4",
   "metadata": {},
   "outputs": [],
   "source": [
    "def group_ordering_based_on_sorting(matrix, grp_idx=0, val_idx=1):\n",
    "    \"\"\"\n",
    "    matrix: tensor([[ 1.,  2.], [ 0.,  3.], [ 1.,  0.]])\n",
    "    b: tensor([[1., 0.], [1., 1.], [1., 2.]])\n",
    "    c: tensor([[ 0.,  3.], [ 1.,  0.], [ 1.,  2.]])\n",
    "    d: tensor([1, 0, 2])\n",
    "    \"\"\"\n",
    "\n",
    "    b = torch.empty(matrix.shape[0], 2)\n",
    "    b[:, 0] = matrix[:, 0]\n",
    "    b[:, 1] = torch.arange(matrix.shape[0])\n",
    "    c = sort_matrix_by_nth_entry(b)\n",
    "    d = c[:, 1]\n",
    "\n",
    "    return d"
   ]
  },
  {
   "cell_type": "code",
   "execution_count": 3,
   "id": "21dd2655-d1e3-4f0b-a64d-e1b9e3ec7ecd",
   "metadata": {},
   "outputs": [],
   "source": [
    "def sort_matrix_by_group(matrix, grp_idx=0, val_idx=1):\n",
    "    transposed = matrix.T\n",
    "    sorted_indices = torch.argsort(transposed[grp_idx] * matrix.shape[grp_idx] + transposed[val_idx])\n",
    "    \n",
    "    return matrix[sorted_indices]"
   ]
  },
  {
   "cell_type": "code",
   "execution_count": 4,
   "id": "d5323368-4f39-4c08-a7b1-dfbe87409ace",
   "metadata": {},
   "outputs": [],
   "source": [
    "def sort_matrix_by_nth_and_mth_column(matrix, nth_col=0, mth_col=1):\n",
    "    \"\"\"\n",
    "    First priority is nth-column, second priority is mth-column\n",
    "    \"\"\"\n",
    "\n",
    "    matrix = sort_matrix_by_group(matrix, nth_col, mth_col)\n",
    "    matrix = sort_matrix_by_nth_entry(matrix, nth_col)\n",
    "\n",
    "    return matrix"
   ]
  },
  {
   "cell_type": "code",
   "execution_count": 18,
   "id": "98f07d8c-c2f6-4d43-8bf9-94da0cbab48b",
   "metadata": {},
   "outputs": [
    {
     "data": {
      "text/plain": [
       "tensor([[ 0.,  2.],\n",
       "        [ 0.,  3.],\n",
       "        [ 0.,  7.],\n",
       "        [ 0., 11.],\n",
       "        [ 1.,  0.],\n",
       "        [ 1.,  3.],\n",
       "        [ 1.,  4.],\n",
       "        [ 1.,  0.],\n",
       "        [ 1.,  3.],\n",
       "        [ 1.,  7.]])"
      ]
     },
     "execution_count": 18,
     "metadata": {},
     "output_type": "execute_result"
    }
   ],
   "source": [
    "matrix = torch.tensor([[ 0.,  2.],\n",
    "        [ 0.,  3.],\n",
    "        [ 1.,  0.],\n",
    "        [ 1.,  3.],\n",
    "        [ 1.,  4.],\n",
    "        [ 0.,  7.],\n",
    "        [ 1.,  0.],\n",
    "        [ 1.,  3.],\n",
    "        [ 1.,  7.],\n",
    "        [ 0., 11.]])\n",
    "\n",
    "# sort_matrix_by_nth_and_mth_column(matrix)\n",
    "sort_matrix_by_nth_entry(matrix)"
   ]
  },
  {
   "cell_type": "code",
   "execution_count": 20,
   "id": "fc9893cc-bd56-456c-a764-e5814ef54fcb",
   "metadata": {},
   "outputs": [],
   "source": [
    "matrix = torch.tensor([[ 1.,  2.], [ 0.,  3.], [ 1.,  0.]])"
   ]
  },
  {
   "cell_type": "markdown",
   "id": "88568e94-afa9-44e1-8599-f862a3ef5c3e",
   "metadata": {},
   "source": [
    "#### Maximum Values"
   ]
  },
  {
   "cell_type": "code",
   "execution_count": 14,
   "id": "007a5918-9dd0-4401-bcff-ee6b342e3837",
   "metadata": {},
   "outputs": [],
   "source": [
    "def maximum_value_by_grp(matrix, grp_idx=0, val_idx=1):\n",
    "    \"\"\"\n",
    "    matrix: torch.tensor([[ 0.,  2.], [ 0.,  3.], [ 1.,  0.], [ 1.,  3.], [ 1.,  4.], [ 2.,  23.], [ 3.,  4.], [ 0.,  7.], [ 1.,  0.], [ 1.,  3.], [ 1.,  7.], [ 0., 11.]])\n",
    "    result: tensor([[ 0., 11.], [ 1.,  7.], [ 2., 23.], [ 3.,  4.]])\n",
    "    \"\"\"\n",
    "    num_groups = int(matrix[:, grp_idx].max().item()) + 1\n",
    "\n",
    "    result = torch.zeros(num_groups, 2)\n",
    "    \n",
    "    result[:, grp_idx] = torch.arange(num_groups)\n",
    "    \n",
    "    result[:, val_idx] = torch.scatter_reduce(\n",
    "        input=torch.zeros(num_groups),\n",
    "        dim=0,\n",
    "        index=matrix[:, grp_idx].long(),\n",
    "        src=matrix[:, val_idx],\n",
    "        reduce='amax'\n",
    "    )\n",
    "\n",
    "    return result"
   ]
  },
  {
   "cell_type": "code",
   "execution_count": 15,
   "id": "51ca4146-684d-4cbb-9b19-805a16c15205",
   "metadata": {},
   "outputs": [
    {
     "data": {
      "text/plain": [
       "tensor([[ 0., 11.],\n",
       "        [ 1.,  7.],\n",
       "        [ 2., 23.],\n",
       "        [ 3.,  4.]])"
      ]
     },
     "execution_count": 15,
     "metadata": {},
     "output_type": "execute_result"
    }
   ],
   "source": [
    "matrix = torch.tensor([[ 0.,  2.], [ 0.,  3.], [ 1.,  0.], [ 1.,  3.], [ 1.,  4.], [ 2.,  23.], [ 3.,  4.], [ 0.,  7.], [ 1.,  0.], [ 1.,  3.], [ 1.,  7.], [ 0., 11.]])\n",
    "maximum_value_by_grp(matrix)"
   ]
  },
  {
   "cell_type": "code",
   "execution_count": null,
   "id": "f1e51b08-f2c6-456a-9c66-221e751c5e2c",
   "metadata": {},
   "outputs": [],
   "source": []
  }
 ],
 "metadata": {
  "kernelspec": {
   "display_name": "Python 3 (ipykernel)",
   "language": "python",
   "name": "python3"
  },
  "language_info": {
   "codemirror_mode": {
    "name": "ipython",
    "version": 3
   },
   "file_extension": ".py",
   "mimetype": "text/x-python",
   "name": "python",
   "nbconvert_exporter": "python",
   "pygments_lexer": "ipython3",
   "version": "3.8.10"
  }
 },
 "nbformat": 4,
 "nbformat_minor": 5
}
